{
 "cells": [
  {
   "cell_type": "markdown",
   "metadata": {},
   "source": [
    "# Predict the winner! Part 1\n",
    "---"
   ]
  },
  {
   "cell_type": "markdown",
   "metadata": {},
   "source": [
    "## Content Overview\n",
    "\n",
    "After exploring the confusion matrices and the classification accuracies of 10 models from our previous notebook, here we will try to predict the actual Oscar winner directly using the 'predict_proba' function to determine the predicted winner based on the probability of winning. We will also be using the 'feature_importance' function to visualise the weightage of importance of each feature in different classifiers (Though not all classifiers support the 'feature_importance' function).\n",
    "\n",
    "A bit of introduction on what we are trying to do: We will be trying our movie dataset from 1999-2014 (16 years of data) and to test on 2015-2019 (the recent 5 years of data). The first reason why we split the train and test data manually are because people tend to be more farmiliar with the movies from recent years. The second reason is there will be problem if we use the 'train-test-split' function for our algorithm. Due to the reason that eventually we wish to predict the actual Oscar winner of the recent years, the 'train-test-split' function split the dataset based on a given ratio **RANDOMLY** so we won't know which part of the data is being trained and which part is being tested, and hence we decided to not use it. \n",
    "\n",
    "Also, just to clarify: what we mean by X_train is really just the ***features*** (x variables) in the train dataset. And for y_test is just the ***respondents*** (the y value, 'Oscar_winner') in the test dataset.\n"
   ]
  },
  {
   "cell_type": "markdown",
   "metadata": {},
   "source": [
    "We considered 16 classifiers for this time, and they were categorized into 4 groups (for aesthetic purpose) as followed:\n",
    "\n",
    "### #1- The Trees\n",
    "\n",
    "- Decision Tree \n",
    "- Random Forest\n",
    "- Extremely Randomized Trees (Extra Trees)\n",
    "\n",
    "### #2 - Boosting Classifiers\n",
    "\n",
    "- AdaBoost \n",
    "- XGBoost\n",
    "- Gradient Boosting\n",
    "- Light Gradient Boosting Machine\n",
    "\n",
    "### #3- Naive Bayes\n",
    "\n",
    "- Multinomial Naive Bayes\n",
    "- Gaussian Naive Bayes\n",
    "- Bernoulli Naive Bayes\n",
    "\n",
    "### #4- Others\n",
    "\n",
    "- Linear Support Vector Classifier (Linear SVC)\n",
    "- Support Vector Classifier (SVC)\n",
    "- K-Nearest Neighbors Classifier (KNN)\n",
    "- Logistic Regression\n",
    "- Bagging Classifier\n",
    "- Multi Layer Perceptron Classifier (Neural Network)\n",
    "\n",
    "***Each and every classifier will be ran in their default setting, for example RandomForectCLassifier(). We will not take into account hyperparameter of each models in this notebook.***"
   ]
  },
  {
   "cell_type": "code",
   "execution_count": 186,
   "metadata": {},
   "outputs": [],
   "source": [
    "import numpy as np\n",
    "import pandas as pd\n",
    "import pandas_profiling\n",
    "import plotly.express as px\n",
    "import pickle \n",
    "import graphviz\n",
    "import matplotlib.pyplot as plt\n",
    "import time\n",
    "pd.set_option(\"display.max_colwidth\", 200)\n",
    "\n",
    "# Classifiers\n",
    "from sklearn import tree \n",
    "from sklearn.model_selection import train_test_split \n",
    "from sklearn.tree import DecisionTreeClassifier \n",
    "from sklearn.neighbors import KNeighborsClassifier \n",
    "from sklearn.naive_bayes import MultinomialNB, BernoulliNB, GaussianNB \n",
    "from sklearn.linear_model import LogisticRegression\n",
    "from sklearn.ensemble import ExtraTreesClassifier, RandomForestClassifier \n",
    "from sklearn.ensemble import BaggingClassifier, AdaBoostClassifier, GradientBoostingClassifier\n",
    "from sklearn.neural_network import MLPClassifier\n",
    "from sklearn.svm import SVC, LinearSVC\n",
    "from lightgbm import LGBMClassifier\n",
    "from xgboost import XGBClassifier\n",
    "\n",
    "# Extra\n",
    "from sklearn.preprocessing import normalize, scale, Normalizer, StandardScaler, OneHotEncoder\n",
    "from sklearn.compose import ColumnTransformer\n",
    "from sklearn.pipeline import Pipeline, FeatureUnion, make_pipeline"
   ]
  },
  {
   "cell_type": "code",
   "execution_count": 2,
   "metadata": {},
   "outputs": [
    {
     "data": {
      "text/html": [
       "<div>\n",
       "<style scoped>\n",
       "    .dataframe tbody tr th:only-of-type {\n",
       "        vertical-align: middle;\n",
       "    }\n",
       "\n",
       "    .dataframe tbody tr th {\n",
       "        vertical-align: top;\n",
       "    }\n",
       "\n",
       "    .dataframe thead th {\n",
       "        text-align: right;\n",
       "    }\n",
       "</style>\n",
       "<table border=\"1\" class=\"dataframe\">\n",
       "  <thead>\n",
       "    <tr style=\"text-align: right;\">\n",
       "      <th></th>\n",
       "      <th>Year</th>\n",
       "      <th>Movie</th>\n",
       "      <th>Oscar_winner</th>\n",
       "      <th>Oscar_nominee</th>\n",
       "      <th>Runtime (min)</th>\n",
       "      <th>Certificate</th>\n",
       "      <th>Directors</th>\n",
       "      <th>Actors</th>\n",
       "      <th>Metascore</th>\n",
       "      <th>IMDb_rating</th>\n",
       "      <th>...</th>\n",
       "      <th>Golden_Bear_winner</th>\n",
       "      <th>Golden_Bear_nominee</th>\n",
       "      <th>Golden_Lion_winner</th>\n",
       "      <th>Golden_Lion_nominee</th>\n",
       "      <th>PCA_winner</th>\n",
       "      <th>PCA_nominee</th>\n",
       "      <th>NYFCC_winner</th>\n",
       "      <th>NYFCC_nominee</th>\n",
       "      <th>OFCS_winner</th>\n",
       "      <th>OFCS_nominee</th>\n",
       "    </tr>\n",
       "  </thead>\n",
       "  <tbody>\n",
       "    <tr>\n",
       "      <th>0</th>\n",
       "      <td>1999</td>\n",
       "      <td>Fight Club</td>\n",
       "      <td>0</td>\n",
       "      <td>0</td>\n",
       "      <td>139</td>\n",
       "      <td>R(A)</td>\n",
       "      <td>David Fincher</td>\n",
       "      <td>['Brad Pitt', 'Edward Norton', 'Meat Loaf', 'Zach Grenier']</td>\n",
       "      <td>66</td>\n",
       "      <td>8.8</td>\n",
       "      <td>...</td>\n",
       "      <td>0</td>\n",
       "      <td>0</td>\n",
       "      <td>0</td>\n",
       "      <td>0</td>\n",
       "      <td>0</td>\n",
       "      <td>0</td>\n",
       "      <td>0</td>\n",
       "      <td>0</td>\n",
       "      <td>0</td>\n",
       "      <td>1</td>\n",
       "    </tr>\n",
       "    <tr>\n",
       "      <th>1</th>\n",
       "      <td>1999</td>\n",
       "      <td>The Matrix</td>\n",
       "      <td>0</td>\n",
       "      <td>0</td>\n",
       "      <td>136</td>\n",
       "      <td>PG</td>\n",
       "      <td>Lana Wachowski Lilly Wachowski</td>\n",
       "      <td>['Keanu Reeves', 'Laurence Fishburne', 'Carrie-Anne Moss', 'Hugo Weaving']</td>\n",
       "      <td>73</td>\n",
       "      <td>8.7</td>\n",
       "      <td>...</td>\n",
       "      <td>0</td>\n",
       "      <td>0</td>\n",
       "      <td>0</td>\n",
       "      <td>0</td>\n",
       "      <td>0</td>\n",
       "      <td>0</td>\n",
       "      <td>0</td>\n",
       "      <td>0</td>\n",
       "      <td>0</td>\n",
       "      <td>0</td>\n",
       "    </tr>\n",
       "    <tr>\n",
       "      <th>2</th>\n",
       "      <td>1999</td>\n",
       "      <td>The Green Mile</td>\n",
       "      <td>0</td>\n",
       "      <td>1</td>\n",
       "      <td>189</td>\n",
       "      <td>R(A)</td>\n",
       "      <td>Frank Darabont</td>\n",
       "      <td>['Tom Hanks', 'Michael Clarke Duncan', 'David Morse', 'Bonnie Hunt']</td>\n",
       "      <td>61</td>\n",
       "      <td>8.6</td>\n",
       "      <td>...</td>\n",
       "      <td>0</td>\n",
       "      <td>0</td>\n",
       "      <td>0</td>\n",
       "      <td>0</td>\n",
       "      <td>0</td>\n",
       "      <td>0</td>\n",
       "      <td>0</td>\n",
       "      <td>0</td>\n",
       "      <td>0</td>\n",
       "      <td>0</td>\n",
       "    </tr>\n",
       "    <tr>\n",
       "      <th>3</th>\n",
       "      <td>1999</td>\n",
       "      <td>American Beauty</td>\n",
       "      <td>1</td>\n",
       "      <td>1</td>\n",
       "      <td>122</td>\n",
       "      <td>R(A)</td>\n",
       "      <td>Sam Mendes</td>\n",
       "      <td>['Kevin Spacey', 'Annette Bening', 'Thora Birch', 'Wes Bentley']</td>\n",
       "      <td>84</td>\n",
       "      <td>8.3</td>\n",
       "      <td>...</td>\n",
       "      <td>0</td>\n",
       "      <td>0</td>\n",
       "      <td>0</td>\n",
       "      <td>0</td>\n",
       "      <td>1</td>\n",
       "      <td>1</td>\n",
       "      <td>0</td>\n",
       "      <td>1</td>\n",
       "      <td>1</td>\n",
       "      <td>1</td>\n",
       "    </tr>\n",
       "    <tr>\n",
       "      <th>4</th>\n",
       "      <td>1999</td>\n",
       "      <td>The Sixth Sense</td>\n",
       "      <td>0</td>\n",
       "      <td>1</td>\n",
       "      <td>107</td>\n",
       "      <td>PG</td>\n",
       "      <td>M. Night Shyamalan</td>\n",
       "      <td>['Bruce Willis', 'Haley Joel Osment', 'Toni Collette', 'Olivia Williams']</td>\n",
       "      <td>64</td>\n",
       "      <td>8.1</td>\n",
       "      <td>...</td>\n",
       "      <td>0</td>\n",
       "      <td>0</td>\n",
       "      <td>0</td>\n",
       "      <td>0</td>\n",
       "      <td>0</td>\n",
       "      <td>0</td>\n",
       "      <td>0</td>\n",
       "      <td>0</td>\n",
       "      <td>0</td>\n",
       "      <td>0</td>\n",
       "    </tr>\n",
       "  </tbody>\n",
       "</table>\n",
       "<p>5 rows × 61 columns</p>\n",
       "</div>"
      ],
      "text/plain": [
       "   Year            Movie  Oscar_winner  Oscar_nominee  Runtime (min)  \\\n",
       "0  1999       Fight Club             0              0            139   \n",
       "1  1999       The Matrix             0              0            136   \n",
       "2  1999   The Green Mile             0              1            189   \n",
       "3  1999  American Beauty             1              1            122   \n",
       "4  1999  The Sixth Sense             0              1            107   \n",
       "\n",
       "  Certificate                       Directors  \\\n",
       "0        R(A)                   David Fincher   \n",
       "1          PG  Lana Wachowski Lilly Wachowski   \n",
       "2        R(A)                  Frank Darabont   \n",
       "3        R(A)                      Sam Mendes   \n",
       "4          PG              M. Night Shyamalan   \n",
       "\n",
       "                                                                       Actors  \\\n",
       "0                 ['Brad Pitt', 'Edward Norton', 'Meat Loaf', 'Zach Grenier']   \n",
       "1  ['Keanu Reeves', 'Laurence Fishburne', 'Carrie-Anne Moss', 'Hugo Weaving']   \n",
       "2        ['Tom Hanks', 'Michael Clarke Duncan', 'David Morse', 'Bonnie Hunt']   \n",
       "3            ['Kevin Spacey', 'Annette Bening', 'Thora Birch', 'Wes Bentley']   \n",
       "4   ['Bruce Willis', 'Haley Joel Osment', 'Toni Collette', 'Olivia Williams']   \n",
       "\n",
       "   Metascore  IMDb_rating  ...  Golden_Bear_winner  Golden_Bear_nominee  \\\n",
       "0         66          8.8  ...                   0                    0   \n",
       "1         73          8.7  ...                   0                    0   \n",
       "2         61          8.6  ...                   0                    0   \n",
       "3         84          8.3  ...                   0                    0   \n",
       "4         64          8.1  ...                   0                    0   \n",
       "\n",
       "   Golden_Lion_winner  Golden_Lion_nominee  PCA_winner  PCA_nominee  \\\n",
       "0                   0                    0           0            0   \n",
       "1                   0                    0           0            0   \n",
       "2                   0                    0           0            0   \n",
       "3                   0                    0           1            1   \n",
       "4                   0                    0           0            0   \n",
       "\n",
       "   NYFCC_winner NYFCC_nominee  OFCS_winner  OFCS_nominee  \n",
       "0             0             0            0             1  \n",
       "1             0             0            0             0  \n",
       "2             0             0            0             0  \n",
       "3             0             1            1             1  \n",
       "4             0             0            0             0  \n",
       "\n",
       "[5 rows x 61 columns]"
      ]
     },
     "execution_count": 2,
     "metadata": {},
     "output_type": "execute_result"
    }
   ],
   "source": [
    "data = pd.read_csv('data/movie_dataset_final.csv')\n",
    "data.head()"
   ]
  },
  {
   "cell_type": "code",
   "execution_count": 3,
   "metadata": {},
   "outputs": [],
   "source": [
    "# Train on 16 years, predict on recent 5 years\n",
    "train = data[data['Year'] < 2015]\n",
    "test = data[data['Year'] >= 2015]"
   ]
  },
  {
   "cell_type": "code",
   "execution_count": 4,
   "metadata": {},
   "outputs": [
    {
     "data": {
      "text/plain": [
       "0    1584\n",
       "1      16\n",
       "Name: Oscar_winner, dtype: int64"
      ]
     },
     "execution_count": 4,
     "metadata": {},
     "output_type": "execute_result"
    }
   ],
   "source": [
    "train['Oscar_winner'].value_counts()"
   ]
  },
  {
   "cell_type": "code",
   "execution_count": 5,
   "metadata": {},
   "outputs": [],
   "source": [
    "movie_name = np.array(test[\"Movie\"])\n",
    "year = np.array(test[\"Year\"])\n",
    "oscar_w = np.array(test[\"Oscar_winner\"])\n",
    "oscar_n = np.array(test[\"Oscar_nominee\"])"
   ]
  },
  {
   "cell_type": "code",
   "execution_count": 6,
   "metadata": {},
   "outputs": [],
   "source": [
    "# feat. = feature\n",
    "feat_film_elements = ['Runtime (min)', 'Action', 'Adventure', 'Animation', 'Biography', \n",
    "                      'Comedy', 'Crime', 'Drama', 'Family', 'Fantasy', 'History', 'Horror', 'Musical', 'Mystery', \n",
    "                      'Romance', 'Sci-Fi', 'Sport','Thriller', 'War', 'Western']  # Genre - binary  #20\n",
    "\n",
    "feat_movie_critics = ['IMDb_rating', 'IMDb_votes','RT_rating','RT_review','Metascore']  #5\n",
    "\n",
    "feat_commercial = ['Budget','Domestic (US) gross', 'International gross', 'Worldwide gross'] #4\n",
    "\n",
    "feat_awards = ['GG_drama_winner', 'GG_drama_nominee', 'GG_comedy_winner', 'GG_comedy_nominee',\n",
    "               'BAFTA_winner', 'BAFTA_nominee', 'DGA_winner', 'DGA_nominee',\n",
    "               'PGA_winner', 'PGA_nominee', 'CCMA_winner', 'CCMA_nominee',\n",
    "               'Golden_Palm_winner', 'Golden_Palm_nominee', 'Golden_Bear_winner', 'Golden_Bear_nominee',\n",
    "               'Golden_Lion_winner', 'Golden_Lion_nominee', 'PCA_winner', 'PCA_nominee',\n",
    "               'NYFCC_winner', 'NYFCC_nominee', 'OFCS_winner', 'OFCS_nominee'] #24\n",
    "\n",
    "all_features = []\n",
    "\n",
    "all_features = feat_film_elements + feat_movie_critics + feat_commercial  + feat_awards\n",
    "\n",
    "X_train = train[all_features]\n",
    "X_test = test[all_features]\n",
    "y_train = train['Oscar_winner']\n",
    "y_test = test['Oscar_winner']"
   ]
  },
  {
   "cell_type": "code",
   "execution_count": 7,
   "metadata": {},
   "outputs": [],
   "source": [
    "# transform the data to standardize the values in the data \n",
    "preprocessor = ColumnTransformer(transformers=[('scale', StandardScaler(), all_features)])"
   ]
  },
  {
   "cell_type": "code",
   "execution_count": 8,
   "metadata": {},
   "outputs": [],
   "source": [
    "def get_scores(model, X_train, y_train, X_test, y_test, show = True):\n",
    "    \n",
    "    if show: \n",
    "        print(\"Training error:   %.2f\" % (1-model.score(X_train, y_train)))\n",
    "        print(\"Validation error: %.2f\" % (1-model.score(X_test, y_test)))\n",
    "        print('\\n')\n",
    "    return (1-model.score(X_train, y_train)), (1-model.score(X_test, y_test))"
   ]
  },
  {
   "cell_type": "code",
   "execution_count": 173,
   "metadata": {},
   "outputs": [],
   "source": [
    "def diff_class_ml(X_train, X_test, y_train, y_test):\n",
    "    \n",
    "    # Lets create an empty dictionary to store all the results\n",
    "    results_dict = {}\n",
    "    \n",
    "    models = {\n",
    "            # The Trees\n",
    "            'Decision Tree': DecisionTreeClassifier(),\n",
    "            'Random Forest' : RandomForestClassifier(),\n",
    "            'Extra Trees' : ExtraTreesClassifier(),\n",
    "        \n",
    "            # Boosting\n",
    "            'AdaBoost Classifier' : AdaBoostClassifier(),\n",
    "            'XGBoost Classifier' : XGBClassifier(),\n",
    "            'Gradient Boosting Classifier' : GradientBoostingClassifier(),\n",
    "            'Light Gradient Boosting Machine': LGBMClassifier(),\n",
    "        \n",
    "            # Naive Bayes\n",
    "            # 'Multinomial Naive Bayes' : MultinomialNB(), input error\n",
    "            'Gaussian Naive Bayes' : GaussianNB(),\n",
    "            'Bernoulli Naive Bayes' : BernoulliNB(),\n",
    "        \n",
    "            # Others\n",
    "            'Linear Support Vector Classifier' : LinearSVC(dual=False),\n",
    "            'Support Vector Classifier' : SVC(),\n",
    "            'K-Nearest Neighbors Classifier' : KNeighborsClassifier(),\n",
    "            'Logistic Regression': LogisticRegression(), \n",
    "            'Bagging Classifier' : BaggingClassifier(),\n",
    "            'Multi Layer Perceptron Classifier' : MLPClassifier(),\n",
    "              }\n",
    "\n",
    "    for model_name, model in models.items():\n",
    "        t = time.time() \n",
    "        clf = Pipeline(steps=[('preprocessor', preprocessor),\n",
    "                              ('classifier', model)])\n",
    "        clf.fit(X_train, y_train);\n",
    "        tr_err, valid_err = get_scores(clf, X_train, y_train, X_test, y_test, show = False)\n",
    "        elapsed_time = time.time() - t\n",
    "        results_dict[model_name] = [round(tr_err,3), round(valid_err,3), round(elapsed_time,3)]\n",
    "    \n",
    "    results_df = pd.DataFrame(results_dict).T\n",
    "    results_df.columns = [\"Train error\", \"Validation error\", \"Elapased Time (s)\"]\n",
    "    return results_df"
   ]
  },
  {
   "cell_type": "code",
   "execution_count": 174,
   "metadata": {},
   "outputs": [
    {
     "data": {
      "text/html": [
       "<div>\n",
       "<style scoped>\n",
       "    .dataframe tbody tr th:only-of-type {\n",
       "        vertical-align: middle;\n",
       "    }\n",
       "\n",
       "    .dataframe tbody tr th {\n",
       "        vertical-align: top;\n",
       "    }\n",
       "\n",
       "    .dataframe thead th {\n",
       "        text-align: right;\n",
       "    }\n",
       "</style>\n",
       "<table border=\"1\" class=\"dataframe\">\n",
       "  <thead>\n",
       "    <tr style=\"text-align: right;\">\n",
       "      <th></th>\n",
       "      <th>Train error</th>\n",
       "      <th>Validation error</th>\n",
       "      <th>Elapased Time (s)</th>\n",
       "    </tr>\n",
       "  </thead>\n",
       "  <tbody>\n",
       "    <tr>\n",
       "      <th>Decision Tree</th>\n",
       "      <td>0.000</td>\n",
       "      <td>0.018</td>\n",
       "      <td>0.014</td>\n",
       "    </tr>\n",
       "    <tr>\n",
       "      <th>Random Forest</th>\n",
       "      <td>0.000</td>\n",
       "      <td>0.014</td>\n",
       "      <td>0.162</td>\n",
       "    </tr>\n",
       "    <tr>\n",
       "      <th>Extra Trees</th>\n",
       "      <td>0.000</td>\n",
       "      <td>0.012</td>\n",
       "      <td>0.115</td>\n",
       "    </tr>\n",
       "    <tr>\n",
       "      <th>AdaBoost Classifier</th>\n",
       "      <td>0.000</td>\n",
       "      <td>0.014</td>\n",
       "      <td>0.165</td>\n",
       "    </tr>\n",
       "    <tr>\n",
       "      <th>XGBoost Classifier</th>\n",
       "      <td>0.001</td>\n",
       "      <td>0.014</td>\n",
       "      <td>0.155</td>\n",
       "    </tr>\n",
       "    <tr>\n",
       "      <th>Gradient Boosting Classifier</th>\n",
       "      <td>0.000</td>\n",
       "      <td>0.016</td>\n",
       "      <td>0.330</td>\n",
       "    </tr>\n",
       "    <tr>\n",
       "      <th>Light Gradient Boosting Machine</th>\n",
       "      <td>0.000</td>\n",
       "      <td>0.012</td>\n",
       "      <td>0.141</td>\n",
       "    </tr>\n",
       "    <tr>\n",
       "      <th>Gaussian Naive Bayes</th>\n",
       "      <td>0.024</td>\n",
       "      <td>0.034</td>\n",
       "      <td>0.023</td>\n",
       "    </tr>\n",
       "    <tr>\n",
       "      <th>Bernoulli Naive Bayes</th>\n",
       "      <td>0.028</td>\n",
       "      <td>0.044</td>\n",
       "      <td>0.021</td>\n",
       "    </tr>\n",
       "    <tr>\n",
       "      <th>Linear Support Vector Classifier</th>\n",
       "      <td>0.000</td>\n",
       "      <td>0.016</td>\n",
       "      <td>0.038</td>\n",
       "    </tr>\n",
       "    <tr>\n",
       "      <th>Support Vector Classifier</th>\n",
       "      <td>0.001</td>\n",
       "      <td>0.010</td>\n",
       "      <td>0.053</td>\n",
       "    </tr>\n",
       "    <tr>\n",
       "      <th>K-Nearest Neighbors Classifier</th>\n",
       "      <td>0.005</td>\n",
       "      <td>0.012</td>\n",
       "      <td>0.284</td>\n",
       "    </tr>\n",
       "    <tr>\n",
       "      <th>Logistic Regression</th>\n",
       "      <td>0.000</td>\n",
       "      <td>0.016</td>\n",
       "      <td>0.020</td>\n",
       "    </tr>\n",
       "    <tr>\n",
       "      <th>Bagging Classifier</th>\n",
       "      <td>0.001</td>\n",
       "      <td>0.014</td>\n",
       "      <td>0.047</td>\n",
       "    </tr>\n",
       "    <tr>\n",
       "      <th>Multi Layer Perceptron Classifier</th>\n",
       "      <td>0.000</td>\n",
       "      <td>0.014</td>\n",
       "      <td>0.627</td>\n",
       "    </tr>\n",
       "  </tbody>\n",
       "</table>\n",
       "</div>"
      ],
      "text/plain": [
       "                                   Train error  Validation error  \\\n",
       "Decision Tree                            0.000             0.018   \n",
       "Random Forest                            0.000             0.014   \n",
       "Extra Trees                              0.000             0.012   \n",
       "AdaBoost Classifier                      0.000             0.014   \n",
       "XGBoost Classifier                       0.001             0.014   \n",
       "Gradient Boosting Classifier             0.000             0.016   \n",
       "Light Gradient Boosting Machine          0.000             0.012   \n",
       "Gaussian Naive Bayes                     0.024             0.034   \n",
       "Bernoulli Naive Bayes                    0.028             0.044   \n",
       "Linear Support Vector Classifier         0.000             0.016   \n",
       "Support Vector Classifier                0.001             0.010   \n",
       "K-Nearest Neighbors Classifier           0.005             0.012   \n",
       "Logistic Regression                      0.000             0.016   \n",
       "Bagging Classifier                       0.001             0.014   \n",
       "Multi Layer Perceptron Classifier        0.000             0.014   \n",
       "\n",
       "                                   Elapased Time (s)  \n",
       "Decision Tree                                  0.014  \n",
       "Random Forest                                  0.162  \n",
       "Extra Trees                                    0.115  \n",
       "AdaBoost Classifier                            0.165  \n",
       "XGBoost Classifier                             0.155  \n",
       "Gradient Boosting Classifier                   0.330  \n",
       "Light Gradient Boosting Machine                0.141  \n",
       "Gaussian Naive Bayes                           0.023  \n",
       "Bernoulli Naive Bayes                          0.021  \n",
       "Linear Support Vector Classifier               0.038  \n",
       "Support Vector Classifier                      0.053  \n",
       "K-Nearest Neighbors Classifier                 0.284  \n",
       "Logistic Regression                            0.020  \n",
       "Bagging Classifier                             0.047  \n",
       "Multi Layer Perceptron Classifier              0.627  "
      ]
     },
     "execution_count": 174,
     "metadata": {},
     "output_type": "execute_result"
    }
   ],
   "source": [
    "diff_class_ml(X_train, X_test, y_train, y_test)"
   ]
  },
  {
   "cell_type": "markdown",
   "metadata": {},
   "source": [
    "This table just tells us what is the train and validation error (1-accuracy rate)... about the true positive rate we still need to find out ourselves"
   ]
  },
  {
   "cell_type": "markdown",
   "metadata": {},
   "source": [
    "---"
   ]
  },
  {
   "cell_type": "markdown",
   "metadata": {},
   "source": [
    "# #1 - The Trees"
   ]
  },
  {
   "cell_type": "markdown",
   "metadata": {},
   "source": [
    "<img src=\"img\\tree.jpg\" width=\"550\" align=\"center\"/>"
   ]
  },
  {
   "cell_type": "markdown",
   "metadata": {},
   "source": [
    "## #1.1 - Decision Tree"
   ]
  },
  {
   "cell_type": "code",
   "execution_count": 41,
   "metadata": {},
   "outputs": [],
   "source": [
    "tree = DecisionTreeClassifier(max_depth = 8)\n",
    "\n",
    "my_tree = tree.fit(X_train, y_train)"
   ]
  },
  {
   "cell_type": "code",
   "execution_count": 42,
   "metadata": {},
   "outputs": [
    {
     "name": "stdout",
     "output_type": "stream",
     "text": [
      "                     Importances Weightage\n",
      "Runtime (min)                        0.000\n",
      "Action                               0.000\n",
      "Adventure                            0.000\n",
      "Animation                            0.000\n",
      "Biography                            0.000\n",
      "Comedy                               0.000\n",
      "Crime                                0.000\n",
      "Drama                                0.000\n",
      "Family                               0.000\n",
      "Fantasy                              0.000\n",
      "History                              0.000\n",
      "Horror                               0.000\n",
      "Musical                              0.000\n",
      "Mystery                              0.000\n",
      "Romance                              0.000\n",
      "Sci-Fi                               0.000\n",
      "Sport                                0.000\n",
      "Thriller                             0.000\n",
      "War                                  0.000\n",
      "Western                              0.000\n",
      "IMDb_rating                          0.046\n",
      "IMDb_votes                           0.000\n",
      "RT_rating                            0.053\n",
      "RT_review                            0.000\n",
      "Metascore                            0.076\n",
      "Budget                               0.009\n",
      "Domestic (US) gross                  0.000\n",
      "International gross                  0.000\n",
      "Worldwide gross                      0.032\n",
      "GG_drama_winner                      0.000\n",
      "GG_drama_nominee                     0.000\n",
      "GG_comedy_winner                     0.000\n",
      "GG_comedy_nominee                    0.000\n",
      "BAFTA_winner                         0.000\n",
      "BAFTA_nominee                        0.001\n",
      "DGA_winner                           0.657\n",
      "DGA_nominee                          0.000\n",
      "PGA_winner                           0.076\n",
      "PGA_nominee                          0.000\n",
      "CCMA_winner                          0.050\n",
      "CCMA_nominee                         0.000\n",
      "Golden_Palm_winner                   0.000\n",
      "Golden_Palm_nominee                  0.000\n",
      "Golden_Bear_winner                   0.000\n",
      "Golden_Bear_nominee                  0.000\n",
      "Golden_Lion_winner                   0.000\n",
      "Golden_Lion_nominee                  0.000\n",
      "PCA_winner                           0.000\n",
      "PCA_nominee                          0.000\n",
      "NYFCC_winner                         0.000\n",
      "NYFCC_nominee                        0.000\n",
      "OFCS_winner                          0.000\n",
      "OFCS_nominee                         0.000\n",
      "\n",
      "Score =  1.0\n"
     ]
    }
   ],
   "source": [
    "tree_importances = pd.DataFrame(my_tree.feature_importances_.round(3), all_features, columns=[\"Importances Weightage\"])\n",
    "\n",
    "print(tree_importances)\n",
    "print()\n",
    "print('Score = ', my_tree.score(X_train, y_train))"
   ]
  },
  {
   "cell_type": "code",
   "execution_count": 43,
   "metadata": {},
   "outputs": [
    {
     "data": {
      "application/vnd.plotly.v1+json": {
       "config": {
        "plotlyServerURL": "https://plot.ly"
       },
       "data": [
        {
         "alignmentgroup": "True",
         "hoverlabel": {
          "namelength": 0
         },
         "hovertemplate": "Features=%{x}<br>Importances Weightage=%{y}",
         "legendgroup": "",
         "marker": {
          "color": "#636efa"
         },
         "name": "",
         "offsetgroup": "",
         "orientation": "v",
         "showlegend": false,
         "textposition": "auto",
         "type": "bar",
         "x": [
          "Runtime (min)",
          "Action",
          "Adventure",
          "Animation",
          "Biography",
          "Comedy",
          "Crime",
          "Drama",
          "Family",
          "Fantasy",
          "History",
          "Horror",
          "Musical",
          "Mystery",
          "Romance",
          "Sci-Fi",
          "Sport",
          "Thriller",
          "War",
          "Western",
          "IMDb_rating",
          "IMDb_votes",
          "RT_rating",
          "RT_review",
          "Metascore",
          "Budget",
          "Domestic (US) gross",
          "International gross",
          "Worldwide gross",
          "GG_drama_winner",
          "GG_drama_nominee",
          "GG_comedy_winner",
          "GG_comedy_nominee",
          "BAFTA_winner",
          "BAFTA_nominee",
          "DGA_winner",
          "DGA_nominee",
          "PGA_winner",
          "PGA_nominee",
          "CCMA_winner",
          "CCMA_nominee",
          "Golden_Palm_winner",
          "Golden_Palm_nominee",
          "Golden_Bear_winner",
          "Golden_Bear_nominee",
          "Golden_Lion_winner",
          "Golden_Lion_nominee",
          "PCA_winner",
          "PCA_nominee",
          "NYFCC_winner",
          "NYFCC_nominee",
          "OFCS_winner",
          "OFCS_nominee"
         ],
         "xaxis": "x",
         "y": [
          0,
          0,
          0,
          0,
          0,
          0,
          0,
          0,
          0,
          0,
          0,
          0,
          0,
          0,
          0,
          0,
          0,
          0,
          0,
          0,
          0.046,
          0,
          0.053,
          0,
          0.076,
          0.009,
          0,
          0,
          0.032,
          0,
          0,
          0,
          0,
          0,
          0.001,
          0.657,
          0,
          0.076,
          0,
          0.05,
          0,
          0,
          0,
          0,
          0,
          0,
          0,
          0,
          0,
          0,
          0,
          0,
          0
         ],
         "yaxis": "y"
        }
       ],
       "layout": {
        "barmode": "relative",
        "height": 600,
        "legend": {
         "tracegroupgap": 0
        },
        "template": {
         "data": {
          "bar": [
           {
            "error_x": {
             "color": "#2a3f5f"
            },
            "error_y": {
             "color": "#2a3f5f"
            },
            "marker": {
             "line": {
              "color": "#E5ECF6",
              "width": 0.5
             }
            },
            "type": "bar"
           }
          ],
          "barpolar": [
           {
            "marker": {
             "line": {
              "color": "#E5ECF6",
              "width": 0.5
             }
            },
            "type": "barpolar"
           }
          ],
          "carpet": [
           {
            "aaxis": {
             "endlinecolor": "#2a3f5f",
             "gridcolor": "white",
             "linecolor": "white",
             "minorgridcolor": "white",
             "startlinecolor": "#2a3f5f"
            },
            "baxis": {
             "endlinecolor": "#2a3f5f",
             "gridcolor": "white",
             "linecolor": "white",
             "minorgridcolor": "white",
             "startlinecolor": "#2a3f5f"
            },
            "type": "carpet"
           }
          ],
          "choropleth": [
           {
            "colorbar": {
             "outlinewidth": 0,
             "ticks": ""
            },
            "type": "choropleth"
           }
          ],
          "contour": [
           {
            "colorbar": {
             "outlinewidth": 0,
             "ticks": ""
            },
            "colorscale": [
             [
              0,
              "#0d0887"
             ],
             [
              0.1111111111111111,
              "#46039f"
             ],
             [
              0.2222222222222222,
              "#7201a8"
             ],
             [
              0.3333333333333333,
              "#9c179e"
             ],
             [
              0.4444444444444444,
              "#bd3786"
             ],
             [
              0.5555555555555556,
              "#d8576b"
             ],
             [
              0.6666666666666666,
              "#ed7953"
             ],
             [
              0.7777777777777778,
              "#fb9f3a"
             ],
             [
              0.8888888888888888,
              "#fdca26"
             ],
             [
              1,
              "#f0f921"
             ]
            ],
            "type": "contour"
           }
          ],
          "contourcarpet": [
           {
            "colorbar": {
             "outlinewidth": 0,
             "ticks": ""
            },
            "type": "contourcarpet"
           }
          ],
          "heatmap": [
           {
            "colorbar": {
             "outlinewidth": 0,
             "ticks": ""
            },
            "colorscale": [
             [
              0,
              "#0d0887"
             ],
             [
              0.1111111111111111,
              "#46039f"
             ],
             [
              0.2222222222222222,
              "#7201a8"
             ],
             [
              0.3333333333333333,
              "#9c179e"
             ],
             [
              0.4444444444444444,
              "#bd3786"
             ],
             [
              0.5555555555555556,
              "#d8576b"
             ],
             [
              0.6666666666666666,
              "#ed7953"
             ],
             [
              0.7777777777777778,
              "#fb9f3a"
             ],
             [
              0.8888888888888888,
              "#fdca26"
             ],
             [
              1,
              "#f0f921"
             ]
            ],
            "type": "heatmap"
           }
          ],
          "heatmapgl": [
           {
            "colorbar": {
             "outlinewidth": 0,
             "ticks": ""
            },
            "colorscale": [
             [
              0,
              "#0d0887"
             ],
             [
              0.1111111111111111,
              "#46039f"
             ],
             [
              0.2222222222222222,
              "#7201a8"
             ],
             [
              0.3333333333333333,
              "#9c179e"
             ],
             [
              0.4444444444444444,
              "#bd3786"
             ],
             [
              0.5555555555555556,
              "#d8576b"
             ],
             [
              0.6666666666666666,
              "#ed7953"
             ],
             [
              0.7777777777777778,
              "#fb9f3a"
             ],
             [
              0.8888888888888888,
              "#fdca26"
             ],
             [
              1,
              "#f0f921"
             ]
            ],
            "type": "heatmapgl"
           }
          ],
          "histogram": [
           {
            "marker": {
             "colorbar": {
              "outlinewidth": 0,
              "ticks": ""
             }
            },
            "type": "histogram"
           }
          ],
          "histogram2d": [
           {
            "colorbar": {
             "outlinewidth": 0,
             "ticks": ""
            },
            "colorscale": [
             [
              0,
              "#0d0887"
             ],
             [
              0.1111111111111111,
              "#46039f"
             ],
             [
              0.2222222222222222,
              "#7201a8"
             ],
             [
              0.3333333333333333,
              "#9c179e"
             ],
             [
              0.4444444444444444,
              "#bd3786"
             ],
             [
              0.5555555555555556,
              "#d8576b"
             ],
             [
              0.6666666666666666,
              "#ed7953"
             ],
             [
              0.7777777777777778,
              "#fb9f3a"
             ],
             [
              0.8888888888888888,
              "#fdca26"
             ],
             [
              1,
              "#f0f921"
             ]
            ],
            "type": "histogram2d"
           }
          ],
          "histogram2dcontour": [
           {
            "colorbar": {
             "outlinewidth": 0,
             "ticks": ""
            },
            "colorscale": [
             [
              0,
              "#0d0887"
             ],
             [
              0.1111111111111111,
              "#46039f"
             ],
             [
              0.2222222222222222,
              "#7201a8"
             ],
             [
              0.3333333333333333,
              "#9c179e"
             ],
             [
              0.4444444444444444,
              "#bd3786"
             ],
             [
              0.5555555555555556,
              "#d8576b"
             ],
             [
              0.6666666666666666,
              "#ed7953"
             ],
             [
              0.7777777777777778,
              "#fb9f3a"
             ],
             [
              0.8888888888888888,
              "#fdca26"
             ],
             [
              1,
              "#f0f921"
             ]
            ],
            "type": "histogram2dcontour"
           }
          ],
          "mesh3d": [
           {
            "colorbar": {
             "outlinewidth": 0,
             "ticks": ""
            },
            "type": "mesh3d"
           }
          ],
          "parcoords": [
           {
            "line": {
             "colorbar": {
              "outlinewidth": 0,
              "ticks": ""
             }
            },
            "type": "parcoords"
           }
          ],
          "pie": [
           {
            "automargin": true,
            "type": "pie"
           }
          ],
          "scatter": [
           {
            "marker": {
             "colorbar": {
              "outlinewidth": 0,
              "ticks": ""
             }
            },
            "type": "scatter"
           }
          ],
          "scatter3d": [
           {
            "line": {
             "colorbar": {
              "outlinewidth": 0,
              "ticks": ""
             }
            },
            "marker": {
             "colorbar": {
              "outlinewidth": 0,
              "ticks": ""
             }
            },
            "type": "scatter3d"
           }
          ],
          "scattercarpet": [
           {
            "marker": {
             "colorbar": {
              "outlinewidth": 0,
              "ticks": ""
             }
            },
            "type": "scattercarpet"
           }
          ],
          "scattergeo": [
           {
            "marker": {
             "colorbar": {
              "outlinewidth": 0,
              "ticks": ""
             }
            },
            "type": "scattergeo"
           }
          ],
          "scattergl": [
           {
            "marker": {
             "colorbar": {
              "outlinewidth": 0,
              "ticks": ""
             }
            },
            "type": "scattergl"
           }
          ],
          "scattermapbox": [
           {
            "marker": {
             "colorbar": {
              "outlinewidth": 0,
              "ticks": ""
             }
            },
            "type": "scattermapbox"
           }
          ],
          "scatterpolar": [
           {
            "marker": {
             "colorbar": {
              "outlinewidth": 0,
              "ticks": ""
             }
            },
            "type": "scatterpolar"
           }
          ],
          "scatterpolargl": [
           {
            "marker": {
             "colorbar": {
              "outlinewidth": 0,
              "ticks": ""
             }
            },
            "type": "scatterpolargl"
           }
          ],
          "scatterternary": [
           {
            "marker": {
             "colorbar": {
              "outlinewidth": 0,
              "ticks": ""
             }
            },
            "type": "scatterternary"
           }
          ],
          "surface": [
           {
            "colorbar": {
             "outlinewidth": 0,
             "ticks": ""
            },
            "colorscale": [
             [
              0,
              "#0d0887"
             ],
             [
              0.1111111111111111,
              "#46039f"
             ],
             [
              0.2222222222222222,
              "#7201a8"
             ],
             [
              0.3333333333333333,
              "#9c179e"
             ],
             [
              0.4444444444444444,
              "#bd3786"
             ],
             [
              0.5555555555555556,
              "#d8576b"
             ],
             [
              0.6666666666666666,
              "#ed7953"
             ],
             [
              0.7777777777777778,
              "#fb9f3a"
             ],
             [
              0.8888888888888888,
              "#fdca26"
             ],
             [
              1,
              "#f0f921"
             ]
            ],
            "type": "surface"
           }
          ],
          "table": [
           {
            "cells": {
             "fill": {
              "color": "#EBF0F8"
             },
             "line": {
              "color": "white"
             }
            },
            "header": {
             "fill": {
              "color": "#C8D4E3"
             },
             "line": {
              "color": "white"
             }
            },
            "type": "table"
           }
          ]
         },
         "layout": {
          "annotationdefaults": {
           "arrowcolor": "#2a3f5f",
           "arrowhead": 0,
           "arrowwidth": 1
          },
          "coloraxis": {
           "colorbar": {
            "outlinewidth": 0,
            "ticks": ""
           }
          },
          "colorscale": {
           "diverging": [
            [
             0,
             "#8e0152"
            ],
            [
             0.1,
             "#c51b7d"
            ],
            [
             0.2,
             "#de77ae"
            ],
            [
             0.3,
             "#f1b6da"
            ],
            [
             0.4,
             "#fde0ef"
            ],
            [
             0.5,
             "#f7f7f7"
            ],
            [
             0.6,
             "#e6f5d0"
            ],
            [
             0.7,
             "#b8e186"
            ],
            [
             0.8,
             "#7fbc41"
            ],
            [
             0.9,
             "#4d9221"
            ],
            [
             1,
             "#276419"
            ]
           ],
           "sequential": [
            [
             0,
             "#0d0887"
            ],
            [
             0.1111111111111111,
             "#46039f"
            ],
            [
             0.2222222222222222,
             "#7201a8"
            ],
            [
             0.3333333333333333,
             "#9c179e"
            ],
            [
             0.4444444444444444,
             "#bd3786"
            ],
            [
             0.5555555555555556,
             "#d8576b"
            ],
            [
             0.6666666666666666,
             "#ed7953"
            ],
            [
             0.7777777777777778,
             "#fb9f3a"
            ],
            [
             0.8888888888888888,
             "#fdca26"
            ],
            [
             1,
             "#f0f921"
            ]
           ],
           "sequentialminus": [
            [
             0,
             "#0d0887"
            ],
            [
             0.1111111111111111,
             "#46039f"
            ],
            [
             0.2222222222222222,
             "#7201a8"
            ],
            [
             0.3333333333333333,
             "#9c179e"
            ],
            [
             0.4444444444444444,
             "#bd3786"
            ],
            [
             0.5555555555555556,
             "#d8576b"
            ],
            [
             0.6666666666666666,
             "#ed7953"
            ],
            [
             0.7777777777777778,
             "#fb9f3a"
            ],
            [
             0.8888888888888888,
             "#fdca26"
            ],
            [
             1,
             "#f0f921"
            ]
           ]
          },
          "colorway": [
           "#636efa",
           "#EF553B",
           "#00cc96",
           "#ab63fa",
           "#FFA15A",
           "#19d3f3",
           "#FF6692",
           "#B6E880",
           "#FF97FF",
           "#FECB52"
          ],
          "font": {
           "color": "#2a3f5f"
          },
          "geo": {
           "bgcolor": "white",
           "lakecolor": "white",
           "landcolor": "#E5ECF6",
           "showlakes": true,
           "showland": true,
           "subunitcolor": "white"
          },
          "hoverlabel": {
           "align": "left"
          },
          "hovermode": "closest",
          "mapbox": {
           "style": "light"
          },
          "paper_bgcolor": "white",
          "plot_bgcolor": "#E5ECF6",
          "polar": {
           "angularaxis": {
            "gridcolor": "white",
            "linecolor": "white",
            "ticks": ""
           },
           "bgcolor": "#E5ECF6",
           "radialaxis": {
            "gridcolor": "white",
            "linecolor": "white",
            "ticks": ""
           }
          },
          "scene": {
           "xaxis": {
            "backgroundcolor": "#E5ECF6",
            "gridcolor": "white",
            "gridwidth": 2,
            "linecolor": "white",
            "showbackground": true,
            "ticks": "",
            "zerolinecolor": "white"
           },
           "yaxis": {
            "backgroundcolor": "#E5ECF6",
            "gridcolor": "white",
            "gridwidth": 2,
            "linecolor": "white",
            "showbackground": true,
            "ticks": "",
            "zerolinecolor": "white"
           },
           "zaxis": {
            "backgroundcolor": "#E5ECF6",
            "gridcolor": "white",
            "gridwidth": 2,
            "linecolor": "white",
            "showbackground": true,
            "ticks": "",
            "zerolinecolor": "white"
           }
          },
          "shapedefaults": {
           "line": {
            "color": "#2a3f5f"
           }
          },
          "ternary": {
           "aaxis": {
            "gridcolor": "white",
            "linecolor": "white",
            "ticks": ""
           },
           "baxis": {
            "gridcolor": "white",
            "linecolor": "white",
            "ticks": ""
           },
           "bgcolor": "#E5ECF6",
           "caxis": {
            "gridcolor": "white",
            "linecolor": "white",
            "ticks": ""
           }
          },
          "title": {
           "x": 0.05
          },
          "xaxis": {
           "automargin": true,
           "gridcolor": "white",
           "linecolor": "white",
           "ticks": "",
           "title": {
            "standoff": 15
           },
           "zerolinecolor": "white",
           "zerolinewidth": 2
          },
          "yaxis": {
           "automargin": true,
           "gridcolor": "white",
           "linecolor": "white",
           "ticks": "",
           "title": {
            "standoff": 15
           },
           "zerolinecolor": "white",
           "zerolinewidth": 2
          }
         }
        },
        "title": {
         "text": "Features Importances"
        },
        "xaxis": {
         "anchor": "y",
         "domain": [
          0,
          1
         ],
         "title": {
          "text": "Features"
         }
        },
        "yaxis": {
         "anchor": "x",
         "domain": [
          0,
          1
         ],
         "title": {
          "text": "Importances Weightage"
         }
        }
       }
      },
      "text/html": [
       "<div>\n",
       "        \n",
       "        \n",
       "            <div id=\"51c6bab2-f7e4-4470-943f-bdff458b5f19\" class=\"plotly-graph-div\" style=\"height:600px; width:100%;\"></div>\n",
       "            <script type=\"text/javascript\">\n",
       "                require([\"plotly\"], function(Plotly) {\n",
       "                    window.PLOTLYENV=window.PLOTLYENV || {};\n",
       "                    \n",
       "                if (document.getElementById(\"51c6bab2-f7e4-4470-943f-bdff458b5f19\")) {\n",
       "                    Plotly.newPlot(\n",
       "                        '51c6bab2-f7e4-4470-943f-bdff458b5f19',\n",
       "                        [{\"alignmentgroup\": \"True\", \"hoverlabel\": {\"namelength\": 0}, \"hovertemplate\": \"Features=%{x}<br>Importances Weightage=%{y}\", \"legendgroup\": \"\", \"marker\": {\"color\": \"#636efa\"}, \"name\": \"\", \"offsetgroup\": \"\", \"orientation\": \"v\", \"showlegend\": false, \"textposition\": \"auto\", \"type\": \"bar\", \"x\": [\"Runtime (min)\", \"Action\", \"Adventure\", \"Animation\", \"Biography\", \"Comedy\", \"Crime\", \"Drama\", \"Family\", \"Fantasy\", \"History\", \"Horror\", \"Musical\", \"Mystery\", \"Romance\", \"Sci-Fi\", \"Sport\", \"Thriller\", \"War\", \"Western\", \"IMDb_rating\", \"IMDb_votes\", \"RT_rating\", \"RT_review\", \"Metascore\", \"Budget\", \"Domestic (US) gross\", \"International gross\", \"Worldwide gross\", \"GG_drama_winner\", \"GG_drama_nominee\", \"GG_comedy_winner\", \"GG_comedy_nominee\", \"BAFTA_winner\", \"BAFTA_nominee\", \"DGA_winner\", \"DGA_nominee\", \"PGA_winner\", \"PGA_nominee\", \"CCMA_winner\", \"CCMA_nominee\", \"Golden_Palm_winner\", \"Golden_Palm_nominee\", \"Golden_Bear_winner\", \"Golden_Bear_nominee\", \"Golden_Lion_winner\", \"Golden_Lion_nominee\", \"PCA_winner\", \"PCA_nominee\", \"NYFCC_winner\", \"NYFCC_nominee\", \"OFCS_winner\", \"OFCS_nominee\"], \"xaxis\": \"x\", \"y\": [0.0, 0.0, 0.0, 0.0, 0.0, 0.0, 0.0, 0.0, 0.0, 0.0, 0.0, 0.0, 0.0, 0.0, 0.0, 0.0, 0.0, 0.0, 0.0, 0.0, 0.046, 0.0, 0.053, 0.0, 0.076, 0.009, 0.0, 0.0, 0.032, 0.0, 0.0, 0.0, 0.0, 0.0, 0.001, 0.657, 0.0, 0.076, 0.0, 0.05, 0.0, 0.0, 0.0, 0.0, 0.0, 0.0, 0.0, 0.0, 0.0, 0.0, 0.0, 0.0, 0.0], \"yaxis\": \"y\"}],\n",
       "                        {\"barmode\": \"relative\", \"height\": 600, \"legend\": {\"tracegroupgap\": 0}, \"template\": {\"data\": {\"bar\": [{\"error_x\": {\"color\": \"#2a3f5f\"}, \"error_y\": {\"color\": \"#2a3f5f\"}, \"marker\": {\"line\": {\"color\": \"#E5ECF6\", \"width\": 0.5}}, \"type\": \"bar\"}], \"barpolar\": [{\"marker\": {\"line\": {\"color\": \"#E5ECF6\", \"width\": 0.5}}, \"type\": \"barpolar\"}], \"carpet\": [{\"aaxis\": {\"endlinecolor\": \"#2a3f5f\", \"gridcolor\": \"white\", \"linecolor\": \"white\", \"minorgridcolor\": \"white\", \"startlinecolor\": \"#2a3f5f\"}, \"baxis\": {\"endlinecolor\": \"#2a3f5f\", \"gridcolor\": \"white\", \"linecolor\": \"white\", \"minorgridcolor\": \"white\", \"startlinecolor\": \"#2a3f5f\"}, \"type\": \"carpet\"}], \"choropleth\": [{\"colorbar\": {\"outlinewidth\": 0, \"ticks\": \"\"}, \"type\": \"choropleth\"}], \"contour\": [{\"colorbar\": {\"outlinewidth\": 0, \"ticks\": \"\"}, \"colorscale\": [[0.0, \"#0d0887\"], [0.1111111111111111, \"#46039f\"], [0.2222222222222222, \"#7201a8\"], [0.3333333333333333, \"#9c179e\"], [0.4444444444444444, \"#bd3786\"], [0.5555555555555556, \"#d8576b\"], [0.6666666666666666, \"#ed7953\"], [0.7777777777777778, \"#fb9f3a\"], [0.8888888888888888, \"#fdca26\"], [1.0, \"#f0f921\"]], \"type\": \"contour\"}], \"contourcarpet\": [{\"colorbar\": {\"outlinewidth\": 0, \"ticks\": \"\"}, \"type\": \"contourcarpet\"}], \"heatmap\": [{\"colorbar\": {\"outlinewidth\": 0, \"ticks\": \"\"}, \"colorscale\": [[0.0, \"#0d0887\"], [0.1111111111111111, \"#46039f\"], [0.2222222222222222, \"#7201a8\"], [0.3333333333333333, \"#9c179e\"], [0.4444444444444444, \"#bd3786\"], [0.5555555555555556, \"#d8576b\"], [0.6666666666666666, \"#ed7953\"], [0.7777777777777778, \"#fb9f3a\"], [0.8888888888888888, \"#fdca26\"], [1.0, \"#f0f921\"]], \"type\": \"heatmap\"}], \"heatmapgl\": [{\"colorbar\": {\"outlinewidth\": 0, \"ticks\": \"\"}, \"colorscale\": [[0.0, \"#0d0887\"], [0.1111111111111111, \"#46039f\"], [0.2222222222222222, \"#7201a8\"], [0.3333333333333333, \"#9c179e\"], [0.4444444444444444, \"#bd3786\"], [0.5555555555555556, \"#d8576b\"], [0.6666666666666666, \"#ed7953\"], [0.7777777777777778, \"#fb9f3a\"], [0.8888888888888888, \"#fdca26\"], [1.0, \"#f0f921\"]], \"type\": \"heatmapgl\"}], \"histogram\": [{\"marker\": {\"colorbar\": {\"outlinewidth\": 0, \"ticks\": \"\"}}, \"type\": \"histogram\"}], \"histogram2d\": [{\"colorbar\": {\"outlinewidth\": 0, \"ticks\": \"\"}, \"colorscale\": [[0.0, \"#0d0887\"], [0.1111111111111111, \"#46039f\"], [0.2222222222222222, \"#7201a8\"], [0.3333333333333333, \"#9c179e\"], [0.4444444444444444, \"#bd3786\"], [0.5555555555555556, \"#d8576b\"], [0.6666666666666666, \"#ed7953\"], [0.7777777777777778, \"#fb9f3a\"], [0.8888888888888888, \"#fdca26\"], [1.0, \"#f0f921\"]], \"type\": \"histogram2d\"}], \"histogram2dcontour\": [{\"colorbar\": {\"outlinewidth\": 0, \"ticks\": \"\"}, \"colorscale\": [[0.0, \"#0d0887\"], [0.1111111111111111, \"#46039f\"], [0.2222222222222222, \"#7201a8\"], [0.3333333333333333, \"#9c179e\"], [0.4444444444444444, \"#bd3786\"], [0.5555555555555556, \"#d8576b\"], [0.6666666666666666, \"#ed7953\"], [0.7777777777777778, \"#fb9f3a\"], [0.8888888888888888, \"#fdca26\"], [1.0, \"#f0f921\"]], \"type\": \"histogram2dcontour\"}], \"mesh3d\": [{\"colorbar\": {\"outlinewidth\": 0, \"ticks\": \"\"}, \"type\": \"mesh3d\"}], \"parcoords\": [{\"line\": {\"colorbar\": {\"outlinewidth\": 0, \"ticks\": \"\"}}, \"type\": \"parcoords\"}], \"pie\": [{\"automargin\": true, \"type\": \"pie\"}], \"scatter\": [{\"marker\": {\"colorbar\": {\"outlinewidth\": 0, \"ticks\": \"\"}}, \"type\": \"scatter\"}], \"scatter3d\": [{\"line\": {\"colorbar\": {\"outlinewidth\": 0, \"ticks\": \"\"}}, \"marker\": {\"colorbar\": {\"outlinewidth\": 0, \"ticks\": \"\"}}, \"type\": \"scatter3d\"}], \"scattercarpet\": [{\"marker\": {\"colorbar\": {\"outlinewidth\": 0, \"ticks\": \"\"}}, \"type\": \"scattercarpet\"}], \"scattergeo\": [{\"marker\": {\"colorbar\": {\"outlinewidth\": 0, \"ticks\": \"\"}}, \"type\": \"scattergeo\"}], \"scattergl\": [{\"marker\": {\"colorbar\": {\"outlinewidth\": 0, \"ticks\": \"\"}}, \"type\": \"scattergl\"}], \"scattermapbox\": [{\"marker\": {\"colorbar\": {\"outlinewidth\": 0, \"ticks\": \"\"}}, \"type\": \"scattermapbox\"}], \"scatterpolar\": [{\"marker\": {\"colorbar\": {\"outlinewidth\": 0, \"ticks\": \"\"}}, \"type\": \"scatterpolar\"}], \"scatterpolargl\": [{\"marker\": {\"colorbar\": {\"outlinewidth\": 0, \"ticks\": \"\"}}, \"type\": \"scatterpolargl\"}], \"scatterternary\": [{\"marker\": {\"colorbar\": {\"outlinewidth\": 0, \"ticks\": \"\"}}, \"type\": \"scatterternary\"}], \"surface\": [{\"colorbar\": {\"outlinewidth\": 0, \"ticks\": \"\"}, \"colorscale\": [[0.0, \"#0d0887\"], [0.1111111111111111, \"#46039f\"], [0.2222222222222222, \"#7201a8\"], [0.3333333333333333, \"#9c179e\"], [0.4444444444444444, \"#bd3786\"], [0.5555555555555556, \"#d8576b\"], [0.6666666666666666, \"#ed7953\"], [0.7777777777777778, \"#fb9f3a\"], [0.8888888888888888, \"#fdca26\"], [1.0, \"#f0f921\"]], \"type\": \"surface\"}], \"table\": [{\"cells\": {\"fill\": {\"color\": \"#EBF0F8\"}, \"line\": {\"color\": \"white\"}}, \"header\": {\"fill\": {\"color\": \"#C8D4E3\"}, \"line\": {\"color\": \"white\"}}, \"type\": \"table\"}]}, \"layout\": {\"annotationdefaults\": {\"arrowcolor\": \"#2a3f5f\", \"arrowhead\": 0, \"arrowwidth\": 1}, \"coloraxis\": {\"colorbar\": {\"outlinewidth\": 0, \"ticks\": \"\"}}, \"colorscale\": {\"diverging\": [[0, \"#8e0152\"], [0.1, \"#c51b7d\"], [0.2, \"#de77ae\"], [0.3, \"#f1b6da\"], [0.4, \"#fde0ef\"], [0.5, \"#f7f7f7\"], [0.6, \"#e6f5d0\"], [0.7, \"#b8e186\"], [0.8, \"#7fbc41\"], [0.9, \"#4d9221\"], [1, \"#276419\"]], \"sequential\": [[0.0, \"#0d0887\"], [0.1111111111111111, \"#46039f\"], [0.2222222222222222, \"#7201a8\"], [0.3333333333333333, \"#9c179e\"], [0.4444444444444444, \"#bd3786\"], [0.5555555555555556, \"#d8576b\"], [0.6666666666666666, \"#ed7953\"], [0.7777777777777778, \"#fb9f3a\"], [0.8888888888888888, \"#fdca26\"], [1.0, \"#f0f921\"]], \"sequentialminus\": [[0.0, \"#0d0887\"], [0.1111111111111111, \"#46039f\"], [0.2222222222222222, \"#7201a8\"], [0.3333333333333333, \"#9c179e\"], [0.4444444444444444, \"#bd3786\"], [0.5555555555555556, \"#d8576b\"], [0.6666666666666666, \"#ed7953\"], [0.7777777777777778, \"#fb9f3a\"], [0.8888888888888888, \"#fdca26\"], [1.0, \"#f0f921\"]]}, \"colorway\": [\"#636efa\", \"#EF553B\", \"#00cc96\", \"#ab63fa\", \"#FFA15A\", \"#19d3f3\", \"#FF6692\", \"#B6E880\", \"#FF97FF\", \"#FECB52\"], \"font\": {\"color\": \"#2a3f5f\"}, \"geo\": {\"bgcolor\": \"white\", \"lakecolor\": \"white\", \"landcolor\": \"#E5ECF6\", \"showlakes\": true, \"showland\": true, \"subunitcolor\": \"white\"}, \"hoverlabel\": {\"align\": \"left\"}, \"hovermode\": \"closest\", \"mapbox\": {\"style\": \"light\"}, \"paper_bgcolor\": \"white\", \"plot_bgcolor\": \"#E5ECF6\", \"polar\": {\"angularaxis\": {\"gridcolor\": \"white\", \"linecolor\": \"white\", \"ticks\": \"\"}, \"bgcolor\": \"#E5ECF6\", \"radialaxis\": {\"gridcolor\": \"white\", \"linecolor\": \"white\", \"ticks\": \"\"}}, \"scene\": {\"xaxis\": {\"backgroundcolor\": \"#E5ECF6\", \"gridcolor\": \"white\", \"gridwidth\": 2, \"linecolor\": \"white\", \"showbackground\": true, \"ticks\": \"\", \"zerolinecolor\": \"white\"}, \"yaxis\": {\"backgroundcolor\": \"#E5ECF6\", \"gridcolor\": \"white\", \"gridwidth\": 2, \"linecolor\": \"white\", \"showbackground\": true, \"ticks\": \"\", \"zerolinecolor\": \"white\"}, \"zaxis\": {\"backgroundcolor\": \"#E5ECF6\", \"gridcolor\": \"white\", \"gridwidth\": 2, \"linecolor\": \"white\", \"showbackground\": true, \"ticks\": \"\", \"zerolinecolor\": \"white\"}}, \"shapedefaults\": {\"line\": {\"color\": \"#2a3f5f\"}}, \"ternary\": {\"aaxis\": {\"gridcolor\": \"white\", \"linecolor\": \"white\", \"ticks\": \"\"}, \"baxis\": {\"gridcolor\": \"white\", \"linecolor\": \"white\", \"ticks\": \"\"}, \"bgcolor\": \"#E5ECF6\", \"caxis\": {\"gridcolor\": \"white\", \"linecolor\": \"white\", \"ticks\": \"\"}}, \"title\": {\"x\": 0.05}, \"xaxis\": {\"automargin\": true, \"gridcolor\": \"white\", \"linecolor\": \"white\", \"ticks\": \"\", \"title\": {\"standoff\": 15}, \"zerolinecolor\": \"white\", \"zerolinewidth\": 2}, \"yaxis\": {\"automargin\": true, \"gridcolor\": \"white\", \"linecolor\": \"white\", \"ticks\": \"\", \"title\": {\"standoff\": 15}, \"zerolinecolor\": \"white\", \"zerolinewidth\": 2}}}, \"title\": {\"text\": \"Features Importances\"}, \"xaxis\": {\"anchor\": \"y\", \"domain\": [0.0, 1.0], \"title\": {\"text\": \"Features\"}}, \"yaxis\": {\"anchor\": \"x\", \"domain\": [0.0, 1.0], \"title\": {\"text\": \"Importances Weightage\"}}},\n",
       "                        {\"responsive\": true}\n",
       "                    ).then(function(){\n",
       "                            \n",
       "var gd = document.getElementById('51c6bab2-f7e4-4470-943f-bdff458b5f19');\n",
       "var x = new MutationObserver(function (mutations, observer) {{\n",
       "        var display = window.getComputedStyle(gd).display;\n",
       "        if (!display || display === 'none') {{\n",
       "            console.log([gd, 'removed!']);\n",
       "            Plotly.purge(gd);\n",
       "            observer.disconnect();\n",
       "        }}\n",
       "}});\n",
       "\n",
       "// Listen for the removal of the full notebook cells\n",
       "var notebookContainer = gd.closest('#notebook-container');\n",
       "if (notebookContainer) {{\n",
       "    x.observe(notebookContainer, {childList: true});\n",
       "}}\n",
       "\n",
       "// Listen for the clearing of the current output cell\n",
       "var outputEl = gd.closest('.output');\n",
       "if (outputEl) {{\n",
       "    x.observe(outputEl, {childList: true});\n",
       "}}\n",
       "\n",
       "                        })\n",
       "                };\n",
       "                });\n",
       "            </script>\n",
       "        </div>"
      ]
     },
     "metadata": {},
     "output_type": "display_data"
    }
   ],
   "source": [
    "tree_importances['Features'] = all_features\n",
    "fig = px.bar(tree_importances, x='Features', y='Importances Weightage', \n",
    "             title='Features Importances', height=600)\n",
    "fig.show()"
   ]
  },
  {
   "cell_type": "code",
   "execution_count": 44,
   "metadata": {},
   "outputs": [
    {
     "data": {
      "text/html": [
       "<div>\n",
       "<style scoped>\n",
       "    .dataframe tbody tr th:only-of-type {\n",
       "        vertical-align: middle;\n",
       "    }\n",
       "\n",
       "    .dataframe tbody tr th {\n",
       "        vertical-align: top;\n",
       "    }\n",
       "\n",
       "    .dataframe thead th {\n",
       "        text-align: right;\n",
       "    }\n",
       "</style>\n",
       "<table border=\"1\" class=\"dataframe\">\n",
       "  <thead>\n",
       "    <tr style=\"text-align: right;\">\n",
       "      <th></th>\n",
       "      <th>Year</th>\n",
       "      <th>Movie</th>\n",
       "      <th>Oscar_nominee</th>\n",
       "      <th>Oscar_winner</th>\n",
       "      <th>Predicted Win Rate</th>\n",
       "    </tr>\n",
       "  </thead>\n",
       "  <tbody>\n",
       "    <tr>\n",
       "      <th>0</th>\n",
       "      <td>2015</td>\n",
       "      <td>Star Wars: Episode VII - The Force Awakens</td>\n",
       "      <td>0</td>\n",
       "      <td>0</td>\n",
       "      <td>0.0</td>\n",
       "    </tr>\n",
       "    <tr>\n",
       "      <th>1</th>\n",
       "      <td>2015</td>\n",
       "      <td>Mad Max: Fury Road</td>\n",
       "      <td>1</td>\n",
       "      <td>0</td>\n",
       "      <td>0.0</td>\n",
       "    </tr>\n",
       "    <tr>\n",
       "      <th>2</th>\n",
       "      <td>2015</td>\n",
       "      <td>The Martian</td>\n",
       "      <td>1</td>\n",
       "      <td>0</td>\n",
       "      <td>0.0</td>\n",
       "    </tr>\n",
       "    <tr>\n",
       "      <th>3</th>\n",
       "      <td>2015</td>\n",
       "      <td>Avengers: Age of Ultron</td>\n",
       "      <td>0</td>\n",
       "      <td>0</td>\n",
       "      <td>0.0</td>\n",
       "    </tr>\n",
       "    <tr>\n",
       "      <th>4</th>\n",
       "      <td>2015</td>\n",
       "      <td>The Revenant</td>\n",
       "      <td>1</td>\n",
       "      <td>0</td>\n",
       "      <td>1.0</td>\n",
       "    </tr>\n",
       "  </tbody>\n",
       "</table>\n",
       "</div>"
      ],
      "text/plain": [
       "   Year                                       Movie  Oscar_nominee  \\\n",
       "0  2015  Star Wars: Episode VII - The Force Awakens              0   \n",
       "1  2015                          Mad Max: Fury Road              1   \n",
       "2  2015                                 The Martian              1   \n",
       "3  2015                     Avengers: Age of Ultron              0   \n",
       "4  2015                                The Revenant              1   \n",
       "\n",
       "   Oscar_winner  Predicted Win Rate  \n",
       "0             0                 0.0  \n",
       "1             0                 0.0  \n",
       "2             0                 0.0  \n",
       "3             0                 0.0  \n",
       "4             0                 1.0  "
      ]
     },
     "execution_count": 44,
     "metadata": {},
     "output_type": "execute_result"
    }
   ],
   "source": [
    "pred_tree = my_tree.predict_proba(X_test)[:, 1]\n",
    "\n",
    "tree_prediction = pd.DataFrame(year, columns=[\"Year\"])\n",
    "tree_prediction[\"Movie\"] = movie_name\n",
    "tree_prediction[\"Oscar_nominee\"] = oscar_n\n",
    "tree_prediction[\"Oscar_winner\"] = oscar_w\n",
    "tree_prediction['Predicted Win Rate'] = pred_tree\n",
    "\n",
    "tree_prediction.head(5)"
   ]
  },
  {
   "cell_type": "code",
   "execution_count": 45,
   "metadata": {},
   "outputs": [
    {
     "name": "stderr",
     "output_type": "stream",
     "text": [
      "C:\\Users\\User\\Anaconda3\\lib\\site-packages\\ipykernel_launcher.py:5: RuntimeWarning:\n",
      "\n",
      "invalid value encountered in double_scalars\n",
      "\n"
     ]
    }
   ],
   "source": [
    "normalized_prediction = tree_prediction.copy()\n",
    "\n",
    "for index, row in normalized_prediction.iterrows():\n",
    "    normalized_prediction.loc[index, \"Predicted Win Rate\"] = \\\n",
    "        (row[\"Predicted Win Rate\"] / tree_prediction[\"Predicted Win Rate\"][tree_prediction[\"Year\"] == row[\"Year\"]].sum()).round(3)"
   ]
  },
  {
   "cell_type": "code",
   "execution_count": 46,
   "metadata": {},
   "outputs": [
    {
     "data": {
      "text/html": [
       "<div>\n",
       "<style scoped>\n",
       "    .dataframe tbody tr th:only-of-type {\n",
       "        vertical-align: middle;\n",
       "    }\n",
       "\n",
       "    .dataframe tbody tr th {\n",
       "        vertical-align: top;\n",
       "    }\n",
       "\n",
       "    .dataframe thead th {\n",
       "        text-align: right;\n",
       "    }\n",
       "</style>\n",
       "<table border=\"1\" class=\"dataframe\">\n",
       "  <thead>\n",
       "    <tr style=\"text-align: right;\">\n",
       "      <th></th>\n",
       "      <th>Year</th>\n",
       "      <th>Movie</th>\n",
       "      <th>Oscar_nominee</th>\n",
       "      <th>Oscar_winner</th>\n",
       "      <th>Predicted Win Rate</th>\n",
       "    </tr>\n",
       "  </thead>\n",
       "  <tbody>\n",
       "    <tr>\n",
       "      <th>4</th>\n",
       "      <td>2015</td>\n",
       "      <td>The Revenant</td>\n",
       "      <td>1</td>\n",
       "      <td>0</td>\n",
       "      <td>1.0</td>\n",
       "    </tr>\n",
       "    <tr>\n",
       "      <th>0</th>\n",
       "      <td>2015</td>\n",
       "      <td>Star Wars: Episode VII - The Force Awakens</td>\n",
       "      <td>0</td>\n",
       "      <td>0</td>\n",
       "      <td>0.0</td>\n",
       "    </tr>\n",
       "    <tr>\n",
       "      <th>63</th>\n",
       "      <td>2015</td>\n",
       "      <td>Bãhubali: The Beginning</td>\n",
       "      <td>0</td>\n",
       "      <td>0</td>\n",
       "      <td>0.0</td>\n",
       "    </tr>\n",
       "    <tr>\n",
       "      <th>73</th>\n",
       "      <td>2015</td>\n",
       "      <td>Hardcore Henry</td>\n",
       "      <td>0</td>\n",
       "      <td>0</td>\n",
       "      <td>0.0</td>\n",
       "    </tr>\n",
       "    <tr>\n",
       "      <th>72</th>\n",
       "      <td>2015</td>\n",
       "      <td>Hitman: Agent 47</td>\n",
       "      <td>0</td>\n",
       "      <td>0</td>\n",
       "      <td>0.0</td>\n",
       "    </tr>\n",
       "    <tr>\n",
       "      <th>71</th>\n",
       "      <td>2015</td>\n",
       "      <td>Demolition</td>\n",
       "      <td>0</td>\n",
       "      <td>0</td>\n",
       "      <td>0.0</td>\n",
       "    </tr>\n",
       "    <tr>\n",
       "      <th>70</th>\n",
       "      <td>2015</td>\n",
       "      <td>Self/less</td>\n",
       "      <td>0</td>\n",
       "      <td>0</td>\n",
       "      <td>0.0</td>\n",
       "    </tr>\n",
       "    <tr>\n",
       "      <th>69</th>\n",
       "      <td>2015</td>\n",
       "      <td>Insidious: Chapter 3</td>\n",
       "      <td>0</td>\n",
       "      <td>0</td>\n",
       "      <td>0.0</td>\n",
       "    </tr>\n",
       "    <tr>\n",
       "      <th>68</th>\n",
       "      <td>2015</td>\n",
       "      <td>Home</td>\n",
       "      <td>0</td>\n",
       "      <td>0</td>\n",
       "      <td>0.0</td>\n",
       "    </tr>\n",
       "    <tr>\n",
       "      <th>67</th>\n",
       "      <td>2015</td>\n",
       "      <td>The Last Witch Hunter</td>\n",
       "      <td>0</td>\n",
       "      <td>0</td>\n",
       "      <td>0.0</td>\n",
       "    </tr>\n",
       "  </tbody>\n",
       "</table>\n",
       "</div>"
      ],
      "text/plain": [
       "    Year                                       Movie  Oscar_nominee  \\\n",
       "4   2015                                The Revenant              1   \n",
       "0   2015  Star Wars: Episode VII - The Force Awakens              0   \n",
       "63  2015                     Bãhubali: The Beginning              0   \n",
       "73  2015                              Hardcore Henry              0   \n",
       "72  2015                            Hitman: Agent 47              0   \n",
       "71  2015                                  Demolition              0   \n",
       "70  2015                                   Self/less              0   \n",
       "69  2015                        Insidious: Chapter 3              0   \n",
       "68  2015                                        Home              0   \n",
       "67  2015                       The Last Witch Hunter              0   \n",
       "\n",
       "    Oscar_winner  Predicted Win Rate  \n",
       "4              0                 1.0  \n",
       "0              0                 0.0  \n",
       "63             0                 0.0  \n",
       "73             0                 0.0  \n",
       "72             0                 0.0  \n",
       "71             0                 0.0  \n",
       "70             0                 0.0  \n",
       "69             0                 0.0  \n",
       "68             0                 0.0  \n",
       "67             0                 0.0  "
      ]
     },
     "execution_count": 46,
     "metadata": {},
     "output_type": "execute_result"
    }
   ],
   "source": [
    "normalized_prediction[normalized_prediction[\"Year\"] == 2015].sort_values(\"Predicted Win Rate\", ascending=False).head(10)"
   ]
  },
  {
   "cell_type": "code",
   "execution_count": 47,
   "metadata": {},
   "outputs": [
    {
     "data": {
      "text/html": [
       "<div>\n",
       "<style scoped>\n",
       "    .dataframe tbody tr th:only-of-type {\n",
       "        vertical-align: middle;\n",
       "    }\n",
       "\n",
       "    .dataframe tbody tr th {\n",
       "        vertical-align: top;\n",
       "    }\n",
       "\n",
       "    .dataframe thead th {\n",
       "        text-align: right;\n",
       "    }\n",
       "</style>\n",
       "<table border=\"1\" class=\"dataframe\">\n",
       "  <thead>\n",
       "    <tr style=\"text-align: right;\">\n",
       "      <th></th>\n",
       "      <th>Year</th>\n",
       "      <th>Movie</th>\n",
       "      <th>Oscar_nominee</th>\n",
       "      <th>Oscar_winner</th>\n",
       "      <th>Predicted Win Rate</th>\n",
       "    </tr>\n",
       "  </thead>\n",
       "  <tbody>\n",
       "    <tr>\n",
       "      <th>107</th>\n",
       "      <td>2016</td>\n",
       "      <td>La La Land</td>\n",
       "      <td>1</td>\n",
       "      <td>0</td>\n",
       "      <td>1.0</td>\n",
       "    </tr>\n",
       "    <tr>\n",
       "      <th>100</th>\n",
       "      <td>2016</td>\n",
       "      <td>Deadpool</td>\n",
       "      <td>0</td>\n",
       "      <td>0</td>\n",
       "      <td>0.0</td>\n",
       "    </tr>\n",
       "    <tr>\n",
       "      <th>163</th>\n",
       "      <td>2016</td>\n",
       "      <td>The Founder</td>\n",
       "      <td>0</td>\n",
       "      <td>0</td>\n",
       "      <td>0.0</td>\n",
       "    </tr>\n",
       "    <tr>\n",
       "      <th>173</th>\n",
       "      <td>2016</td>\n",
       "      <td>Swiss Army Man</td>\n",
       "      <td>0</td>\n",
       "      <td>0</td>\n",
       "      <td>0.0</td>\n",
       "    </tr>\n",
       "    <tr>\n",
       "      <th>172</th>\n",
       "      <td>2016</td>\n",
       "      <td>Gods of Egypt</td>\n",
       "      <td>0</td>\n",
       "      <td>0</td>\n",
       "      <td>0.0</td>\n",
       "    </tr>\n",
       "    <tr>\n",
       "      <th>171</th>\n",
       "      <td>2016</td>\n",
       "      <td>Allegiant</td>\n",
       "      <td>0</td>\n",
       "      <td>0</td>\n",
       "      <td>0.0</td>\n",
       "    </tr>\n",
       "    <tr>\n",
       "      <th>170</th>\n",
       "      <td>2016</td>\n",
       "      <td>Dag II</td>\n",
       "      <td>0</td>\n",
       "      <td>0</td>\n",
       "      <td>0.0</td>\n",
       "    </tr>\n",
       "    <tr>\n",
       "      <th>169</th>\n",
       "      <td>2016</td>\n",
       "      <td>Dirty Grandpa</td>\n",
       "      <td>0</td>\n",
       "      <td>0</td>\n",
       "      <td>0.0</td>\n",
       "    </tr>\n",
       "    <tr>\n",
       "      <th>168</th>\n",
       "      <td>2016</td>\n",
       "      <td>Lights Out</td>\n",
       "      <td>0</td>\n",
       "      <td>0</td>\n",
       "      <td>0.0</td>\n",
       "    </tr>\n",
       "    <tr>\n",
       "      <th>167</th>\n",
       "      <td>2016</td>\n",
       "      <td>Bad Moms</td>\n",
       "      <td>0</td>\n",
       "      <td>0</td>\n",
       "      <td>0.0</td>\n",
       "    </tr>\n",
       "  </tbody>\n",
       "</table>\n",
       "</div>"
      ],
      "text/plain": [
       "     Year           Movie  Oscar_nominee  Oscar_winner  Predicted Win Rate\n",
       "107  2016      La La Land              1             0                 1.0\n",
       "100  2016        Deadpool              0             0                 0.0\n",
       "163  2016     The Founder              0             0                 0.0\n",
       "173  2016  Swiss Army Man              0             0                 0.0\n",
       "172  2016   Gods of Egypt              0             0                 0.0\n",
       "171  2016       Allegiant              0             0                 0.0\n",
       "170  2016          Dag II              0             0                 0.0\n",
       "169  2016   Dirty Grandpa              0             0                 0.0\n",
       "168  2016      Lights Out              0             0                 0.0\n",
       "167  2016        Bad Moms              0             0                 0.0"
      ]
     },
     "execution_count": 47,
     "metadata": {},
     "output_type": "execute_result"
    }
   ],
   "source": [
    "normalized_prediction[normalized_prediction[\"Year\"] == 2016].sort_values(\"Predicted Win Rate\", ascending=False).head(10)"
   ]
  },
  {
   "cell_type": "code",
   "execution_count": 48,
   "metadata": {},
   "outputs": [
    {
     "data": {
      "text/html": [
       "<div>\n",
       "<style scoped>\n",
       "    .dataframe tbody tr th:only-of-type {\n",
       "        vertical-align: middle;\n",
       "    }\n",
       "\n",
       "    .dataframe tbody tr th {\n",
       "        vertical-align: top;\n",
       "    }\n",
       "\n",
       "    .dataframe thead th {\n",
       "        text-align: right;\n",
       "    }\n",
       "</style>\n",
       "<table border=\"1\" class=\"dataframe\">\n",
       "  <thead>\n",
       "    <tr style=\"text-align: right;\">\n",
       "      <th></th>\n",
       "      <th>Year</th>\n",
       "      <th>Movie</th>\n",
       "      <th>Oscar_nominee</th>\n",
       "      <th>Oscar_winner</th>\n",
       "      <th>Predicted Win Rate</th>\n",
       "    </tr>\n",
       "  </thead>\n",
       "  <tbody>\n",
       "    <tr>\n",
       "      <th>200</th>\n",
       "      <td>2017</td>\n",
       "      <td>Logan</td>\n",
       "      <td>0</td>\n",
       "      <td>0</td>\n",
       "      <td>NaN</td>\n",
       "    </tr>\n",
       "    <tr>\n",
       "      <th>201</th>\n",
       "      <td>2017</td>\n",
       "      <td>Thor: Ragnarok</td>\n",
       "      <td>0</td>\n",
       "      <td>0</td>\n",
       "      <td>NaN</td>\n",
       "    </tr>\n",
       "    <tr>\n",
       "      <th>202</th>\n",
       "      <td>2017</td>\n",
       "      <td>Guardians of the Galaxy Vol. 2</td>\n",
       "      <td>0</td>\n",
       "      <td>0</td>\n",
       "      <td>NaN</td>\n",
       "    </tr>\n",
       "    <tr>\n",
       "      <th>203</th>\n",
       "      <td>2017</td>\n",
       "      <td>Star Wars: Episode VIII - The Last Jedi</td>\n",
       "      <td>0</td>\n",
       "      <td>0</td>\n",
       "      <td>NaN</td>\n",
       "    </tr>\n",
       "    <tr>\n",
       "      <th>204</th>\n",
       "      <td>2017</td>\n",
       "      <td>Wonder Woman</td>\n",
       "      <td>0</td>\n",
       "      <td>0</td>\n",
       "      <td>NaN</td>\n",
       "    </tr>\n",
       "    <tr>\n",
       "      <th>205</th>\n",
       "      <td>2017</td>\n",
       "      <td>Dunkirk</td>\n",
       "      <td>1</td>\n",
       "      <td>0</td>\n",
       "      <td>NaN</td>\n",
       "    </tr>\n",
       "    <tr>\n",
       "      <th>206</th>\n",
       "      <td>2017</td>\n",
       "      <td>Spider-Man: Homecoming</td>\n",
       "      <td>0</td>\n",
       "      <td>0</td>\n",
       "      <td>NaN</td>\n",
       "    </tr>\n",
       "    <tr>\n",
       "      <th>207</th>\n",
       "      <td>2017</td>\n",
       "      <td>Get Out</td>\n",
       "      <td>1</td>\n",
       "      <td>0</td>\n",
       "      <td>NaN</td>\n",
       "    </tr>\n",
       "    <tr>\n",
       "      <th>208</th>\n",
       "      <td>2017</td>\n",
       "      <td>It</td>\n",
       "      <td>0</td>\n",
       "      <td>0</td>\n",
       "      <td>NaN</td>\n",
       "    </tr>\n",
       "    <tr>\n",
       "      <th>209</th>\n",
       "      <td>2017</td>\n",
       "      <td>Blade Runner 2049</td>\n",
       "      <td>0</td>\n",
       "      <td>0</td>\n",
       "      <td>NaN</td>\n",
       "    </tr>\n",
       "  </tbody>\n",
       "</table>\n",
       "</div>"
      ],
      "text/plain": [
       "     Year                                    Movie  Oscar_nominee  \\\n",
       "200  2017                                    Logan              0   \n",
       "201  2017                           Thor: Ragnarok              0   \n",
       "202  2017           Guardians of the Galaxy Vol. 2              0   \n",
       "203  2017  Star Wars: Episode VIII - The Last Jedi              0   \n",
       "204  2017                             Wonder Woman              0   \n",
       "205  2017                                  Dunkirk              1   \n",
       "206  2017                   Spider-Man: Homecoming              0   \n",
       "207  2017                                  Get Out              1   \n",
       "208  2017                                       It              0   \n",
       "209  2017                        Blade Runner 2049              0   \n",
       "\n",
       "     Oscar_winner  Predicted Win Rate  \n",
       "200             0                 NaN  \n",
       "201             0                 NaN  \n",
       "202             0                 NaN  \n",
       "203             0                 NaN  \n",
       "204             0                 NaN  \n",
       "205             0                 NaN  \n",
       "206             0                 NaN  \n",
       "207             0                 NaN  \n",
       "208             0                 NaN  \n",
       "209             0                 NaN  "
      ]
     },
     "execution_count": 48,
     "metadata": {},
     "output_type": "execute_result"
    }
   ],
   "source": [
    "normalized_prediction[normalized_prediction[\"Year\"] == 2017].sort_values(\"Predicted Win Rate\", ascending=False).head(10)"
   ]
  },
  {
   "cell_type": "code",
   "execution_count": 49,
   "metadata": {},
   "outputs": [
    {
     "data": {
      "text/html": [
       "<div>\n",
       "<style scoped>\n",
       "    .dataframe tbody tr th:only-of-type {\n",
       "        vertical-align: middle;\n",
       "    }\n",
       "\n",
       "    .dataframe tbody tr th {\n",
       "        vertical-align: top;\n",
       "    }\n",
       "\n",
       "    .dataframe thead th {\n",
       "        text-align: right;\n",
       "    }\n",
       "</style>\n",
       "<table border=\"1\" class=\"dataframe\">\n",
       "  <thead>\n",
       "    <tr style=\"text-align: right;\">\n",
       "      <th></th>\n",
       "      <th>Year</th>\n",
       "      <th>Movie</th>\n",
       "      <th>Oscar_nominee</th>\n",
       "      <th>Oscar_winner</th>\n",
       "      <th>Predicted Win Rate</th>\n",
       "    </tr>\n",
       "  </thead>\n",
       "  <tbody>\n",
       "    <tr>\n",
       "      <th>330</th>\n",
       "      <td>2018</td>\n",
       "      <td>Roma</td>\n",
       "      <td>1</td>\n",
       "      <td>0</td>\n",
       "      <td>1.0</td>\n",
       "    </tr>\n",
       "    <tr>\n",
       "      <th>300</th>\n",
       "      <td>2018</td>\n",
       "      <td>Avengers: Infinity War</td>\n",
       "      <td>0</td>\n",
       "      <td>0</td>\n",
       "      <td>0.0</td>\n",
       "    </tr>\n",
       "    <tr>\n",
       "      <th>364</th>\n",
       "      <td>2018</td>\n",
       "      <td>The Spy Who Dumped Me</td>\n",
       "      <td>0</td>\n",
       "      <td>0</td>\n",
       "      <td>0.0</td>\n",
       "    </tr>\n",
       "    <tr>\n",
       "      <th>373</th>\n",
       "      <td>2018</td>\n",
       "      <td>Enes Batur Hayal mi Gerçek mi?</td>\n",
       "      <td>0</td>\n",
       "      <td>0</td>\n",
       "      <td>0.0</td>\n",
       "    </tr>\n",
       "    <tr>\n",
       "      <th>372</th>\n",
       "      <td>2018</td>\n",
       "      <td>Eighth Grade</td>\n",
       "      <td>0</td>\n",
       "      <td>0</td>\n",
       "      <td>0.0</td>\n",
       "    </tr>\n",
       "    <tr>\n",
       "      <th>371</th>\n",
       "      <td>2018</td>\n",
       "      <td>Mandy</td>\n",
       "      <td>0</td>\n",
       "      <td>0</td>\n",
       "      <td>0.0</td>\n",
       "    </tr>\n",
       "    <tr>\n",
       "      <th>370</th>\n",
       "      <td>2018</td>\n",
       "      <td>Johnny English Strikes Again</td>\n",
       "      <td>0</td>\n",
       "      <td>0</td>\n",
       "      <td>0.0</td>\n",
       "    </tr>\n",
       "    <tr>\n",
       "      <th>369</th>\n",
       "      <td>2018</td>\n",
       "      <td>Robin Hood</td>\n",
       "      <td>0</td>\n",
       "      <td>0</td>\n",
       "      <td>0.0</td>\n",
       "    </tr>\n",
       "    <tr>\n",
       "      <th>368</th>\n",
       "      <td>2018</td>\n",
       "      <td>Death Wish</td>\n",
       "      <td>0</td>\n",
       "      <td>0</td>\n",
       "      <td>0.0</td>\n",
       "    </tr>\n",
       "    <tr>\n",
       "      <th>367</th>\n",
       "      <td>2018</td>\n",
       "      <td>Andhadhun</td>\n",
       "      <td>0</td>\n",
       "      <td>0</td>\n",
       "      <td>0.0</td>\n",
       "    </tr>\n",
       "  </tbody>\n",
       "</table>\n",
       "</div>"
      ],
      "text/plain": [
       "     Year                           Movie  Oscar_nominee  Oscar_winner  \\\n",
       "330  2018                            Roma              1             0   \n",
       "300  2018          Avengers: Infinity War              0             0   \n",
       "364  2018           The Spy Who Dumped Me              0             0   \n",
       "373  2018  Enes Batur Hayal mi Gerçek mi?              0             0   \n",
       "372  2018                    Eighth Grade              0             0   \n",
       "371  2018                           Mandy              0             0   \n",
       "370  2018    Johnny English Strikes Again              0             0   \n",
       "369  2018                      Robin Hood              0             0   \n",
       "368  2018                      Death Wish              0             0   \n",
       "367  2018                       Andhadhun              0             0   \n",
       "\n",
       "     Predicted Win Rate  \n",
       "330                 1.0  \n",
       "300                 0.0  \n",
       "364                 0.0  \n",
       "373                 0.0  \n",
       "372                 0.0  \n",
       "371                 0.0  \n",
       "370                 0.0  \n",
       "369                 0.0  \n",
       "368                 0.0  \n",
       "367                 0.0  "
      ]
     },
     "execution_count": 49,
     "metadata": {},
     "output_type": "execute_result"
    }
   ],
   "source": [
    "normalized_prediction[normalized_prediction[\"Year\"] == 2018].sort_values(\"Predicted Win Rate\", ascending=False).head(10)"
   ]
  },
  {
   "cell_type": "code",
   "execution_count": 50,
   "metadata": {},
   "outputs": [
    {
     "data": {
      "text/html": [
       "<div>\n",
       "<style scoped>\n",
       "    .dataframe tbody tr th:only-of-type {\n",
       "        vertical-align: middle;\n",
       "    }\n",
       "\n",
       "    .dataframe tbody tr th {\n",
       "        vertical-align: top;\n",
       "    }\n",
       "\n",
       "    .dataframe thead th {\n",
       "        text-align: right;\n",
       "    }\n",
       "</style>\n",
       "<table border=\"1\" class=\"dataframe\">\n",
       "  <thead>\n",
       "    <tr style=\"text-align: right;\">\n",
       "      <th></th>\n",
       "      <th>Year</th>\n",
       "      <th>Movie</th>\n",
       "      <th>Oscar_nominee</th>\n",
       "      <th>Oscar_winner</th>\n",
       "      <th>Predicted Win Rate</th>\n",
       "    </tr>\n",
       "  </thead>\n",
       "  <tbody>\n",
       "    <tr>\n",
       "      <th>408</th>\n",
       "      <td>2019</td>\n",
       "      <td>1917</td>\n",
       "      <td>1</td>\n",
       "      <td>0</td>\n",
       "      <td>1.0</td>\n",
       "    </tr>\n",
       "    <tr>\n",
       "      <th>400</th>\n",
       "      <td>2019</td>\n",
       "      <td>Joker</td>\n",
       "      <td>1</td>\n",
       "      <td>0</td>\n",
       "      <td>0.0</td>\n",
       "    </tr>\n",
       "    <tr>\n",
       "      <th>463</th>\n",
       "      <td>2019</td>\n",
       "      <td>Gemini Man</td>\n",
       "      <td>0</td>\n",
       "      <td>0</td>\n",
       "      <td>0.0</td>\n",
       "    </tr>\n",
       "    <tr>\n",
       "      <th>473</th>\n",
       "      <td>2019</td>\n",
       "      <td>The Lego Movie 2: The Second Part</td>\n",
       "      <td>0</td>\n",
       "      <td>0</td>\n",
       "      <td>0.0</td>\n",
       "    </tr>\n",
       "    <tr>\n",
       "      <th>472</th>\n",
       "      <td>2019</td>\n",
       "      <td>Happy Death Day 2U</td>\n",
       "      <td>0</td>\n",
       "      <td>0</td>\n",
       "      <td>0.0</td>\n",
       "    </tr>\n",
       "    <tr>\n",
       "      <th>471</th>\n",
       "      <td>2019</td>\n",
       "      <td>Velvet Buzzsaw</td>\n",
       "      <td>0</td>\n",
       "      <td>0</td>\n",
       "      <td>0.0</td>\n",
       "    </tr>\n",
       "    <tr>\n",
       "      <th>470</th>\n",
       "      <td>2019</td>\n",
       "      <td>Cold Pursuit</td>\n",
       "      <td>0</td>\n",
       "      <td>0</td>\n",
       "      <td>0.0</td>\n",
       "    </tr>\n",
       "    <tr>\n",
       "      <th>469</th>\n",
       "      <td>2019</td>\n",
       "      <td>Crawl</td>\n",
       "      <td>0</td>\n",
       "      <td>0</td>\n",
       "      <td>0.0</td>\n",
       "    </tr>\n",
       "    <tr>\n",
       "      <th>468</th>\n",
       "      <td>2019</td>\n",
       "      <td>Bombshell</td>\n",
       "      <td>0</td>\n",
       "      <td>0</td>\n",
       "      <td>0.0</td>\n",
       "    </tr>\n",
       "    <tr>\n",
       "      <th>467</th>\n",
       "      <td>2019</td>\n",
       "      <td>Fighting with My Family</td>\n",
       "      <td>0</td>\n",
       "      <td>0</td>\n",
       "      <td>0.0</td>\n",
       "    </tr>\n",
       "  </tbody>\n",
       "</table>\n",
       "</div>"
      ],
      "text/plain": [
       "     Year                              Movie  Oscar_nominee  Oscar_winner  \\\n",
       "408  2019                               1917              1             0   \n",
       "400  2019                              Joker              1             0   \n",
       "463  2019                         Gemini Man              0             0   \n",
       "473  2019  The Lego Movie 2: The Second Part              0             0   \n",
       "472  2019                 Happy Death Day 2U              0             0   \n",
       "471  2019                     Velvet Buzzsaw              0             0   \n",
       "470  2019                       Cold Pursuit              0             0   \n",
       "469  2019                              Crawl              0             0   \n",
       "468  2019                          Bombshell              0             0   \n",
       "467  2019            Fighting with My Family              0             0   \n",
       "\n",
       "     Predicted Win Rate  \n",
       "408                 1.0  \n",
       "400                 0.0  \n",
       "463                 0.0  \n",
       "473                 0.0  \n",
       "472                 0.0  \n",
       "471                 0.0  \n",
       "470                 0.0  \n",
       "469                 0.0  \n",
       "468                 0.0  \n",
       "467                 0.0  "
      ]
     },
     "execution_count": 50,
     "metadata": {},
     "output_type": "execute_result"
    }
   ],
   "source": [
    "normalized_prediction[normalized_prediction[\"Year\"] == 2019].sort_values(\"Predicted Win Rate\", ascending=False).head(10)"
   ]
  },
  {
   "cell_type": "markdown",
   "metadata": {},
   "source": [
    "## #1.2 - Random Forest"
   ]
  },
  {
   "cell_type": "code",
   "execution_count": 175,
   "metadata": {},
   "outputs": [],
   "source": [
    "forest = RandomForestClassifier()\n",
    "\n",
    "my_forest = forest.fit(X_train, y_train)"
   ]
  },
  {
   "cell_type": "code",
   "execution_count": 176,
   "metadata": {},
   "outputs": [
    {
     "name": "stdout",
     "output_type": "stream",
     "text": [
      "                     Importances Weightage\n",
      "Runtime (min)                        0.017\n",
      "Action                               0.001\n",
      "Adventure                            0.005\n",
      "Animation                            0.000\n",
      "Biography                            0.002\n",
      "Comedy                               0.002\n",
      "Crime                                0.006\n",
      "Drama                                0.003\n",
      "Family                               0.001\n",
      "Fantasy                              0.003\n",
      "History                              0.001\n",
      "Horror                               0.000\n",
      "Musical                              0.002\n",
      "Mystery                              0.001\n",
      "Romance                              0.002\n",
      "Sci-Fi                               0.003\n",
      "Sport                                0.009\n",
      "Thriller                             0.009\n",
      "War                                  0.001\n",
      "Western                              0.000\n",
      "IMDb_rating                          0.024\n",
      "IMDb_votes                           0.029\n",
      "RT_rating                            0.021\n",
      "RT_review                            0.036\n",
      "Metascore                            0.026\n",
      "Budget                               0.028\n",
      "Domestic (US) gross                  0.034\n",
      "International gross                  0.033\n",
      "Worldwide gross                      0.035\n",
      "GG_drama_winner                      0.016\n",
      "GG_drama_nominee                     0.011\n",
      "GG_comedy_winner                     0.001\n",
      "GG_comedy_nominee                    0.002\n",
      "BAFTA_winner                         0.050\n",
      "BAFTA_nominee                        0.014\n",
      "DGA_winner                           0.183\n",
      "DGA_nominee                          0.026\n",
      "PGA_winner                           0.144\n",
      "PGA_nominee                          0.009\n",
      "CCMA_winner                          0.122\n",
      "CCMA_nominee                         0.004\n",
      "Golden_Palm_winner                   0.000\n",
      "Golden_Palm_nominee                  0.001\n",
      "Golden_Bear_winner                   0.000\n",
      "Golden_Bear_nominee                  0.001\n",
      "Golden_Lion_winner                   0.005\n",
      "Golden_Lion_nominee                  0.005\n",
      "PCA_winner                           0.002\n",
      "PCA_nominee                          0.011\n",
      "NYFCC_winner                         0.010\n",
      "NYFCC_nominee                        0.023\n",
      "OFCS_winner                          0.017\n",
      "OFCS_nominee                         0.006\n",
      "\n",
      "Score =  1.0\n"
     ]
    }
   ],
   "source": [
    "forest_importances = pd.DataFrame(my_forest.feature_importances_.round(3), all_features, columns=[\"Importances Weightage\"])\n",
    "\n",
    "print(forest_importances)\n",
    "print()\n",
    "print('Score = ', my_forest.score(X_train, y_train))"
   ]
  },
  {
   "cell_type": "code",
   "execution_count": 177,
   "metadata": {},
   "outputs": [
    {
     "data": {
      "application/vnd.plotly.v1+json": {
       "config": {
        "plotlyServerURL": "https://plot.ly"
       },
       "data": [
        {
         "alignmentgroup": "True",
         "hoverlabel": {
          "namelength": 0
         },
         "hovertemplate": "Features=%{x}<br>Importances Weightage=%{y}",
         "legendgroup": "",
         "marker": {
          "color": "#636efa"
         },
         "name": "",
         "offsetgroup": "",
         "orientation": "v",
         "showlegend": false,
         "textposition": "auto",
         "type": "bar",
         "x": [
          "Runtime (min)",
          "Action",
          "Adventure",
          "Animation",
          "Biography",
          "Comedy",
          "Crime",
          "Drama",
          "Family",
          "Fantasy",
          "History",
          "Horror",
          "Musical",
          "Mystery",
          "Romance",
          "Sci-Fi",
          "Sport",
          "Thriller",
          "War",
          "Western",
          "IMDb_rating",
          "IMDb_votes",
          "RT_rating",
          "RT_review",
          "Metascore",
          "Budget",
          "Domestic (US) gross",
          "International gross",
          "Worldwide gross",
          "GG_drama_winner",
          "GG_drama_nominee",
          "GG_comedy_winner",
          "GG_comedy_nominee",
          "BAFTA_winner",
          "BAFTA_nominee",
          "DGA_winner",
          "DGA_nominee",
          "PGA_winner",
          "PGA_nominee",
          "CCMA_winner",
          "CCMA_nominee",
          "Golden_Palm_winner",
          "Golden_Palm_nominee",
          "Golden_Bear_winner",
          "Golden_Bear_nominee",
          "Golden_Lion_winner",
          "Golden_Lion_nominee",
          "PCA_winner",
          "PCA_nominee",
          "NYFCC_winner",
          "NYFCC_nominee",
          "OFCS_winner",
          "OFCS_nominee"
         ],
         "xaxis": "x",
         "y": [
          0.017,
          0.001,
          0.005,
          0,
          0.002,
          0.002,
          0.006,
          0.003,
          0.001,
          0.003,
          0.001,
          0,
          0.002,
          0.001,
          0.002,
          0.003,
          0.009,
          0.009,
          0.001,
          0,
          0.024,
          0.029,
          0.021,
          0.036,
          0.026,
          0.028,
          0.034,
          0.033,
          0.035,
          0.016,
          0.011,
          0.001,
          0.002,
          0.05,
          0.014,
          0.183,
          0.026,
          0.144,
          0.009,
          0.122,
          0.004,
          0,
          0.001,
          0,
          0.001,
          0.005,
          0.005,
          0.002,
          0.011,
          0.01,
          0.023,
          0.017,
          0.006
         ],
         "yaxis": "y"
        }
       ],
       "layout": {
        "barmode": "relative",
        "height": 600,
        "legend": {
         "tracegroupgap": 0
        },
        "template": {
         "data": {
          "bar": [
           {
            "error_x": {
             "color": "#2a3f5f"
            },
            "error_y": {
             "color": "#2a3f5f"
            },
            "marker": {
             "line": {
              "color": "#E5ECF6",
              "width": 0.5
             }
            },
            "type": "bar"
           }
          ],
          "barpolar": [
           {
            "marker": {
             "line": {
              "color": "#E5ECF6",
              "width": 0.5
             }
            },
            "type": "barpolar"
           }
          ],
          "carpet": [
           {
            "aaxis": {
             "endlinecolor": "#2a3f5f",
             "gridcolor": "white",
             "linecolor": "white",
             "minorgridcolor": "white",
             "startlinecolor": "#2a3f5f"
            },
            "baxis": {
             "endlinecolor": "#2a3f5f",
             "gridcolor": "white",
             "linecolor": "white",
             "minorgridcolor": "white",
             "startlinecolor": "#2a3f5f"
            },
            "type": "carpet"
           }
          ],
          "choropleth": [
           {
            "colorbar": {
             "outlinewidth": 0,
             "ticks": ""
            },
            "type": "choropleth"
           }
          ],
          "contour": [
           {
            "colorbar": {
             "outlinewidth": 0,
             "ticks": ""
            },
            "colorscale": [
             [
              0,
              "#0d0887"
             ],
             [
              0.1111111111111111,
              "#46039f"
             ],
             [
              0.2222222222222222,
              "#7201a8"
             ],
             [
              0.3333333333333333,
              "#9c179e"
             ],
             [
              0.4444444444444444,
              "#bd3786"
             ],
             [
              0.5555555555555556,
              "#d8576b"
             ],
             [
              0.6666666666666666,
              "#ed7953"
             ],
             [
              0.7777777777777778,
              "#fb9f3a"
             ],
             [
              0.8888888888888888,
              "#fdca26"
             ],
             [
              1,
              "#f0f921"
             ]
            ],
            "type": "contour"
           }
          ],
          "contourcarpet": [
           {
            "colorbar": {
             "outlinewidth": 0,
             "ticks": ""
            },
            "type": "contourcarpet"
           }
          ],
          "heatmap": [
           {
            "colorbar": {
             "outlinewidth": 0,
             "ticks": ""
            },
            "colorscale": [
             [
              0,
              "#0d0887"
             ],
             [
              0.1111111111111111,
              "#46039f"
             ],
             [
              0.2222222222222222,
              "#7201a8"
             ],
             [
              0.3333333333333333,
              "#9c179e"
             ],
             [
              0.4444444444444444,
              "#bd3786"
             ],
             [
              0.5555555555555556,
              "#d8576b"
             ],
             [
              0.6666666666666666,
              "#ed7953"
             ],
             [
              0.7777777777777778,
              "#fb9f3a"
             ],
             [
              0.8888888888888888,
              "#fdca26"
             ],
             [
              1,
              "#f0f921"
             ]
            ],
            "type": "heatmap"
           }
          ],
          "heatmapgl": [
           {
            "colorbar": {
             "outlinewidth": 0,
             "ticks": ""
            },
            "colorscale": [
             [
              0,
              "#0d0887"
             ],
             [
              0.1111111111111111,
              "#46039f"
             ],
             [
              0.2222222222222222,
              "#7201a8"
             ],
             [
              0.3333333333333333,
              "#9c179e"
             ],
             [
              0.4444444444444444,
              "#bd3786"
             ],
             [
              0.5555555555555556,
              "#d8576b"
             ],
             [
              0.6666666666666666,
              "#ed7953"
             ],
             [
              0.7777777777777778,
              "#fb9f3a"
             ],
             [
              0.8888888888888888,
              "#fdca26"
             ],
             [
              1,
              "#f0f921"
             ]
            ],
            "type": "heatmapgl"
           }
          ],
          "histogram": [
           {
            "marker": {
             "colorbar": {
              "outlinewidth": 0,
              "ticks": ""
             }
            },
            "type": "histogram"
           }
          ],
          "histogram2d": [
           {
            "colorbar": {
             "outlinewidth": 0,
             "ticks": ""
            },
            "colorscale": [
             [
              0,
              "#0d0887"
             ],
             [
              0.1111111111111111,
              "#46039f"
             ],
             [
              0.2222222222222222,
              "#7201a8"
             ],
             [
              0.3333333333333333,
              "#9c179e"
             ],
             [
              0.4444444444444444,
              "#bd3786"
             ],
             [
              0.5555555555555556,
              "#d8576b"
             ],
             [
              0.6666666666666666,
              "#ed7953"
             ],
             [
              0.7777777777777778,
              "#fb9f3a"
             ],
             [
              0.8888888888888888,
              "#fdca26"
             ],
             [
              1,
              "#f0f921"
             ]
            ],
            "type": "histogram2d"
           }
          ],
          "histogram2dcontour": [
           {
            "colorbar": {
             "outlinewidth": 0,
             "ticks": ""
            },
            "colorscale": [
             [
              0,
              "#0d0887"
             ],
             [
              0.1111111111111111,
              "#46039f"
             ],
             [
              0.2222222222222222,
              "#7201a8"
             ],
             [
              0.3333333333333333,
              "#9c179e"
             ],
             [
              0.4444444444444444,
              "#bd3786"
             ],
             [
              0.5555555555555556,
              "#d8576b"
             ],
             [
              0.6666666666666666,
              "#ed7953"
             ],
             [
              0.7777777777777778,
              "#fb9f3a"
             ],
             [
              0.8888888888888888,
              "#fdca26"
             ],
             [
              1,
              "#f0f921"
             ]
            ],
            "type": "histogram2dcontour"
           }
          ],
          "mesh3d": [
           {
            "colorbar": {
             "outlinewidth": 0,
             "ticks": ""
            },
            "type": "mesh3d"
           }
          ],
          "parcoords": [
           {
            "line": {
             "colorbar": {
              "outlinewidth": 0,
              "ticks": ""
             }
            },
            "type": "parcoords"
           }
          ],
          "pie": [
           {
            "automargin": true,
            "type": "pie"
           }
          ],
          "scatter": [
           {
            "marker": {
             "colorbar": {
              "outlinewidth": 0,
              "ticks": ""
             }
            },
            "type": "scatter"
           }
          ],
          "scatter3d": [
           {
            "line": {
             "colorbar": {
              "outlinewidth": 0,
              "ticks": ""
             }
            },
            "marker": {
             "colorbar": {
              "outlinewidth": 0,
              "ticks": ""
             }
            },
            "type": "scatter3d"
           }
          ],
          "scattercarpet": [
           {
            "marker": {
             "colorbar": {
              "outlinewidth": 0,
              "ticks": ""
             }
            },
            "type": "scattercarpet"
           }
          ],
          "scattergeo": [
           {
            "marker": {
             "colorbar": {
              "outlinewidth": 0,
              "ticks": ""
             }
            },
            "type": "scattergeo"
           }
          ],
          "scattergl": [
           {
            "marker": {
             "colorbar": {
              "outlinewidth": 0,
              "ticks": ""
             }
            },
            "type": "scattergl"
           }
          ],
          "scattermapbox": [
           {
            "marker": {
             "colorbar": {
              "outlinewidth": 0,
              "ticks": ""
             }
            },
            "type": "scattermapbox"
           }
          ],
          "scatterpolar": [
           {
            "marker": {
             "colorbar": {
              "outlinewidth": 0,
              "ticks": ""
             }
            },
            "type": "scatterpolar"
           }
          ],
          "scatterpolargl": [
           {
            "marker": {
             "colorbar": {
              "outlinewidth": 0,
              "ticks": ""
             }
            },
            "type": "scatterpolargl"
           }
          ],
          "scatterternary": [
           {
            "marker": {
             "colorbar": {
              "outlinewidth": 0,
              "ticks": ""
             }
            },
            "type": "scatterternary"
           }
          ],
          "surface": [
           {
            "colorbar": {
             "outlinewidth": 0,
             "ticks": ""
            },
            "colorscale": [
             [
              0,
              "#0d0887"
             ],
             [
              0.1111111111111111,
              "#46039f"
             ],
             [
              0.2222222222222222,
              "#7201a8"
             ],
             [
              0.3333333333333333,
              "#9c179e"
             ],
             [
              0.4444444444444444,
              "#bd3786"
             ],
             [
              0.5555555555555556,
              "#d8576b"
             ],
             [
              0.6666666666666666,
              "#ed7953"
             ],
             [
              0.7777777777777778,
              "#fb9f3a"
             ],
             [
              0.8888888888888888,
              "#fdca26"
             ],
             [
              1,
              "#f0f921"
             ]
            ],
            "type": "surface"
           }
          ],
          "table": [
           {
            "cells": {
             "fill": {
              "color": "#EBF0F8"
             },
             "line": {
              "color": "white"
             }
            },
            "header": {
             "fill": {
              "color": "#C8D4E3"
             },
             "line": {
              "color": "white"
             }
            },
            "type": "table"
           }
          ]
         },
         "layout": {
          "annotationdefaults": {
           "arrowcolor": "#2a3f5f",
           "arrowhead": 0,
           "arrowwidth": 1
          },
          "coloraxis": {
           "colorbar": {
            "outlinewidth": 0,
            "ticks": ""
           }
          },
          "colorscale": {
           "diverging": [
            [
             0,
             "#8e0152"
            ],
            [
             0.1,
             "#c51b7d"
            ],
            [
             0.2,
             "#de77ae"
            ],
            [
             0.3,
             "#f1b6da"
            ],
            [
             0.4,
             "#fde0ef"
            ],
            [
             0.5,
             "#f7f7f7"
            ],
            [
             0.6,
             "#e6f5d0"
            ],
            [
             0.7,
             "#b8e186"
            ],
            [
             0.8,
             "#7fbc41"
            ],
            [
             0.9,
             "#4d9221"
            ],
            [
             1,
             "#276419"
            ]
           ],
           "sequential": [
            [
             0,
             "#0d0887"
            ],
            [
             0.1111111111111111,
             "#46039f"
            ],
            [
             0.2222222222222222,
             "#7201a8"
            ],
            [
             0.3333333333333333,
             "#9c179e"
            ],
            [
             0.4444444444444444,
             "#bd3786"
            ],
            [
             0.5555555555555556,
             "#d8576b"
            ],
            [
             0.6666666666666666,
             "#ed7953"
            ],
            [
             0.7777777777777778,
             "#fb9f3a"
            ],
            [
             0.8888888888888888,
             "#fdca26"
            ],
            [
             1,
             "#f0f921"
            ]
           ],
           "sequentialminus": [
            [
             0,
             "#0d0887"
            ],
            [
             0.1111111111111111,
             "#46039f"
            ],
            [
             0.2222222222222222,
             "#7201a8"
            ],
            [
             0.3333333333333333,
             "#9c179e"
            ],
            [
             0.4444444444444444,
             "#bd3786"
            ],
            [
             0.5555555555555556,
             "#d8576b"
            ],
            [
             0.6666666666666666,
             "#ed7953"
            ],
            [
             0.7777777777777778,
             "#fb9f3a"
            ],
            [
             0.8888888888888888,
             "#fdca26"
            ],
            [
             1,
             "#f0f921"
            ]
           ]
          },
          "colorway": [
           "#636efa",
           "#EF553B",
           "#00cc96",
           "#ab63fa",
           "#FFA15A",
           "#19d3f3",
           "#FF6692",
           "#B6E880",
           "#FF97FF",
           "#FECB52"
          ],
          "font": {
           "color": "#2a3f5f"
          },
          "geo": {
           "bgcolor": "white",
           "lakecolor": "white",
           "landcolor": "#E5ECF6",
           "showlakes": true,
           "showland": true,
           "subunitcolor": "white"
          },
          "hoverlabel": {
           "align": "left"
          },
          "hovermode": "closest",
          "mapbox": {
           "style": "light"
          },
          "paper_bgcolor": "white",
          "plot_bgcolor": "#E5ECF6",
          "polar": {
           "angularaxis": {
            "gridcolor": "white",
            "linecolor": "white",
            "ticks": ""
           },
           "bgcolor": "#E5ECF6",
           "radialaxis": {
            "gridcolor": "white",
            "linecolor": "white",
            "ticks": ""
           }
          },
          "scene": {
           "xaxis": {
            "backgroundcolor": "#E5ECF6",
            "gridcolor": "white",
            "gridwidth": 2,
            "linecolor": "white",
            "showbackground": true,
            "ticks": "",
            "zerolinecolor": "white"
           },
           "yaxis": {
            "backgroundcolor": "#E5ECF6",
            "gridcolor": "white",
            "gridwidth": 2,
            "linecolor": "white",
            "showbackground": true,
            "ticks": "",
            "zerolinecolor": "white"
           },
           "zaxis": {
            "backgroundcolor": "#E5ECF6",
            "gridcolor": "white",
            "gridwidth": 2,
            "linecolor": "white",
            "showbackground": true,
            "ticks": "",
            "zerolinecolor": "white"
           }
          },
          "shapedefaults": {
           "line": {
            "color": "#2a3f5f"
           }
          },
          "ternary": {
           "aaxis": {
            "gridcolor": "white",
            "linecolor": "white",
            "ticks": ""
           },
           "baxis": {
            "gridcolor": "white",
            "linecolor": "white",
            "ticks": ""
           },
           "bgcolor": "#E5ECF6",
           "caxis": {
            "gridcolor": "white",
            "linecolor": "white",
            "ticks": ""
           }
          },
          "title": {
           "x": 0.05
          },
          "xaxis": {
           "automargin": true,
           "gridcolor": "white",
           "linecolor": "white",
           "ticks": "",
           "title": {
            "standoff": 15
           },
           "zerolinecolor": "white",
           "zerolinewidth": 2
          },
          "yaxis": {
           "automargin": true,
           "gridcolor": "white",
           "linecolor": "white",
           "ticks": "",
           "title": {
            "standoff": 15
           },
           "zerolinecolor": "white",
           "zerolinewidth": 2
          }
         }
        },
        "title": {
         "text": "Features Importances"
        },
        "xaxis": {
         "anchor": "y",
         "domain": [
          0,
          1
         ],
         "title": {
          "text": "Features"
         }
        },
        "yaxis": {
         "anchor": "x",
         "domain": [
          0,
          1
         ],
         "title": {
          "text": "Importances Weightage"
         }
        }
       }
      },
      "text/html": [
       "<div>\n",
       "        \n",
       "        \n",
       "            <div id=\"3cb183d9-1775-4ccd-8bf5-a041fd75f0c8\" class=\"plotly-graph-div\" style=\"height:600px; width:100%;\"></div>\n",
       "            <script type=\"text/javascript\">\n",
       "                require([\"plotly\"], function(Plotly) {\n",
       "                    window.PLOTLYENV=window.PLOTLYENV || {};\n",
       "                    \n",
       "                if (document.getElementById(\"3cb183d9-1775-4ccd-8bf5-a041fd75f0c8\")) {\n",
       "                    Plotly.newPlot(\n",
       "                        '3cb183d9-1775-4ccd-8bf5-a041fd75f0c8',\n",
       "                        [{\"alignmentgroup\": \"True\", \"hoverlabel\": {\"namelength\": 0}, \"hovertemplate\": \"Features=%{x}<br>Importances Weightage=%{y}\", \"legendgroup\": \"\", \"marker\": {\"color\": \"#636efa\"}, \"name\": \"\", \"offsetgroup\": \"\", \"orientation\": \"v\", \"showlegend\": false, \"textposition\": \"auto\", \"type\": \"bar\", \"x\": [\"Runtime (min)\", \"Action\", \"Adventure\", \"Animation\", \"Biography\", \"Comedy\", \"Crime\", \"Drama\", \"Family\", \"Fantasy\", \"History\", \"Horror\", \"Musical\", \"Mystery\", \"Romance\", \"Sci-Fi\", \"Sport\", \"Thriller\", \"War\", \"Western\", \"IMDb_rating\", \"IMDb_votes\", \"RT_rating\", \"RT_review\", \"Metascore\", \"Budget\", \"Domestic (US) gross\", \"International gross\", \"Worldwide gross\", \"GG_drama_winner\", \"GG_drama_nominee\", \"GG_comedy_winner\", \"GG_comedy_nominee\", \"BAFTA_winner\", \"BAFTA_nominee\", \"DGA_winner\", \"DGA_nominee\", \"PGA_winner\", \"PGA_nominee\", \"CCMA_winner\", \"CCMA_nominee\", \"Golden_Palm_winner\", \"Golden_Palm_nominee\", \"Golden_Bear_winner\", \"Golden_Bear_nominee\", \"Golden_Lion_winner\", \"Golden_Lion_nominee\", \"PCA_winner\", \"PCA_nominee\", \"NYFCC_winner\", \"NYFCC_nominee\", \"OFCS_winner\", \"OFCS_nominee\"], \"xaxis\": \"x\", \"y\": [0.017, 0.001, 0.005, 0.0, 0.002, 0.002, 0.006, 0.003, 0.001, 0.003, 0.001, 0.0, 0.002, 0.001, 0.002, 0.003, 0.009, 0.009, 0.001, 0.0, 0.024, 0.029, 0.021, 0.036, 0.026, 0.028, 0.034, 0.033, 0.035, 0.016, 0.011, 0.001, 0.002, 0.05, 0.014, 0.183, 0.026, 0.144, 0.009, 0.122, 0.004, 0.0, 0.001, 0.0, 0.001, 0.005, 0.005, 0.002, 0.011, 0.01, 0.023, 0.017, 0.006], \"yaxis\": \"y\"}],\n",
       "                        {\"barmode\": \"relative\", \"height\": 600, \"legend\": {\"tracegroupgap\": 0}, \"template\": {\"data\": {\"bar\": [{\"error_x\": {\"color\": \"#2a3f5f\"}, \"error_y\": {\"color\": \"#2a3f5f\"}, \"marker\": {\"line\": {\"color\": \"#E5ECF6\", \"width\": 0.5}}, \"type\": \"bar\"}], \"barpolar\": [{\"marker\": {\"line\": {\"color\": \"#E5ECF6\", \"width\": 0.5}}, \"type\": \"barpolar\"}], \"carpet\": [{\"aaxis\": {\"endlinecolor\": \"#2a3f5f\", \"gridcolor\": \"white\", \"linecolor\": \"white\", \"minorgridcolor\": \"white\", \"startlinecolor\": \"#2a3f5f\"}, \"baxis\": {\"endlinecolor\": \"#2a3f5f\", \"gridcolor\": \"white\", \"linecolor\": \"white\", \"minorgridcolor\": \"white\", \"startlinecolor\": \"#2a3f5f\"}, \"type\": \"carpet\"}], \"choropleth\": [{\"colorbar\": {\"outlinewidth\": 0, \"ticks\": \"\"}, \"type\": \"choropleth\"}], \"contour\": [{\"colorbar\": {\"outlinewidth\": 0, \"ticks\": \"\"}, \"colorscale\": [[0.0, \"#0d0887\"], [0.1111111111111111, \"#46039f\"], [0.2222222222222222, \"#7201a8\"], [0.3333333333333333, \"#9c179e\"], [0.4444444444444444, \"#bd3786\"], [0.5555555555555556, \"#d8576b\"], [0.6666666666666666, \"#ed7953\"], [0.7777777777777778, \"#fb9f3a\"], [0.8888888888888888, \"#fdca26\"], [1.0, \"#f0f921\"]], \"type\": \"contour\"}], \"contourcarpet\": [{\"colorbar\": {\"outlinewidth\": 0, \"ticks\": \"\"}, \"type\": \"contourcarpet\"}], \"heatmap\": [{\"colorbar\": {\"outlinewidth\": 0, \"ticks\": \"\"}, \"colorscale\": [[0.0, \"#0d0887\"], [0.1111111111111111, \"#46039f\"], [0.2222222222222222, \"#7201a8\"], [0.3333333333333333, \"#9c179e\"], [0.4444444444444444, \"#bd3786\"], [0.5555555555555556, \"#d8576b\"], [0.6666666666666666, \"#ed7953\"], [0.7777777777777778, \"#fb9f3a\"], [0.8888888888888888, \"#fdca26\"], [1.0, \"#f0f921\"]], \"type\": \"heatmap\"}], \"heatmapgl\": [{\"colorbar\": {\"outlinewidth\": 0, \"ticks\": \"\"}, \"colorscale\": [[0.0, \"#0d0887\"], [0.1111111111111111, \"#46039f\"], [0.2222222222222222, \"#7201a8\"], [0.3333333333333333, \"#9c179e\"], [0.4444444444444444, \"#bd3786\"], [0.5555555555555556, \"#d8576b\"], [0.6666666666666666, \"#ed7953\"], [0.7777777777777778, \"#fb9f3a\"], [0.8888888888888888, \"#fdca26\"], [1.0, \"#f0f921\"]], \"type\": \"heatmapgl\"}], \"histogram\": [{\"marker\": {\"colorbar\": {\"outlinewidth\": 0, \"ticks\": \"\"}}, \"type\": \"histogram\"}], \"histogram2d\": [{\"colorbar\": {\"outlinewidth\": 0, \"ticks\": \"\"}, \"colorscale\": [[0.0, \"#0d0887\"], [0.1111111111111111, \"#46039f\"], [0.2222222222222222, \"#7201a8\"], [0.3333333333333333, \"#9c179e\"], [0.4444444444444444, \"#bd3786\"], [0.5555555555555556, \"#d8576b\"], [0.6666666666666666, \"#ed7953\"], [0.7777777777777778, \"#fb9f3a\"], [0.8888888888888888, \"#fdca26\"], [1.0, \"#f0f921\"]], \"type\": \"histogram2d\"}], \"histogram2dcontour\": [{\"colorbar\": {\"outlinewidth\": 0, \"ticks\": \"\"}, \"colorscale\": [[0.0, \"#0d0887\"], [0.1111111111111111, \"#46039f\"], [0.2222222222222222, \"#7201a8\"], [0.3333333333333333, \"#9c179e\"], [0.4444444444444444, \"#bd3786\"], [0.5555555555555556, \"#d8576b\"], [0.6666666666666666, \"#ed7953\"], [0.7777777777777778, \"#fb9f3a\"], [0.8888888888888888, \"#fdca26\"], [1.0, \"#f0f921\"]], \"type\": \"histogram2dcontour\"}], \"mesh3d\": [{\"colorbar\": {\"outlinewidth\": 0, \"ticks\": \"\"}, \"type\": \"mesh3d\"}], \"parcoords\": [{\"line\": {\"colorbar\": {\"outlinewidth\": 0, \"ticks\": \"\"}}, \"type\": \"parcoords\"}], \"pie\": [{\"automargin\": true, \"type\": \"pie\"}], \"scatter\": [{\"marker\": {\"colorbar\": {\"outlinewidth\": 0, \"ticks\": \"\"}}, \"type\": \"scatter\"}], \"scatter3d\": [{\"line\": {\"colorbar\": {\"outlinewidth\": 0, \"ticks\": \"\"}}, \"marker\": {\"colorbar\": {\"outlinewidth\": 0, \"ticks\": \"\"}}, \"type\": \"scatter3d\"}], \"scattercarpet\": [{\"marker\": {\"colorbar\": {\"outlinewidth\": 0, \"ticks\": \"\"}}, \"type\": \"scattercarpet\"}], \"scattergeo\": [{\"marker\": {\"colorbar\": {\"outlinewidth\": 0, \"ticks\": \"\"}}, \"type\": \"scattergeo\"}], \"scattergl\": [{\"marker\": {\"colorbar\": {\"outlinewidth\": 0, \"ticks\": \"\"}}, \"type\": \"scattergl\"}], \"scattermapbox\": [{\"marker\": {\"colorbar\": {\"outlinewidth\": 0, \"ticks\": \"\"}}, \"type\": \"scattermapbox\"}], \"scatterpolar\": [{\"marker\": {\"colorbar\": {\"outlinewidth\": 0, \"ticks\": \"\"}}, \"type\": \"scatterpolar\"}], \"scatterpolargl\": [{\"marker\": {\"colorbar\": {\"outlinewidth\": 0, \"ticks\": \"\"}}, \"type\": \"scatterpolargl\"}], \"scatterternary\": [{\"marker\": {\"colorbar\": {\"outlinewidth\": 0, \"ticks\": \"\"}}, \"type\": \"scatterternary\"}], \"surface\": [{\"colorbar\": {\"outlinewidth\": 0, \"ticks\": \"\"}, \"colorscale\": [[0.0, \"#0d0887\"], [0.1111111111111111, \"#46039f\"], [0.2222222222222222, \"#7201a8\"], [0.3333333333333333, \"#9c179e\"], [0.4444444444444444, \"#bd3786\"], [0.5555555555555556, \"#d8576b\"], [0.6666666666666666, \"#ed7953\"], [0.7777777777777778, \"#fb9f3a\"], [0.8888888888888888, \"#fdca26\"], [1.0, \"#f0f921\"]], \"type\": \"surface\"}], \"table\": [{\"cells\": {\"fill\": {\"color\": \"#EBF0F8\"}, \"line\": {\"color\": \"white\"}}, \"header\": {\"fill\": {\"color\": \"#C8D4E3\"}, \"line\": {\"color\": \"white\"}}, \"type\": \"table\"}]}, \"layout\": {\"annotationdefaults\": {\"arrowcolor\": \"#2a3f5f\", \"arrowhead\": 0, \"arrowwidth\": 1}, \"coloraxis\": {\"colorbar\": {\"outlinewidth\": 0, \"ticks\": \"\"}}, \"colorscale\": {\"diverging\": [[0, \"#8e0152\"], [0.1, \"#c51b7d\"], [0.2, \"#de77ae\"], [0.3, \"#f1b6da\"], [0.4, \"#fde0ef\"], [0.5, \"#f7f7f7\"], [0.6, \"#e6f5d0\"], [0.7, \"#b8e186\"], [0.8, \"#7fbc41\"], [0.9, \"#4d9221\"], [1, \"#276419\"]], \"sequential\": [[0.0, \"#0d0887\"], [0.1111111111111111, \"#46039f\"], [0.2222222222222222, \"#7201a8\"], [0.3333333333333333, \"#9c179e\"], [0.4444444444444444, \"#bd3786\"], [0.5555555555555556, \"#d8576b\"], [0.6666666666666666, \"#ed7953\"], [0.7777777777777778, \"#fb9f3a\"], [0.8888888888888888, \"#fdca26\"], [1.0, \"#f0f921\"]], \"sequentialminus\": [[0.0, \"#0d0887\"], [0.1111111111111111, \"#46039f\"], [0.2222222222222222, \"#7201a8\"], [0.3333333333333333, \"#9c179e\"], [0.4444444444444444, \"#bd3786\"], [0.5555555555555556, \"#d8576b\"], [0.6666666666666666, \"#ed7953\"], [0.7777777777777778, \"#fb9f3a\"], [0.8888888888888888, \"#fdca26\"], [1.0, \"#f0f921\"]]}, \"colorway\": [\"#636efa\", \"#EF553B\", \"#00cc96\", \"#ab63fa\", \"#FFA15A\", \"#19d3f3\", \"#FF6692\", \"#B6E880\", \"#FF97FF\", \"#FECB52\"], \"font\": {\"color\": \"#2a3f5f\"}, \"geo\": {\"bgcolor\": \"white\", \"lakecolor\": \"white\", \"landcolor\": \"#E5ECF6\", \"showlakes\": true, \"showland\": true, \"subunitcolor\": \"white\"}, \"hoverlabel\": {\"align\": \"left\"}, \"hovermode\": \"closest\", \"mapbox\": {\"style\": \"light\"}, \"paper_bgcolor\": \"white\", \"plot_bgcolor\": \"#E5ECF6\", \"polar\": {\"angularaxis\": {\"gridcolor\": \"white\", \"linecolor\": \"white\", \"ticks\": \"\"}, \"bgcolor\": \"#E5ECF6\", \"radialaxis\": {\"gridcolor\": \"white\", \"linecolor\": \"white\", \"ticks\": \"\"}}, \"scene\": {\"xaxis\": {\"backgroundcolor\": \"#E5ECF6\", \"gridcolor\": \"white\", \"gridwidth\": 2, \"linecolor\": \"white\", \"showbackground\": true, \"ticks\": \"\", \"zerolinecolor\": \"white\"}, \"yaxis\": {\"backgroundcolor\": \"#E5ECF6\", \"gridcolor\": \"white\", \"gridwidth\": 2, \"linecolor\": \"white\", \"showbackground\": true, \"ticks\": \"\", \"zerolinecolor\": \"white\"}, \"zaxis\": {\"backgroundcolor\": \"#E5ECF6\", \"gridcolor\": \"white\", \"gridwidth\": 2, \"linecolor\": \"white\", \"showbackground\": true, \"ticks\": \"\", \"zerolinecolor\": \"white\"}}, \"shapedefaults\": {\"line\": {\"color\": \"#2a3f5f\"}}, \"ternary\": {\"aaxis\": {\"gridcolor\": \"white\", \"linecolor\": \"white\", \"ticks\": \"\"}, \"baxis\": {\"gridcolor\": \"white\", \"linecolor\": \"white\", \"ticks\": \"\"}, \"bgcolor\": \"#E5ECF6\", \"caxis\": {\"gridcolor\": \"white\", \"linecolor\": \"white\", \"ticks\": \"\"}}, \"title\": {\"x\": 0.05}, \"xaxis\": {\"automargin\": true, \"gridcolor\": \"white\", \"linecolor\": \"white\", \"ticks\": \"\", \"title\": {\"standoff\": 15}, \"zerolinecolor\": \"white\", \"zerolinewidth\": 2}, \"yaxis\": {\"automargin\": true, \"gridcolor\": \"white\", \"linecolor\": \"white\", \"ticks\": \"\", \"title\": {\"standoff\": 15}, \"zerolinecolor\": \"white\", \"zerolinewidth\": 2}}}, \"title\": {\"text\": \"Features Importances\"}, \"xaxis\": {\"anchor\": \"y\", \"domain\": [0.0, 1.0], \"title\": {\"text\": \"Features\"}}, \"yaxis\": {\"anchor\": \"x\", \"domain\": [0.0, 1.0], \"title\": {\"text\": \"Importances Weightage\"}}},\n",
       "                        {\"responsive\": true}\n",
       "                    ).then(function(){\n",
       "                            \n",
       "var gd = document.getElementById('3cb183d9-1775-4ccd-8bf5-a041fd75f0c8');\n",
       "var x = new MutationObserver(function (mutations, observer) {{\n",
       "        var display = window.getComputedStyle(gd).display;\n",
       "        if (!display || display === 'none') {{\n",
       "            console.log([gd, 'removed!']);\n",
       "            Plotly.purge(gd);\n",
       "            observer.disconnect();\n",
       "        }}\n",
       "}});\n",
       "\n",
       "// Listen for the removal of the full notebook cells\n",
       "var notebookContainer = gd.closest('#notebook-container');\n",
       "if (notebookContainer) {{\n",
       "    x.observe(notebookContainer, {childList: true});\n",
       "}}\n",
       "\n",
       "// Listen for the clearing of the current output cell\n",
       "var outputEl = gd.closest('.output');\n",
       "if (outputEl) {{\n",
       "    x.observe(outputEl, {childList: true});\n",
       "}}\n",
       "\n",
       "                        })\n",
       "                };\n",
       "                });\n",
       "            </script>\n",
       "        </div>"
      ]
     },
     "metadata": {},
     "output_type": "display_data"
    }
   ],
   "source": [
    "forest_importances['Features'] = all_features\n",
    "fig = px.bar(forest_importances, x='Features', y='Importances Weightage', \n",
    "             title='Features Importances', height=600)\n",
    "fig.show()"
   ]
  },
  {
   "cell_type": "code",
   "execution_count": 178,
   "metadata": {},
   "outputs": [
    {
     "data": {
      "text/html": [
       "<div>\n",
       "<style scoped>\n",
       "    .dataframe tbody tr th:only-of-type {\n",
       "        vertical-align: middle;\n",
       "    }\n",
       "\n",
       "    .dataframe tbody tr th {\n",
       "        vertical-align: top;\n",
       "    }\n",
       "\n",
       "    .dataframe thead th {\n",
       "        text-align: right;\n",
       "    }\n",
       "</style>\n",
       "<table border=\"1\" class=\"dataframe\">\n",
       "  <thead>\n",
       "    <tr style=\"text-align: right;\">\n",
       "      <th></th>\n",
       "      <th>Year</th>\n",
       "      <th>Movie</th>\n",
       "      <th>Oscar_nominee</th>\n",
       "      <th>Oscar_winner</th>\n",
       "      <th>Predicted Win Rate</th>\n",
       "    </tr>\n",
       "  </thead>\n",
       "  <tbody>\n",
       "    <tr>\n",
       "      <th>0</th>\n",
       "      <td>2015</td>\n",
       "      <td>Star Wars: Episode VII - The Force Awakens</td>\n",
       "      <td>0</td>\n",
       "      <td>0</td>\n",
       "      <td>0.00</td>\n",
       "    </tr>\n",
       "    <tr>\n",
       "      <th>1</th>\n",
       "      <td>2015</td>\n",
       "      <td>Mad Max: Fury Road</td>\n",
       "      <td>1</td>\n",
       "      <td>0</td>\n",
       "      <td>0.12</td>\n",
       "    </tr>\n",
       "    <tr>\n",
       "      <th>2</th>\n",
       "      <td>2015</td>\n",
       "      <td>The Martian</td>\n",
       "      <td>1</td>\n",
       "      <td>0</td>\n",
       "      <td>0.00</td>\n",
       "    </tr>\n",
       "    <tr>\n",
       "      <th>3</th>\n",
       "      <td>2015</td>\n",
       "      <td>Avengers: Age of Ultron</td>\n",
       "      <td>0</td>\n",
       "      <td>0</td>\n",
       "      <td>0.00</td>\n",
       "    </tr>\n",
       "    <tr>\n",
       "      <th>4</th>\n",
       "      <td>2015</td>\n",
       "      <td>The Revenant</td>\n",
       "      <td>1</td>\n",
       "      <td>0</td>\n",
       "      <td>0.42</td>\n",
       "    </tr>\n",
       "  </tbody>\n",
       "</table>\n",
       "</div>"
      ],
      "text/plain": [
       "   Year                                       Movie  Oscar_nominee  \\\n",
       "0  2015  Star Wars: Episode VII - The Force Awakens              0   \n",
       "1  2015                          Mad Max: Fury Road              1   \n",
       "2  2015                                 The Martian              1   \n",
       "3  2015                     Avengers: Age of Ultron              0   \n",
       "4  2015                                The Revenant              1   \n",
       "\n",
       "   Oscar_winner  Predicted Win Rate  \n",
       "0             0                0.00  \n",
       "1             0                0.12  \n",
       "2             0                0.00  \n",
       "3             0                0.00  \n",
       "4             0                0.42  "
      ]
     },
     "execution_count": 178,
     "metadata": {},
     "output_type": "execute_result"
    }
   ],
   "source": [
    "pred_forest = my_forest.predict_proba(X_test)[:, 1]\n",
    "\n",
    "forest_prediction = pd.DataFrame(year, columns=[\"Year\"])\n",
    "forest_prediction[\"Movie\"] = movie_name\n",
    "forest_prediction[\"Oscar_nominee\"] = oscar_n\n",
    "forest_prediction[\"Oscar_winner\"] = oscar_w\n",
    "forest_prediction['Predicted Win Rate'] = pred_forest\n",
    "\n",
    "forest_prediction.head(5)"
   ]
  },
  {
   "cell_type": "code",
   "execution_count": 179,
   "metadata": {},
   "outputs": [],
   "source": [
    "normalized_prediction = forest_prediction.copy()\n",
    "\n",
    "for index, row in normalized_prediction.iterrows():\n",
    "    normalized_prediction.loc[index, \"Predicted Win Rate\"] = \\\n",
    "        (row[\"Predicted Win Rate\"] / forest_prediction[\"Predicted Win Rate\"][forest_prediction[\"Year\"] == row[\"Year\"]].sum()).round(3)"
   ]
  },
  {
   "cell_type": "code",
   "execution_count": 180,
   "metadata": {},
   "outputs": [
    {
     "data": {
      "text/html": [
       "<div>\n",
       "<style scoped>\n",
       "    .dataframe tbody tr th:only-of-type {\n",
       "        vertical-align: middle;\n",
       "    }\n",
       "\n",
       "    .dataframe tbody tr th {\n",
       "        vertical-align: top;\n",
       "    }\n",
       "\n",
       "    .dataframe thead th {\n",
       "        text-align: right;\n",
       "    }\n",
       "</style>\n",
       "<table border=\"1\" class=\"dataframe\">\n",
       "  <thead>\n",
       "    <tr style=\"text-align: right;\">\n",
       "      <th></th>\n",
       "      <th>Year</th>\n",
       "      <th>Movie</th>\n",
       "      <th>Oscar_nominee</th>\n",
       "      <th>Oscar_winner</th>\n",
       "      <th>Predicted Win Rate</th>\n",
       "    </tr>\n",
       "  </thead>\n",
       "  <tbody>\n",
       "    <tr>\n",
       "      <th>4</th>\n",
       "      <td>2015</td>\n",
       "      <td>The Revenant</td>\n",
       "      <td>1</td>\n",
       "      <td>0</td>\n",
       "      <td>0.429</td>\n",
       "    </tr>\n",
       "    <tr>\n",
       "      <th>9</th>\n",
       "      <td>2015</td>\n",
       "      <td>Spotlight</td>\n",
       "      <td>1</td>\n",
       "      <td>1</td>\n",
       "      <td>0.235</td>\n",
       "    </tr>\n",
       "    <tr>\n",
       "      <th>14</th>\n",
       "      <td>2015</td>\n",
       "      <td>The Big Short</td>\n",
       "      <td>1</td>\n",
       "      <td>0</td>\n",
       "      <td>0.153</td>\n",
       "    </tr>\n",
       "    <tr>\n",
       "      <th>1</th>\n",
       "      <td>2015</td>\n",
       "      <td>Mad Max: Fury Road</td>\n",
       "      <td>1</td>\n",
       "      <td>0</td>\n",
       "      <td>0.122</td>\n",
       "    </tr>\n",
       "    <tr>\n",
       "      <th>36</th>\n",
       "      <td>2015</td>\n",
       "      <td>Straight Outta Compton</td>\n",
       "      <td>0</td>\n",
       "      <td>0</td>\n",
       "      <td>0.010</td>\n",
       "    </tr>\n",
       "    <tr>\n",
       "      <th>13</th>\n",
       "      <td>2015</td>\n",
       "      <td>Room</td>\n",
       "      <td>1</td>\n",
       "      <td>0</td>\n",
       "      <td>0.010</td>\n",
       "    </tr>\n",
       "    <tr>\n",
       "      <th>11</th>\n",
       "      <td>2015</td>\n",
       "      <td>Sicario</td>\n",
       "      <td>0</td>\n",
       "      <td>0</td>\n",
       "      <td>0.010</td>\n",
       "    </tr>\n",
       "    <tr>\n",
       "      <th>56</th>\n",
       "      <td>2015</td>\n",
       "      <td>Carol</td>\n",
       "      <td>0</td>\n",
       "      <td>0</td>\n",
       "      <td>0.010</td>\n",
       "    </tr>\n",
       "    <tr>\n",
       "      <th>6</th>\n",
       "      <td>2015</td>\n",
       "      <td>Jurassic World</td>\n",
       "      <td>0</td>\n",
       "      <td>0</td>\n",
       "      <td>0.010</td>\n",
       "    </tr>\n",
       "    <tr>\n",
       "      <th>33</th>\n",
       "      <td>2015</td>\n",
       "      <td>The Witch: A New-England Folktale</td>\n",
       "      <td>0</td>\n",
       "      <td>0</td>\n",
       "      <td>0.010</td>\n",
       "    </tr>\n",
       "  </tbody>\n",
       "</table>\n",
       "</div>"
      ],
      "text/plain": [
       "    Year                              Movie  Oscar_nominee  Oscar_winner  \\\n",
       "4   2015                       The Revenant              1             0   \n",
       "9   2015                          Spotlight              1             1   \n",
       "14  2015                      The Big Short              1             0   \n",
       "1   2015                 Mad Max: Fury Road              1             0   \n",
       "36  2015             Straight Outta Compton              0             0   \n",
       "13  2015                               Room              1             0   \n",
       "11  2015                            Sicario              0             0   \n",
       "56  2015                              Carol              0             0   \n",
       "6   2015                     Jurassic World              0             0   \n",
       "33  2015  The Witch: A New-England Folktale              0             0   \n",
       "\n",
       "    Predicted Win Rate  \n",
       "4                0.429  \n",
       "9                0.235  \n",
       "14               0.153  \n",
       "1                0.122  \n",
       "36               0.010  \n",
       "13               0.010  \n",
       "11               0.010  \n",
       "56               0.010  \n",
       "6                0.010  \n",
       "33               0.010  "
      ]
     },
     "execution_count": 180,
     "metadata": {},
     "output_type": "execute_result"
    }
   ],
   "source": [
    "normalized_prediction[normalized_prediction[\"Year\"] == 2015].sort_values(\"Predicted Win Rate\", ascending=False).head(10)"
   ]
  },
  {
   "cell_type": "code",
   "execution_count": 181,
   "metadata": {},
   "outputs": [
    {
     "data": {
      "text/html": [
       "<div>\n",
       "<style scoped>\n",
       "    .dataframe tbody tr th:only-of-type {\n",
       "        vertical-align: middle;\n",
       "    }\n",
       "\n",
       "    .dataframe tbody tr th {\n",
       "        vertical-align: top;\n",
       "    }\n",
       "\n",
       "    .dataframe thead th {\n",
       "        text-align: right;\n",
       "    }\n",
       "</style>\n",
       "<table border=\"1\" class=\"dataframe\">\n",
       "  <thead>\n",
       "    <tr style=\"text-align: right;\">\n",
       "      <th></th>\n",
       "      <th>Year</th>\n",
       "      <th>Movie</th>\n",
       "      <th>Oscar_nominee</th>\n",
       "      <th>Oscar_winner</th>\n",
       "      <th>Predicted Win Rate</th>\n",
       "    </tr>\n",
       "  </thead>\n",
       "  <tbody>\n",
       "    <tr>\n",
       "      <th>107</th>\n",
       "      <td>2016</td>\n",
       "      <td>La La Land</td>\n",
       "      <td>1</td>\n",
       "      <td>0</td>\n",
       "      <td>0.669</td>\n",
       "    </tr>\n",
       "    <tr>\n",
       "      <th>122</th>\n",
       "      <td>2016</td>\n",
       "      <td>Manchester by the Sea</td>\n",
       "      <td>1</td>\n",
       "      <td>0</td>\n",
       "      <td>0.068</td>\n",
       "    </tr>\n",
       "    <tr>\n",
       "      <th>105</th>\n",
       "      <td>2016</td>\n",
       "      <td>Arrival</td>\n",
       "      <td>1</td>\n",
       "      <td>0</td>\n",
       "      <td>0.042</td>\n",
       "    </tr>\n",
       "    <tr>\n",
       "      <th>116</th>\n",
       "      <td>2016</td>\n",
       "      <td>Moonlight</td>\n",
       "      <td>1</td>\n",
       "      <td>1</td>\n",
       "      <td>0.034</td>\n",
       "    </tr>\n",
       "    <tr>\n",
       "      <th>100</th>\n",
       "      <td>2016</td>\n",
       "      <td>Deadpool</td>\n",
       "      <td>0</td>\n",
       "      <td>0</td>\n",
       "      <td>0.025</td>\n",
       "    </tr>\n",
       "    <tr>\n",
       "      <th>131</th>\n",
       "      <td>2016</td>\n",
       "      <td>Ghostbusters</td>\n",
       "      <td>0</td>\n",
       "      <td>0</td>\n",
       "      <td>0.025</td>\n",
       "    </tr>\n",
       "    <tr>\n",
       "      <th>134</th>\n",
       "      <td>2016</td>\n",
       "      <td>Hidden Figures</td>\n",
       "      <td>1</td>\n",
       "      <td>0</td>\n",
       "      <td>0.017</td>\n",
       "    </tr>\n",
       "    <tr>\n",
       "      <th>104</th>\n",
       "      <td>2016</td>\n",
       "      <td>Doctor Strange</td>\n",
       "      <td>0</td>\n",
       "      <td>0</td>\n",
       "      <td>0.017</td>\n",
       "    </tr>\n",
       "    <tr>\n",
       "      <th>125</th>\n",
       "      <td>2016</td>\n",
       "      <td>Sully</td>\n",
       "      <td>0</td>\n",
       "      <td>0</td>\n",
       "      <td>0.017</td>\n",
       "    </tr>\n",
       "    <tr>\n",
       "      <th>130</th>\n",
       "      <td>2016</td>\n",
       "      <td>Lion</td>\n",
       "      <td>1</td>\n",
       "      <td>0</td>\n",
       "      <td>0.017</td>\n",
       "    </tr>\n",
       "  </tbody>\n",
       "</table>\n",
       "</div>"
      ],
      "text/plain": [
       "     Year                  Movie  Oscar_nominee  Oscar_winner  \\\n",
       "107  2016             La La Land              1             0   \n",
       "122  2016  Manchester by the Sea              1             0   \n",
       "105  2016                Arrival              1             0   \n",
       "116  2016              Moonlight              1             1   \n",
       "100  2016               Deadpool              0             0   \n",
       "131  2016           Ghostbusters              0             0   \n",
       "134  2016         Hidden Figures              1             0   \n",
       "104  2016         Doctor Strange              0             0   \n",
       "125  2016                  Sully              0             0   \n",
       "130  2016                   Lion              1             0   \n",
       "\n",
       "     Predicted Win Rate  \n",
       "107               0.669  \n",
       "122               0.068  \n",
       "105               0.042  \n",
       "116               0.034  \n",
       "100               0.025  \n",
       "131               0.025  \n",
       "134               0.017  \n",
       "104               0.017  \n",
       "125               0.017  \n",
       "130               0.017  "
      ]
     },
     "execution_count": 181,
     "metadata": {},
     "output_type": "execute_result"
    }
   ],
   "source": [
    "normalized_prediction[normalized_prediction[\"Year\"] == 2016].sort_values(\"Predicted Win Rate\", ascending=False).head(10)"
   ]
  },
  {
   "cell_type": "code",
   "execution_count": 182,
   "metadata": {},
   "outputs": [
    {
     "data": {
      "text/html": [
       "<div>\n",
       "<style scoped>\n",
       "    .dataframe tbody tr th:only-of-type {\n",
       "        vertical-align: middle;\n",
       "    }\n",
       "\n",
       "    .dataframe tbody tr th {\n",
       "        vertical-align: top;\n",
       "    }\n",
       "\n",
       "    .dataframe thead th {\n",
       "        text-align: right;\n",
       "    }\n",
       "</style>\n",
       "<table border=\"1\" class=\"dataframe\">\n",
       "  <thead>\n",
       "    <tr style=\"text-align: right;\">\n",
       "      <th></th>\n",
       "      <th>Year</th>\n",
       "      <th>Movie</th>\n",
       "      <th>Oscar_nominee</th>\n",
       "      <th>Oscar_winner</th>\n",
       "      <th>Predicted Win Rate</th>\n",
       "    </tr>\n",
       "  </thead>\n",
       "  <tbody>\n",
       "    <tr>\n",
       "      <th>213</th>\n",
       "      <td>2017</td>\n",
       "      <td>The Shape of Water</td>\n",
       "      <td>1</td>\n",
       "      <td>1</td>\n",
       "      <td>0.470</td>\n",
       "    </tr>\n",
       "    <tr>\n",
       "      <th>211</th>\n",
       "      <td>2017</td>\n",
       "      <td>Three Billboards Outside Ebbing, Missouri</td>\n",
       "      <td>1</td>\n",
       "      <td>0</td>\n",
       "      <td>0.104</td>\n",
       "    </tr>\n",
       "    <tr>\n",
       "      <th>207</th>\n",
       "      <td>2017</td>\n",
       "      <td>Get Out</td>\n",
       "      <td>1</td>\n",
       "      <td>0</td>\n",
       "      <td>0.104</td>\n",
       "    </tr>\n",
       "    <tr>\n",
       "      <th>224</th>\n",
       "      <td>2017</td>\n",
       "      <td>Lady Bird</td>\n",
       "      <td>1</td>\n",
       "      <td>0</td>\n",
       "      <td>0.070</td>\n",
       "    </tr>\n",
       "    <tr>\n",
       "      <th>230</th>\n",
       "      <td>2017</td>\n",
       "      <td>Call Me by Your Name</td>\n",
       "      <td>1</td>\n",
       "      <td>0</td>\n",
       "      <td>0.043</td>\n",
       "    </tr>\n",
       "    <tr>\n",
       "      <th>205</th>\n",
       "      <td>2017</td>\n",
       "      <td>Dunkirk</td>\n",
       "      <td>1</td>\n",
       "      <td>0</td>\n",
       "      <td>0.035</td>\n",
       "    </tr>\n",
       "    <tr>\n",
       "      <th>236</th>\n",
       "      <td>2017</td>\n",
       "      <td>I, Tonya</td>\n",
       "      <td>0</td>\n",
       "      <td>0</td>\n",
       "      <td>0.026</td>\n",
       "    </tr>\n",
       "    <tr>\n",
       "      <th>257</th>\n",
       "      <td>2017</td>\n",
       "      <td>Phantom Thread</td>\n",
       "      <td>1</td>\n",
       "      <td>0</td>\n",
       "      <td>0.017</td>\n",
       "    </tr>\n",
       "    <tr>\n",
       "      <th>232</th>\n",
       "      <td>2017</td>\n",
       "      <td>Mother!</td>\n",
       "      <td>0</td>\n",
       "      <td>0</td>\n",
       "      <td>0.017</td>\n",
       "    </tr>\n",
       "    <tr>\n",
       "      <th>246</th>\n",
       "      <td>2017</td>\n",
       "      <td>The Post</td>\n",
       "      <td>1</td>\n",
       "      <td>0</td>\n",
       "      <td>0.017</td>\n",
       "    </tr>\n",
       "  </tbody>\n",
       "</table>\n",
       "</div>"
      ],
      "text/plain": [
       "     Year                                      Movie  Oscar_nominee  \\\n",
       "213  2017                         The Shape of Water              1   \n",
       "211  2017  Three Billboards Outside Ebbing, Missouri              1   \n",
       "207  2017                                    Get Out              1   \n",
       "224  2017                                  Lady Bird              1   \n",
       "230  2017                       Call Me by Your Name              1   \n",
       "205  2017                                    Dunkirk              1   \n",
       "236  2017                                   I, Tonya              0   \n",
       "257  2017                             Phantom Thread              1   \n",
       "232  2017                                    Mother!              0   \n",
       "246  2017                                   The Post              1   \n",
       "\n",
       "     Oscar_winner  Predicted Win Rate  \n",
       "213             1               0.470  \n",
       "211             0               0.104  \n",
       "207             0               0.104  \n",
       "224             0               0.070  \n",
       "230             0               0.043  \n",
       "205             0               0.035  \n",
       "236             0               0.026  \n",
       "257             0               0.017  \n",
       "232             0               0.017  \n",
       "246             0               0.017  "
      ]
     },
     "execution_count": 182,
     "metadata": {},
     "output_type": "execute_result"
    }
   ],
   "source": [
    "normalized_prediction[normalized_prediction[\"Year\"] == 2017].sort_values(\"Predicted Win Rate\", ascending=False).head(10)"
   ]
  },
  {
   "cell_type": "code",
   "execution_count": 183,
   "metadata": {},
   "outputs": [
    {
     "data": {
      "text/html": [
       "<div>\n",
       "<style scoped>\n",
       "    .dataframe tbody tr th:only-of-type {\n",
       "        vertical-align: middle;\n",
       "    }\n",
       "\n",
       "    .dataframe tbody tr th {\n",
       "        vertical-align: top;\n",
       "    }\n",
       "\n",
       "    .dataframe thead th {\n",
       "        text-align: right;\n",
       "    }\n",
       "</style>\n",
       "<table border=\"1\" class=\"dataframe\">\n",
       "  <thead>\n",
       "    <tr style=\"text-align: right;\">\n",
       "      <th></th>\n",
       "      <th>Year</th>\n",
       "      <th>Movie</th>\n",
       "      <th>Oscar_nominee</th>\n",
       "      <th>Oscar_winner</th>\n",
       "      <th>Predicted Win Rate</th>\n",
       "    </tr>\n",
       "  </thead>\n",
       "  <tbody>\n",
       "    <tr>\n",
       "      <th>330</th>\n",
       "      <td>2018</td>\n",
       "      <td>Roma</td>\n",
       "      <td>1</td>\n",
       "      <td>0</td>\n",
       "      <td>0.227</td>\n",
       "    </tr>\n",
       "    <tr>\n",
       "      <th>309</th>\n",
       "      <td>2018</td>\n",
       "      <td>Green Book</td>\n",
       "      <td>1</td>\n",
       "      <td>1</td>\n",
       "      <td>0.220</td>\n",
       "    </tr>\n",
       "    <tr>\n",
       "      <th>321</th>\n",
       "      <td>2018</td>\n",
       "      <td>BlacKkKlansman</td>\n",
       "      <td>1</td>\n",
       "      <td>0</td>\n",
       "      <td>0.091</td>\n",
       "    </tr>\n",
       "    <tr>\n",
       "      <th>310</th>\n",
       "      <td>2018</td>\n",
       "      <td>A Star Is Born</td>\n",
       "      <td>1</td>\n",
       "      <td>0</td>\n",
       "      <td>0.083</td>\n",
       "    </tr>\n",
       "    <tr>\n",
       "      <th>325</th>\n",
       "      <td>2018</td>\n",
       "      <td>The Favourite</td>\n",
       "      <td>1</td>\n",
       "      <td>0</td>\n",
       "      <td>0.061</td>\n",
       "    </tr>\n",
       "    <tr>\n",
       "      <th>303</th>\n",
       "      <td>2018</td>\n",
       "      <td>Bohemian Rhapsody</td>\n",
       "      <td>1</td>\n",
       "      <td>0</td>\n",
       "      <td>0.030</td>\n",
       "    </tr>\n",
       "    <tr>\n",
       "      <th>344</th>\n",
       "      <td>2018</td>\n",
       "      <td>Vice</td>\n",
       "      <td>1</td>\n",
       "      <td>0</td>\n",
       "      <td>0.030</td>\n",
       "    </tr>\n",
       "    <tr>\n",
       "      <th>308</th>\n",
       "      <td>2018</td>\n",
       "      <td>Spider-Man: Into the Spider-Verse</td>\n",
       "      <td>0</td>\n",
       "      <td>0</td>\n",
       "      <td>0.030</td>\n",
       "    </tr>\n",
       "    <tr>\n",
       "      <th>301</th>\n",
       "      <td>2018</td>\n",
       "      <td>Black Panther</td>\n",
       "      <td>1</td>\n",
       "      <td>0</td>\n",
       "      <td>0.023</td>\n",
       "    </tr>\n",
       "    <tr>\n",
       "      <th>334</th>\n",
       "      <td>2018</td>\n",
       "      <td>Crazy Rich Asians</td>\n",
       "      <td>0</td>\n",
       "      <td>0</td>\n",
       "      <td>0.023</td>\n",
       "    </tr>\n",
       "  </tbody>\n",
       "</table>\n",
       "</div>"
      ],
      "text/plain": [
       "     Year                              Movie  Oscar_nominee  Oscar_winner  \\\n",
       "330  2018                               Roma              1             0   \n",
       "309  2018                         Green Book              1             1   \n",
       "321  2018                     BlacKkKlansman              1             0   \n",
       "310  2018                     A Star Is Born              1             0   \n",
       "325  2018                      The Favourite              1             0   \n",
       "303  2018                  Bohemian Rhapsody              1             0   \n",
       "344  2018                               Vice              1             0   \n",
       "308  2018  Spider-Man: Into the Spider-Verse              0             0   \n",
       "301  2018                      Black Panther              1             0   \n",
       "334  2018                  Crazy Rich Asians              0             0   \n",
       "\n",
       "     Predicted Win Rate  \n",
       "330               0.227  \n",
       "309               0.220  \n",
       "321               0.091  \n",
       "310               0.083  \n",
       "325               0.061  \n",
       "303               0.030  \n",
       "344               0.030  \n",
       "308               0.030  \n",
       "301               0.023  \n",
       "334               0.023  "
      ]
     },
     "execution_count": 183,
     "metadata": {},
     "output_type": "execute_result"
    }
   ],
   "source": [
    "normalized_prediction[normalized_prediction[\"Year\"] == 2018].sort_values(\"Predicted Win Rate\", ascending=False).head(10)"
   ]
  },
  {
   "cell_type": "code",
   "execution_count": 184,
   "metadata": {},
   "outputs": [
    {
     "data": {
      "text/html": [
       "<div>\n",
       "<style scoped>\n",
       "    .dataframe tbody tr th:only-of-type {\n",
       "        vertical-align: middle;\n",
       "    }\n",
       "\n",
       "    .dataframe tbody tr th {\n",
       "        vertical-align: top;\n",
       "    }\n",
       "\n",
       "    .dataframe thead th {\n",
       "        text-align: right;\n",
       "    }\n",
       "</style>\n",
       "<table border=\"1\" class=\"dataframe\">\n",
       "  <thead>\n",
       "    <tr style=\"text-align: right;\">\n",
       "      <th></th>\n",
       "      <th>Year</th>\n",
       "      <th>Movie</th>\n",
       "      <th>Oscar_nominee</th>\n",
       "      <th>Oscar_winner</th>\n",
       "      <th>Predicted Win Rate</th>\n",
       "    </tr>\n",
       "  </thead>\n",
       "  <tbody>\n",
       "    <tr>\n",
       "      <th>408</th>\n",
       "      <td>2019</td>\n",
       "      <td>1917</td>\n",
       "      <td>1</td>\n",
       "      <td>0</td>\n",
       "      <td>0.426</td>\n",
       "    </tr>\n",
       "    <tr>\n",
       "      <th>402</th>\n",
       "      <td>2019</td>\n",
       "      <td>Once Upon a Time in Hollywood</td>\n",
       "      <td>1</td>\n",
       "      <td>0</td>\n",
       "      <td>0.168</td>\n",
       "    </tr>\n",
       "    <tr>\n",
       "      <th>404</th>\n",
       "      <td>2019</td>\n",
       "      <td>Parasite</td>\n",
       "      <td>1</td>\n",
       "      <td>1</td>\n",
       "      <td>0.110</td>\n",
       "    </tr>\n",
       "    <tr>\n",
       "      <th>400</th>\n",
       "      <td>2019</td>\n",
       "      <td>Joker</td>\n",
       "      <td>1</td>\n",
       "      <td>0</td>\n",
       "      <td>0.065</td>\n",
       "    </tr>\n",
       "    <tr>\n",
       "      <th>418</th>\n",
       "      <td>2019</td>\n",
       "      <td>Jojo Rabbit</td>\n",
       "      <td>1</td>\n",
       "      <td>0</td>\n",
       "      <td>0.039</td>\n",
       "    </tr>\n",
       "    <tr>\n",
       "      <th>407</th>\n",
       "      <td>2019</td>\n",
       "      <td>The Irishman</td>\n",
       "      <td>1</td>\n",
       "      <td>0</td>\n",
       "      <td>0.032</td>\n",
       "    </tr>\n",
       "    <tr>\n",
       "      <th>413</th>\n",
       "      <td>2019</td>\n",
       "      <td>Marriage Story</td>\n",
       "      <td>1</td>\n",
       "      <td>0</td>\n",
       "      <td>0.032</td>\n",
       "    </tr>\n",
       "    <tr>\n",
       "      <th>419</th>\n",
       "      <td>2019</td>\n",
       "      <td>The Lion King</td>\n",
       "      <td>0</td>\n",
       "      <td>0</td>\n",
       "      <td>0.019</td>\n",
       "    </tr>\n",
       "    <tr>\n",
       "      <th>464</th>\n",
       "      <td>2019</td>\n",
       "      <td>Dumbo</td>\n",
       "      <td>0</td>\n",
       "      <td>0</td>\n",
       "      <td>0.013</td>\n",
       "    </tr>\n",
       "    <tr>\n",
       "      <th>443</th>\n",
       "      <td>2019</td>\n",
       "      <td>Yesterday</td>\n",
       "      <td>0</td>\n",
       "      <td>0</td>\n",
       "      <td>0.013</td>\n",
       "    </tr>\n",
       "  </tbody>\n",
       "</table>\n",
       "</div>"
      ],
      "text/plain": [
       "     Year                          Movie  Oscar_nominee  Oscar_winner  \\\n",
       "408  2019                           1917              1             0   \n",
       "402  2019  Once Upon a Time in Hollywood              1             0   \n",
       "404  2019                       Parasite              1             1   \n",
       "400  2019                          Joker              1             0   \n",
       "418  2019                    Jojo Rabbit              1             0   \n",
       "407  2019                   The Irishman              1             0   \n",
       "413  2019                 Marriage Story              1             0   \n",
       "419  2019                  The Lion King              0             0   \n",
       "464  2019                          Dumbo              0             0   \n",
       "443  2019                      Yesterday              0             0   \n",
       "\n",
       "     Predicted Win Rate  \n",
       "408               0.426  \n",
       "402               0.168  \n",
       "404               0.110  \n",
       "400               0.065  \n",
       "418               0.039  \n",
       "407               0.032  \n",
       "413               0.032  \n",
       "419               0.019  \n",
       "464               0.013  \n",
       "443               0.013  "
      ]
     },
     "execution_count": 184,
     "metadata": {},
     "output_type": "execute_result"
    }
   ],
   "source": [
    "normalized_prediction[normalized_prediction[\"Year\"] == 2019].sort_values(\"Predicted Win Rate\", ascending=False).head(10)"
   ]
  },
  {
   "cell_type": "markdown",
   "metadata": {},
   "source": [
    "## #1.3 - Extremely Randomized Trees (Extra Trees)"
   ]
  },
  {
   "cell_type": "code",
   "execution_count": 31,
   "metadata": {},
   "outputs": [],
   "source": [
    "extratree = ExtraTreesClassifier()\n",
    "\n",
    "extree = extratree.fit(X_train, y_train)"
   ]
  },
  {
   "cell_type": "code",
   "execution_count": 32,
   "metadata": {},
   "outputs": [
    {
     "name": "stdout",
     "output_type": "stream",
     "text": [
      "                     Importances Weightage\n",
      "Runtime (min)                        0.011\n",
      "Action                               0.005\n",
      "Adventure                            0.007\n",
      "Animation                            0.000\n",
      "Biography                            0.004\n",
      "Comedy                               0.005\n",
      "Crime                                0.008\n",
      "Drama                                0.003\n",
      "Family                               0.000\n",
      "Fantasy                              0.002\n",
      "History                              0.002\n",
      "Horror                               0.000\n",
      "Musical                              0.001\n",
      "Mystery                              0.001\n",
      "Romance                              0.005\n",
      "Sci-Fi                               0.005\n",
      "Sport                                0.005\n",
      "Thriller                             0.016\n",
      "War                                  0.002\n",
      "Western                              0.000\n",
      "IMDb_rating                          0.018\n",
      "IMDb_votes                           0.019\n",
      "RT_rating                            0.019\n",
      "RT_review                            0.016\n",
      "Metascore                            0.020\n",
      "Budget                               0.013\n",
      "Domestic (US) gross                  0.014\n",
      "International gross                  0.018\n",
      "Worldwide gross                      0.018\n",
      "GG_drama_winner                      0.021\n",
      "GG_drama_nominee                     0.007\n",
      "GG_comedy_winner                     0.002\n",
      "GG_comedy_nominee                    0.004\n",
      "BAFTA_winner                         0.056\n",
      "BAFTA_nominee                        0.014\n",
      "DGA_winner                           0.200\n",
      "DGA_nominee                          0.026\n",
      "PGA_winner                           0.128\n",
      "PGA_nominee                          0.017\n",
      "CCMA_winner                          0.174\n",
      "CCMA_nominee                         0.004\n",
      "Golden_Palm_winner                   0.001\n",
      "Golden_Palm_nominee                  0.001\n",
      "Golden_Bear_winner                   0.000\n",
      "Golden_Bear_nominee                  0.002\n",
      "Golden_Lion_winner                   0.010\n",
      "Golden_Lion_nominee                  0.012\n",
      "PCA_winner                           0.012\n",
      "PCA_nominee                          0.012\n",
      "NYFCC_winner                         0.012\n",
      "NYFCC_nominee                        0.019\n",
      "OFCS_winner                          0.021\n",
      "OFCS_nominee                         0.009\n",
      "\n",
      "Score =  1.0\n"
     ]
    }
   ],
   "source": [
    "extree_importances = pd.DataFrame(extree.feature_importances_.round(3), all_features, columns=[\"Importances Weightage\"])\n",
    "\n",
    "print(extree_importances)\n",
    "print()\n",
    "print('Score = ', extree.score(X_train, y_train))"
   ]
  },
  {
   "cell_type": "code",
   "execution_count": 33,
   "metadata": {},
   "outputs": [
    {
     "data": {
      "application/vnd.plotly.v1+json": {
       "config": {
        "plotlyServerURL": "https://plot.ly"
       },
       "data": [
        {
         "alignmentgroup": "True",
         "hoverlabel": {
          "namelength": 0
         },
         "hovertemplate": "Features=%{x}<br>Importances Weightage=%{y}",
         "legendgroup": "",
         "marker": {
          "color": "#636efa"
         },
         "name": "",
         "offsetgroup": "",
         "orientation": "v",
         "showlegend": false,
         "textposition": "auto",
         "type": "bar",
         "x": [
          "Runtime (min)",
          "Action",
          "Adventure",
          "Animation",
          "Biography",
          "Comedy",
          "Crime",
          "Drama",
          "Family",
          "Fantasy",
          "History",
          "Horror",
          "Musical",
          "Mystery",
          "Romance",
          "Sci-Fi",
          "Sport",
          "Thriller",
          "War",
          "Western",
          "IMDb_rating",
          "IMDb_votes",
          "RT_rating",
          "RT_review",
          "Metascore",
          "Budget",
          "Domestic (US) gross",
          "International gross",
          "Worldwide gross",
          "GG_drama_winner",
          "GG_drama_nominee",
          "GG_comedy_winner",
          "GG_comedy_nominee",
          "BAFTA_winner",
          "BAFTA_nominee",
          "DGA_winner",
          "DGA_nominee",
          "PGA_winner",
          "PGA_nominee",
          "CCMA_winner",
          "CCMA_nominee",
          "Golden_Palm_winner",
          "Golden_Palm_nominee",
          "Golden_Bear_winner",
          "Golden_Bear_nominee",
          "Golden_Lion_winner",
          "Golden_Lion_nominee",
          "PCA_winner",
          "PCA_nominee",
          "NYFCC_winner",
          "NYFCC_nominee",
          "OFCS_winner",
          "OFCS_nominee"
         ],
         "xaxis": "x",
         "y": [
          0.011,
          0.005,
          0.007,
          0,
          0.004,
          0.005,
          0.008,
          0.003,
          0,
          0.002,
          0.002,
          0,
          0.001,
          0.001,
          0.005,
          0.005,
          0.005,
          0.016,
          0.002,
          0,
          0.018,
          0.019,
          0.019,
          0.016,
          0.02,
          0.013,
          0.014,
          0.018,
          0.018,
          0.021,
          0.007,
          0.002,
          0.004,
          0.056,
          0.014,
          0.2,
          0.026,
          0.128,
          0.017,
          0.174,
          0.004,
          0.001,
          0.001,
          0,
          0.002,
          0.01,
          0.012,
          0.012,
          0.012,
          0.012,
          0.019,
          0.021,
          0.009
         ],
         "yaxis": "y"
        }
       ],
       "layout": {
        "barmode": "relative",
        "height": 600,
        "legend": {
         "tracegroupgap": 0
        },
        "template": {
         "data": {
          "bar": [
           {
            "error_x": {
             "color": "#2a3f5f"
            },
            "error_y": {
             "color": "#2a3f5f"
            },
            "marker": {
             "line": {
              "color": "#E5ECF6",
              "width": 0.5
             }
            },
            "type": "bar"
           }
          ],
          "barpolar": [
           {
            "marker": {
             "line": {
              "color": "#E5ECF6",
              "width": 0.5
             }
            },
            "type": "barpolar"
           }
          ],
          "carpet": [
           {
            "aaxis": {
             "endlinecolor": "#2a3f5f",
             "gridcolor": "white",
             "linecolor": "white",
             "minorgridcolor": "white",
             "startlinecolor": "#2a3f5f"
            },
            "baxis": {
             "endlinecolor": "#2a3f5f",
             "gridcolor": "white",
             "linecolor": "white",
             "minorgridcolor": "white",
             "startlinecolor": "#2a3f5f"
            },
            "type": "carpet"
           }
          ],
          "choropleth": [
           {
            "colorbar": {
             "outlinewidth": 0,
             "ticks": ""
            },
            "type": "choropleth"
           }
          ],
          "contour": [
           {
            "colorbar": {
             "outlinewidth": 0,
             "ticks": ""
            },
            "colorscale": [
             [
              0,
              "#0d0887"
             ],
             [
              0.1111111111111111,
              "#46039f"
             ],
             [
              0.2222222222222222,
              "#7201a8"
             ],
             [
              0.3333333333333333,
              "#9c179e"
             ],
             [
              0.4444444444444444,
              "#bd3786"
             ],
             [
              0.5555555555555556,
              "#d8576b"
             ],
             [
              0.6666666666666666,
              "#ed7953"
             ],
             [
              0.7777777777777778,
              "#fb9f3a"
             ],
             [
              0.8888888888888888,
              "#fdca26"
             ],
             [
              1,
              "#f0f921"
             ]
            ],
            "type": "contour"
           }
          ],
          "contourcarpet": [
           {
            "colorbar": {
             "outlinewidth": 0,
             "ticks": ""
            },
            "type": "contourcarpet"
           }
          ],
          "heatmap": [
           {
            "colorbar": {
             "outlinewidth": 0,
             "ticks": ""
            },
            "colorscale": [
             [
              0,
              "#0d0887"
             ],
             [
              0.1111111111111111,
              "#46039f"
             ],
             [
              0.2222222222222222,
              "#7201a8"
             ],
             [
              0.3333333333333333,
              "#9c179e"
             ],
             [
              0.4444444444444444,
              "#bd3786"
             ],
             [
              0.5555555555555556,
              "#d8576b"
             ],
             [
              0.6666666666666666,
              "#ed7953"
             ],
             [
              0.7777777777777778,
              "#fb9f3a"
             ],
             [
              0.8888888888888888,
              "#fdca26"
             ],
             [
              1,
              "#f0f921"
             ]
            ],
            "type": "heatmap"
           }
          ],
          "heatmapgl": [
           {
            "colorbar": {
             "outlinewidth": 0,
             "ticks": ""
            },
            "colorscale": [
             [
              0,
              "#0d0887"
             ],
             [
              0.1111111111111111,
              "#46039f"
             ],
             [
              0.2222222222222222,
              "#7201a8"
             ],
             [
              0.3333333333333333,
              "#9c179e"
             ],
             [
              0.4444444444444444,
              "#bd3786"
             ],
             [
              0.5555555555555556,
              "#d8576b"
             ],
             [
              0.6666666666666666,
              "#ed7953"
             ],
             [
              0.7777777777777778,
              "#fb9f3a"
             ],
             [
              0.8888888888888888,
              "#fdca26"
             ],
             [
              1,
              "#f0f921"
             ]
            ],
            "type": "heatmapgl"
           }
          ],
          "histogram": [
           {
            "marker": {
             "colorbar": {
              "outlinewidth": 0,
              "ticks": ""
             }
            },
            "type": "histogram"
           }
          ],
          "histogram2d": [
           {
            "colorbar": {
             "outlinewidth": 0,
             "ticks": ""
            },
            "colorscale": [
             [
              0,
              "#0d0887"
             ],
             [
              0.1111111111111111,
              "#46039f"
             ],
             [
              0.2222222222222222,
              "#7201a8"
             ],
             [
              0.3333333333333333,
              "#9c179e"
             ],
             [
              0.4444444444444444,
              "#bd3786"
             ],
             [
              0.5555555555555556,
              "#d8576b"
             ],
             [
              0.6666666666666666,
              "#ed7953"
             ],
             [
              0.7777777777777778,
              "#fb9f3a"
             ],
             [
              0.8888888888888888,
              "#fdca26"
             ],
             [
              1,
              "#f0f921"
             ]
            ],
            "type": "histogram2d"
           }
          ],
          "histogram2dcontour": [
           {
            "colorbar": {
             "outlinewidth": 0,
             "ticks": ""
            },
            "colorscale": [
             [
              0,
              "#0d0887"
             ],
             [
              0.1111111111111111,
              "#46039f"
             ],
             [
              0.2222222222222222,
              "#7201a8"
             ],
             [
              0.3333333333333333,
              "#9c179e"
             ],
             [
              0.4444444444444444,
              "#bd3786"
             ],
             [
              0.5555555555555556,
              "#d8576b"
             ],
             [
              0.6666666666666666,
              "#ed7953"
             ],
             [
              0.7777777777777778,
              "#fb9f3a"
             ],
             [
              0.8888888888888888,
              "#fdca26"
             ],
             [
              1,
              "#f0f921"
             ]
            ],
            "type": "histogram2dcontour"
           }
          ],
          "mesh3d": [
           {
            "colorbar": {
             "outlinewidth": 0,
             "ticks": ""
            },
            "type": "mesh3d"
           }
          ],
          "parcoords": [
           {
            "line": {
             "colorbar": {
              "outlinewidth": 0,
              "ticks": ""
             }
            },
            "type": "parcoords"
           }
          ],
          "pie": [
           {
            "automargin": true,
            "type": "pie"
           }
          ],
          "scatter": [
           {
            "marker": {
             "colorbar": {
              "outlinewidth": 0,
              "ticks": ""
             }
            },
            "type": "scatter"
           }
          ],
          "scatter3d": [
           {
            "line": {
             "colorbar": {
              "outlinewidth": 0,
              "ticks": ""
             }
            },
            "marker": {
             "colorbar": {
              "outlinewidth": 0,
              "ticks": ""
             }
            },
            "type": "scatter3d"
           }
          ],
          "scattercarpet": [
           {
            "marker": {
             "colorbar": {
              "outlinewidth": 0,
              "ticks": ""
             }
            },
            "type": "scattercarpet"
           }
          ],
          "scattergeo": [
           {
            "marker": {
             "colorbar": {
              "outlinewidth": 0,
              "ticks": ""
             }
            },
            "type": "scattergeo"
           }
          ],
          "scattergl": [
           {
            "marker": {
             "colorbar": {
              "outlinewidth": 0,
              "ticks": ""
             }
            },
            "type": "scattergl"
           }
          ],
          "scattermapbox": [
           {
            "marker": {
             "colorbar": {
              "outlinewidth": 0,
              "ticks": ""
             }
            },
            "type": "scattermapbox"
           }
          ],
          "scatterpolar": [
           {
            "marker": {
             "colorbar": {
              "outlinewidth": 0,
              "ticks": ""
             }
            },
            "type": "scatterpolar"
           }
          ],
          "scatterpolargl": [
           {
            "marker": {
             "colorbar": {
              "outlinewidth": 0,
              "ticks": ""
             }
            },
            "type": "scatterpolargl"
           }
          ],
          "scatterternary": [
           {
            "marker": {
             "colorbar": {
              "outlinewidth": 0,
              "ticks": ""
             }
            },
            "type": "scatterternary"
           }
          ],
          "surface": [
           {
            "colorbar": {
             "outlinewidth": 0,
             "ticks": ""
            },
            "colorscale": [
             [
              0,
              "#0d0887"
             ],
             [
              0.1111111111111111,
              "#46039f"
             ],
             [
              0.2222222222222222,
              "#7201a8"
             ],
             [
              0.3333333333333333,
              "#9c179e"
             ],
             [
              0.4444444444444444,
              "#bd3786"
             ],
             [
              0.5555555555555556,
              "#d8576b"
             ],
             [
              0.6666666666666666,
              "#ed7953"
             ],
             [
              0.7777777777777778,
              "#fb9f3a"
             ],
             [
              0.8888888888888888,
              "#fdca26"
             ],
             [
              1,
              "#f0f921"
             ]
            ],
            "type": "surface"
           }
          ],
          "table": [
           {
            "cells": {
             "fill": {
              "color": "#EBF0F8"
             },
             "line": {
              "color": "white"
             }
            },
            "header": {
             "fill": {
              "color": "#C8D4E3"
             },
             "line": {
              "color": "white"
             }
            },
            "type": "table"
           }
          ]
         },
         "layout": {
          "annotationdefaults": {
           "arrowcolor": "#2a3f5f",
           "arrowhead": 0,
           "arrowwidth": 1
          },
          "coloraxis": {
           "colorbar": {
            "outlinewidth": 0,
            "ticks": ""
           }
          },
          "colorscale": {
           "diverging": [
            [
             0,
             "#8e0152"
            ],
            [
             0.1,
             "#c51b7d"
            ],
            [
             0.2,
             "#de77ae"
            ],
            [
             0.3,
             "#f1b6da"
            ],
            [
             0.4,
             "#fde0ef"
            ],
            [
             0.5,
             "#f7f7f7"
            ],
            [
             0.6,
             "#e6f5d0"
            ],
            [
             0.7,
             "#b8e186"
            ],
            [
             0.8,
             "#7fbc41"
            ],
            [
             0.9,
             "#4d9221"
            ],
            [
             1,
             "#276419"
            ]
           ],
           "sequential": [
            [
             0,
             "#0d0887"
            ],
            [
             0.1111111111111111,
             "#46039f"
            ],
            [
             0.2222222222222222,
             "#7201a8"
            ],
            [
             0.3333333333333333,
             "#9c179e"
            ],
            [
             0.4444444444444444,
             "#bd3786"
            ],
            [
             0.5555555555555556,
             "#d8576b"
            ],
            [
             0.6666666666666666,
             "#ed7953"
            ],
            [
             0.7777777777777778,
             "#fb9f3a"
            ],
            [
             0.8888888888888888,
             "#fdca26"
            ],
            [
             1,
             "#f0f921"
            ]
           ],
           "sequentialminus": [
            [
             0,
             "#0d0887"
            ],
            [
             0.1111111111111111,
             "#46039f"
            ],
            [
             0.2222222222222222,
             "#7201a8"
            ],
            [
             0.3333333333333333,
             "#9c179e"
            ],
            [
             0.4444444444444444,
             "#bd3786"
            ],
            [
             0.5555555555555556,
             "#d8576b"
            ],
            [
             0.6666666666666666,
             "#ed7953"
            ],
            [
             0.7777777777777778,
             "#fb9f3a"
            ],
            [
             0.8888888888888888,
             "#fdca26"
            ],
            [
             1,
             "#f0f921"
            ]
           ]
          },
          "colorway": [
           "#636efa",
           "#EF553B",
           "#00cc96",
           "#ab63fa",
           "#FFA15A",
           "#19d3f3",
           "#FF6692",
           "#B6E880",
           "#FF97FF",
           "#FECB52"
          ],
          "font": {
           "color": "#2a3f5f"
          },
          "geo": {
           "bgcolor": "white",
           "lakecolor": "white",
           "landcolor": "#E5ECF6",
           "showlakes": true,
           "showland": true,
           "subunitcolor": "white"
          },
          "hoverlabel": {
           "align": "left"
          },
          "hovermode": "closest",
          "mapbox": {
           "style": "light"
          },
          "paper_bgcolor": "white",
          "plot_bgcolor": "#E5ECF6",
          "polar": {
           "angularaxis": {
            "gridcolor": "white",
            "linecolor": "white",
            "ticks": ""
           },
           "bgcolor": "#E5ECF6",
           "radialaxis": {
            "gridcolor": "white",
            "linecolor": "white",
            "ticks": ""
           }
          },
          "scene": {
           "xaxis": {
            "backgroundcolor": "#E5ECF6",
            "gridcolor": "white",
            "gridwidth": 2,
            "linecolor": "white",
            "showbackground": true,
            "ticks": "",
            "zerolinecolor": "white"
           },
           "yaxis": {
            "backgroundcolor": "#E5ECF6",
            "gridcolor": "white",
            "gridwidth": 2,
            "linecolor": "white",
            "showbackground": true,
            "ticks": "",
            "zerolinecolor": "white"
           },
           "zaxis": {
            "backgroundcolor": "#E5ECF6",
            "gridcolor": "white",
            "gridwidth": 2,
            "linecolor": "white",
            "showbackground": true,
            "ticks": "",
            "zerolinecolor": "white"
           }
          },
          "shapedefaults": {
           "line": {
            "color": "#2a3f5f"
           }
          },
          "ternary": {
           "aaxis": {
            "gridcolor": "white",
            "linecolor": "white",
            "ticks": ""
           },
           "baxis": {
            "gridcolor": "white",
            "linecolor": "white",
            "ticks": ""
           },
           "bgcolor": "#E5ECF6",
           "caxis": {
            "gridcolor": "white",
            "linecolor": "white",
            "ticks": ""
           }
          },
          "title": {
           "x": 0.05
          },
          "xaxis": {
           "automargin": true,
           "gridcolor": "white",
           "linecolor": "white",
           "ticks": "",
           "title": {
            "standoff": 15
           },
           "zerolinecolor": "white",
           "zerolinewidth": 2
          },
          "yaxis": {
           "automargin": true,
           "gridcolor": "white",
           "linecolor": "white",
           "ticks": "",
           "title": {
            "standoff": 15
           },
           "zerolinecolor": "white",
           "zerolinewidth": 2
          }
         }
        },
        "title": {
         "text": "Features Importances"
        },
        "xaxis": {
         "anchor": "y",
         "domain": [
          0,
          1
         ],
         "title": {
          "text": "Features"
         }
        },
        "yaxis": {
         "anchor": "x",
         "domain": [
          0,
          1
         ],
         "title": {
          "text": "Importances Weightage"
         }
        }
       }
      },
      "text/html": [
       "<div>\n",
       "        \n",
       "        \n",
       "            <div id=\"1680f426-976b-4b02-911a-2c63d17ab562\" class=\"plotly-graph-div\" style=\"height:600px; width:100%;\"></div>\n",
       "            <script type=\"text/javascript\">\n",
       "                require([\"plotly\"], function(Plotly) {\n",
       "                    window.PLOTLYENV=window.PLOTLYENV || {};\n",
       "                    \n",
       "                if (document.getElementById(\"1680f426-976b-4b02-911a-2c63d17ab562\")) {\n",
       "                    Plotly.newPlot(\n",
       "                        '1680f426-976b-4b02-911a-2c63d17ab562',\n",
       "                        [{\"alignmentgroup\": \"True\", \"hoverlabel\": {\"namelength\": 0}, \"hovertemplate\": \"Features=%{x}<br>Importances Weightage=%{y}\", \"legendgroup\": \"\", \"marker\": {\"color\": \"#636efa\"}, \"name\": \"\", \"offsetgroup\": \"\", \"orientation\": \"v\", \"showlegend\": false, \"textposition\": \"auto\", \"type\": \"bar\", \"x\": [\"Runtime (min)\", \"Action\", \"Adventure\", \"Animation\", \"Biography\", \"Comedy\", \"Crime\", \"Drama\", \"Family\", \"Fantasy\", \"History\", \"Horror\", \"Musical\", \"Mystery\", \"Romance\", \"Sci-Fi\", \"Sport\", \"Thriller\", \"War\", \"Western\", \"IMDb_rating\", \"IMDb_votes\", \"RT_rating\", \"RT_review\", \"Metascore\", \"Budget\", \"Domestic (US) gross\", \"International gross\", \"Worldwide gross\", \"GG_drama_winner\", \"GG_drama_nominee\", \"GG_comedy_winner\", \"GG_comedy_nominee\", \"BAFTA_winner\", \"BAFTA_nominee\", \"DGA_winner\", \"DGA_nominee\", \"PGA_winner\", \"PGA_nominee\", \"CCMA_winner\", \"CCMA_nominee\", \"Golden_Palm_winner\", \"Golden_Palm_nominee\", \"Golden_Bear_winner\", \"Golden_Bear_nominee\", \"Golden_Lion_winner\", \"Golden_Lion_nominee\", \"PCA_winner\", \"PCA_nominee\", \"NYFCC_winner\", \"NYFCC_nominee\", \"OFCS_winner\", \"OFCS_nominee\"], \"xaxis\": \"x\", \"y\": [0.011, 0.005, 0.007, 0.0, 0.004, 0.005, 0.008, 0.003, 0.0, 0.002, 0.002, 0.0, 0.001, 0.001, 0.005, 0.005, 0.005, 0.016, 0.002, 0.0, 0.018, 0.019, 0.019, 0.016, 0.02, 0.013, 0.014, 0.018, 0.018, 0.021, 0.007, 0.002, 0.004, 0.056, 0.014, 0.2, 0.026, 0.128, 0.017, 0.174, 0.004, 0.001, 0.001, 0.0, 0.002, 0.01, 0.012, 0.012, 0.012, 0.012, 0.019, 0.021, 0.009], \"yaxis\": \"y\"}],\n",
       "                        {\"barmode\": \"relative\", \"height\": 600, \"legend\": {\"tracegroupgap\": 0}, \"template\": {\"data\": {\"bar\": [{\"error_x\": {\"color\": \"#2a3f5f\"}, \"error_y\": {\"color\": \"#2a3f5f\"}, \"marker\": {\"line\": {\"color\": \"#E5ECF6\", \"width\": 0.5}}, \"type\": \"bar\"}], \"barpolar\": [{\"marker\": {\"line\": {\"color\": \"#E5ECF6\", \"width\": 0.5}}, \"type\": \"barpolar\"}], \"carpet\": [{\"aaxis\": {\"endlinecolor\": \"#2a3f5f\", \"gridcolor\": \"white\", \"linecolor\": \"white\", \"minorgridcolor\": \"white\", \"startlinecolor\": \"#2a3f5f\"}, \"baxis\": {\"endlinecolor\": \"#2a3f5f\", \"gridcolor\": \"white\", \"linecolor\": \"white\", \"minorgridcolor\": \"white\", \"startlinecolor\": \"#2a3f5f\"}, \"type\": \"carpet\"}], \"choropleth\": [{\"colorbar\": {\"outlinewidth\": 0, \"ticks\": \"\"}, \"type\": \"choropleth\"}], \"contour\": [{\"colorbar\": {\"outlinewidth\": 0, \"ticks\": \"\"}, \"colorscale\": [[0.0, \"#0d0887\"], [0.1111111111111111, \"#46039f\"], [0.2222222222222222, \"#7201a8\"], [0.3333333333333333, \"#9c179e\"], [0.4444444444444444, \"#bd3786\"], [0.5555555555555556, \"#d8576b\"], [0.6666666666666666, \"#ed7953\"], [0.7777777777777778, \"#fb9f3a\"], [0.8888888888888888, \"#fdca26\"], [1.0, \"#f0f921\"]], \"type\": \"contour\"}], \"contourcarpet\": [{\"colorbar\": {\"outlinewidth\": 0, \"ticks\": \"\"}, \"type\": \"contourcarpet\"}], \"heatmap\": [{\"colorbar\": {\"outlinewidth\": 0, \"ticks\": \"\"}, \"colorscale\": [[0.0, \"#0d0887\"], [0.1111111111111111, \"#46039f\"], [0.2222222222222222, \"#7201a8\"], [0.3333333333333333, \"#9c179e\"], [0.4444444444444444, \"#bd3786\"], [0.5555555555555556, \"#d8576b\"], [0.6666666666666666, \"#ed7953\"], [0.7777777777777778, \"#fb9f3a\"], [0.8888888888888888, \"#fdca26\"], [1.0, \"#f0f921\"]], \"type\": \"heatmap\"}], \"heatmapgl\": [{\"colorbar\": {\"outlinewidth\": 0, \"ticks\": \"\"}, \"colorscale\": [[0.0, \"#0d0887\"], [0.1111111111111111, \"#46039f\"], [0.2222222222222222, \"#7201a8\"], [0.3333333333333333, \"#9c179e\"], [0.4444444444444444, \"#bd3786\"], [0.5555555555555556, \"#d8576b\"], [0.6666666666666666, \"#ed7953\"], [0.7777777777777778, \"#fb9f3a\"], [0.8888888888888888, \"#fdca26\"], [1.0, \"#f0f921\"]], \"type\": \"heatmapgl\"}], \"histogram\": [{\"marker\": {\"colorbar\": {\"outlinewidth\": 0, \"ticks\": \"\"}}, \"type\": \"histogram\"}], \"histogram2d\": [{\"colorbar\": {\"outlinewidth\": 0, \"ticks\": \"\"}, \"colorscale\": [[0.0, \"#0d0887\"], [0.1111111111111111, \"#46039f\"], [0.2222222222222222, \"#7201a8\"], [0.3333333333333333, \"#9c179e\"], [0.4444444444444444, \"#bd3786\"], [0.5555555555555556, \"#d8576b\"], [0.6666666666666666, \"#ed7953\"], [0.7777777777777778, \"#fb9f3a\"], [0.8888888888888888, \"#fdca26\"], [1.0, \"#f0f921\"]], \"type\": \"histogram2d\"}], \"histogram2dcontour\": [{\"colorbar\": {\"outlinewidth\": 0, \"ticks\": \"\"}, \"colorscale\": [[0.0, \"#0d0887\"], [0.1111111111111111, \"#46039f\"], [0.2222222222222222, \"#7201a8\"], [0.3333333333333333, \"#9c179e\"], [0.4444444444444444, \"#bd3786\"], [0.5555555555555556, \"#d8576b\"], [0.6666666666666666, \"#ed7953\"], [0.7777777777777778, \"#fb9f3a\"], [0.8888888888888888, \"#fdca26\"], [1.0, \"#f0f921\"]], \"type\": \"histogram2dcontour\"}], \"mesh3d\": [{\"colorbar\": {\"outlinewidth\": 0, \"ticks\": \"\"}, \"type\": \"mesh3d\"}], \"parcoords\": [{\"line\": {\"colorbar\": {\"outlinewidth\": 0, \"ticks\": \"\"}}, \"type\": \"parcoords\"}], \"pie\": [{\"automargin\": true, \"type\": \"pie\"}], \"scatter\": [{\"marker\": {\"colorbar\": {\"outlinewidth\": 0, \"ticks\": \"\"}}, \"type\": \"scatter\"}], \"scatter3d\": [{\"line\": {\"colorbar\": {\"outlinewidth\": 0, \"ticks\": \"\"}}, \"marker\": {\"colorbar\": {\"outlinewidth\": 0, \"ticks\": \"\"}}, \"type\": \"scatter3d\"}], \"scattercarpet\": [{\"marker\": {\"colorbar\": {\"outlinewidth\": 0, \"ticks\": \"\"}}, \"type\": \"scattercarpet\"}], \"scattergeo\": [{\"marker\": {\"colorbar\": {\"outlinewidth\": 0, \"ticks\": \"\"}}, \"type\": \"scattergeo\"}], \"scattergl\": [{\"marker\": {\"colorbar\": {\"outlinewidth\": 0, \"ticks\": \"\"}}, \"type\": \"scattergl\"}], \"scattermapbox\": [{\"marker\": {\"colorbar\": {\"outlinewidth\": 0, \"ticks\": \"\"}}, \"type\": \"scattermapbox\"}], \"scatterpolar\": [{\"marker\": {\"colorbar\": {\"outlinewidth\": 0, \"ticks\": \"\"}}, \"type\": \"scatterpolar\"}], \"scatterpolargl\": [{\"marker\": {\"colorbar\": {\"outlinewidth\": 0, \"ticks\": \"\"}}, \"type\": \"scatterpolargl\"}], \"scatterternary\": [{\"marker\": {\"colorbar\": {\"outlinewidth\": 0, \"ticks\": \"\"}}, \"type\": \"scatterternary\"}], \"surface\": [{\"colorbar\": {\"outlinewidth\": 0, \"ticks\": \"\"}, \"colorscale\": [[0.0, \"#0d0887\"], [0.1111111111111111, \"#46039f\"], [0.2222222222222222, \"#7201a8\"], [0.3333333333333333, \"#9c179e\"], [0.4444444444444444, \"#bd3786\"], [0.5555555555555556, \"#d8576b\"], [0.6666666666666666, \"#ed7953\"], [0.7777777777777778, \"#fb9f3a\"], [0.8888888888888888, \"#fdca26\"], [1.0, \"#f0f921\"]], \"type\": \"surface\"}], \"table\": [{\"cells\": {\"fill\": {\"color\": \"#EBF0F8\"}, \"line\": {\"color\": \"white\"}}, \"header\": {\"fill\": {\"color\": \"#C8D4E3\"}, \"line\": {\"color\": \"white\"}}, \"type\": \"table\"}]}, \"layout\": {\"annotationdefaults\": {\"arrowcolor\": \"#2a3f5f\", \"arrowhead\": 0, \"arrowwidth\": 1}, \"coloraxis\": {\"colorbar\": {\"outlinewidth\": 0, \"ticks\": \"\"}}, \"colorscale\": {\"diverging\": [[0, \"#8e0152\"], [0.1, \"#c51b7d\"], [0.2, \"#de77ae\"], [0.3, \"#f1b6da\"], [0.4, \"#fde0ef\"], [0.5, \"#f7f7f7\"], [0.6, \"#e6f5d0\"], [0.7, \"#b8e186\"], [0.8, \"#7fbc41\"], [0.9, \"#4d9221\"], [1, \"#276419\"]], \"sequential\": [[0.0, \"#0d0887\"], [0.1111111111111111, \"#46039f\"], [0.2222222222222222, \"#7201a8\"], [0.3333333333333333, \"#9c179e\"], [0.4444444444444444, \"#bd3786\"], [0.5555555555555556, \"#d8576b\"], [0.6666666666666666, \"#ed7953\"], [0.7777777777777778, \"#fb9f3a\"], [0.8888888888888888, \"#fdca26\"], [1.0, \"#f0f921\"]], \"sequentialminus\": [[0.0, \"#0d0887\"], [0.1111111111111111, \"#46039f\"], [0.2222222222222222, \"#7201a8\"], [0.3333333333333333, \"#9c179e\"], [0.4444444444444444, \"#bd3786\"], [0.5555555555555556, \"#d8576b\"], [0.6666666666666666, \"#ed7953\"], [0.7777777777777778, \"#fb9f3a\"], [0.8888888888888888, \"#fdca26\"], [1.0, \"#f0f921\"]]}, \"colorway\": [\"#636efa\", \"#EF553B\", \"#00cc96\", \"#ab63fa\", \"#FFA15A\", \"#19d3f3\", \"#FF6692\", \"#B6E880\", \"#FF97FF\", \"#FECB52\"], \"font\": {\"color\": \"#2a3f5f\"}, \"geo\": {\"bgcolor\": \"white\", \"lakecolor\": \"white\", \"landcolor\": \"#E5ECF6\", \"showlakes\": true, \"showland\": true, \"subunitcolor\": \"white\"}, \"hoverlabel\": {\"align\": \"left\"}, \"hovermode\": \"closest\", \"mapbox\": {\"style\": \"light\"}, \"paper_bgcolor\": \"white\", \"plot_bgcolor\": \"#E5ECF6\", \"polar\": {\"angularaxis\": {\"gridcolor\": \"white\", \"linecolor\": \"white\", \"ticks\": \"\"}, \"bgcolor\": \"#E5ECF6\", \"radialaxis\": {\"gridcolor\": \"white\", \"linecolor\": \"white\", \"ticks\": \"\"}}, \"scene\": {\"xaxis\": {\"backgroundcolor\": \"#E5ECF6\", \"gridcolor\": \"white\", \"gridwidth\": 2, \"linecolor\": \"white\", \"showbackground\": true, \"ticks\": \"\", \"zerolinecolor\": \"white\"}, \"yaxis\": {\"backgroundcolor\": \"#E5ECF6\", \"gridcolor\": \"white\", \"gridwidth\": 2, \"linecolor\": \"white\", \"showbackground\": true, \"ticks\": \"\", \"zerolinecolor\": \"white\"}, \"zaxis\": {\"backgroundcolor\": \"#E5ECF6\", \"gridcolor\": \"white\", \"gridwidth\": 2, \"linecolor\": \"white\", \"showbackground\": true, \"ticks\": \"\", \"zerolinecolor\": \"white\"}}, \"shapedefaults\": {\"line\": {\"color\": \"#2a3f5f\"}}, \"ternary\": {\"aaxis\": {\"gridcolor\": \"white\", \"linecolor\": \"white\", \"ticks\": \"\"}, \"baxis\": {\"gridcolor\": \"white\", \"linecolor\": \"white\", \"ticks\": \"\"}, \"bgcolor\": \"#E5ECF6\", \"caxis\": {\"gridcolor\": \"white\", \"linecolor\": \"white\", \"ticks\": \"\"}}, \"title\": {\"x\": 0.05}, \"xaxis\": {\"automargin\": true, \"gridcolor\": \"white\", \"linecolor\": \"white\", \"ticks\": \"\", \"title\": {\"standoff\": 15}, \"zerolinecolor\": \"white\", \"zerolinewidth\": 2}, \"yaxis\": {\"automargin\": true, \"gridcolor\": \"white\", \"linecolor\": \"white\", \"ticks\": \"\", \"title\": {\"standoff\": 15}, \"zerolinecolor\": \"white\", \"zerolinewidth\": 2}}}, \"title\": {\"text\": \"Features Importances\"}, \"xaxis\": {\"anchor\": \"y\", \"domain\": [0.0, 1.0], \"title\": {\"text\": \"Features\"}}, \"yaxis\": {\"anchor\": \"x\", \"domain\": [0.0, 1.0], \"title\": {\"text\": \"Importances Weightage\"}}},\n",
       "                        {\"responsive\": true}\n",
       "                    ).then(function(){\n",
       "                            \n",
       "var gd = document.getElementById('1680f426-976b-4b02-911a-2c63d17ab562');\n",
       "var x = new MutationObserver(function (mutations, observer) {{\n",
       "        var display = window.getComputedStyle(gd).display;\n",
       "        if (!display || display === 'none') {{\n",
       "            console.log([gd, 'removed!']);\n",
       "            Plotly.purge(gd);\n",
       "            observer.disconnect();\n",
       "        }}\n",
       "}});\n",
       "\n",
       "// Listen for the removal of the full notebook cells\n",
       "var notebookContainer = gd.closest('#notebook-container');\n",
       "if (notebookContainer) {{\n",
       "    x.observe(notebookContainer, {childList: true});\n",
       "}}\n",
       "\n",
       "// Listen for the clearing of the current output cell\n",
       "var outputEl = gd.closest('.output');\n",
       "if (outputEl) {{\n",
       "    x.observe(outputEl, {childList: true});\n",
       "}}\n",
       "\n",
       "                        })\n",
       "                };\n",
       "                });\n",
       "            </script>\n",
       "        </div>"
      ]
     },
     "metadata": {},
     "output_type": "display_data"
    }
   ],
   "source": [
    "extree_importances['Features'] = all_features\n",
    "fig = px.bar(extree_importances, x='Features', y='Importances Weightage', \n",
    "             title='Features Importances', height=600)\n",
    "fig.show()"
   ]
  },
  {
   "cell_type": "code",
   "execution_count": 34,
   "metadata": {},
   "outputs": [
    {
     "data": {
      "text/html": [
       "<div>\n",
       "<style scoped>\n",
       "    .dataframe tbody tr th:only-of-type {\n",
       "        vertical-align: middle;\n",
       "    }\n",
       "\n",
       "    .dataframe tbody tr th {\n",
       "        vertical-align: top;\n",
       "    }\n",
       "\n",
       "    .dataframe thead th {\n",
       "        text-align: right;\n",
       "    }\n",
       "</style>\n",
       "<table border=\"1\" class=\"dataframe\">\n",
       "  <thead>\n",
       "    <tr style=\"text-align: right;\">\n",
       "      <th></th>\n",
       "      <th>Year</th>\n",
       "      <th>Movie</th>\n",
       "      <th>Oscar_nominee</th>\n",
       "      <th>Oscar_winner</th>\n",
       "      <th>Predicted Win Rate</th>\n",
       "    </tr>\n",
       "  </thead>\n",
       "  <tbody>\n",
       "    <tr>\n",
       "      <th>0</th>\n",
       "      <td>2015</td>\n",
       "      <td>Star Wars: Episode VII - The Force Awakens</td>\n",
       "      <td>0</td>\n",
       "      <td>0</td>\n",
       "      <td>0.00</td>\n",
       "    </tr>\n",
       "    <tr>\n",
       "      <th>1</th>\n",
       "      <td>2015</td>\n",
       "      <td>Mad Max: Fury Road</td>\n",
       "      <td>1</td>\n",
       "      <td>0</td>\n",
       "      <td>0.03</td>\n",
       "    </tr>\n",
       "    <tr>\n",
       "      <th>2</th>\n",
       "      <td>2015</td>\n",
       "      <td>The Martian</td>\n",
       "      <td>1</td>\n",
       "      <td>0</td>\n",
       "      <td>0.00</td>\n",
       "    </tr>\n",
       "    <tr>\n",
       "      <th>3</th>\n",
       "      <td>2015</td>\n",
       "      <td>Avengers: Age of Ultron</td>\n",
       "      <td>0</td>\n",
       "      <td>0</td>\n",
       "      <td>0.00</td>\n",
       "    </tr>\n",
       "    <tr>\n",
       "      <th>4</th>\n",
       "      <td>2015</td>\n",
       "      <td>The Revenant</td>\n",
       "      <td>1</td>\n",
       "      <td>0</td>\n",
       "      <td>0.29</td>\n",
       "    </tr>\n",
       "  </tbody>\n",
       "</table>\n",
       "</div>"
      ],
      "text/plain": [
       "   Year                                       Movie  Oscar_nominee  \\\n",
       "0  2015  Star Wars: Episode VII - The Force Awakens              0   \n",
       "1  2015                          Mad Max: Fury Road              1   \n",
       "2  2015                                 The Martian              1   \n",
       "3  2015                     Avengers: Age of Ultron              0   \n",
       "4  2015                                The Revenant              1   \n",
       "\n",
       "   Oscar_winner  Predicted Win Rate  \n",
       "0             0                0.00  \n",
       "1             0                0.03  \n",
       "2             0                0.00  \n",
       "3             0                0.00  \n",
       "4             0                0.29  "
      ]
     },
     "execution_count": 34,
     "metadata": {},
     "output_type": "execute_result"
    }
   ],
   "source": [
    "pred_extree = extree.predict_proba(X_test)[:, 1]\n",
    "\n",
    "extree_df = pd.DataFrame(year, columns=[\"Year\"])\n",
    "extree_df[\"Movie\"] = movie_name\n",
    "extree_df[\"Oscar_nominee\"] = oscar_n\n",
    "extree_df[\"Oscar_winner\"] = oscar_w\n",
    "extree_df['Predicted Win Rate'] = pred_extree\n",
    "\n",
    "extree_df.head(5)"
   ]
  },
  {
   "cell_type": "code",
   "execution_count": 35,
   "metadata": {},
   "outputs": [],
   "source": [
    "normalized_prediction = extree_df.copy()\n",
    "\n",
    "for index, row in normalized_prediction.iterrows():\n",
    "    normalized_prediction.loc[index, \"Predicted Win Rate\"] = \\\n",
    "        (row[\"Predicted Win Rate\"] / extree_df[\"Predicted Win Rate\"][extree_df[\"Year\"] == row[\"Year\"]].sum()).round(3)   "
   ]
  },
  {
   "cell_type": "code",
   "execution_count": 36,
   "metadata": {},
   "outputs": [
    {
     "data": {
      "text/html": [
       "<div>\n",
       "<style scoped>\n",
       "    .dataframe tbody tr th:only-of-type {\n",
       "        vertical-align: middle;\n",
       "    }\n",
       "\n",
       "    .dataframe tbody tr th {\n",
       "        vertical-align: top;\n",
       "    }\n",
       "\n",
       "    .dataframe thead th {\n",
       "        text-align: right;\n",
       "    }\n",
       "</style>\n",
       "<table border=\"1\" class=\"dataframe\">\n",
       "  <thead>\n",
       "    <tr style=\"text-align: right;\">\n",
       "      <th></th>\n",
       "      <th>Year</th>\n",
       "      <th>Movie</th>\n",
       "      <th>Oscar_nominee</th>\n",
       "      <th>Oscar_winner</th>\n",
       "      <th>Predicted Win Rate</th>\n",
       "    </tr>\n",
       "  </thead>\n",
       "  <tbody>\n",
       "    <tr>\n",
       "      <th>9</th>\n",
       "      <td>2015</td>\n",
       "      <td>Spotlight</td>\n",
       "      <td>1</td>\n",
       "      <td>1</td>\n",
       "      <td>0.395</td>\n",
       "    </tr>\n",
       "    <tr>\n",
       "      <th>4</th>\n",
       "      <td>2015</td>\n",
       "      <td>The Revenant</td>\n",
       "      <td>1</td>\n",
       "      <td>0</td>\n",
       "      <td>0.382</td>\n",
       "    </tr>\n",
       "    <tr>\n",
       "      <th>14</th>\n",
       "      <td>2015</td>\n",
       "      <td>The Big Short</td>\n",
       "      <td>1</td>\n",
       "      <td>0</td>\n",
       "      <td>0.105</td>\n",
       "    </tr>\n",
       "    <tr>\n",
       "      <th>17</th>\n",
       "      <td>2015</td>\n",
       "      <td>Bridge of Spies</td>\n",
       "      <td>1</td>\n",
       "      <td>0</td>\n",
       "      <td>0.053</td>\n",
       "    </tr>\n",
       "    <tr>\n",
       "      <th>1</th>\n",
       "      <td>2015</td>\n",
       "      <td>Mad Max: Fury Road</td>\n",
       "      <td>1</td>\n",
       "      <td>0</td>\n",
       "      <td>0.039</td>\n",
       "    </tr>\n",
       "    <tr>\n",
       "      <th>96</th>\n",
       "      <td>2015</td>\n",
       "      <td>Anomalisa</td>\n",
       "      <td>0</td>\n",
       "      <td>0</td>\n",
       "      <td>0.013</td>\n",
       "    </tr>\n",
       "    <tr>\n",
       "      <th>13</th>\n",
       "      <td>2015</td>\n",
       "      <td>Room</td>\n",
       "      <td>1</td>\n",
       "      <td>0</td>\n",
       "      <td>0.013</td>\n",
       "    </tr>\n",
       "    <tr>\n",
       "      <th>68</th>\n",
       "      <td>2015</td>\n",
       "      <td>Home</td>\n",
       "      <td>0</td>\n",
       "      <td>0</td>\n",
       "      <td>0.000</td>\n",
       "    </tr>\n",
       "    <tr>\n",
       "      <th>65</th>\n",
       "      <td>2015</td>\n",
       "      <td>Vacation</td>\n",
       "      <td>0</td>\n",
       "      <td>0</td>\n",
       "      <td>0.000</td>\n",
       "    </tr>\n",
       "    <tr>\n",
       "      <th>66</th>\n",
       "      <td>2015</td>\n",
       "      <td>Paper Towns</td>\n",
       "      <td>0</td>\n",
       "      <td>0</td>\n",
       "      <td>0.000</td>\n",
       "    </tr>\n",
       "  </tbody>\n",
       "</table>\n",
       "</div>"
      ],
      "text/plain": [
       "    Year               Movie  Oscar_nominee  Oscar_winner  Predicted Win Rate\n",
       "9   2015           Spotlight              1             1               0.395\n",
       "4   2015        The Revenant              1             0               0.382\n",
       "14  2015       The Big Short              1             0               0.105\n",
       "17  2015     Bridge of Spies              1             0               0.053\n",
       "1   2015  Mad Max: Fury Road              1             0               0.039\n",
       "96  2015           Anomalisa              0             0               0.013\n",
       "13  2015                Room              1             0               0.013\n",
       "68  2015                Home              0             0               0.000\n",
       "65  2015            Vacation              0             0               0.000\n",
       "66  2015         Paper Towns              0             0               0.000"
      ]
     },
     "execution_count": 36,
     "metadata": {},
     "output_type": "execute_result"
    }
   ],
   "source": [
    "normalized_prediction[normalized_prediction[\"Year\"] == 2015].sort_values(\"Predicted Win Rate\", ascending=False).head(10)"
   ]
  },
  {
   "cell_type": "code",
   "execution_count": 37,
   "metadata": {},
   "outputs": [
    {
     "data": {
      "text/html": [
       "<div>\n",
       "<style scoped>\n",
       "    .dataframe tbody tr th:only-of-type {\n",
       "        vertical-align: middle;\n",
       "    }\n",
       "\n",
       "    .dataframe tbody tr th {\n",
       "        vertical-align: top;\n",
       "    }\n",
       "\n",
       "    .dataframe thead th {\n",
       "        text-align: right;\n",
       "    }\n",
       "</style>\n",
       "<table border=\"1\" class=\"dataframe\">\n",
       "  <thead>\n",
       "    <tr style=\"text-align: right;\">\n",
       "      <th></th>\n",
       "      <th>Year</th>\n",
       "      <th>Movie</th>\n",
       "      <th>Oscar_nominee</th>\n",
       "      <th>Oscar_winner</th>\n",
       "      <th>Predicted Win Rate</th>\n",
       "    </tr>\n",
       "  </thead>\n",
       "  <tbody>\n",
       "    <tr>\n",
       "      <th>107</th>\n",
       "      <td>2016</td>\n",
       "      <td>La La Land</td>\n",
       "      <td>1</td>\n",
       "      <td>0</td>\n",
       "      <td>0.921</td>\n",
       "    </tr>\n",
       "    <tr>\n",
       "      <th>116</th>\n",
       "      <td>2016</td>\n",
       "      <td>Moonlight</td>\n",
       "      <td>1</td>\n",
       "      <td>1</td>\n",
       "      <td>0.022</td>\n",
       "    </tr>\n",
       "    <tr>\n",
       "      <th>105</th>\n",
       "      <td>2016</td>\n",
       "      <td>Arrival</td>\n",
       "      <td>1</td>\n",
       "      <td>0</td>\n",
       "      <td>0.022</td>\n",
       "    </tr>\n",
       "    <tr>\n",
       "      <th>109</th>\n",
       "      <td>2016</td>\n",
       "      <td>Hacksaw Ridge</td>\n",
       "      <td>1</td>\n",
       "      <td>0</td>\n",
       "      <td>0.022</td>\n",
       "    </tr>\n",
       "    <tr>\n",
       "      <th>130</th>\n",
       "      <td>2016</td>\n",
       "      <td>Lion</td>\n",
       "      <td>1</td>\n",
       "      <td>0</td>\n",
       "      <td>0.011</td>\n",
       "    </tr>\n",
       "    <tr>\n",
       "      <th>100</th>\n",
       "      <td>2016</td>\n",
       "      <td>Deadpool</td>\n",
       "      <td>0</td>\n",
       "      <td>0</td>\n",
       "      <td>0.000</td>\n",
       "    </tr>\n",
       "    <tr>\n",
       "      <th>174</th>\n",
       "      <td>2016</td>\n",
       "      <td>Hunt for the Wilderpeople</td>\n",
       "      <td>0</td>\n",
       "      <td>0</td>\n",
       "      <td>0.000</td>\n",
       "    </tr>\n",
       "    <tr>\n",
       "      <th>173</th>\n",
       "      <td>2016</td>\n",
       "      <td>Swiss Army Man</td>\n",
       "      <td>0</td>\n",
       "      <td>0</td>\n",
       "      <td>0.000</td>\n",
       "    </tr>\n",
       "    <tr>\n",
       "      <th>172</th>\n",
       "      <td>2016</td>\n",
       "      <td>Gods of Egypt</td>\n",
       "      <td>0</td>\n",
       "      <td>0</td>\n",
       "      <td>0.000</td>\n",
       "    </tr>\n",
       "    <tr>\n",
       "      <th>171</th>\n",
       "      <td>2016</td>\n",
       "      <td>Allegiant</td>\n",
       "      <td>0</td>\n",
       "      <td>0</td>\n",
       "      <td>0.000</td>\n",
       "    </tr>\n",
       "  </tbody>\n",
       "</table>\n",
       "</div>"
      ],
      "text/plain": [
       "     Year                      Movie  Oscar_nominee  Oscar_winner  \\\n",
       "107  2016                 La La Land              1             0   \n",
       "116  2016                  Moonlight              1             1   \n",
       "105  2016                    Arrival              1             0   \n",
       "109  2016              Hacksaw Ridge              1             0   \n",
       "130  2016                       Lion              1             0   \n",
       "100  2016                   Deadpool              0             0   \n",
       "174  2016  Hunt for the Wilderpeople              0             0   \n",
       "173  2016             Swiss Army Man              0             0   \n",
       "172  2016              Gods of Egypt              0             0   \n",
       "171  2016                  Allegiant              0             0   \n",
       "\n",
       "     Predicted Win Rate  \n",
       "107               0.921  \n",
       "116               0.022  \n",
       "105               0.022  \n",
       "109               0.022  \n",
       "130               0.011  \n",
       "100               0.000  \n",
       "174               0.000  \n",
       "173               0.000  \n",
       "172               0.000  \n",
       "171               0.000  "
      ]
     },
     "execution_count": 37,
     "metadata": {},
     "output_type": "execute_result"
    }
   ],
   "source": [
    "normalized_prediction[normalized_prediction[\"Year\"] == 2016].sort_values(\"Predicted Win Rate\", ascending=False).head(10)"
   ]
  },
  {
   "cell_type": "code",
   "execution_count": 38,
   "metadata": {},
   "outputs": [
    {
     "data": {
      "text/html": [
       "<div>\n",
       "<style scoped>\n",
       "    .dataframe tbody tr th:only-of-type {\n",
       "        vertical-align: middle;\n",
       "    }\n",
       "\n",
       "    .dataframe tbody tr th {\n",
       "        vertical-align: top;\n",
       "    }\n",
       "\n",
       "    .dataframe thead th {\n",
       "        text-align: right;\n",
       "    }\n",
       "</style>\n",
       "<table border=\"1\" class=\"dataframe\">\n",
       "  <thead>\n",
       "    <tr style=\"text-align: right;\">\n",
       "      <th></th>\n",
       "      <th>Year</th>\n",
       "      <th>Movie</th>\n",
       "      <th>Oscar_nominee</th>\n",
       "      <th>Oscar_winner</th>\n",
       "      <th>Predicted Win Rate</th>\n",
       "    </tr>\n",
       "  </thead>\n",
       "  <tbody>\n",
       "    <tr>\n",
       "      <th>213</th>\n",
       "      <td>2017</td>\n",
       "      <td>The Shape of Water</td>\n",
       "      <td>1</td>\n",
       "      <td>1</td>\n",
       "      <td>0.705</td>\n",
       "    </tr>\n",
       "    <tr>\n",
       "      <th>211</th>\n",
       "      <td>2017</td>\n",
       "      <td>Three Billboards Outside Ebbing, Missouri</td>\n",
       "      <td>1</td>\n",
       "      <td>0</td>\n",
       "      <td>0.227</td>\n",
       "    </tr>\n",
       "    <tr>\n",
       "      <th>224</th>\n",
       "      <td>2017</td>\n",
       "      <td>Lady Bird</td>\n",
       "      <td>1</td>\n",
       "      <td>0</td>\n",
       "      <td>0.034</td>\n",
       "    </tr>\n",
       "    <tr>\n",
       "      <th>207</th>\n",
       "      <td>2017</td>\n",
       "      <td>Get Out</td>\n",
       "      <td>1</td>\n",
       "      <td>0</td>\n",
       "      <td>0.034</td>\n",
       "    </tr>\n",
       "    <tr>\n",
       "      <th>200</th>\n",
       "      <td>2017</td>\n",
       "      <td>Logan</td>\n",
       "      <td>0</td>\n",
       "      <td>0</td>\n",
       "      <td>0.000</td>\n",
       "    </tr>\n",
       "    <tr>\n",
       "      <th>265</th>\n",
       "      <td>2017</td>\n",
       "      <td>Geostorm</td>\n",
       "      <td>0</td>\n",
       "      <td>0</td>\n",
       "      <td>0.000</td>\n",
       "    </tr>\n",
       "    <tr>\n",
       "      <th>274</th>\n",
       "      <td>2017</td>\n",
       "      <td>Going in Style</td>\n",
       "      <td>0</td>\n",
       "      <td>0</td>\n",
       "      <td>0.000</td>\n",
       "    </tr>\n",
       "    <tr>\n",
       "      <th>273</th>\n",
       "      <td>2017</td>\n",
       "      <td>Reis</td>\n",
       "      <td>0</td>\n",
       "      <td>0</td>\n",
       "      <td>0.000</td>\n",
       "    </tr>\n",
       "    <tr>\n",
       "      <th>272</th>\n",
       "      <td>2017</td>\n",
       "      <td>The Death of Stalin</td>\n",
       "      <td>0</td>\n",
       "      <td>0</td>\n",
       "      <td>0.000</td>\n",
       "    </tr>\n",
       "    <tr>\n",
       "      <th>271</th>\n",
       "      <td>2017</td>\n",
       "      <td>It Comes at Night</td>\n",
       "      <td>0</td>\n",
       "      <td>0</td>\n",
       "      <td>0.000</td>\n",
       "    </tr>\n",
       "  </tbody>\n",
       "</table>\n",
       "</div>"
      ],
      "text/plain": [
       "     Year                                      Movie  Oscar_nominee  \\\n",
       "213  2017                         The Shape of Water              1   \n",
       "211  2017  Three Billboards Outside Ebbing, Missouri              1   \n",
       "224  2017                                  Lady Bird              1   \n",
       "207  2017                                    Get Out              1   \n",
       "200  2017                                      Logan              0   \n",
       "265  2017                                   Geostorm              0   \n",
       "274  2017                             Going in Style              0   \n",
       "273  2017                                       Reis              0   \n",
       "272  2017                        The Death of Stalin              0   \n",
       "271  2017                          It Comes at Night              0   \n",
       "\n",
       "     Oscar_winner  Predicted Win Rate  \n",
       "213             1               0.705  \n",
       "211             0               0.227  \n",
       "224             0               0.034  \n",
       "207             0               0.034  \n",
       "200             0               0.000  \n",
       "265             0               0.000  \n",
       "274             0               0.000  \n",
       "273             0               0.000  \n",
       "272             0               0.000  \n",
       "271             0               0.000  "
      ]
     },
     "execution_count": 38,
     "metadata": {},
     "output_type": "execute_result"
    }
   ],
   "source": [
    "normalized_prediction[normalized_prediction[\"Year\"] == 2017].sort_values(\"Predicted Win Rate\", ascending=False).head(10)"
   ]
  },
  {
   "cell_type": "code",
   "execution_count": 39,
   "metadata": {},
   "outputs": [
    {
     "data": {
      "text/html": [
       "<div>\n",
       "<style scoped>\n",
       "    .dataframe tbody tr th:only-of-type {\n",
       "        vertical-align: middle;\n",
       "    }\n",
       "\n",
       "    .dataframe tbody tr th {\n",
       "        vertical-align: top;\n",
       "    }\n",
       "\n",
       "    .dataframe thead th {\n",
       "        text-align: right;\n",
       "    }\n",
       "</style>\n",
       "<table border=\"1\" class=\"dataframe\">\n",
       "  <thead>\n",
       "    <tr style=\"text-align: right;\">\n",
       "      <th></th>\n",
       "      <th>Year</th>\n",
       "      <th>Movie</th>\n",
       "      <th>Oscar_nominee</th>\n",
       "      <th>Oscar_winner</th>\n",
       "      <th>Predicted Win Rate</th>\n",
       "    </tr>\n",
       "  </thead>\n",
       "  <tbody>\n",
       "    <tr>\n",
       "      <th>330</th>\n",
       "      <td>2018</td>\n",
       "      <td>Roma</td>\n",
       "      <td>1</td>\n",
       "      <td>0</td>\n",
       "      <td>0.474</td>\n",
       "    </tr>\n",
       "    <tr>\n",
       "      <th>309</th>\n",
       "      <td>2018</td>\n",
       "      <td>Green Book</td>\n",
       "      <td>1</td>\n",
       "      <td>1</td>\n",
       "      <td>0.329</td>\n",
       "    </tr>\n",
       "    <tr>\n",
       "      <th>325</th>\n",
       "      <td>2018</td>\n",
       "      <td>The Favourite</td>\n",
       "      <td>1</td>\n",
       "      <td>0</td>\n",
       "      <td>0.079</td>\n",
       "    </tr>\n",
       "    <tr>\n",
       "      <th>303</th>\n",
       "      <td>2018</td>\n",
       "      <td>Bohemian Rhapsody</td>\n",
       "      <td>1</td>\n",
       "      <td>0</td>\n",
       "      <td>0.053</td>\n",
       "    </tr>\n",
       "    <tr>\n",
       "      <th>321</th>\n",
       "      <td>2018</td>\n",
       "      <td>BlacKkKlansman</td>\n",
       "      <td>1</td>\n",
       "      <td>0</td>\n",
       "      <td>0.039</td>\n",
       "    </tr>\n",
       "    <tr>\n",
       "      <th>310</th>\n",
       "      <td>2018</td>\n",
       "      <td>A Star Is Born</td>\n",
       "      <td>1</td>\n",
       "      <td>0</td>\n",
       "      <td>0.013</td>\n",
       "    </tr>\n",
       "    <tr>\n",
       "      <th>344</th>\n",
       "      <td>2018</td>\n",
       "      <td>Vice</td>\n",
       "      <td>1</td>\n",
       "      <td>0</td>\n",
       "      <td>0.013</td>\n",
       "    </tr>\n",
       "    <tr>\n",
       "      <th>367</th>\n",
       "      <td>2018</td>\n",
       "      <td>Andhadhun</td>\n",
       "      <td>0</td>\n",
       "      <td>0</td>\n",
       "      <td>0.000</td>\n",
       "    </tr>\n",
       "    <tr>\n",
       "      <th>375</th>\n",
       "      <td>2018</td>\n",
       "      <td>Sorry to Bother You</td>\n",
       "      <td>0</td>\n",
       "      <td>0</td>\n",
       "      <td>0.000</td>\n",
       "    </tr>\n",
       "    <tr>\n",
       "      <th>374</th>\n",
       "      <td>2018</td>\n",
       "      <td>Outlaw King</td>\n",
       "      <td>0</td>\n",
       "      <td>0</td>\n",
       "      <td>0.000</td>\n",
       "    </tr>\n",
       "  </tbody>\n",
       "</table>\n",
       "</div>"
      ],
      "text/plain": [
       "     Year                Movie  Oscar_nominee  Oscar_winner  \\\n",
       "330  2018                 Roma              1             0   \n",
       "309  2018           Green Book              1             1   \n",
       "325  2018        The Favourite              1             0   \n",
       "303  2018    Bohemian Rhapsody              1             0   \n",
       "321  2018       BlacKkKlansman              1             0   \n",
       "310  2018       A Star Is Born              1             0   \n",
       "344  2018                 Vice              1             0   \n",
       "367  2018            Andhadhun              0             0   \n",
       "375  2018  Sorry to Bother You              0             0   \n",
       "374  2018          Outlaw King              0             0   \n",
       "\n",
       "     Predicted Win Rate  \n",
       "330               0.474  \n",
       "309               0.329  \n",
       "325               0.079  \n",
       "303               0.053  \n",
       "321               0.039  \n",
       "310               0.013  \n",
       "344               0.013  \n",
       "367               0.000  \n",
       "375               0.000  \n",
       "374               0.000  "
      ]
     },
     "execution_count": 39,
     "metadata": {},
     "output_type": "execute_result"
    }
   ],
   "source": [
    "normalized_prediction[normalized_prediction[\"Year\"] == 2018].sort_values(\"Predicted Win Rate\", ascending=False).head(10)"
   ]
  },
  {
   "cell_type": "code",
   "execution_count": 40,
   "metadata": {},
   "outputs": [
    {
     "data": {
      "text/html": [
       "<div>\n",
       "<style scoped>\n",
       "    .dataframe tbody tr th:only-of-type {\n",
       "        vertical-align: middle;\n",
       "    }\n",
       "\n",
       "    .dataframe tbody tr th {\n",
       "        vertical-align: top;\n",
       "    }\n",
       "\n",
       "    .dataframe thead th {\n",
       "        text-align: right;\n",
       "    }\n",
       "</style>\n",
       "<table border=\"1\" class=\"dataframe\">\n",
       "  <thead>\n",
       "    <tr style=\"text-align: right;\">\n",
       "      <th></th>\n",
       "      <th>Year</th>\n",
       "      <th>Movie</th>\n",
       "      <th>Oscar_nominee</th>\n",
       "      <th>Oscar_winner</th>\n",
       "      <th>Predicted Win Rate</th>\n",
       "    </tr>\n",
       "  </thead>\n",
       "  <tbody>\n",
       "    <tr>\n",
       "      <th>408</th>\n",
       "      <td>2019</td>\n",
       "      <td>1917</td>\n",
       "      <td>1</td>\n",
       "      <td>0</td>\n",
       "      <td>0.470</td>\n",
       "    </tr>\n",
       "    <tr>\n",
       "      <th>402</th>\n",
       "      <td>2019</td>\n",
       "      <td>Once Upon a Time in Hollywood</td>\n",
       "      <td>1</td>\n",
       "      <td>0</td>\n",
       "      <td>0.322</td>\n",
       "    </tr>\n",
       "    <tr>\n",
       "      <th>400</th>\n",
       "      <td>2019</td>\n",
       "      <td>Joker</td>\n",
       "      <td>1</td>\n",
       "      <td>0</td>\n",
       "      <td>0.087</td>\n",
       "    </tr>\n",
       "    <tr>\n",
       "      <th>404</th>\n",
       "      <td>2019</td>\n",
       "      <td>Parasite</td>\n",
       "      <td>1</td>\n",
       "      <td>1</td>\n",
       "      <td>0.078</td>\n",
       "    </tr>\n",
       "    <tr>\n",
       "      <th>413</th>\n",
       "      <td>2019</td>\n",
       "      <td>Marriage Story</td>\n",
       "      <td>1</td>\n",
       "      <td>0</td>\n",
       "      <td>0.017</td>\n",
       "    </tr>\n",
       "    <tr>\n",
       "      <th>425</th>\n",
       "      <td>2019</td>\n",
       "      <td>Uncut Gems</td>\n",
       "      <td>0</td>\n",
       "      <td>0</td>\n",
       "      <td>0.009</td>\n",
       "    </tr>\n",
       "    <tr>\n",
       "      <th>418</th>\n",
       "      <td>2019</td>\n",
       "      <td>Jojo Rabbit</td>\n",
       "      <td>1</td>\n",
       "      <td>0</td>\n",
       "      <td>0.009</td>\n",
       "    </tr>\n",
       "    <tr>\n",
       "      <th>416</th>\n",
       "      <td>2019</td>\n",
       "      <td>Ford v Ferrari</td>\n",
       "      <td>1</td>\n",
       "      <td>0</td>\n",
       "      <td>0.009</td>\n",
       "    </tr>\n",
       "    <tr>\n",
       "      <th>475</th>\n",
       "      <td>2019</td>\n",
       "      <td>Scary Stories to Tell in the Dark</td>\n",
       "      <td>0</td>\n",
       "      <td>0</td>\n",
       "      <td>0.000</td>\n",
       "    </tr>\n",
       "    <tr>\n",
       "      <th>474</th>\n",
       "      <td>2019</td>\n",
       "      <td>Annabelle Comes Home</td>\n",
       "      <td>0</td>\n",
       "      <td>0</td>\n",
       "      <td>0.000</td>\n",
       "    </tr>\n",
       "  </tbody>\n",
       "</table>\n",
       "</div>"
      ],
      "text/plain": [
       "     Year                              Movie  Oscar_nominee  Oscar_winner  \\\n",
       "408  2019                               1917              1             0   \n",
       "402  2019      Once Upon a Time in Hollywood              1             0   \n",
       "400  2019                              Joker              1             0   \n",
       "404  2019                           Parasite              1             1   \n",
       "413  2019                     Marriage Story              1             0   \n",
       "425  2019                         Uncut Gems              0             0   \n",
       "418  2019                        Jojo Rabbit              1             0   \n",
       "416  2019                     Ford v Ferrari              1             0   \n",
       "475  2019  Scary Stories to Tell in the Dark              0             0   \n",
       "474  2019               Annabelle Comes Home              0             0   \n",
       "\n",
       "     Predicted Win Rate  \n",
       "408               0.470  \n",
       "402               0.322  \n",
       "400               0.087  \n",
       "404               0.078  \n",
       "413               0.017  \n",
       "425               0.009  \n",
       "418               0.009  \n",
       "416               0.009  \n",
       "475               0.000  \n",
       "474               0.000  "
      ]
     },
     "execution_count": 40,
     "metadata": {},
     "output_type": "execute_result"
    }
   ],
   "source": [
    "normalized_prediction[normalized_prediction[\"Year\"] == 2019].sort_values(\"Predicted Win Rate\", ascending=False).head(10)"
   ]
  },
  {
   "cell_type": "markdown",
   "metadata": {},
   "source": [
    "### Quick Comments on #1 - The Trees:\n",
    "\n",
    "> 1. Decision Tree is bad\n",
    "> 2. Random Forest is good\n",
    "> 3. Extra Trees is great!!"
   ]
  },
  {
   "cell_type": "markdown",
   "metadata": {},
   "source": [
    "---\n",
    "# #2 - Boosting Classifers"
   ]
  },
  {
   "cell_type": "markdown",
   "metadata": {},
   "source": [
    "<img src=\"img\\rocket.png\" width=\"500\" align=\"center\"/>"
   ]
  },
  {
   "cell_type": "markdown",
   "metadata": {},
   "source": [
    "## #2.1 - AdaBoost Classifier"
   ]
  },
  {
   "cell_type": "code",
   "execution_count": 51,
   "metadata": {},
   "outputs": [],
   "source": [
    "ABC = AdaBoostClassifier()\n",
    "\n",
    "my_ABC = ABC.fit(X_train, y_train)"
   ]
  },
  {
   "cell_type": "code",
   "execution_count": 52,
   "metadata": {},
   "outputs": [
    {
     "data": {
      "text/html": [
       "<div>\n",
       "<style scoped>\n",
       "    .dataframe tbody tr th:only-of-type {\n",
       "        vertical-align: middle;\n",
       "    }\n",
       "\n",
       "    .dataframe tbody tr th {\n",
       "        vertical-align: top;\n",
       "    }\n",
       "\n",
       "    .dataframe thead th {\n",
       "        text-align: right;\n",
       "    }\n",
       "</style>\n",
       "<table border=\"1\" class=\"dataframe\">\n",
       "  <thead>\n",
       "    <tr style=\"text-align: right;\">\n",
       "      <th></th>\n",
       "      <th>Year</th>\n",
       "      <th>Movie</th>\n",
       "      <th>Oscar_nominee</th>\n",
       "      <th>Oscar_winner</th>\n",
       "      <th>Predicted Win Rate</th>\n",
       "    </tr>\n",
       "  </thead>\n",
       "  <tbody>\n",
       "    <tr>\n",
       "      <th>0</th>\n",
       "      <td>2015</td>\n",
       "      <td>Star Wars: Episode VII - The Force Awakens</td>\n",
       "      <td>0</td>\n",
       "      <td>0</td>\n",
       "      <td>0.186088</td>\n",
       "    </tr>\n",
       "    <tr>\n",
       "      <th>1</th>\n",
       "      <td>2015</td>\n",
       "      <td>Mad Max: Fury Road</td>\n",
       "      <td>1</td>\n",
       "      <td>0</td>\n",
       "      <td>0.339933</td>\n",
       "    </tr>\n",
       "    <tr>\n",
       "      <th>2</th>\n",
       "      <td>2015</td>\n",
       "      <td>The Martian</td>\n",
       "      <td>1</td>\n",
       "      <td>0</td>\n",
       "      <td>0.329134</td>\n",
       "    </tr>\n",
       "    <tr>\n",
       "      <th>3</th>\n",
       "      <td>2015</td>\n",
       "      <td>Avengers: Age of Ultron</td>\n",
       "      <td>0</td>\n",
       "      <td>0</td>\n",
       "      <td>0.247149</td>\n",
       "    </tr>\n",
       "    <tr>\n",
       "      <th>4</th>\n",
       "      <td>2015</td>\n",
       "      <td>The Revenant</td>\n",
       "      <td>1</td>\n",
       "      <td>0</td>\n",
       "      <td>0.452504</td>\n",
       "    </tr>\n",
       "  </tbody>\n",
       "</table>\n",
       "</div>"
      ],
      "text/plain": [
       "   Year                                       Movie  Oscar_nominee  \\\n",
       "0  2015  Star Wars: Episode VII - The Force Awakens              0   \n",
       "1  2015                          Mad Max: Fury Road              1   \n",
       "2  2015                                 The Martian              1   \n",
       "3  2015                     Avengers: Age of Ultron              0   \n",
       "4  2015                                The Revenant              1   \n",
       "\n",
       "   Oscar_winner  Predicted Win Rate  \n",
       "0             0            0.186088  \n",
       "1             0            0.339933  \n",
       "2             0            0.329134  \n",
       "3             0            0.247149  \n",
       "4             0            0.452504  "
      ]
     },
     "execution_count": 52,
     "metadata": {},
     "output_type": "execute_result"
    }
   ],
   "source": [
    "pred_ABC = my_ABC.predict_proba(X_test)[:, 1]\n",
    "\n",
    "ABC_prediction = pd.DataFrame(year, columns=[\"Year\"])\n",
    "ABC_prediction[\"Movie\"] = movie_name\n",
    "ABC_prediction[\"Oscar_nominee\"] = oscar_n\n",
    "ABC_prediction[\"Oscar_winner\"] = oscar_w\n",
    "ABC_prediction['Predicted Win Rate'] = pred_ABC\n",
    "\n",
    "ABC_prediction.head(5)"
   ]
  },
  {
   "cell_type": "code",
   "execution_count": 53,
   "metadata": {},
   "outputs": [],
   "source": [
    "normalized_prediction = ABC_prediction.copy()\n",
    "\n",
    "for index, row in normalized_prediction.iterrows():\n",
    "    normalized_prediction.loc[index, \"Predicted Win Rate\"] = \\\n",
    "        (row[\"Predicted Win Rate\"] / ABC_prediction[\"Predicted Win Rate\"][ABC_prediction[\"Year\"] == row[\"Year\"]].sum()).round(3)"
   ]
  },
  {
   "cell_type": "code",
   "execution_count": 54,
   "metadata": {},
   "outputs": [
    {
     "data": {
      "text/html": [
       "<div>\n",
       "<style scoped>\n",
       "    .dataframe tbody tr th:only-of-type {\n",
       "        vertical-align: middle;\n",
       "    }\n",
       "\n",
       "    .dataframe tbody tr th {\n",
       "        vertical-align: top;\n",
       "    }\n",
       "\n",
       "    .dataframe thead th {\n",
       "        text-align: right;\n",
       "    }\n",
       "</style>\n",
       "<table border=\"1\" class=\"dataframe\">\n",
       "  <thead>\n",
       "    <tr style=\"text-align: right;\">\n",
       "      <th></th>\n",
       "      <th>Year</th>\n",
       "      <th>Movie</th>\n",
       "      <th>Oscar_nominee</th>\n",
       "      <th>Oscar_winner</th>\n",
       "      <th>Predicted Win Rate</th>\n",
       "    </tr>\n",
       "  </thead>\n",
       "  <tbody>\n",
       "    <tr>\n",
       "      <th>4</th>\n",
       "      <td>2015</td>\n",
       "      <td>The Revenant</td>\n",
       "      <td>1</td>\n",
       "      <td>0</td>\n",
       "      <td>0.020</td>\n",
       "    </tr>\n",
       "    <tr>\n",
       "      <th>9</th>\n",
       "      <td>2015</td>\n",
       "      <td>Spotlight</td>\n",
       "      <td>1</td>\n",
       "      <td>1</td>\n",
       "      <td>0.020</td>\n",
       "    </tr>\n",
       "    <tr>\n",
       "      <th>14</th>\n",
       "      <td>2015</td>\n",
       "      <td>The Big Short</td>\n",
       "      <td>1</td>\n",
       "      <td>0</td>\n",
       "      <td>0.017</td>\n",
       "    </tr>\n",
       "    <tr>\n",
       "      <th>2</th>\n",
       "      <td>2015</td>\n",
       "      <td>The Martian</td>\n",
       "      <td>1</td>\n",
       "      <td>0</td>\n",
       "      <td>0.015</td>\n",
       "    </tr>\n",
       "    <tr>\n",
       "      <th>8</th>\n",
       "      <td>2015</td>\n",
       "      <td>The Hateful Eight</td>\n",
       "      <td>0</td>\n",
       "      <td>0</td>\n",
       "      <td>0.015</td>\n",
       "    </tr>\n",
       "    <tr>\n",
       "      <th>1</th>\n",
       "      <td>2015</td>\n",
       "      <td>Mad Max: Fury Road</td>\n",
       "      <td>1</td>\n",
       "      <td>0</td>\n",
       "      <td>0.015</td>\n",
       "    </tr>\n",
       "    <tr>\n",
       "      <th>25</th>\n",
       "      <td>2015</td>\n",
       "      <td>Southpaw</td>\n",
       "      <td>0</td>\n",
       "      <td>0</td>\n",
       "      <td>0.014</td>\n",
       "    </tr>\n",
       "    <tr>\n",
       "      <th>39</th>\n",
       "      <td>2015</td>\n",
       "      <td>The Danish Girl</td>\n",
       "      <td>0</td>\n",
       "      <td>0</td>\n",
       "      <td>0.013</td>\n",
       "    </tr>\n",
       "    <tr>\n",
       "      <th>23</th>\n",
       "      <td>2015</td>\n",
       "      <td>Chappie</td>\n",
       "      <td>0</td>\n",
       "      <td>0</td>\n",
       "      <td>0.013</td>\n",
       "    </tr>\n",
       "    <tr>\n",
       "      <th>74</th>\n",
       "      <td>2015</td>\n",
       "      <td>Concussion</td>\n",
       "      <td>0</td>\n",
       "      <td>0</td>\n",
       "      <td>0.013</td>\n",
       "    </tr>\n",
       "  </tbody>\n",
       "</table>\n",
       "</div>"
      ],
      "text/plain": [
       "    Year               Movie  Oscar_nominee  Oscar_winner  Predicted Win Rate\n",
       "4   2015        The Revenant              1             0               0.020\n",
       "9   2015           Spotlight              1             1               0.020\n",
       "14  2015       The Big Short              1             0               0.017\n",
       "2   2015         The Martian              1             0               0.015\n",
       "8   2015   The Hateful Eight              0             0               0.015\n",
       "1   2015  Mad Max: Fury Road              1             0               0.015\n",
       "25  2015            Southpaw              0             0               0.014\n",
       "39  2015     The Danish Girl              0             0               0.013\n",
       "23  2015             Chappie              0             0               0.013\n",
       "74  2015          Concussion              0             0               0.013"
      ]
     },
     "execution_count": 54,
     "metadata": {},
     "output_type": "execute_result"
    }
   ],
   "source": [
    "normalized_prediction[normalized_prediction[\"Year\"] == 2015].sort_values(\"Predicted Win Rate\", ascending=False).head(10)"
   ]
  },
  {
   "cell_type": "code",
   "execution_count": 55,
   "metadata": {},
   "outputs": [
    {
     "data": {
      "text/html": [
       "<div>\n",
       "<style scoped>\n",
       "    .dataframe tbody tr th:only-of-type {\n",
       "        vertical-align: middle;\n",
       "    }\n",
       "\n",
       "    .dataframe tbody tr th {\n",
       "        vertical-align: top;\n",
       "    }\n",
       "\n",
       "    .dataframe thead th {\n",
       "        text-align: right;\n",
       "    }\n",
       "</style>\n",
       "<table border=\"1\" class=\"dataframe\">\n",
       "  <thead>\n",
       "    <tr style=\"text-align: right;\">\n",
       "      <th></th>\n",
       "      <th>Year</th>\n",
       "      <th>Movie</th>\n",
       "      <th>Oscar_nominee</th>\n",
       "      <th>Oscar_winner</th>\n",
       "      <th>Predicted Win Rate</th>\n",
       "    </tr>\n",
       "  </thead>\n",
       "  <tbody>\n",
       "    <tr>\n",
       "      <th>107</th>\n",
       "      <td>2016</td>\n",
       "      <td>La La Land</td>\n",
       "      <td>1</td>\n",
       "      <td>0</td>\n",
       "      <td>0.031</td>\n",
       "    </tr>\n",
       "    <tr>\n",
       "      <th>105</th>\n",
       "      <td>2016</td>\n",
       "      <td>Arrival</td>\n",
       "      <td>1</td>\n",
       "      <td>0</td>\n",
       "      <td>0.019</td>\n",
       "    </tr>\n",
       "    <tr>\n",
       "      <th>130</th>\n",
       "      <td>2016</td>\n",
       "      <td>Lion</td>\n",
       "      <td>1</td>\n",
       "      <td>0</td>\n",
       "      <td>0.018</td>\n",
       "    </tr>\n",
       "    <tr>\n",
       "      <th>122</th>\n",
       "      <td>2016</td>\n",
       "      <td>Manchester by the Sea</td>\n",
       "      <td>1</td>\n",
       "      <td>0</td>\n",
       "      <td>0.014</td>\n",
       "    </tr>\n",
       "    <tr>\n",
       "      <th>147</th>\n",
       "      <td>2016</td>\n",
       "      <td>Inferno</td>\n",
       "      <td>0</td>\n",
       "      <td>0</td>\n",
       "      <td>0.013</td>\n",
       "    </tr>\n",
       "    <tr>\n",
       "      <th>120</th>\n",
       "      <td>2016</td>\n",
       "      <td>Warcraft</td>\n",
       "      <td>0</td>\n",
       "      <td>0</td>\n",
       "      <td>0.012</td>\n",
       "    </tr>\n",
       "    <tr>\n",
       "      <th>195</th>\n",
       "      <td>2016</td>\n",
       "      <td>The Neon Demon</td>\n",
       "      <td>0</td>\n",
       "      <td>0</td>\n",
       "      <td>0.012</td>\n",
       "    </tr>\n",
       "    <tr>\n",
       "      <th>172</th>\n",
       "      <td>2016</td>\n",
       "      <td>Gods of Egypt</td>\n",
       "      <td>0</td>\n",
       "      <td>0</td>\n",
       "      <td>0.012</td>\n",
       "    </tr>\n",
       "    <tr>\n",
       "      <th>124</th>\n",
       "      <td>2016</td>\n",
       "      <td>Nocturnal Animals</td>\n",
       "      <td>0</td>\n",
       "      <td>0</td>\n",
       "      <td>0.012</td>\n",
       "    </tr>\n",
       "    <tr>\n",
       "      <th>152</th>\n",
       "      <td>2016</td>\n",
       "      <td>Allied</td>\n",
       "      <td>0</td>\n",
       "      <td>0</td>\n",
       "      <td>0.012</td>\n",
       "    </tr>\n",
       "  </tbody>\n",
       "</table>\n",
       "</div>"
      ],
      "text/plain": [
       "     Year                  Movie  Oscar_nominee  Oscar_winner  \\\n",
       "107  2016             La La Land              1             0   \n",
       "105  2016                Arrival              1             0   \n",
       "130  2016                   Lion              1             0   \n",
       "122  2016  Manchester by the Sea              1             0   \n",
       "147  2016                Inferno              0             0   \n",
       "120  2016               Warcraft              0             0   \n",
       "195  2016         The Neon Demon              0             0   \n",
       "172  2016          Gods of Egypt              0             0   \n",
       "124  2016      Nocturnal Animals              0             0   \n",
       "152  2016                 Allied              0             0   \n",
       "\n",
       "     Predicted Win Rate  \n",
       "107               0.031  \n",
       "105               0.019  \n",
       "130               0.018  \n",
       "122               0.014  \n",
       "147               0.013  \n",
       "120               0.012  \n",
       "195               0.012  \n",
       "172               0.012  \n",
       "124               0.012  \n",
       "152               0.012  "
      ]
     },
     "execution_count": 55,
     "metadata": {},
     "output_type": "execute_result"
    }
   ],
   "source": [
    "normalized_prediction[normalized_prediction[\"Year\"] == 2016].sort_values(\"Predicted Win Rate\", ascending=False).head(10)"
   ]
  },
  {
   "cell_type": "code",
   "execution_count": 56,
   "metadata": {},
   "outputs": [
    {
     "data": {
      "text/html": [
       "<div>\n",
       "<style scoped>\n",
       "    .dataframe tbody tr th:only-of-type {\n",
       "        vertical-align: middle;\n",
       "    }\n",
       "\n",
       "    .dataframe tbody tr th {\n",
       "        vertical-align: top;\n",
       "    }\n",
       "\n",
       "    .dataframe thead th {\n",
       "        text-align: right;\n",
       "    }\n",
       "</style>\n",
       "<table border=\"1\" class=\"dataframe\">\n",
       "  <thead>\n",
       "    <tr style=\"text-align: right;\">\n",
       "      <th></th>\n",
       "      <th>Year</th>\n",
       "      <th>Movie</th>\n",
       "      <th>Oscar_nominee</th>\n",
       "      <th>Oscar_winner</th>\n",
       "      <th>Predicted Win Rate</th>\n",
       "    </tr>\n",
       "  </thead>\n",
       "  <tbody>\n",
       "    <tr>\n",
       "      <th>211</th>\n",
       "      <td>2017</td>\n",
       "      <td>Three Billboards Outside Ebbing, Missouri</td>\n",
       "      <td>1</td>\n",
       "      <td>0</td>\n",
       "      <td>0.019</td>\n",
       "    </tr>\n",
       "    <tr>\n",
       "      <th>213</th>\n",
       "      <td>2017</td>\n",
       "      <td>The Shape of Water</td>\n",
       "      <td>1</td>\n",
       "      <td>1</td>\n",
       "      <td>0.018</td>\n",
       "    </tr>\n",
       "    <tr>\n",
       "      <th>205</th>\n",
       "      <td>2017</td>\n",
       "      <td>Dunkirk</td>\n",
       "      <td>1</td>\n",
       "      <td>0</td>\n",
       "      <td>0.015</td>\n",
       "    </tr>\n",
       "    <tr>\n",
       "      <th>207</th>\n",
       "      <td>2017</td>\n",
       "      <td>Get Out</td>\n",
       "      <td>1</td>\n",
       "      <td>0</td>\n",
       "      <td>0.014</td>\n",
       "    </tr>\n",
       "    <tr>\n",
       "      <th>224</th>\n",
       "      <td>2017</td>\n",
       "      <td>Lady Bird</td>\n",
       "      <td>1</td>\n",
       "      <td>0</td>\n",
       "      <td>0.013</td>\n",
       "    </tr>\n",
       "    <tr>\n",
       "      <th>261</th>\n",
       "      <td>2017</td>\n",
       "      <td>Downsizing</td>\n",
       "      <td>0</td>\n",
       "      <td>0</td>\n",
       "      <td>0.013</td>\n",
       "    </tr>\n",
       "    <tr>\n",
       "      <th>239</th>\n",
       "      <td>2017</td>\n",
       "      <td>Valerian and the City of a Thousand Planets</td>\n",
       "      <td>0</td>\n",
       "      <td>0</td>\n",
       "      <td>0.012</td>\n",
       "    </tr>\n",
       "    <tr>\n",
       "      <th>225</th>\n",
       "      <td>2017</td>\n",
       "      <td>Murder on the Orient Express</td>\n",
       "      <td>0</td>\n",
       "      <td>0</td>\n",
       "      <td>0.012</td>\n",
       "    </tr>\n",
       "    <tr>\n",
       "      <th>281</th>\n",
       "      <td>2017</td>\n",
       "      <td>Shot Caller</td>\n",
       "      <td>0</td>\n",
       "      <td>0</td>\n",
       "      <td>0.012</td>\n",
       "    </tr>\n",
       "    <tr>\n",
       "      <th>259</th>\n",
       "      <td>2017</td>\n",
       "      <td>What Happened to Monday</td>\n",
       "      <td>0</td>\n",
       "      <td>0</td>\n",
       "      <td>0.012</td>\n",
       "    </tr>\n",
       "  </tbody>\n",
       "</table>\n",
       "</div>"
      ],
      "text/plain": [
       "     Year                                        Movie  Oscar_nominee  \\\n",
       "211  2017    Three Billboards Outside Ebbing, Missouri              1   \n",
       "213  2017                           The Shape of Water              1   \n",
       "205  2017                                      Dunkirk              1   \n",
       "207  2017                                      Get Out              1   \n",
       "224  2017                                    Lady Bird              1   \n",
       "261  2017                                   Downsizing              0   \n",
       "239  2017  Valerian and the City of a Thousand Planets              0   \n",
       "225  2017                 Murder on the Orient Express              0   \n",
       "281  2017                                  Shot Caller              0   \n",
       "259  2017                      What Happened to Monday              0   \n",
       "\n",
       "     Oscar_winner  Predicted Win Rate  \n",
       "211             0               0.019  \n",
       "213             1               0.018  \n",
       "205             0               0.015  \n",
       "207             0               0.014  \n",
       "224             0               0.013  \n",
       "261             0               0.013  \n",
       "239             0               0.012  \n",
       "225             0               0.012  \n",
       "281             0               0.012  \n",
       "259             0               0.012  "
      ]
     },
     "execution_count": 56,
     "metadata": {},
     "output_type": "execute_result"
    }
   ],
   "source": [
    "normalized_prediction[normalized_prediction[\"Year\"] == 2017].sort_values(\"Predicted Win Rate\", ascending=False).head(10)"
   ]
  },
  {
   "cell_type": "code",
   "execution_count": 57,
   "metadata": {},
   "outputs": [
    {
     "data": {
      "text/html": [
       "<div>\n",
       "<style scoped>\n",
       "    .dataframe tbody tr th:only-of-type {\n",
       "        vertical-align: middle;\n",
       "    }\n",
       "\n",
       "    .dataframe tbody tr th {\n",
       "        vertical-align: top;\n",
       "    }\n",
       "\n",
       "    .dataframe thead th {\n",
       "        text-align: right;\n",
       "    }\n",
       "</style>\n",
       "<table border=\"1\" class=\"dataframe\">\n",
       "  <thead>\n",
       "    <tr style=\"text-align: right;\">\n",
       "      <th></th>\n",
       "      <th>Year</th>\n",
       "      <th>Movie</th>\n",
       "      <th>Oscar_nominee</th>\n",
       "      <th>Oscar_winner</th>\n",
       "      <th>Predicted Win Rate</th>\n",
       "    </tr>\n",
       "  </thead>\n",
       "  <tbody>\n",
       "    <tr>\n",
       "      <th>344</th>\n",
       "      <td>2018</td>\n",
       "      <td>Vice</td>\n",
       "      <td>1</td>\n",
       "      <td>0</td>\n",
       "      <td>0.019</td>\n",
       "    </tr>\n",
       "    <tr>\n",
       "      <th>309</th>\n",
       "      <td>2018</td>\n",
       "      <td>Green Book</td>\n",
       "      <td>1</td>\n",
       "      <td>1</td>\n",
       "      <td>0.019</td>\n",
       "    </tr>\n",
       "    <tr>\n",
       "      <th>321</th>\n",
       "      <td>2018</td>\n",
       "      <td>BlacKkKlansman</td>\n",
       "      <td>1</td>\n",
       "      <td>0</td>\n",
       "      <td>0.017</td>\n",
       "    </tr>\n",
       "    <tr>\n",
       "      <th>310</th>\n",
       "      <td>2018</td>\n",
       "      <td>A Star Is Born</td>\n",
       "      <td>1</td>\n",
       "      <td>0</td>\n",
       "      <td>0.015</td>\n",
       "    </tr>\n",
       "    <tr>\n",
       "      <th>330</th>\n",
       "      <td>2018</td>\n",
       "      <td>Roma</td>\n",
       "      <td>1</td>\n",
       "      <td>0</td>\n",
       "      <td>0.014</td>\n",
       "    </tr>\n",
       "    <tr>\n",
       "      <th>339</th>\n",
       "      <td>2018</td>\n",
       "      <td>A Simple Favor</td>\n",
       "      <td>0</td>\n",
       "      <td>0</td>\n",
       "      <td>0.013</td>\n",
       "    </tr>\n",
       "    <tr>\n",
       "      <th>303</th>\n",
       "      <td>2018</td>\n",
       "      <td>Bohemian Rhapsody</td>\n",
       "      <td>1</td>\n",
       "      <td>0</td>\n",
       "      <td>0.013</td>\n",
       "    </tr>\n",
       "    <tr>\n",
       "      <th>338</th>\n",
       "      <td>2018</td>\n",
       "      <td>Sicario: Day of the Soldado</td>\n",
       "      <td>0</td>\n",
       "      <td>0</td>\n",
       "      <td>0.013</td>\n",
       "    </tr>\n",
       "    <tr>\n",
       "      <th>377</th>\n",
       "      <td>2018</td>\n",
       "      <td>Suspiria</td>\n",
       "      <td>0</td>\n",
       "      <td>0</td>\n",
       "      <td>0.012</td>\n",
       "    </tr>\n",
       "    <tr>\n",
       "      <th>381</th>\n",
       "      <td>2018</td>\n",
       "      <td>The House That Jack Built</td>\n",
       "      <td>0</td>\n",
       "      <td>0</td>\n",
       "      <td>0.012</td>\n",
       "    </tr>\n",
       "  </tbody>\n",
       "</table>\n",
       "</div>"
      ],
      "text/plain": [
       "     Year                        Movie  Oscar_nominee  Oscar_winner  \\\n",
       "344  2018                         Vice              1             0   \n",
       "309  2018                   Green Book              1             1   \n",
       "321  2018               BlacKkKlansman              1             0   \n",
       "310  2018               A Star Is Born              1             0   \n",
       "330  2018                         Roma              1             0   \n",
       "339  2018               A Simple Favor              0             0   \n",
       "303  2018            Bohemian Rhapsody              1             0   \n",
       "338  2018  Sicario: Day of the Soldado              0             0   \n",
       "377  2018                     Suspiria              0             0   \n",
       "381  2018    The House That Jack Built              0             0   \n",
       "\n",
       "     Predicted Win Rate  \n",
       "344               0.019  \n",
       "309               0.019  \n",
       "321               0.017  \n",
       "310               0.015  \n",
       "330               0.014  \n",
       "339               0.013  \n",
       "303               0.013  \n",
       "338               0.013  \n",
       "377               0.012  \n",
       "381               0.012  "
      ]
     },
     "execution_count": 57,
     "metadata": {},
     "output_type": "execute_result"
    }
   ],
   "source": [
    "normalized_prediction[normalized_prediction[\"Year\"] == 2018].sort_values(\"Predicted Win Rate\", ascending=False).head(10)"
   ]
  },
  {
   "cell_type": "code",
   "execution_count": 58,
   "metadata": {},
   "outputs": [
    {
     "data": {
      "text/html": [
       "<div>\n",
       "<style scoped>\n",
       "    .dataframe tbody tr th:only-of-type {\n",
       "        vertical-align: middle;\n",
       "    }\n",
       "\n",
       "    .dataframe tbody tr th {\n",
       "        vertical-align: top;\n",
       "    }\n",
       "\n",
       "    .dataframe thead th {\n",
       "        text-align: right;\n",
       "    }\n",
       "</style>\n",
       "<table border=\"1\" class=\"dataframe\">\n",
       "  <thead>\n",
       "    <tr style=\"text-align: right;\">\n",
       "      <th></th>\n",
       "      <th>Year</th>\n",
       "      <th>Movie</th>\n",
       "      <th>Oscar_nominee</th>\n",
       "      <th>Oscar_winner</th>\n",
       "      <th>Predicted Win Rate</th>\n",
       "    </tr>\n",
       "  </thead>\n",
       "  <tbody>\n",
       "    <tr>\n",
       "      <th>408</th>\n",
       "      <td>2019</td>\n",
       "      <td>1917</td>\n",
       "      <td>1</td>\n",
       "      <td>0</td>\n",
       "      <td>0.024</td>\n",
       "    </tr>\n",
       "    <tr>\n",
       "      <th>402</th>\n",
       "      <td>2019</td>\n",
       "      <td>Once Upon a Time in Hollywood</td>\n",
       "      <td>1</td>\n",
       "      <td>0</td>\n",
       "      <td>0.021</td>\n",
       "    </tr>\n",
       "    <tr>\n",
       "      <th>404</th>\n",
       "      <td>2019</td>\n",
       "      <td>Parasite</td>\n",
       "      <td>1</td>\n",
       "      <td>1</td>\n",
       "      <td>0.016</td>\n",
       "    </tr>\n",
       "    <tr>\n",
       "      <th>418</th>\n",
       "      <td>2019</td>\n",
       "      <td>Jojo Rabbit</td>\n",
       "      <td>1</td>\n",
       "      <td>0</td>\n",
       "      <td>0.016</td>\n",
       "    </tr>\n",
       "    <tr>\n",
       "      <th>407</th>\n",
       "      <td>2019</td>\n",
       "      <td>The Irishman</td>\n",
       "      <td>1</td>\n",
       "      <td>0</td>\n",
       "      <td>0.015</td>\n",
       "    </tr>\n",
       "    <tr>\n",
       "      <th>499</th>\n",
       "      <td>2019</td>\n",
       "      <td>In the Shadow of the Moon</td>\n",
       "      <td>0</td>\n",
       "      <td>0</td>\n",
       "      <td>0.013</td>\n",
       "    </tr>\n",
       "    <tr>\n",
       "      <th>441</th>\n",
       "      <td>2019</td>\n",
       "      <td>The Gentlemen</td>\n",
       "      <td>0</td>\n",
       "      <td>0</td>\n",
       "      <td>0.013</td>\n",
       "    </tr>\n",
       "    <tr>\n",
       "      <th>470</th>\n",
       "      <td>2019</td>\n",
       "      <td>Cold Pursuit</td>\n",
       "      <td>0</td>\n",
       "      <td>0</td>\n",
       "      <td>0.013</td>\n",
       "    </tr>\n",
       "    <tr>\n",
       "      <th>459</th>\n",
       "      <td>2019</td>\n",
       "      <td>The Highwaymen</td>\n",
       "      <td>0</td>\n",
       "      <td>0</td>\n",
       "      <td>0.012</td>\n",
       "    </tr>\n",
       "    <tr>\n",
       "      <th>443</th>\n",
       "      <td>2019</td>\n",
       "      <td>Yesterday</td>\n",
       "      <td>0</td>\n",
       "      <td>0</td>\n",
       "      <td>0.012</td>\n",
       "    </tr>\n",
       "  </tbody>\n",
       "</table>\n",
       "</div>"
      ],
      "text/plain": [
       "     Year                          Movie  Oscar_nominee  Oscar_winner  \\\n",
       "408  2019                           1917              1             0   \n",
       "402  2019  Once Upon a Time in Hollywood              1             0   \n",
       "404  2019                       Parasite              1             1   \n",
       "418  2019                    Jojo Rabbit              1             0   \n",
       "407  2019                   The Irishman              1             0   \n",
       "499  2019      In the Shadow of the Moon              0             0   \n",
       "441  2019                  The Gentlemen              0             0   \n",
       "470  2019                   Cold Pursuit              0             0   \n",
       "459  2019                 The Highwaymen              0             0   \n",
       "443  2019                      Yesterday              0             0   \n",
       "\n",
       "     Predicted Win Rate  \n",
       "408               0.024  \n",
       "402               0.021  \n",
       "404               0.016  \n",
       "418               0.016  \n",
       "407               0.015  \n",
       "499               0.013  \n",
       "441               0.013  \n",
       "470               0.013  \n",
       "459               0.012  \n",
       "443               0.012  "
      ]
     },
     "execution_count": 58,
     "metadata": {},
     "output_type": "execute_result"
    }
   ],
   "source": [
    "normalized_prediction[normalized_prediction[\"Year\"] == 2019].sort_values(\"Predicted Win Rate\", ascending=False).head(10)"
   ]
  },
  {
   "cell_type": "markdown",
   "metadata": {},
   "source": [
    "## #2.2 - XGBoost Classifier"
   ]
  },
  {
   "cell_type": "code",
   "execution_count": 59,
   "metadata": {},
   "outputs": [],
   "source": [
    "XGB = XGBClassifier()\n",
    "\n",
    "my_XGB = XGB.fit(X_train, y_train)"
   ]
  },
  {
   "cell_type": "code",
   "execution_count": 60,
   "metadata": {},
   "outputs": [
    {
     "data": {
      "text/html": [
       "<div>\n",
       "<style scoped>\n",
       "    .dataframe tbody tr th:only-of-type {\n",
       "        vertical-align: middle;\n",
       "    }\n",
       "\n",
       "    .dataframe tbody tr th {\n",
       "        vertical-align: top;\n",
       "    }\n",
       "\n",
       "    .dataframe thead th {\n",
       "        text-align: right;\n",
       "    }\n",
       "</style>\n",
       "<table border=\"1\" class=\"dataframe\">\n",
       "  <thead>\n",
       "    <tr style=\"text-align: right;\">\n",
       "      <th></th>\n",
       "      <th>Year</th>\n",
       "      <th>Movie</th>\n",
       "      <th>Oscar_nominee</th>\n",
       "      <th>Oscar_winner</th>\n",
       "      <th>Predicted Win Rate</th>\n",
       "    </tr>\n",
       "  </thead>\n",
       "  <tbody>\n",
       "    <tr>\n",
       "      <th>0</th>\n",
       "      <td>2015</td>\n",
       "      <td>Star Wars: Episode VII - The Force Awakens</td>\n",
       "      <td>0</td>\n",
       "      <td>0</td>\n",
       "      <td>0.000654</td>\n",
       "    </tr>\n",
       "    <tr>\n",
       "      <th>1</th>\n",
       "      <td>2015</td>\n",
       "      <td>Mad Max: Fury Road</td>\n",
       "      <td>1</td>\n",
       "      <td>0</td>\n",
       "      <td>0.013600</td>\n",
       "    </tr>\n",
       "    <tr>\n",
       "      <th>2</th>\n",
       "      <td>2015</td>\n",
       "      <td>The Martian</td>\n",
       "      <td>1</td>\n",
       "      <td>0</td>\n",
       "      <td>0.006137</td>\n",
       "    </tr>\n",
       "    <tr>\n",
       "      <th>3</th>\n",
       "      <td>2015</td>\n",
       "      <td>Avengers: Age of Ultron</td>\n",
       "      <td>0</td>\n",
       "      <td>0</td>\n",
       "      <td>0.000754</td>\n",
       "    </tr>\n",
       "    <tr>\n",
       "      <th>4</th>\n",
       "      <td>2015</td>\n",
       "      <td>The Revenant</td>\n",
       "      <td>1</td>\n",
       "      <td>0</td>\n",
       "      <td>0.551049</td>\n",
       "    </tr>\n",
       "  </tbody>\n",
       "</table>\n",
       "</div>"
      ],
      "text/plain": [
       "   Year                                       Movie  Oscar_nominee  \\\n",
       "0  2015  Star Wars: Episode VII - The Force Awakens              0   \n",
       "1  2015                          Mad Max: Fury Road              1   \n",
       "2  2015                                 The Martian              1   \n",
       "3  2015                     Avengers: Age of Ultron              0   \n",
       "4  2015                                The Revenant              1   \n",
       "\n",
       "   Oscar_winner  Predicted Win Rate  \n",
       "0             0            0.000654  \n",
       "1             0            0.013600  \n",
       "2             0            0.006137  \n",
       "3             0            0.000754  \n",
       "4             0            0.551049  "
      ]
     },
     "execution_count": 60,
     "metadata": {},
     "output_type": "execute_result"
    }
   ],
   "source": [
    "pred_XGB = my_XGB.predict_proba(X_test)[:, 1]\n",
    "\n",
    "XGB_prediction = pd.DataFrame(year, columns=[\"Year\"])\n",
    "XGB_prediction[\"Movie\"] = movie_name\n",
    "XGB_prediction[\"Oscar_nominee\"] = oscar_n\n",
    "XGB_prediction[\"Oscar_winner\"] = oscar_w\n",
    "XGB_prediction['Predicted Win Rate'] = pred_XGB\n",
    "\n",
    "XGB_prediction.head(5)"
   ]
  },
  {
   "cell_type": "code",
   "execution_count": 61,
   "metadata": {},
   "outputs": [],
   "source": [
    "normalized_prediction = XGB_prediction.copy()\n",
    "\n",
    "for index, row in normalized_prediction.iterrows():\n",
    "    normalized_prediction.loc[index, \"Predicted Win Rate\"] = \\\n",
    "        (row[\"Predicted Win Rate\"] / XGB_prediction[\"Predicted Win Rate\"][XGB_prediction[\"Year\"] == row[\"Year\"]].sum()).round(3)"
   ]
  },
  {
   "cell_type": "code",
   "execution_count": 62,
   "metadata": {},
   "outputs": [
    {
     "data": {
      "text/html": [
       "<div>\n",
       "<style scoped>\n",
       "    .dataframe tbody tr th:only-of-type {\n",
       "        vertical-align: middle;\n",
       "    }\n",
       "\n",
       "    .dataframe tbody tr th {\n",
       "        vertical-align: top;\n",
       "    }\n",
       "\n",
       "    .dataframe thead th {\n",
       "        text-align: right;\n",
       "    }\n",
       "</style>\n",
       "<table border=\"1\" class=\"dataframe\">\n",
       "  <thead>\n",
       "    <tr style=\"text-align: right;\">\n",
       "      <th></th>\n",
       "      <th>Year</th>\n",
       "      <th>Movie</th>\n",
       "      <th>Oscar_nominee</th>\n",
       "      <th>Oscar_winner</th>\n",
       "      <th>Predicted Win Rate</th>\n",
       "    </tr>\n",
       "  </thead>\n",
       "  <tbody>\n",
       "    <tr>\n",
       "      <th>4</th>\n",
       "      <td>2015</td>\n",
       "      <td>The Revenant</td>\n",
       "      <td>1</td>\n",
       "      <td>0</td>\n",
       "      <td>0.707</td>\n",
       "    </tr>\n",
       "    <tr>\n",
       "      <th>9</th>\n",
       "      <td>2015</td>\n",
       "      <td>Spotlight</td>\n",
       "      <td>1</td>\n",
       "      <td>1</td>\n",
       "      <td>0.208</td>\n",
       "    </tr>\n",
       "    <tr>\n",
       "      <th>1</th>\n",
       "      <td>2015</td>\n",
       "      <td>Mad Max: Fury Road</td>\n",
       "      <td>1</td>\n",
       "      <td>0</td>\n",
       "      <td>0.017</td>\n",
       "    </tr>\n",
       "    <tr>\n",
       "      <th>14</th>\n",
       "      <td>2015</td>\n",
       "      <td>The Big Short</td>\n",
       "      <td>1</td>\n",
       "      <td>0</td>\n",
       "      <td>0.010</td>\n",
       "    </tr>\n",
       "    <tr>\n",
       "      <th>2</th>\n",
       "      <td>2015</td>\n",
       "      <td>The Martian</td>\n",
       "      <td>1</td>\n",
       "      <td>0</td>\n",
       "      <td>0.008</td>\n",
       "    </tr>\n",
       "    <tr>\n",
       "      <th>8</th>\n",
       "      <td>2015</td>\n",
       "      <td>The Hateful Eight</td>\n",
       "      <td>0</td>\n",
       "      <td>0</td>\n",
       "      <td>0.002</td>\n",
       "    </tr>\n",
       "    <tr>\n",
       "      <th>0</th>\n",
       "      <td>2015</td>\n",
       "      <td>Star Wars: Episode VII - The Force Awakens</td>\n",
       "      <td>0</td>\n",
       "      <td>0</td>\n",
       "      <td>0.001</td>\n",
       "    </tr>\n",
       "    <tr>\n",
       "      <th>33</th>\n",
       "      <td>2015</td>\n",
       "      <td>The Witch: A New-England Folktale</td>\n",
       "      <td>0</td>\n",
       "      <td>0</td>\n",
       "      <td>0.001</td>\n",
       "    </tr>\n",
       "    <tr>\n",
       "      <th>35</th>\n",
       "      <td>2015</td>\n",
       "      <td>Jupiter Ascending</td>\n",
       "      <td>0</td>\n",
       "      <td>0</td>\n",
       "      <td>0.001</td>\n",
       "    </tr>\n",
       "    <tr>\n",
       "      <th>36</th>\n",
       "      <td>2015</td>\n",
       "      <td>Straight Outta Compton</td>\n",
       "      <td>0</td>\n",
       "      <td>0</td>\n",
       "      <td>0.001</td>\n",
       "    </tr>\n",
       "  </tbody>\n",
       "</table>\n",
       "</div>"
      ],
      "text/plain": [
       "    Year                                       Movie  Oscar_nominee  \\\n",
       "4   2015                                The Revenant              1   \n",
       "9   2015                                   Spotlight              1   \n",
       "1   2015                          Mad Max: Fury Road              1   \n",
       "14  2015                               The Big Short              1   \n",
       "2   2015                                 The Martian              1   \n",
       "8   2015                           The Hateful Eight              0   \n",
       "0   2015  Star Wars: Episode VII - The Force Awakens              0   \n",
       "33  2015           The Witch: A New-England Folktale              0   \n",
       "35  2015                           Jupiter Ascending              0   \n",
       "36  2015                      Straight Outta Compton              0   \n",
       "\n",
       "    Oscar_winner  Predicted Win Rate  \n",
       "4              0               0.707  \n",
       "9              1               0.208  \n",
       "1              0               0.017  \n",
       "14             0               0.010  \n",
       "2              0               0.008  \n",
       "8              0               0.002  \n",
       "0              0               0.001  \n",
       "33             0               0.001  \n",
       "35             0               0.001  \n",
       "36             0               0.001  "
      ]
     },
     "execution_count": 62,
     "metadata": {},
     "output_type": "execute_result"
    }
   ],
   "source": [
    "normalized_prediction[normalized_prediction[\"Year\"] == 2015].sort_values(\"Predicted Win Rate\", ascending=False).head(10)"
   ]
  },
  {
   "cell_type": "code",
   "execution_count": 63,
   "metadata": {},
   "outputs": [
    {
     "data": {
      "text/html": [
       "<div>\n",
       "<style scoped>\n",
       "    .dataframe tbody tr th:only-of-type {\n",
       "        vertical-align: middle;\n",
       "    }\n",
       "\n",
       "    .dataframe tbody tr th {\n",
       "        vertical-align: top;\n",
       "    }\n",
       "\n",
       "    .dataframe thead th {\n",
       "        text-align: right;\n",
       "    }\n",
       "</style>\n",
       "<table border=\"1\" class=\"dataframe\">\n",
       "  <thead>\n",
       "    <tr style=\"text-align: right;\">\n",
       "      <th></th>\n",
       "      <th>Year</th>\n",
       "      <th>Movie</th>\n",
       "      <th>Oscar_nominee</th>\n",
       "      <th>Oscar_winner</th>\n",
       "      <th>Predicted Win Rate</th>\n",
       "    </tr>\n",
       "  </thead>\n",
       "  <tbody>\n",
       "    <tr>\n",
       "      <th>107</th>\n",
       "      <td>2016</td>\n",
       "      <td>La La Land</td>\n",
       "      <td>1</td>\n",
       "      <td>0</td>\n",
       "      <td>0.903</td>\n",
       "    </tr>\n",
       "    <tr>\n",
       "      <th>105</th>\n",
       "      <td>2016</td>\n",
       "      <td>Arrival</td>\n",
       "      <td>1</td>\n",
       "      <td>0</td>\n",
       "      <td>0.020</td>\n",
       "    </tr>\n",
       "    <tr>\n",
       "      <th>122</th>\n",
       "      <td>2016</td>\n",
       "      <td>Manchester by the Sea</td>\n",
       "      <td>1</td>\n",
       "      <td>0</td>\n",
       "      <td>0.018</td>\n",
       "    </tr>\n",
       "    <tr>\n",
       "      <th>116</th>\n",
       "      <td>2016</td>\n",
       "      <td>Moonlight</td>\n",
       "      <td>1</td>\n",
       "      <td>1</td>\n",
       "      <td>0.010</td>\n",
       "    </tr>\n",
       "    <tr>\n",
       "      <th>130</th>\n",
       "      <td>2016</td>\n",
       "      <td>Lion</td>\n",
       "      <td>1</td>\n",
       "      <td>0</td>\n",
       "      <td>0.009</td>\n",
       "    </tr>\n",
       "    <tr>\n",
       "      <th>109</th>\n",
       "      <td>2016</td>\n",
       "      <td>Hacksaw Ridge</td>\n",
       "      <td>1</td>\n",
       "      <td>0</td>\n",
       "      <td>0.002</td>\n",
       "    </tr>\n",
       "    <tr>\n",
       "      <th>100</th>\n",
       "      <td>2016</td>\n",
       "      <td>Deadpool</td>\n",
       "      <td>0</td>\n",
       "      <td>0</td>\n",
       "      <td>0.002</td>\n",
       "    </tr>\n",
       "    <tr>\n",
       "      <th>170</th>\n",
       "      <td>2016</td>\n",
       "      <td>Dag II</td>\n",
       "      <td>0</td>\n",
       "      <td>0</td>\n",
       "      <td>0.001</td>\n",
       "    </tr>\n",
       "    <tr>\n",
       "      <th>174</th>\n",
       "      <td>2016</td>\n",
       "      <td>Hunt for the Wilderpeople</td>\n",
       "      <td>0</td>\n",
       "      <td>0</td>\n",
       "      <td>0.001</td>\n",
       "    </tr>\n",
       "    <tr>\n",
       "      <th>191</th>\n",
       "      <td>2016</td>\n",
       "      <td>Sing Street</td>\n",
       "      <td>0</td>\n",
       "      <td>0</td>\n",
       "      <td>0.001</td>\n",
       "    </tr>\n",
       "  </tbody>\n",
       "</table>\n",
       "</div>"
      ],
      "text/plain": [
       "     Year                      Movie  Oscar_nominee  Oscar_winner  \\\n",
       "107  2016                 La La Land              1             0   \n",
       "105  2016                    Arrival              1             0   \n",
       "122  2016      Manchester by the Sea              1             0   \n",
       "116  2016                  Moonlight              1             1   \n",
       "130  2016                       Lion              1             0   \n",
       "109  2016              Hacksaw Ridge              1             0   \n",
       "100  2016                   Deadpool              0             0   \n",
       "170  2016                     Dag II              0             0   \n",
       "174  2016  Hunt for the Wilderpeople              0             0   \n",
       "191  2016                Sing Street              0             0   \n",
       "\n",
       "     Predicted Win Rate  \n",
       "107               0.903  \n",
       "105               0.020  \n",
       "122               0.018  \n",
       "116               0.010  \n",
       "130               0.009  \n",
       "109               0.002  \n",
       "100               0.002  \n",
       "170               0.001  \n",
       "174               0.001  \n",
       "191               0.001  "
      ]
     },
     "execution_count": 63,
     "metadata": {},
     "output_type": "execute_result"
    }
   ],
   "source": [
    "normalized_prediction[normalized_prediction[\"Year\"] == 2016].sort_values(\"Predicted Win Rate\", ascending=False).head(10)"
   ]
  },
  {
   "cell_type": "code",
   "execution_count": 64,
   "metadata": {},
   "outputs": [
    {
     "data": {
      "text/html": [
       "<div>\n",
       "<style scoped>\n",
       "    .dataframe tbody tr th:only-of-type {\n",
       "        vertical-align: middle;\n",
       "    }\n",
       "\n",
       "    .dataframe tbody tr th {\n",
       "        vertical-align: top;\n",
       "    }\n",
       "\n",
       "    .dataframe thead th {\n",
       "        text-align: right;\n",
       "    }\n",
       "</style>\n",
       "<table border=\"1\" class=\"dataframe\">\n",
       "  <thead>\n",
       "    <tr style=\"text-align: right;\">\n",
       "      <th></th>\n",
       "      <th>Year</th>\n",
       "      <th>Movie</th>\n",
       "      <th>Oscar_nominee</th>\n",
       "      <th>Oscar_winner</th>\n",
       "      <th>Predicted Win Rate</th>\n",
       "    </tr>\n",
       "  </thead>\n",
       "  <tbody>\n",
       "    <tr>\n",
       "      <th>213</th>\n",
       "      <td>2017</td>\n",
       "      <td>The Shape of Water</td>\n",
       "      <td>1</td>\n",
       "      <td>1</td>\n",
       "      <td>0.863</td>\n",
       "    </tr>\n",
       "    <tr>\n",
       "      <th>207</th>\n",
       "      <td>2017</td>\n",
       "      <td>Get Out</td>\n",
       "      <td>1</td>\n",
       "      <td>0</td>\n",
       "      <td>0.026</td>\n",
       "    </tr>\n",
       "    <tr>\n",
       "      <th>224</th>\n",
       "      <td>2017</td>\n",
       "      <td>Lady Bird</td>\n",
       "      <td>1</td>\n",
       "      <td>0</td>\n",
       "      <td>0.015</td>\n",
       "    </tr>\n",
       "    <tr>\n",
       "      <th>211</th>\n",
       "      <td>2017</td>\n",
       "      <td>Three Billboards Outside Ebbing, Missouri</td>\n",
       "      <td>1</td>\n",
       "      <td>0</td>\n",
       "      <td>0.013</td>\n",
       "    </tr>\n",
       "    <tr>\n",
       "      <th>205</th>\n",
       "      <td>2017</td>\n",
       "      <td>Dunkirk</td>\n",
       "      <td>1</td>\n",
       "      <td>0</td>\n",
       "      <td>0.011</td>\n",
       "    </tr>\n",
       "    <tr>\n",
       "      <th>230</th>\n",
       "      <td>2017</td>\n",
       "      <td>Call Me by Your Name</td>\n",
       "      <td>1</td>\n",
       "      <td>0</td>\n",
       "      <td>0.005</td>\n",
       "    </tr>\n",
       "    <tr>\n",
       "      <th>236</th>\n",
       "      <td>2017</td>\n",
       "      <td>I, Tonya</td>\n",
       "      <td>0</td>\n",
       "      <td>0</td>\n",
       "      <td>0.003</td>\n",
       "    </tr>\n",
       "    <tr>\n",
       "      <th>247</th>\n",
       "      <td>2017</td>\n",
       "      <td>Molly's Game</td>\n",
       "      <td>0</td>\n",
       "      <td>0</td>\n",
       "      <td>0.002</td>\n",
       "    </tr>\n",
       "    <tr>\n",
       "      <th>201</th>\n",
       "      <td>2017</td>\n",
       "      <td>Thor: Ragnarok</td>\n",
       "      <td>0</td>\n",
       "      <td>0</td>\n",
       "      <td>0.002</td>\n",
       "    </tr>\n",
       "    <tr>\n",
       "      <th>200</th>\n",
       "      <td>2017</td>\n",
       "      <td>Logan</td>\n",
       "      <td>0</td>\n",
       "      <td>0</td>\n",
       "      <td>0.002</td>\n",
       "    </tr>\n",
       "  </tbody>\n",
       "</table>\n",
       "</div>"
      ],
      "text/plain": [
       "     Year                                      Movie  Oscar_nominee  \\\n",
       "213  2017                         The Shape of Water              1   \n",
       "207  2017                                    Get Out              1   \n",
       "224  2017                                  Lady Bird              1   \n",
       "211  2017  Three Billboards Outside Ebbing, Missouri              1   \n",
       "205  2017                                    Dunkirk              1   \n",
       "230  2017                       Call Me by Your Name              1   \n",
       "236  2017                                   I, Tonya              0   \n",
       "247  2017                               Molly's Game              0   \n",
       "201  2017                             Thor: Ragnarok              0   \n",
       "200  2017                                      Logan              0   \n",
       "\n",
       "     Oscar_winner  Predicted Win Rate  \n",
       "213             1               0.863  \n",
       "207             0               0.026  \n",
       "224             0               0.015  \n",
       "211             0               0.013  \n",
       "205             0               0.011  \n",
       "230             0               0.005  \n",
       "236             0               0.003  \n",
       "247             0               0.002  \n",
       "201             0               0.002  \n",
       "200             0               0.002  "
      ]
     },
     "execution_count": 64,
     "metadata": {},
     "output_type": "execute_result"
    }
   ],
   "source": [
    "normalized_prediction[normalized_prediction[\"Year\"] == 2017].sort_values(\"Predicted Win Rate\", ascending=False).head(10)"
   ]
  },
  {
   "cell_type": "code",
   "execution_count": 65,
   "metadata": {},
   "outputs": [
    {
     "data": {
      "text/html": [
       "<div>\n",
       "<style scoped>\n",
       "    .dataframe tbody tr th:only-of-type {\n",
       "        vertical-align: middle;\n",
       "    }\n",
       "\n",
       "    .dataframe tbody tr th {\n",
       "        vertical-align: top;\n",
       "    }\n",
       "\n",
       "    .dataframe thead th {\n",
       "        text-align: right;\n",
       "    }\n",
       "</style>\n",
       "<table border=\"1\" class=\"dataframe\">\n",
       "  <thead>\n",
       "    <tr style=\"text-align: right;\">\n",
       "      <th></th>\n",
       "      <th>Year</th>\n",
       "      <th>Movie</th>\n",
       "      <th>Oscar_nominee</th>\n",
       "      <th>Oscar_winner</th>\n",
       "      <th>Predicted Win Rate</th>\n",
       "    </tr>\n",
       "  </thead>\n",
       "  <tbody>\n",
       "    <tr>\n",
       "      <th>330</th>\n",
       "      <td>2018</td>\n",
       "      <td>Roma</td>\n",
       "      <td>1</td>\n",
       "      <td>0</td>\n",
       "      <td>0.751</td>\n",
       "    </tr>\n",
       "    <tr>\n",
       "      <th>309</th>\n",
       "      <td>2018</td>\n",
       "      <td>Green Book</td>\n",
       "      <td>1</td>\n",
       "      <td>1</td>\n",
       "      <td>0.093</td>\n",
       "    </tr>\n",
       "    <tr>\n",
       "      <th>321</th>\n",
       "      <td>2018</td>\n",
       "      <td>BlacKkKlansman</td>\n",
       "      <td>1</td>\n",
       "      <td>0</td>\n",
       "      <td>0.024</td>\n",
       "    </tr>\n",
       "    <tr>\n",
       "      <th>344</th>\n",
       "      <td>2018</td>\n",
       "      <td>Vice</td>\n",
       "      <td>1</td>\n",
       "      <td>0</td>\n",
       "      <td>0.019</td>\n",
       "    </tr>\n",
       "    <tr>\n",
       "      <th>303</th>\n",
       "      <td>2018</td>\n",
       "      <td>Bohemian Rhapsody</td>\n",
       "      <td>1</td>\n",
       "      <td>0</td>\n",
       "      <td>0.008</td>\n",
       "    </tr>\n",
       "    <tr>\n",
       "      <th>310</th>\n",
       "      <td>2018</td>\n",
       "      <td>A Star Is Born</td>\n",
       "      <td>1</td>\n",
       "      <td>0</td>\n",
       "      <td>0.007</td>\n",
       "    </tr>\n",
       "    <tr>\n",
       "      <th>325</th>\n",
       "      <td>2018</td>\n",
       "      <td>The Favourite</td>\n",
       "      <td>1</td>\n",
       "      <td>0</td>\n",
       "      <td>0.004</td>\n",
       "    </tr>\n",
       "    <tr>\n",
       "      <th>300</th>\n",
       "      <td>2018</td>\n",
       "      <td>Avengers: Infinity War</td>\n",
       "      <td>0</td>\n",
       "      <td>0</td>\n",
       "      <td>0.003</td>\n",
       "    </tr>\n",
       "    <tr>\n",
       "      <th>367</th>\n",
       "      <td>2018</td>\n",
       "      <td>Andhadhun</td>\n",
       "      <td>0</td>\n",
       "      <td>0</td>\n",
       "      <td>0.002</td>\n",
       "    </tr>\n",
       "    <tr>\n",
       "      <th>334</th>\n",
       "      <td>2018</td>\n",
       "      <td>Crazy Rich Asians</td>\n",
       "      <td>0</td>\n",
       "      <td>0</td>\n",
       "      <td>0.002</td>\n",
       "    </tr>\n",
       "  </tbody>\n",
       "</table>\n",
       "</div>"
      ],
      "text/plain": [
       "     Year                   Movie  Oscar_nominee  Oscar_winner  \\\n",
       "330  2018                    Roma              1             0   \n",
       "309  2018              Green Book              1             1   \n",
       "321  2018          BlacKkKlansman              1             0   \n",
       "344  2018                    Vice              1             0   \n",
       "303  2018       Bohemian Rhapsody              1             0   \n",
       "310  2018          A Star Is Born              1             0   \n",
       "325  2018           The Favourite              1             0   \n",
       "300  2018  Avengers: Infinity War              0             0   \n",
       "367  2018               Andhadhun              0             0   \n",
       "334  2018       Crazy Rich Asians              0             0   \n",
       "\n",
       "     Predicted Win Rate  \n",
       "330               0.751  \n",
       "309               0.093  \n",
       "321               0.024  \n",
       "344               0.019  \n",
       "303               0.008  \n",
       "310               0.007  \n",
       "325               0.004  \n",
       "300               0.003  \n",
       "367               0.002  \n",
       "334               0.002  "
      ]
     },
     "execution_count": 65,
     "metadata": {},
     "output_type": "execute_result"
    }
   ],
   "source": [
    "normalized_prediction[normalized_prediction[\"Year\"] == 2018].sort_values(\"Predicted Win Rate\", ascending=False).head(10)"
   ]
  },
  {
   "cell_type": "code",
   "execution_count": 66,
   "metadata": {},
   "outputs": [
    {
     "data": {
      "text/html": [
       "<div>\n",
       "<style scoped>\n",
       "    .dataframe tbody tr th:only-of-type {\n",
       "        vertical-align: middle;\n",
       "    }\n",
       "\n",
       "    .dataframe tbody tr th {\n",
       "        vertical-align: top;\n",
       "    }\n",
       "\n",
       "    .dataframe thead th {\n",
       "        text-align: right;\n",
       "    }\n",
       "</style>\n",
       "<table border=\"1\" class=\"dataframe\">\n",
       "  <thead>\n",
       "    <tr style=\"text-align: right;\">\n",
       "      <th></th>\n",
       "      <th>Year</th>\n",
       "      <th>Movie</th>\n",
       "      <th>Oscar_nominee</th>\n",
       "      <th>Oscar_winner</th>\n",
       "      <th>Predicted Win Rate</th>\n",
       "    </tr>\n",
       "  </thead>\n",
       "  <tbody>\n",
       "    <tr>\n",
       "      <th>408</th>\n",
       "      <td>2019</td>\n",
       "      <td>1917</td>\n",
       "      <td>1</td>\n",
       "      <td>0</td>\n",
       "      <td>0.581</td>\n",
       "    </tr>\n",
       "    <tr>\n",
       "      <th>402</th>\n",
       "      <td>2019</td>\n",
       "      <td>Once Upon a Time in Hollywood</td>\n",
       "      <td>1</td>\n",
       "      <td>0</td>\n",
       "      <td>0.336</td>\n",
       "    </tr>\n",
       "    <tr>\n",
       "      <th>404</th>\n",
       "      <td>2019</td>\n",
       "      <td>Parasite</td>\n",
       "      <td>1</td>\n",
       "      <td>1</td>\n",
       "      <td>0.019</td>\n",
       "    </tr>\n",
       "    <tr>\n",
       "      <th>418</th>\n",
       "      <td>2019</td>\n",
       "      <td>Jojo Rabbit</td>\n",
       "      <td>1</td>\n",
       "      <td>0</td>\n",
       "      <td>0.010</td>\n",
       "    </tr>\n",
       "    <tr>\n",
       "      <th>407</th>\n",
       "      <td>2019</td>\n",
       "      <td>The Irishman</td>\n",
       "      <td>1</td>\n",
       "      <td>0</td>\n",
       "      <td>0.009</td>\n",
       "    </tr>\n",
       "    <tr>\n",
       "      <th>400</th>\n",
       "      <td>2019</td>\n",
       "      <td>Joker</td>\n",
       "      <td>1</td>\n",
       "      <td>0</td>\n",
       "      <td>0.004</td>\n",
       "    </tr>\n",
       "    <tr>\n",
       "      <th>413</th>\n",
       "      <td>2019</td>\n",
       "      <td>Marriage Story</td>\n",
       "      <td>1</td>\n",
       "      <td>0</td>\n",
       "      <td>0.003</td>\n",
       "    </tr>\n",
       "    <tr>\n",
       "      <th>487</th>\n",
       "      <td>2019</td>\n",
       "      <td>Uri: The Surgical Strike</td>\n",
       "      <td>0</td>\n",
       "      <td>0</td>\n",
       "      <td>0.001</td>\n",
       "    </tr>\n",
       "    <tr>\n",
       "      <th>488</th>\n",
       "      <td>2019</td>\n",
       "      <td>Dolor y gloria</td>\n",
       "      <td>0</td>\n",
       "      <td>0</td>\n",
       "      <td>0.001</td>\n",
       "    </tr>\n",
       "    <tr>\n",
       "      <th>498</th>\n",
       "      <td>2019</td>\n",
       "      <td>Richard Jewell</td>\n",
       "      <td>0</td>\n",
       "      <td>0</td>\n",
       "      <td>0.001</td>\n",
       "    </tr>\n",
       "  </tbody>\n",
       "</table>\n",
       "</div>"
      ],
      "text/plain": [
       "     Year                          Movie  Oscar_nominee  Oscar_winner  \\\n",
       "408  2019                           1917              1             0   \n",
       "402  2019  Once Upon a Time in Hollywood              1             0   \n",
       "404  2019                       Parasite              1             1   \n",
       "418  2019                    Jojo Rabbit              1             0   \n",
       "407  2019                   The Irishman              1             0   \n",
       "400  2019                          Joker              1             0   \n",
       "413  2019                 Marriage Story              1             0   \n",
       "487  2019       Uri: The Surgical Strike              0             0   \n",
       "488  2019                 Dolor y gloria              0             0   \n",
       "498  2019                 Richard Jewell              0             0   \n",
       "\n",
       "     Predicted Win Rate  \n",
       "408               0.581  \n",
       "402               0.336  \n",
       "404               0.019  \n",
       "418               0.010  \n",
       "407               0.009  \n",
       "400               0.004  \n",
       "413               0.003  \n",
       "487               0.001  \n",
       "488               0.001  \n",
       "498               0.001  "
      ]
     },
     "execution_count": 66,
     "metadata": {},
     "output_type": "execute_result"
    }
   ],
   "source": [
    "normalized_prediction[normalized_prediction[\"Year\"] == 2019].sort_values(\"Predicted Win Rate\", ascending=False).head(10)"
   ]
  },
  {
   "cell_type": "markdown",
   "metadata": {},
   "source": [
    "## #2.3 - Gradient Boosting Classifier"
   ]
  },
  {
   "cell_type": "code",
   "execution_count": 67,
   "metadata": {},
   "outputs": [],
   "source": [
    "GBC = GradientBoostingClassifier()\n",
    "\n",
    "my_GBC = GBC.fit(X_train, y_train)"
   ]
  },
  {
   "cell_type": "code",
   "execution_count": 68,
   "metadata": {},
   "outputs": [
    {
     "name": "stdout",
     "output_type": "stream",
     "text": [
      "                     Importances Weightage\n",
      "Runtime (min)                        0.000\n",
      "Action                               0.000\n",
      "Adventure                            0.000\n",
      "Animation                            0.000\n",
      "Biography                            0.000\n",
      "Comedy                               0.000\n",
      "Crime                                0.001\n",
      "Drama                                0.000\n",
      "Family                               0.000\n",
      "Fantasy                              0.000\n",
      "History                              0.000\n",
      "Horror                               0.000\n",
      "Musical                              0.000\n",
      "Mystery                              0.000\n",
      "Romance                              0.000\n",
      "Sci-Fi                               0.000\n",
      "Sport                                0.001\n",
      "Thriller                             0.019\n",
      "War                                  0.000\n",
      "Western                              0.000\n",
      "IMDb_rating                          0.037\n",
      "IMDb_votes                           0.017\n",
      "RT_rating                            0.232\n",
      "RT_review                            0.004\n",
      "Metascore                            0.011\n",
      "Budget                               0.000\n",
      "Domestic (US) gross                  0.001\n",
      "International gross                  0.018\n",
      "Worldwide gross                      0.000\n",
      "GG_drama_winner                      0.000\n",
      "GG_drama_nominee                     0.000\n",
      "GG_comedy_winner                     0.000\n",
      "GG_comedy_nominee                    0.025\n",
      "BAFTA_winner                         0.002\n",
      "BAFTA_nominee                        0.002\n",
      "DGA_winner                           0.546\n",
      "DGA_nominee                          0.001\n",
      "PGA_winner                           0.004\n",
      "PGA_nominee                          0.000\n",
      "CCMA_winner                          0.043\n",
      "CCMA_nominee                         0.000\n",
      "Golden_Palm_winner                   0.000\n",
      "Golden_Palm_nominee                  0.000\n",
      "Golden_Bear_winner                   0.000\n",
      "Golden_Bear_nominee                  0.000\n",
      "Golden_Lion_winner                   0.009\n",
      "Golden_Lion_nominee                  0.001\n",
      "PCA_winner                           0.000\n",
      "PCA_nominee                          0.000\n",
      "NYFCC_winner                         0.000\n",
      "NYFCC_nominee                        0.000\n",
      "OFCS_winner                          0.026\n",
      "OFCS_nominee                         0.002\n",
      "\n",
      "Score =  1.0\n"
     ]
    }
   ],
   "source": [
    "GBC_importances = pd.DataFrame(my_GBC.feature_importances_.round(3), all_features, columns=[\"Importances Weightage\"])\n",
    "\n",
    "print(GBC_importances)\n",
    "print()\n",
    "print('Score = ', my_GBC.score(X_train, y_train))"
   ]
  },
  {
   "cell_type": "code",
   "execution_count": 69,
   "metadata": {},
   "outputs": [
    {
     "data": {
      "application/vnd.plotly.v1+json": {
       "config": {
        "plotlyServerURL": "https://plot.ly"
       },
       "data": [
        {
         "alignmentgroup": "True",
         "hoverlabel": {
          "namelength": 0
         },
         "hovertemplate": "Features=%{x}<br>Importances Weightage=%{y}",
         "legendgroup": "",
         "marker": {
          "color": "#636efa"
         },
         "name": "",
         "offsetgroup": "",
         "orientation": "v",
         "showlegend": false,
         "textposition": "auto",
         "type": "bar",
         "x": [
          "Runtime (min)",
          "Action",
          "Adventure",
          "Animation",
          "Biography",
          "Comedy",
          "Crime",
          "Drama",
          "Family",
          "Fantasy",
          "History",
          "Horror",
          "Musical",
          "Mystery",
          "Romance",
          "Sci-Fi",
          "Sport",
          "Thriller",
          "War",
          "Western",
          "IMDb_rating",
          "IMDb_votes",
          "RT_rating",
          "RT_review",
          "Metascore",
          "Budget",
          "Domestic (US) gross",
          "International gross",
          "Worldwide gross",
          "GG_drama_winner",
          "GG_drama_nominee",
          "GG_comedy_winner",
          "GG_comedy_nominee",
          "BAFTA_winner",
          "BAFTA_nominee",
          "DGA_winner",
          "DGA_nominee",
          "PGA_winner",
          "PGA_nominee",
          "CCMA_winner",
          "CCMA_nominee",
          "Golden_Palm_winner",
          "Golden_Palm_nominee",
          "Golden_Bear_winner",
          "Golden_Bear_nominee",
          "Golden_Lion_winner",
          "Golden_Lion_nominee",
          "PCA_winner",
          "PCA_nominee",
          "NYFCC_winner",
          "NYFCC_nominee",
          "OFCS_winner",
          "OFCS_nominee"
         ],
         "xaxis": "x",
         "y": [
          0,
          0,
          0,
          0,
          0,
          0,
          0.001,
          0,
          0,
          0,
          0,
          0,
          0,
          0,
          0,
          0,
          0.001,
          0.019,
          0,
          0,
          0.037,
          0.017,
          0.232,
          0.004,
          0.011,
          0,
          0.001,
          0.018,
          0,
          0,
          0,
          0,
          0.025,
          0.002,
          0.002,
          0.546,
          0.001,
          0.004,
          0,
          0.043,
          0,
          0,
          0,
          0,
          0,
          0.009,
          0.001,
          0,
          0,
          0,
          0,
          0.026,
          0.002
         ],
         "yaxis": "y"
        }
       ],
       "layout": {
        "barmode": "relative",
        "height": 600,
        "legend": {
         "tracegroupgap": 0
        },
        "template": {
         "data": {
          "bar": [
           {
            "error_x": {
             "color": "#2a3f5f"
            },
            "error_y": {
             "color": "#2a3f5f"
            },
            "marker": {
             "line": {
              "color": "#E5ECF6",
              "width": 0.5
             }
            },
            "type": "bar"
           }
          ],
          "barpolar": [
           {
            "marker": {
             "line": {
              "color": "#E5ECF6",
              "width": 0.5
             }
            },
            "type": "barpolar"
           }
          ],
          "carpet": [
           {
            "aaxis": {
             "endlinecolor": "#2a3f5f",
             "gridcolor": "white",
             "linecolor": "white",
             "minorgridcolor": "white",
             "startlinecolor": "#2a3f5f"
            },
            "baxis": {
             "endlinecolor": "#2a3f5f",
             "gridcolor": "white",
             "linecolor": "white",
             "minorgridcolor": "white",
             "startlinecolor": "#2a3f5f"
            },
            "type": "carpet"
           }
          ],
          "choropleth": [
           {
            "colorbar": {
             "outlinewidth": 0,
             "ticks": ""
            },
            "type": "choropleth"
           }
          ],
          "contour": [
           {
            "colorbar": {
             "outlinewidth": 0,
             "ticks": ""
            },
            "colorscale": [
             [
              0,
              "#0d0887"
             ],
             [
              0.1111111111111111,
              "#46039f"
             ],
             [
              0.2222222222222222,
              "#7201a8"
             ],
             [
              0.3333333333333333,
              "#9c179e"
             ],
             [
              0.4444444444444444,
              "#bd3786"
             ],
             [
              0.5555555555555556,
              "#d8576b"
             ],
             [
              0.6666666666666666,
              "#ed7953"
             ],
             [
              0.7777777777777778,
              "#fb9f3a"
             ],
             [
              0.8888888888888888,
              "#fdca26"
             ],
             [
              1,
              "#f0f921"
             ]
            ],
            "type": "contour"
           }
          ],
          "contourcarpet": [
           {
            "colorbar": {
             "outlinewidth": 0,
             "ticks": ""
            },
            "type": "contourcarpet"
           }
          ],
          "heatmap": [
           {
            "colorbar": {
             "outlinewidth": 0,
             "ticks": ""
            },
            "colorscale": [
             [
              0,
              "#0d0887"
             ],
             [
              0.1111111111111111,
              "#46039f"
             ],
             [
              0.2222222222222222,
              "#7201a8"
             ],
             [
              0.3333333333333333,
              "#9c179e"
             ],
             [
              0.4444444444444444,
              "#bd3786"
             ],
             [
              0.5555555555555556,
              "#d8576b"
             ],
             [
              0.6666666666666666,
              "#ed7953"
             ],
             [
              0.7777777777777778,
              "#fb9f3a"
             ],
             [
              0.8888888888888888,
              "#fdca26"
             ],
             [
              1,
              "#f0f921"
             ]
            ],
            "type": "heatmap"
           }
          ],
          "heatmapgl": [
           {
            "colorbar": {
             "outlinewidth": 0,
             "ticks": ""
            },
            "colorscale": [
             [
              0,
              "#0d0887"
             ],
             [
              0.1111111111111111,
              "#46039f"
             ],
             [
              0.2222222222222222,
              "#7201a8"
             ],
             [
              0.3333333333333333,
              "#9c179e"
             ],
             [
              0.4444444444444444,
              "#bd3786"
             ],
             [
              0.5555555555555556,
              "#d8576b"
             ],
             [
              0.6666666666666666,
              "#ed7953"
             ],
             [
              0.7777777777777778,
              "#fb9f3a"
             ],
             [
              0.8888888888888888,
              "#fdca26"
             ],
             [
              1,
              "#f0f921"
             ]
            ],
            "type": "heatmapgl"
           }
          ],
          "histogram": [
           {
            "marker": {
             "colorbar": {
              "outlinewidth": 0,
              "ticks": ""
             }
            },
            "type": "histogram"
           }
          ],
          "histogram2d": [
           {
            "colorbar": {
             "outlinewidth": 0,
             "ticks": ""
            },
            "colorscale": [
             [
              0,
              "#0d0887"
             ],
             [
              0.1111111111111111,
              "#46039f"
             ],
             [
              0.2222222222222222,
              "#7201a8"
             ],
             [
              0.3333333333333333,
              "#9c179e"
             ],
             [
              0.4444444444444444,
              "#bd3786"
             ],
             [
              0.5555555555555556,
              "#d8576b"
             ],
             [
              0.6666666666666666,
              "#ed7953"
             ],
             [
              0.7777777777777778,
              "#fb9f3a"
             ],
             [
              0.8888888888888888,
              "#fdca26"
             ],
             [
              1,
              "#f0f921"
             ]
            ],
            "type": "histogram2d"
           }
          ],
          "histogram2dcontour": [
           {
            "colorbar": {
             "outlinewidth": 0,
             "ticks": ""
            },
            "colorscale": [
             [
              0,
              "#0d0887"
             ],
             [
              0.1111111111111111,
              "#46039f"
             ],
             [
              0.2222222222222222,
              "#7201a8"
             ],
             [
              0.3333333333333333,
              "#9c179e"
             ],
             [
              0.4444444444444444,
              "#bd3786"
             ],
             [
              0.5555555555555556,
              "#d8576b"
             ],
             [
              0.6666666666666666,
              "#ed7953"
             ],
             [
              0.7777777777777778,
              "#fb9f3a"
             ],
             [
              0.8888888888888888,
              "#fdca26"
             ],
             [
              1,
              "#f0f921"
             ]
            ],
            "type": "histogram2dcontour"
           }
          ],
          "mesh3d": [
           {
            "colorbar": {
             "outlinewidth": 0,
             "ticks": ""
            },
            "type": "mesh3d"
           }
          ],
          "parcoords": [
           {
            "line": {
             "colorbar": {
              "outlinewidth": 0,
              "ticks": ""
             }
            },
            "type": "parcoords"
           }
          ],
          "pie": [
           {
            "automargin": true,
            "type": "pie"
           }
          ],
          "scatter": [
           {
            "marker": {
             "colorbar": {
              "outlinewidth": 0,
              "ticks": ""
             }
            },
            "type": "scatter"
           }
          ],
          "scatter3d": [
           {
            "line": {
             "colorbar": {
              "outlinewidth": 0,
              "ticks": ""
             }
            },
            "marker": {
             "colorbar": {
              "outlinewidth": 0,
              "ticks": ""
             }
            },
            "type": "scatter3d"
           }
          ],
          "scattercarpet": [
           {
            "marker": {
             "colorbar": {
              "outlinewidth": 0,
              "ticks": ""
             }
            },
            "type": "scattercarpet"
           }
          ],
          "scattergeo": [
           {
            "marker": {
             "colorbar": {
              "outlinewidth": 0,
              "ticks": ""
             }
            },
            "type": "scattergeo"
           }
          ],
          "scattergl": [
           {
            "marker": {
             "colorbar": {
              "outlinewidth": 0,
              "ticks": ""
             }
            },
            "type": "scattergl"
           }
          ],
          "scattermapbox": [
           {
            "marker": {
             "colorbar": {
              "outlinewidth": 0,
              "ticks": ""
             }
            },
            "type": "scattermapbox"
           }
          ],
          "scatterpolar": [
           {
            "marker": {
             "colorbar": {
              "outlinewidth": 0,
              "ticks": ""
             }
            },
            "type": "scatterpolar"
           }
          ],
          "scatterpolargl": [
           {
            "marker": {
             "colorbar": {
              "outlinewidth": 0,
              "ticks": ""
             }
            },
            "type": "scatterpolargl"
           }
          ],
          "scatterternary": [
           {
            "marker": {
             "colorbar": {
              "outlinewidth": 0,
              "ticks": ""
             }
            },
            "type": "scatterternary"
           }
          ],
          "surface": [
           {
            "colorbar": {
             "outlinewidth": 0,
             "ticks": ""
            },
            "colorscale": [
             [
              0,
              "#0d0887"
             ],
             [
              0.1111111111111111,
              "#46039f"
             ],
             [
              0.2222222222222222,
              "#7201a8"
             ],
             [
              0.3333333333333333,
              "#9c179e"
             ],
             [
              0.4444444444444444,
              "#bd3786"
             ],
             [
              0.5555555555555556,
              "#d8576b"
             ],
             [
              0.6666666666666666,
              "#ed7953"
             ],
             [
              0.7777777777777778,
              "#fb9f3a"
             ],
             [
              0.8888888888888888,
              "#fdca26"
             ],
             [
              1,
              "#f0f921"
             ]
            ],
            "type": "surface"
           }
          ],
          "table": [
           {
            "cells": {
             "fill": {
              "color": "#EBF0F8"
             },
             "line": {
              "color": "white"
             }
            },
            "header": {
             "fill": {
              "color": "#C8D4E3"
             },
             "line": {
              "color": "white"
             }
            },
            "type": "table"
           }
          ]
         },
         "layout": {
          "annotationdefaults": {
           "arrowcolor": "#2a3f5f",
           "arrowhead": 0,
           "arrowwidth": 1
          },
          "coloraxis": {
           "colorbar": {
            "outlinewidth": 0,
            "ticks": ""
           }
          },
          "colorscale": {
           "diverging": [
            [
             0,
             "#8e0152"
            ],
            [
             0.1,
             "#c51b7d"
            ],
            [
             0.2,
             "#de77ae"
            ],
            [
             0.3,
             "#f1b6da"
            ],
            [
             0.4,
             "#fde0ef"
            ],
            [
             0.5,
             "#f7f7f7"
            ],
            [
             0.6,
             "#e6f5d0"
            ],
            [
             0.7,
             "#b8e186"
            ],
            [
             0.8,
             "#7fbc41"
            ],
            [
             0.9,
             "#4d9221"
            ],
            [
             1,
             "#276419"
            ]
           ],
           "sequential": [
            [
             0,
             "#0d0887"
            ],
            [
             0.1111111111111111,
             "#46039f"
            ],
            [
             0.2222222222222222,
             "#7201a8"
            ],
            [
             0.3333333333333333,
             "#9c179e"
            ],
            [
             0.4444444444444444,
             "#bd3786"
            ],
            [
             0.5555555555555556,
             "#d8576b"
            ],
            [
             0.6666666666666666,
             "#ed7953"
            ],
            [
             0.7777777777777778,
             "#fb9f3a"
            ],
            [
             0.8888888888888888,
             "#fdca26"
            ],
            [
             1,
             "#f0f921"
            ]
           ],
           "sequentialminus": [
            [
             0,
             "#0d0887"
            ],
            [
             0.1111111111111111,
             "#46039f"
            ],
            [
             0.2222222222222222,
             "#7201a8"
            ],
            [
             0.3333333333333333,
             "#9c179e"
            ],
            [
             0.4444444444444444,
             "#bd3786"
            ],
            [
             0.5555555555555556,
             "#d8576b"
            ],
            [
             0.6666666666666666,
             "#ed7953"
            ],
            [
             0.7777777777777778,
             "#fb9f3a"
            ],
            [
             0.8888888888888888,
             "#fdca26"
            ],
            [
             1,
             "#f0f921"
            ]
           ]
          },
          "colorway": [
           "#636efa",
           "#EF553B",
           "#00cc96",
           "#ab63fa",
           "#FFA15A",
           "#19d3f3",
           "#FF6692",
           "#B6E880",
           "#FF97FF",
           "#FECB52"
          ],
          "font": {
           "color": "#2a3f5f"
          },
          "geo": {
           "bgcolor": "white",
           "lakecolor": "white",
           "landcolor": "#E5ECF6",
           "showlakes": true,
           "showland": true,
           "subunitcolor": "white"
          },
          "hoverlabel": {
           "align": "left"
          },
          "hovermode": "closest",
          "mapbox": {
           "style": "light"
          },
          "paper_bgcolor": "white",
          "plot_bgcolor": "#E5ECF6",
          "polar": {
           "angularaxis": {
            "gridcolor": "white",
            "linecolor": "white",
            "ticks": ""
           },
           "bgcolor": "#E5ECF6",
           "radialaxis": {
            "gridcolor": "white",
            "linecolor": "white",
            "ticks": ""
           }
          },
          "scene": {
           "xaxis": {
            "backgroundcolor": "#E5ECF6",
            "gridcolor": "white",
            "gridwidth": 2,
            "linecolor": "white",
            "showbackground": true,
            "ticks": "",
            "zerolinecolor": "white"
           },
           "yaxis": {
            "backgroundcolor": "#E5ECF6",
            "gridcolor": "white",
            "gridwidth": 2,
            "linecolor": "white",
            "showbackground": true,
            "ticks": "",
            "zerolinecolor": "white"
           },
           "zaxis": {
            "backgroundcolor": "#E5ECF6",
            "gridcolor": "white",
            "gridwidth": 2,
            "linecolor": "white",
            "showbackground": true,
            "ticks": "",
            "zerolinecolor": "white"
           }
          },
          "shapedefaults": {
           "line": {
            "color": "#2a3f5f"
           }
          },
          "ternary": {
           "aaxis": {
            "gridcolor": "white",
            "linecolor": "white",
            "ticks": ""
           },
           "baxis": {
            "gridcolor": "white",
            "linecolor": "white",
            "ticks": ""
           },
           "bgcolor": "#E5ECF6",
           "caxis": {
            "gridcolor": "white",
            "linecolor": "white",
            "ticks": ""
           }
          },
          "title": {
           "x": 0.05
          },
          "xaxis": {
           "automargin": true,
           "gridcolor": "white",
           "linecolor": "white",
           "ticks": "",
           "title": {
            "standoff": 15
           },
           "zerolinecolor": "white",
           "zerolinewidth": 2
          },
          "yaxis": {
           "automargin": true,
           "gridcolor": "white",
           "linecolor": "white",
           "ticks": "",
           "title": {
            "standoff": 15
           },
           "zerolinecolor": "white",
           "zerolinewidth": 2
          }
         }
        },
        "title": {
         "text": "Features Importances"
        },
        "xaxis": {
         "anchor": "y",
         "domain": [
          0,
          1
         ],
         "title": {
          "text": "Features"
         }
        },
        "yaxis": {
         "anchor": "x",
         "domain": [
          0,
          1
         ],
         "title": {
          "text": "Importances Weightage"
         }
        }
       }
      },
      "text/html": [
       "<div>\n",
       "        \n",
       "        \n",
       "            <div id=\"9bee9985-ddb4-4c65-91cf-4ca824222b1d\" class=\"plotly-graph-div\" style=\"height:600px; width:100%;\"></div>\n",
       "            <script type=\"text/javascript\">\n",
       "                require([\"plotly\"], function(Plotly) {\n",
       "                    window.PLOTLYENV=window.PLOTLYENV || {};\n",
       "                    \n",
       "                if (document.getElementById(\"9bee9985-ddb4-4c65-91cf-4ca824222b1d\")) {\n",
       "                    Plotly.newPlot(\n",
       "                        '9bee9985-ddb4-4c65-91cf-4ca824222b1d',\n",
       "                        [{\"alignmentgroup\": \"True\", \"hoverlabel\": {\"namelength\": 0}, \"hovertemplate\": \"Features=%{x}<br>Importances Weightage=%{y}\", \"legendgroup\": \"\", \"marker\": {\"color\": \"#636efa\"}, \"name\": \"\", \"offsetgroup\": \"\", \"orientation\": \"v\", \"showlegend\": false, \"textposition\": \"auto\", \"type\": \"bar\", \"x\": [\"Runtime (min)\", \"Action\", \"Adventure\", \"Animation\", \"Biography\", \"Comedy\", \"Crime\", \"Drama\", \"Family\", \"Fantasy\", \"History\", \"Horror\", \"Musical\", \"Mystery\", \"Romance\", \"Sci-Fi\", \"Sport\", \"Thriller\", \"War\", \"Western\", \"IMDb_rating\", \"IMDb_votes\", \"RT_rating\", \"RT_review\", \"Metascore\", \"Budget\", \"Domestic (US) gross\", \"International gross\", \"Worldwide gross\", \"GG_drama_winner\", \"GG_drama_nominee\", \"GG_comedy_winner\", \"GG_comedy_nominee\", \"BAFTA_winner\", \"BAFTA_nominee\", \"DGA_winner\", \"DGA_nominee\", \"PGA_winner\", \"PGA_nominee\", \"CCMA_winner\", \"CCMA_nominee\", \"Golden_Palm_winner\", \"Golden_Palm_nominee\", \"Golden_Bear_winner\", \"Golden_Bear_nominee\", \"Golden_Lion_winner\", \"Golden_Lion_nominee\", \"PCA_winner\", \"PCA_nominee\", \"NYFCC_winner\", \"NYFCC_nominee\", \"OFCS_winner\", \"OFCS_nominee\"], \"xaxis\": \"x\", \"y\": [0.0, 0.0, 0.0, 0.0, 0.0, 0.0, 0.001, 0.0, 0.0, 0.0, 0.0, 0.0, 0.0, 0.0, 0.0, 0.0, 0.001, 0.019, 0.0, 0.0, 0.037, 0.017, 0.232, 0.004, 0.011, 0.0, 0.001, 0.018, 0.0, 0.0, 0.0, 0.0, 0.025, 0.002, 0.002, 0.546, 0.001, 0.004, 0.0, 0.043, 0.0, 0.0, 0.0, 0.0, 0.0, 0.009, 0.001, 0.0, 0.0, 0.0, 0.0, 0.026, 0.002], \"yaxis\": \"y\"}],\n",
       "                        {\"barmode\": \"relative\", \"height\": 600, \"legend\": {\"tracegroupgap\": 0}, \"template\": {\"data\": {\"bar\": [{\"error_x\": {\"color\": \"#2a3f5f\"}, \"error_y\": {\"color\": \"#2a3f5f\"}, \"marker\": {\"line\": {\"color\": \"#E5ECF6\", \"width\": 0.5}}, \"type\": \"bar\"}], \"barpolar\": [{\"marker\": {\"line\": {\"color\": \"#E5ECF6\", \"width\": 0.5}}, \"type\": \"barpolar\"}], \"carpet\": [{\"aaxis\": {\"endlinecolor\": \"#2a3f5f\", \"gridcolor\": \"white\", \"linecolor\": \"white\", \"minorgridcolor\": \"white\", \"startlinecolor\": \"#2a3f5f\"}, \"baxis\": {\"endlinecolor\": \"#2a3f5f\", \"gridcolor\": \"white\", \"linecolor\": \"white\", \"minorgridcolor\": \"white\", \"startlinecolor\": \"#2a3f5f\"}, \"type\": \"carpet\"}], \"choropleth\": [{\"colorbar\": {\"outlinewidth\": 0, \"ticks\": \"\"}, \"type\": \"choropleth\"}], \"contour\": [{\"colorbar\": {\"outlinewidth\": 0, \"ticks\": \"\"}, \"colorscale\": [[0.0, \"#0d0887\"], [0.1111111111111111, \"#46039f\"], [0.2222222222222222, \"#7201a8\"], [0.3333333333333333, \"#9c179e\"], [0.4444444444444444, \"#bd3786\"], [0.5555555555555556, \"#d8576b\"], [0.6666666666666666, \"#ed7953\"], [0.7777777777777778, \"#fb9f3a\"], [0.8888888888888888, \"#fdca26\"], [1.0, \"#f0f921\"]], \"type\": \"contour\"}], \"contourcarpet\": [{\"colorbar\": {\"outlinewidth\": 0, \"ticks\": \"\"}, \"type\": \"contourcarpet\"}], \"heatmap\": [{\"colorbar\": {\"outlinewidth\": 0, \"ticks\": \"\"}, \"colorscale\": [[0.0, \"#0d0887\"], [0.1111111111111111, \"#46039f\"], [0.2222222222222222, \"#7201a8\"], [0.3333333333333333, \"#9c179e\"], [0.4444444444444444, \"#bd3786\"], [0.5555555555555556, \"#d8576b\"], [0.6666666666666666, \"#ed7953\"], [0.7777777777777778, \"#fb9f3a\"], [0.8888888888888888, \"#fdca26\"], [1.0, \"#f0f921\"]], \"type\": \"heatmap\"}], \"heatmapgl\": [{\"colorbar\": {\"outlinewidth\": 0, \"ticks\": \"\"}, \"colorscale\": [[0.0, \"#0d0887\"], [0.1111111111111111, \"#46039f\"], [0.2222222222222222, \"#7201a8\"], [0.3333333333333333, \"#9c179e\"], [0.4444444444444444, \"#bd3786\"], [0.5555555555555556, \"#d8576b\"], [0.6666666666666666, \"#ed7953\"], [0.7777777777777778, \"#fb9f3a\"], [0.8888888888888888, \"#fdca26\"], [1.0, \"#f0f921\"]], \"type\": \"heatmapgl\"}], \"histogram\": [{\"marker\": {\"colorbar\": {\"outlinewidth\": 0, \"ticks\": \"\"}}, \"type\": \"histogram\"}], \"histogram2d\": [{\"colorbar\": {\"outlinewidth\": 0, \"ticks\": \"\"}, \"colorscale\": [[0.0, \"#0d0887\"], [0.1111111111111111, \"#46039f\"], [0.2222222222222222, \"#7201a8\"], [0.3333333333333333, \"#9c179e\"], [0.4444444444444444, \"#bd3786\"], [0.5555555555555556, \"#d8576b\"], [0.6666666666666666, \"#ed7953\"], [0.7777777777777778, \"#fb9f3a\"], [0.8888888888888888, \"#fdca26\"], [1.0, \"#f0f921\"]], \"type\": \"histogram2d\"}], \"histogram2dcontour\": [{\"colorbar\": {\"outlinewidth\": 0, \"ticks\": \"\"}, \"colorscale\": [[0.0, \"#0d0887\"], [0.1111111111111111, \"#46039f\"], [0.2222222222222222, \"#7201a8\"], [0.3333333333333333, \"#9c179e\"], [0.4444444444444444, \"#bd3786\"], [0.5555555555555556, \"#d8576b\"], [0.6666666666666666, \"#ed7953\"], [0.7777777777777778, \"#fb9f3a\"], [0.8888888888888888, \"#fdca26\"], [1.0, \"#f0f921\"]], \"type\": \"histogram2dcontour\"}], \"mesh3d\": [{\"colorbar\": {\"outlinewidth\": 0, \"ticks\": \"\"}, \"type\": \"mesh3d\"}], \"parcoords\": [{\"line\": {\"colorbar\": {\"outlinewidth\": 0, \"ticks\": \"\"}}, \"type\": \"parcoords\"}], \"pie\": [{\"automargin\": true, \"type\": \"pie\"}], \"scatter\": [{\"marker\": {\"colorbar\": {\"outlinewidth\": 0, \"ticks\": \"\"}}, \"type\": \"scatter\"}], \"scatter3d\": [{\"line\": {\"colorbar\": {\"outlinewidth\": 0, \"ticks\": \"\"}}, \"marker\": {\"colorbar\": {\"outlinewidth\": 0, \"ticks\": \"\"}}, \"type\": \"scatter3d\"}], \"scattercarpet\": [{\"marker\": {\"colorbar\": {\"outlinewidth\": 0, \"ticks\": \"\"}}, \"type\": \"scattercarpet\"}], \"scattergeo\": [{\"marker\": {\"colorbar\": {\"outlinewidth\": 0, \"ticks\": \"\"}}, \"type\": \"scattergeo\"}], \"scattergl\": [{\"marker\": {\"colorbar\": {\"outlinewidth\": 0, \"ticks\": \"\"}}, \"type\": \"scattergl\"}], \"scattermapbox\": [{\"marker\": {\"colorbar\": {\"outlinewidth\": 0, \"ticks\": \"\"}}, \"type\": \"scattermapbox\"}], \"scatterpolar\": [{\"marker\": {\"colorbar\": {\"outlinewidth\": 0, \"ticks\": \"\"}}, \"type\": \"scatterpolar\"}], \"scatterpolargl\": [{\"marker\": {\"colorbar\": {\"outlinewidth\": 0, \"ticks\": \"\"}}, \"type\": \"scatterpolargl\"}], \"scatterternary\": [{\"marker\": {\"colorbar\": {\"outlinewidth\": 0, \"ticks\": \"\"}}, \"type\": \"scatterternary\"}], \"surface\": [{\"colorbar\": {\"outlinewidth\": 0, \"ticks\": \"\"}, \"colorscale\": [[0.0, \"#0d0887\"], [0.1111111111111111, \"#46039f\"], [0.2222222222222222, \"#7201a8\"], [0.3333333333333333, \"#9c179e\"], [0.4444444444444444, \"#bd3786\"], [0.5555555555555556, \"#d8576b\"], [0.6666666666666666, \"#ed7953\"], [0.7777777777777778, \"#fb9f3a\"], [0.8888888888888888, \"#fdca26\"], [1.0, \"#f0f921\"]], \"type\": \"surface\"}], \"table\": [{\"cells\": {\"fill\": {\"color\": \"#EBF0F8\"}, \"line\": {\"color\": \"white\"}}, \"header\": {\"fill\": {\"color\": \"#C8D4E3\"}, \"line\": {\"color\": \"white\"}}, \"type\": \"table\"}]}, \"layout\": {\"annotationdefaults\": {\"arrowcolor\": \"#2a3f5f\", \"arrowhead\": 0, \"arrowwidth\": 1}, \"coloraxis\": {\"colorbar\": {\"outlinewidth\": 0, \"ticks\": \"\"}}, \"colorscale\": {\"diverging\": [[0, \"#8e0152\"], [0.1, \"#c51b7d\"], [0.2, \"#de77ae\"], [0.3, \"#f1b6da\"], [0.4, \"#fde0ef\"], [0.5, \"#f7f7f7\"], [0.6, \"#e6f5d0\"], [0.7, \"#b8e186\"], [0.8, \"#7fbc41\"], [0.9, \"#4d9221\"], [1, \"#276419\"]], \"sequential\": [[0.0, \"#0d0887\"], [0.1111111111111111, \"#46039f\"], [0.2222222222222222, \"#7201a8\"], [0.3333333333333333, \"#9c179e\"], [0.4444444444444444, \"#bd3786\"], [0.5555555555555556, \"#d8576b\"], [0.6666666666666666, \"#ed7953\"], [0.7777777777777778, \"#fb9f3a\"], [0.8888888888888888, \"#fdca26\"], [1.0, \"#f0f921\"]], \"sequentialminus\": [[0.0, \"#0d0887\"], [0.1111111111111111, \"#46039f\"], [0.2222222222222222, \"#7201a8\"], [0.3333333333333333, \"#9c179e\"], [0.4444444444444444, \"#bd3786\"], [0.5555555555555556, \"#d8576b\"], [0.6666666666666666, \"#ed7953\"], [0.7777777777777778, \"#fb9f3a\"], [0.8888888888888888, \"#fdca26\"], [1.0, \"#f0f921\"]]}, \"colorway\": [\"#636efa\", \"#EF553B\", \"#00cc96\", \"#ab63fa\", \"#FFA15A\", \"#19d3f3\", \"#FF6692\", \"#B6E880\", \"#FF97FF\", \"#FECB52\"], \"font\": {\"color\": \"#2a3f5f\"}, \"geo\": {\"bgcolor\": \"white\", \"lakecolor\": \"white\", \"landcolor\": \"#E5ECF6\", \"showlakes\": true, \"showland\": true, \"subunitcolor\": \"white\"}, \"hoverlabel\": {\"align\": \"left\"}, \"hovermode\": \"closest\", \"mapbox\": {\"style\": \"light\"}, \"paper_bgcolor\": \"white\", \"plot_bgcolor\": \"#E5ECF6\", \"polar\": {\"angularaxis\": {\"gridcolor\": \"white\", \"linecolor\": \"white\", \"ticks\": \"\"}, \"bgcolor\": \"#E5ECF6\", \"radialaxis\": {\"gridcolor\": \"white\", \"linecolor\": \"white\", \"ticks\": \"\"}}, \"scene\": {\"xaxis\": {\"backgroundcolor\": \"#E5ECF6\", \"gridcolor\": \"white\", \"gridwidth\": 2, \"linecolor\": \"white\", \"showbackground\": true, \"ticks\": \"\", \"zerolinecolor\": \"white\"}, \"yaxis\": {\"backgroundcolor\": \"#E5ECF6\", \"gridcolor\": \"white\", \"gridwidth\": 2, \"linecolor\": \"white\", \"showbackground\": true, \"ticks\": \"\", \"zerolinecolor\": \"white\"}, \"zaxis\": {\"backgroundcolor\": \"#E5ECF6\", \"gridcolor\": \"white\", \"gridwidth\": 2, \"linecolor\": \"white\", \"showbackground\": true, \"ticks\": \"\", \"zerolinecolor\": \"white\"}}, \"shapedefaults\": {\"line\": {\"color\": \"#2a3f5f\"}}, \"ternary\": {\"aaxis\": {\"gridcolor\": \"white\", \"linecolor\": \"white\", \"ticks\": \"\"}, \"baxis\": {\"gridcolor\": \"white\", \"linecolor\": \"white\", \"ticks\": \"\"}, \"bgcolor\": \"#E5ECF6\", \"caxis\": {\"gridcolor\": \"white\", \"linecolor\": \"white\", \"ticks\": \"\"}}, \"title\": {\"x\": 0.05}, \"xaxis\": {\"automargin\": true, \"gridcolor\": \"white\", \"linecolor\": \"white\", \"ticks\": \"\", \"title\": {\"standoff\": 15}, \"zerolinecolor\": \"white\", \"zerolinewidth\": 2}, \"yaxis\": {\"automargin\": true, \"gridcolor\": \"white\", \"linecolor\": \"white\", \"ticks\": \"\", \"title\": {\"standoff\": 15}, \"zerolinecolor\": \"white\", \"zerolinewidth\": 2}}}, \"title\": {\"text\": \"Features Importances\"}, \"xaxis\": {\"anchor\": \"y\", \"domain\": [0.0, 1.0], \"title\": {\"text\": \"Features\"}}, \"yaxis\": {\"anchor\": \"x\", \"domain\": [0.0, 1.0], \"title\": {\"text\": \"Importances Weightage\"}}},\n",
       "                        {\"responsive\": true}\n",
       "                    ).then(function(){\n",
       "                            \n",
       "var gd = document.getElementById('9bee9985-ddb4-4c65-91cf-4ca824222b1d');\n",
       "var x = new MutationObserver(function (mutations, observer) {{\n",
       "        var display = window.getComputedStyle(gd).display;\n",
       "        if (!display || display === 'none') {{\n",
       "            console.log([gd, 'removed!']);\n",
       "            Plotly.purge(gd);\n",
       "            observer.disconnect();\n",
       "        }}\n",
       "}});\n",
       "\n",
       "// Listen for the removal of the full notebook cells\n",
       "var notebookContainer = gd.closest('#notebook-container');\n",
       "if (notebookContainer) {{\n",
       "    x.observe(notebookContainer, {childList: true});\n",
       "}}\n",
       "\n",
       "// Listen for the clearing of the current output cell\n",
       "var outputEl = gd.closest('.output');\n",
       "if (outputEl) {{\n",
       "    x.observe(outputEl, {childList: true});\n",
       "}}\n",
       "\n",
       "                        })\n",
       "                };\n",
       "                });\n",
       "            </script>\n",
       "        </div>"
      ]
     },
     "metadata": {},
     "output_type": "display_data"
    }
   ],
   "source": [
    "GBC_importances['Features'] = all_features\n",
    "fig = px.bar(GBC_importances, x='Features', y='Importances Weightage', \n",
    "             title='Features Importances', height=600)\n",
    "fig.show()"
   ]
  },
  {
   "cell_type": "code",
   "execution_count": 70,
   "metadata": {},
   "outputs": [
    {
     "data": {
      "text/html": [
       "<div>\n",
       "<style scoped>\n",
       "    .dataframe tbody tr th:only-of-type {\n",
       "        vertical-align: middle;\n",
       "    }\n",
       "\n",
       "    .dataframe tbody tr th {\n",
       "        vertical-align: top;\n",
       "    }\n",
       "\n",
       "    .dataframe thead th {\n",
       "        text-align: right;\n",
       "    }\n",
       "</style>\n",
       "<table border=\"1\" class=\"dataframe\">\n",
       "  <thead>\n",
       "    <tr style=\"text-align: right;\">\n",
       "      <th></th>\n",
       "      <th>Year</th>\n",
       "      <th>Movie</th>\n",
       "      <th>Oscar_nominee</th>\n",
       "      <th>Oscar_winner</th>\n",
       "      <th>Predicted Win Rate</th>\n",
       "    </tr>\n",
       "  </thead>\n",
       "  <tbody>\n",
       "    <tr>\n",
       "      <th>0</th>\n",
       "      <td>2015</td>\n",
       "      <td>Star Wars: Episode VII - The Force Awakens</td>\n",
       "      <td>0</td>\n",
       "      <td>0</td>\n",
       "      <td>0.000009</td>\n",
       "    </tr>\n",
       "    <tr>\n",
       "      <th>1</th>\n",
       "      <td>2015</td>\n",
       "      <td>Mad Max: Fury Road</td>\n",
       "      <td>1</td>\n",
       "      <td>0</td>\n",
       "      <td>0.000034</td>\n",
       "    </tr>\n",
       "    <tr>\n",
       "      <th>2</th>\n",
       "      <td>2015</td>\n",
       "      <td>The Martian</td>\n",
       "      <td>1</td>\n",
       "      <td>0</td>\n",
       "      <td>0.000057</td>\n",
       "    </tr>\n",
       "    <tr>\n",
       "      <th>3</th>\n",
       "      <td>2015</td>\n",
       "      <td>Avengers: Age of Ultron</td>\n",
       "      <td>0</td>\n",
       "      <td>0</td>\n",
       "      <td>0.000010</td>\n",
       "    </tr>\n",
       "    <tr>\n",
       "      <th>4</th>\n",
       "      <td>2015</td>\n",
       "      <td>The Revenant</td>\n",
       "      <td>1</td>\n",
       "      <td>0</td>\n",
       "      <td>0.967508</td>\n",
       "    </tr>\n",
       "  </tbody>\n",
       "</table>\n",
       "</div>"
      ],
      "text/plain": [
       "   Year                                       Movie  Oscar_nominee  \\\n",
       "0  2015  Star Wars: Episode VII - The Force Awakens              0   \n",
       "1  2015                          Mad Max: Fury Road              1   \n",
       "2  2015                                 The Martian              1   \n",
       "3  2015                     Avengers: Age of Ultron              0   \n",
       "4  2015                                The Revenant              1   \n",
       "\n",
       "   Oscar_winner  Predicted Win Rate  \n",
       "0             0            0.000009  \n",
       "1             0            0.000034  \n",
       "2             0            0.000057  \n",
       "3             0            0.000010  \n",
       "4             0            0.967508  "
      ]
     },
     "execution_count": 70,
     "metadata": {},
     "output_type": "execute_result"
    }
   ],
   "source": [
    "pred_GBC = my_GBC.predict_proba(X_test)[:, 1]\n",
    "\n",
    "GBC_prediction = pd.DataFrame(year, columns=[\"Year\"])\n",
    "GBC_prediction[\"Movie\"] = movie_name\n",
    "GBC_prediction[\"Oscar_nominee\"] = oscar_n\n",
    "GBC_prediction[\"Oscar_winner\"] = oscar_w\n",
    "GBC_prediction['Predicted Win Rate'] = pred_GBC\n",
    "\n",
    "GBC_prediction.head(5)"
   ]
  },
  {
   "cell_type": "code",
   "execution_count": 71,
   "metadata": {},
   "outputs": [],
   "source": [
    "normalized_prediction = GBC_prediction.copy()\n",
    "\n",
    "for index, row in normalized_prediction.iterrows():\n",
    "    normalized_prediction.loc[index, \"Predicted Win Rate\"] = \\\n",
    "        (row[\"Predicted Win Rate\"] / GBC_prediction[\"Predicted Win Rate\"][GBC_prediction[\"Year\"] == row[\"Year\"]].sum()).round(3)"
   ]
  },
  {
   "cell_type": "code",
   "execution_count": 72,
   "metadata": {},
   "outputs": [
    {
     "data": {
      "text/html": [
       "<div>\n",
       "<style scoped>\n",
       "    .dataframe tbody tr th:only-of-type {\n",
       "        vertical-align: middle;\n",
       "    }\n",
       "\n",
       "    .dataframe tbody tr th {\n",
       "        vertical-align: top;\n",
       "    }\n",
       "\n",
       "    .dataframe thead th {\n",
       "        text-align: right;\n",
       "    }\n",
       "</style>\n",
       "<table border=\"1\" class=\"dataframe\">\n",
       "  <thead>\n",
       "    <tr style=\"text-align: right;\">\n",
       "      <th></th>\n",
       "      <th>Year</th>\n",
       "      <th>Movie</th>\n",
       "      <th>Oscar_nominee</th>\n",
       "      <th>Oscar_winner</th>\n",
       "      <th>Predicted Win Rate</th>\n",
       "    </tr>\n",
       "  </thead>\n",
       "  <tbody>\n",
       "    <tr>\n",
       "      <th>4</th>\n",
       "      <td>2015</td>\n",
       "      <td>The Revenant</td>\n",
       "      <td>1</td>\n",
       "      <td>0</td>\n",
       "      <td>0.993</td>\n",
       "    </tr>\n",
       "    <tr>\n",
       "      <th>9</th>\n",
       "      <td>2015</td>\n",
       "      <td>Spotlight</td>\n",
       "      <td>1</td>\n",
       "      <td>1</td>\n",
       "      <td>0.006</td>\n",
       "    </tr>\n",
       "    <tr>\n",
       "      <th>0</th>\n",
       "      <td>2015</td>\n",
       "      <td>Star Wars: Episode VII - The Force Awakens</td>\n",
       "      <td>0</td>\n",
       "      <td>0</td>\n",
       "      <td>0.000</td>\n",
       "    </tr>\n",
       "    <tr>\n",
       "      <th>63</th>\n",
       "      <td>2015</td>\n",
       "      <td>Bãhubali: The Beginning</td>\n",
       "      <td>0</td>\n",
       "      <td>0</td>\n",
       "      <td>0.000</td>\n",
       "    </tr>\n",
       "    <tr>\n",
       "      <th>73</th>\n",
       "      <td>2015</td>\n",
       "      <td>Hardcore Henry</td>\n",
       "      <td>0</td>\n",
       "      <td>0</td>\n",
       "      <td>0.000</td>\n",
       "    </tr>\n",
       "    <tr>\n",
       "      <th>72</th>\n",
       "      <td>2015</td>\n",
       "      <td>Hitman: Agent 47</td>\n",
       "      <td>0</td>\n",
       "      <td>0</td>\n",
       "      <td>0.000</td>\n",
       "    </tr>\n",
       "    <tr>\n",
       "      <th>71</th>\n",
       "      <td>2015</td>\n",
       "      <td>Demolition</td>\n",
       "      <td>0</td>\n",
       "      <td>0</td>\n",
       "      <td>0.000</td>\n",
       "    </tr>\n",
       "    <tr>\n",
       "      <th>70</th>\n",
       "      <td>2015</td>\n",
       "      <td>Self/less</td>\n",
       "      <td>0</td>\n",
       "      <td>0</td>\n",
       "      <td>0.000</td>\n",
       "    </tr>\n",
       "    <tr>\n",
       "      <th>69</th>\n",
       "      <td>2015</td>\n",
       "      <td>Insidious: Chapter 3</td>\n",
       "      <td>0</td>\n",
       "      <td>0</td>\n",
       "      <td>0.000</td>\n",
       "    </tr>\n",
       "    <tr>\n",
       "      <th>68</th>\n",
       "      <td>2015</td>\n",
       "      <td>Home</td>\n",
       "      <td>0</td>\n",
       "      <td>0</td>\n",
       "      <td>0.000</td>\n",
       "    </tr>\n",
       "  </tbody>\n",
       "</table>\n",
       "</div>"
      ],
      "text/plain": [
       "    Year                                       Movie  Oscar_nominee  \\\n",
       "4   2015                                The Revenant              1   \n",
       "9   2015                                   Spotlight              1   \n",
       "0   2015  Star Wars: Episode VII - The Force Awakens              0   \n",
       "63  2015                     Bãhubali: The Beginning              0   \n",
       "73  2015                              Hardcore Henry              0   \n",
       "72  2015                            Hitman: Agent 47              0   \n",
       "71  2015                                  Demolition              0   \n",
       "70  2015                                   Self/less              0   \n",
       "69  2015                        Insidious: Chapter 3              0   \n",
       "68  2015                                        Home              0   \n",
       "\n",
       "    Oscar_winner  Predicted Win Rate  \n",
       "4              0               0.993  \n",
       "9              1               0.006  \n",
       "0              0               0.000  \n",
       "63             0               0.000  \n",
       "73             0               0.000  \n",
       "72             0               0.000  \n",
       "71             0               0.000  \n",
       "70             0               0.000  \n",
       "69             0               0.000  \n",
       "68             0               0.000  "
      ]
     },
     "execution_count": 72,
     "metadata": {},
     "output_type": "execute_result"
    }
   ],
   "source": [
    "normalized_prediction[normalized_prediction[\"Year\"] == 2015].sort_values(\"Predicted Win Rate\", ascending=False).head(10)"
   ]
  },
  {
   "cell_type": "code",
   "execution_count": 73,
   "metadata": {},
   "outputs": [
    {
     "data": {
      "text/html": [
       "<div>\n",
       "<style scoped>\n",
       "    .dataframe tbody tr th:only-of-type {\n",
       "        vertical-align: middle;\n",
       "    }\n",
       "\n",
       "    .dataframe tbody tr th {\n",
       "        vertical-align: top;\n",
       "    }\n",
       "\n",
       "    .dataframe thead th {\n",
       "        text-align: right;\n",
       "    }\n",
       "</style>\n",
       "<table border=\"1\" class=\"dataframe\">\n",
       "  <thead>\n",
       "    <tr style=\"text-align: right;\">\n",
       "      <th></th>\n",
       "      <th>Year</th>\n",
       "      <th>Movie</th>\n",
       "      <th>Oscar_nominee</th>\n",
       "      <th>Oscar_winner</th>\n",
       "      <th>Predicted Win Rate</th>\n",
       "    </tr>\n",
       "  </thead>\n",
       "  <tbody>\n",
       "    <tr>\n",
       "      <th>107</th>\n",
       "      <td>2016</td>\n",
       "      <td>La La Land</td>\n",
       "      <td>1</td>\n",
       "      <td>0</td>\n",
       "      <td>0.999</td>\n",
       "    </tr>\n",
       "    <tr>\n",
       "      <th>100</th>\n",
       "      <td>2016</td>\n",
       "      <td>Deadpool</td>\n",
       "      <td>0</td>\n",
       "      <td>0</td>\n",
       "      <td>0.000</td>\n",
       "    </tr>\n",
       "    <tr>\n",
       "      <th>163</th>\n",
       "      <td>2016</td>\n",
       "      <td>The Founder</td>\n",
       "      <td>0</td>\n",
       "      <td>0</td>\n",
       "      <td>0.000</td>\n",
       "    </tr>\n",
       "    <tr>\n",
       "      <th>173</th>\n",
       "      <td>2016</td>\n",
       "      <td>Swiss Army Man</td>\n",
       "      <td>0</td>\n",
       "      <td>0</td>\n",
       "      <td>0.000</td>\n",
       "    </tr>\n",
       "    <tr>\n",
       "      <th>172</th>\n",
       "      <td>2016</td>\n",
       "      <td>Gods of Egypt</td>\n",
       "      <td>0</td>\n",
       "      <td>0</td>\n",
       "      <td>0.000</td>\n",
       "    </tr>\n",
       "    <tr>\n",
       "      <th>171</th>\n",
       "      <td>2016</td>\n",
       "      <td>Allegiant</td>\n",
       "      <td>0</td>\n",
       "      <td>0</td>\n",
       "      <td>0.000</td>\n",
       "    </tr>\n",
       "    <tr>\n",
       "      <th>170</th>\n",
       "      <td>2016</td>\n",
       "      <td>Dag II</td>\n",
       "      <td>0</td>\n",
       "      <td>0</td>\n",
       "      <td>0.000</td>\n",
       "    </tr>\n",
       "    <tr>\n",
       "      <th>169</th>\n",
       "      <td>2016</td>\n",
       "      <td>Dirty Grandpa</td>\n",
       "      <td>0</td>\n",
       "      <td>0</td>\n",
       "      <td>0.000</td>\n",
       "    </tr>\n",
       "    <tr>\n",
       "      <th>168</th>\n",
       "      <td>2016</td>\n",
       "      <td>Lights Out</td>\n",
       "      <td>0</td>\n",
       "      <td>0</td>\n",
       "      <td>0.000</td>\n",
       "    </tr>\n",
       "    <tr>\n",
       "      <th>167</th>\n",
       "      <td>2016</td>\n",
       "      <td>Bad Moms</td>\n",
       "      <td>0</td>\n",
       "      <td>0</td>\n",
       "      <td>0.000</td>\n",
       "    </tr>\n",
       "  </tbody>\n",
       "</table>\n",
       "</div>"
      ],
      "text/plain": [
       "     Year           Movie  Oscar_nominee  Oscar_winner  Predicted Win Rate\n",
       "107  2016      La La Land              1             0               0.999\n",
       "100  2016        Deadpool              0             0               0.000\n",
       "163  2016     The Founder              0             0               0.000\n",
       "173  2016  Swiss Army Man              0             0               0.000\n",
       "172  2016   Gods of Egypt              0             0               0.000\n",
       "171  2016       Allegiant              0             0               0.000\n",
       "170  2016          Dag II              0             0               0.000\n",
       "169  2016   Dirty Grandpa              0             0               0.000\n",
       "168  2016      Lights Out              0             0               0.000\n",
       "167  2016        Bad Moms              0             0               0.000"
      ]
     },
     "execution_count": 73,
     "metadata": {},
     "output_type": "execute_result"
    }
   ],
   "source": [
    "normalized_prediction[normalized_prediction[\"Year\"] == 2016].sort_values(\"Predicted Win Rate\", ascending=False).head(10)"
   ]
  },
  {
   "cell_type": "code",
   "execution_count": 74,
   "metadata": {},
   "outputs": [
    {
     "data": {
      "text/html": [
       "<div>\n",
       "<style scoped>\n",
       "    .dataframe tbody tr th:only-of-type {\n",
       "        vertical-align: middle;\n",
       "    }\n",
       "\n",
       "    .dataframe tbody tr th {\n",
       "        vertical-align: top;\n",
       "    }\n",
       "\n",
       "    .dataframe thead th {\n",
       "        text-align: right;\n",
       "    }\n",
       "</style>\n",
       "<table border=\"1\" class=\"dataframe\">\n",
       "  <thead>\n",
       "    <tr style=\"text-align: right;\">\n",
       "      <th></th>\n",
       "      <th>Year</th>\n",
       "      <th>Movie</th>\n",
       "      <th>Oscar_nominee</th>\n",
       "      <th>Oscar_winner</th>\n",
       "      <th>Predicted Win Rate</th>\n",
       "    </tr>\n",
       "  </thead>\n",
       "  <tbody>\n",
       "    <tr>\n",
       "      <th>213</th>\n",
       "      <td>2017</td>\n",
       "      <td>The Shape of Water</td>\n",
       "      <td>1</td>\n",
       "      <td>1</td>\n",
       "      <td>0.970</td>\n",
       "    </tr>\n",
       "    <tr>\n",
       "      <th>207</th>\n",
       "      <td>2017</td>\n",
       "      <td>Get Out</td>\n",
       "      <td>1</td>\n",
       "      <td>0</td>\n",
       "      <td>0.008</td>\n",
       "    </tr>\n",
       "    <tr>\n",
       "      <th>211</th>\n",
       "      <td>2017</td>\n",
       "      <td>Three Billboards Outside Ebbing, Missouri</td>\n",
       "      <td>1</td>\n",
       "      <td>0</td>\n",
       "      <td>0.003</td>\n",
       "    </tr>\n",
       "    <tr>\n",
       "      <th>230</th>\n",
       "      <td>2017</td>\n",
       "      <td>Call Me by Your Name</td>\n",
       "      <td>1</td>\n",
       "      <td>0</td>\n",
       "      <td>0.001</td>\n",
       "    </tr>\n",
       "    <tr>\n",
       "      <th>205</th>\n",
       "      <td>2017</td>\n",
       "      <td>Dunkirk</td>\n",
       "      <td>1</td>\n",
       "      <td>0</td>\n",
       "      <td>0.001</td>\n",
       "    </tr>\n",
       "    <tr>\n",
       "      <th>200</th>\n",
       "      <td>2017</td>\n",
       "      <td>Logan</td>\n",
       "      <td>0</td>\n",
       "      <td>0</td>\n",
       "      <td>0.000</td>\n",
       "    </tr>\n",
       "    <tr>\n",
       "      <th>265</th>\n",
       "      <td>2017</td>\n",
       "      <td>Geostorm</td>\n",
       "      <td>0</td>\n",
       "      <td>0</td>\n",
       "      <td>0.000</td>\n",
       "    </tr>\n",
       "    <tr>\n",
       "      <th>274</th>\n",
       "      <td>2017</td>\n",
       "      <td>Going in Style</td>\n",
       "      <td>0</td>\n",
       "      <td>0</td>\n",
       "      <td>0.000</td>\n",
       "    </tr>\n",
       "    <tr>\n",
       "      <th>273</th>\n",
       "      <td>2017</td>\n",
       "      <td>Reis</td>\n",
       "      <td>0</td>\n",
       "      <td>0</td>\n",
       "      <td>0.000</td>\n",
       "    </tr>\n",
       "    <tr>\n",
       "      <th>272</th>\n",
       "      <td>2017</td>\n",
       "      <td>The Death of Stalin</td>\n",
       "      <td>0</td>\n",
       "      <td>0</td>\n",
       "      <td>0.000</td>\n",
       "    </tr>\n",
       "  </tbody>\n",
       "</table>\n",
       "</div>"
      ],
      "text/plain": [
       "     Year                                      Movie  Oscar_nominee  \\\n",
       "213  2017                         The Shape of Water              1   \n",
       "207  2017                                    Get Out              1   \n",
       "211  2017  Three Billboards Outside Ebbing, Missouri              1   \n",
       "230  2017                       Call Me by Your Name              1   \n",
       "205  2017                                    Dunkirk              1   \n",
       "200  2017                                      Logan              0   \n",
       "265  2017                                   Geostorm              0   \n",
       "274  2017                             Going in Style              0   \n",
       "273  2017                                       Reis              0   \n",
       "272  2017                        The Death of Stalin              0   \n",
       "\n",
       "     Oscar_winner  Predicted Win Rate  \n",
       "213             1               0.970  \n",
       "207             0               0.008  \n",
       "211             0               0.003  \n",
       "230             0               0.001  \n",
       "205             0               0.001  \n",
       "200             0               0.000  \n",
       "265             0               0.000  \n",
       "274             0               0.000  \n",
       "273             0               0.000  \n",
       "272             0               0.000  "
      ]
     },
     "execution_count": 74,
     "metadata": {},
     "output_type": "execute_result"
    }
   ],
   "source": [
    "normalized_prediction[normalized_prediction[\"Year\"] == 2017].sort_values(\"Predicted Win Rate\", ascending=False).head(10)"
   ]
  },
  {
   "cell_type": "code",
   "execution_count": 75,
   "metadata": {},
   "outputs": [
    {
     "data": {
      "text/html": [
       "<div>\n",
       "<style scoped>\n",
       "    .dataframe tbody tr th:only-of-type {\n",
       "        vertical-align: middle;\n",
       "    }\n",
       "\n",
       "    .dataframe tbody tr th {\n",
       "        vertical-align: top;\n",
       "    }\n",
       "\n",
       "    .dataframe thead th {\n",
       "        text-align: right;\n",
       "    }\n",
       "</style>\n",
       "<table border=\"1\" class=\"dataframe\">\n",
       "  <thead>\n",
       "    <tr style=\"text-align: right;\">\n",
       "      <th></th>\n",
       "      <th>Year</th>\n",
       "      <th>Movie</th>\n",
       "      <th>Oscar_nominee</th>\n",
       "      <th>Oscar_winner</th>\n",
       "      <th>Predicted Win Rate</th>\n",
       "    </tr>\n",
       "  </thead>\n",
       "  <tbody>\n",
       "    <tr>\n",
       "      <th>330</th>\n",
       "      <td>2018</td>\n",
       "      <td>Roma</td>\n",
       "      <td>1</td>\n",
       "      <td>0</td>\n",
       "      <td>0.597</td>\n",
       "    </tr>\n",
       "    <tr>\n",
       "      <th>321</th>\n",
       "      <td>2018</td>\n",
       "      <td>BlacKkKlansman</td>\n",
       "      <td>1</td>\n",
       "      <td>0</td>\n",
       "      <td>0.048</td>\n",
       "    </tr>\n",
       "    <tr>\n",
       "      <th>310</th>\n",
       "      <td>2018</td>\n",
       "      <td>A Star Is Born</td>\n",
       "      <td>1</td>\n",
       "      <td>0</td>\n",
       "      <td>0.048</td>\n",
       "    </tr>\n",
       "    <tr>\n",
       "      <th>309</th>\n",
       "      <td>2018</td>\n",
       "      <td>Green Book</td>\n",
       "      <td>1</td>\n",
       "      <td>1</td>\n",
       "      <td>0.039</td>\n",
       "    </tr>\n",
       "    <tr>\n",
       "      <th>325</th>\n",
       "      <td>2018</td>\n",
       "      <td>The Favourite</td>\n",
       "      <td>1</td>\n",
       "      <td>0</td>\n",
       "      <td>0.019</td>\n",
       "    </tr>\n",
       "    <tr>\n",
       "      <th>372</th>\n",
       "      <td>2018</td>\n",
       "      <td>Eighth Grade</td>\n",
       "      <td>0</td>\n",
       "      <td>0</td>\n",
       "      <td>0.008</td>\n",
       "    </tr>\n",
       "    <tr>\n",
       "      <th>344</th>\n",
       "      <td>2018</td>\n",
       "      <td>Vice</td>\n",
       "      <td>1</td>\n",
       "      <td>0</td>\n",
       "      <td>0.006</td>\n",
       "    </tr>\n",
       "    <tr>\n",
       "      <th>377</th>\n",
       "      <td>2018</td>\n",
       "      <td>Suspiria</td>\n",
       "      <td>0</td>\n",
       "      <td>0</td>\n",
       "      <td>0.006</td>\n",
       "    </tr>\n",
       "    <tr>\n",
       "      <th>318</th>\n",
       "      <td>2018</td>\n",
       "      <td>Hereditary</td>\n",
       "      <td>0</td>\n",
       "      <td>0</td>\n",
       "      <td>0.006</td>\n",
       "    </tr>\n",
       "    <tr>\n",
       "      <th>314</th>\n",
       "      <td>2018</td>\n",
       "      <td>Annihilation</td>\n",
       "      <td>0</td>\n",
       "      <td>0</td>\n",
       "      <td>0.006</td>\n",
       "    </tr>\n",
       "  </tbody>\n",
       "</table>\n",
       "</div>"
      ],
      "text/plain": [
       "     Year           Movie  Oscar_nominee  Oscar_winner  Predicted Win Rate\n",
       "330  2018            Roma              1             0               0.597\n",
       "321  2018  BlacKkKlansman              1             0               0.048\n",
       "310  2018  A Star Is Born              1             0               0.048\n",
       "309  2018      Green Book              1             1               0.039\n",
       "325  2018   The Favourite              1             0               0.019\n",
       "372  2018    Eighth Grade              0             0               0.008\n",
       "344  2018            Vice              1             0               0.006\n",
       "377  2018        Suspiria              0             0               0.006\n",
       "318  2018      Hereditary              0             0               0.006\n",
       "314  2018    Annihilation              0             0               0.006"
      ]
     },
     "execution_count": 75,
     "metadata": {},
     "output_type": "execute_result"
    }
   ],
   "source": [
    "normalized_prediction[normalized_prediction[\"Year\"] == 2018].sort_values(\"Predicted Win Rate\", ascending=False).head(10)"
   ]
  },
  {
   "cell_type": "code",
   "execution_count": 76,
   "metadata": {},
   "outputs": [
    {
     "data": {
      "text/html": [
       "<div>\n",
       "<style scoped>\n",
       "    .dataframe tbody tr th:only-of-type {\n",
       "        vertical-align: middle;\n",
       "    }\n",
       "\n",
       "    .dataframe tbody tr th {\n",
       "        vertical-align: top;\n",
       "    }\n",
       "\n",
       "    .dataframe thead th {\n",
       "        text-align: right;\n",
       "    }\n",
       "</style>\n",
       "<table border=\"1\" class=\"dataframe\">\n",
       "  <thead>\n",
       "    <tr style=\"text-align: right;\">\n",
       "      <th></th>\n",
       "      <th>Year</th>\n",
       "      <th>Movie</th>\n",
       "      <th>Oscar_nominee</th>\n",
       "      <th>Oscar_winner</th>\n",
       "      <th>Predicted Win Rate</th>\n",
       "    </tr>\n",
       "  </thead>\n",
       "  <tbody>\n",
       "    <tr>\n",
       "      <th>408</th>\n",
       "      <td>2019</td>\n",
       "      <td>1917</td>\n",
       "      <td>1</td>\n",
       "      <td>0</td>\n",
       "      <td>0.376</td>\n",
       "    </tr>\n",
       "    <tr>\n",
       "      <th>402</th>\n",
       "      <td>2019</td>\n",
       "      <td>Once Upon a Time in Hollywood</td>\n",
       "      <td>1</td>\n",
       "      <td>0</td>\n",
       "      <td>0.375</td>\n",
       "    </tr>\n",
       "    <tr>\n",
       "      <th>400</th>\n",
       "      <td>2019</td>\n",
       "      <td>Joker</td>\n",
       "      <td>1</td>\n",
       "      <td>0</td>\n",
       "      <td>0.249</td>\n",
       "    </tr>\n",
       "    <tr>\n",
       "      <th>463</th>\n",
       "      <td>2019</td>\n",
       "      <td>Gemini Man</td>\n",
       "      <td>0</td>\n",
       "      <td>0</td>\n",
       "      <td>0.000</td>\n",
       "    </tr>\n",
       "    <tr>\n",
       "      <th>473</th>\n",
       "      <td>2019</td>\n",
       "      <td>The Lego Movie 2: The Second Part</td>\n",
       "      <td>0</td>\n",
       "      <td>0</td>\n",
       "      <td>0.000</td>\n",
       "    </tr>\n",
       "    <tr>\n",
       "      <th>472</th>\n",
       "      <td>2019</td>\n",
       "      <td>Happy Death Day 2U</td>\n",
       "      <td>0</td>\n",
       "      <td>0</td>\n",
       "      <td>0.000</td>\n",
       "    </tr>\n",
       "    <tr>\n",
       "      <th>471</th>\n",
       "      <td>2019</td>\n",
       "      <td>Velvet Buzzsaw</td>\n",
       "      <td>0</td>\n",
       "      <td>0</td>\n",
       "      <td>0.000</td>\n",
       "    </tr>\n",
       "    <tr>\n",
       "      <th>470</th>\n",
       "      <td>2019</td>\n",
       "      <td>Cold Pursuit</td>\n",
       "      <td>0</td>\n",
       "      <td>0</td>\n",
       "      <td>0.000</td>\n",
       "    </tr>\n",
       "    <tr>\n",
       "      <th>469</th>\n",
       "      <td>2019</td>\n",
       "      <td>Crawl</td>\n",
       "      <td>0</td>\n",
       "      <td>0</td>\n",
       "      <td>0.000</td>\n",
       "    </tr>\n",
       "    <tr>\n",
       "      <th>468</th>\n",
       "      <td>2019</td>\n",
       "      <td>Bombshell</td>\n",
       "      <td>0</td>\n",
       "      <td>0</td>\n",
       "      <td>0.000</td>\n",
       "    </tr>\n",
       "  </tbody>\n",
       "</table>\n",
       "</div>"
      ],
      "text/plain": [
       "     Year                              Movie  Oscar_nominee  Oscar_winner  \\\n",
       "408  2019                               1917              1             0   \n",
       "402  2019      Once Upon a Time in Hollywood              1             0   \n",
       "400  2019                              Joker              1             0   \n",
       "463  2019                         Gemini Man              0             0   \n",
       "473  2019  The Lego Movie 2: The Second Part              0             0   \n",
       "472  2019                 Happy Death Day 2U              0             0   \n",
       "471  2019                     Velvet Buzzsaw              0             0   \n",
       "470  2019                       Cold Pursuit              0             0   \n",
       "469  2019                              Crawl              0             0   \n",
       "468  2019                          Bombshell              0             0   \n",
       "\n",
       "     Predicted Win Rate  \n",
       "408               0.376  \n",
       "402               0.375  \n",
       "400               0.249  \n",
       "463               0.000  \n",
       "473               0.000  \n",
       "472               0.000  \n",
       "471               0.000  \n",
       "470               0.000  \n",
       "469               0.000  \n",
       "468               0.000  "
      ]
     },
     "execution_count": 76,
     "metadata": {},
     "output_type": "execute_result"
    }
   ],
   "source": [
    "normalized_prediction[normalized_prediction[\"Year\"] == 2019].sort_values(\"Predicted Win Rate\", ascending=False).head(10)"
   ]
  },
  {
   "cell_type": "markdown",
   "metadata": {},
   "source": [
    "## #2.4 - Light Gradient Boosting Machine (LGBM) Classifier"
   ]
  },
  {
   "cell_type": "code",
   "execution_count": 77,
   "metadata": {},
   "outputs": [],
   "source": [
    "LGBM = LGBMClassifier()\n",
    "\n",
    "my_LGBM = LGBM.fit(X_train, y_train)"
   ]
  },
  {
   "cell_type": "code",
   "execution_count": 78,
   "metadata": {},
   "outputs": [
    {
     "name": "stdout",
     "output_type": "stream",
     "text": [
      "                     Importances Weightage\n",
      "Runtime (min)                          276\n",
      "Action                                   6\n",
      "Adventure                                4\n",
      "Animation                                0\n",
      "Biography                               33\n",
      "Comedy                                   7\n",
      "Crime                                    5\n",
      "Drama                                    7\n",
      "Family                                   0\n",
      "Fantasy                                  5\n",
      "History                                  0\n",
      "Horror                                   0\n",
      "Musical                                  2\n",
      "Mystery                                  1\n",
      "Romance                                  3\n",
      "Sci-Fi                                   0\n",
      "Sport                                   32\n",
      "Thriller                                13\n",
      "War                                      0\n",
      "Western                                  0\n",
      "IMDb_rating                            207\n",
      "IMDb_votes                             287\n",
      "RT_rating                              145\n",
      "RT_review                              326\n",
      "Metascore                              258\n",
      "Budget                                 218\n",
      "Domestic (US) gross                    241\n",
      "International gross                    180\n",
      "Worldwide gross                         98\n",
      "GG_drama_winner                          0\n",
      "GG_drama_nominee                         8\n",
      "GG_comedy_winner                         0\n",
      "GG_comedy_nominee                       20\n",
      "BAFTA_winner                             0\n",
      "BAFTA_nominee                           15\n",
      "DGA_winner                               0\n",
      "DGA_nominee                             24\n",
      "PGA_winner                               0\n",
      "PGA_nominee                             49\n",
      "CCMA_winner                              0\n",
      "CCMA_nominee                            56\n",
      "Golden_Palm_winner                       0\n",
      "Golden_Palm_nominee                     11\n",
      "Golden_Bear_winner                       0\n",
      "Golden_Bear_nominee                     16\n",
      "Golden_Lion_winner                       0\n",
      "Golden_Lion_nominee                      2\n",
      "PCA_winner                               0\n",
      "PCA_nominee                              0\n",
      "NYFCC_winner                             0\n",
      "NYFCC_nominee                           10\n",
      "OFCS_winner                              0\n",
      "OFCS_nominee                            15\n",
      "\n",
      "Score =  1.0\n"
     ]
    }
   ],
   "source": [
    "LGBM_importances = pd.DataFrame(my_LGBM.feature_importances_.round(3), all_features, columns=[\"Importances Weightage\"])\n",
    "\n",
    "print(LGBM_importances)\n",
    "print()\n",
    "print('Score = ', my_LGBM.score(X_train, y_train))"
   ]
  },
  {
   "cell_type": "code",
   "execution_count": 79,
   "metadata": {},
   "outputs": [
    {
     "data": {
      "application/vnd.plotly.v1+json": {
       "config": {
        "plotlyServerURL": "https://plot.ly"
       },
       "data": [
        {
         "alignmentgroup": "True",
         "hoverlabel": {
          "namelength": 0
         },
         "hovertemplate": "Features=%{x}<br>Importances Weightage=%{y}",
         "legendgroup": "",
         "marker": {
          "color": "#636efa"
         },
         "name": "",
         "offsetgroup": "",
         "orientation": "v",
         "showlegend": false,
         "textposition": "auto",
         "type": "bar",
         "x": [
          "Runtime (min)",
          "Action",
          "Adventure",
          "Animation",
          "Biography",
          "Comedy",
          "Crime",
          "Drama",
          "Family",
          "Fantasy",
          "History",
          "Horror",
          "Musical",
          "Mystery",
          "Romance",
          "Sci-Fi",
          "Sport",
          "Thriller",
          "War",
          "Western",
          "IMDb_rating",
          "IMDb_votes",
          "RT_rating",
          "RT_review",
          "Metascore",
          "Budget",
          "Domestic (US) gross",
          "International gross",
          "Worldwide gross",
          "GG_drama_winner",
          "GG_drama_nominee",
          "GG_comedy_winner",
          "GG_comedy_nominee",
          "BAFTA_winner",
          "BAFTA_nominee",
          "DGA_winner",
          "DGA_nominee",
          "PGA_winner",
          "PGA_nominee",
          "CCMA_winner",
          "CCMA_nominee",
          "Golden_Palm_winner",
          "Golden_Palm_nominee",
          "Golden_Bear_winner",
          "Golden_Bear_nominee",
          "Golden_Lion_winner",
          "Golden_Lion_nominee",
          "PCA_winner",
          "PCA_nominee",
          "NYFCC_winner",
          "NYFCC_nominee",
          "OFCS_winner",
          "OFCS_nominee"
         ],
         "xaxis": "x",
         "y": [
          276,
          6,
          4,
          0,
          33,
          7,
          5,
          7,
          0,
          5,
          0,
          0,
          2,
          1,
          3,
          0,
          32,
          13,
          0,
          0,
          207,
          287,
          145,
          326,
          258,
          218,
          241,
          180,
          98,
          0,
          8,
          0,
          20,
          0,
          15,
          0,
          24,
          0,
          49,
          0,
          56,
          0,
          11,
          0,
          16,
          0,
          2,
          0,
          0,
          0,
          10,
          0,
          15
         ],
         "yaxis": "y"
        }
       ],
       "layout": {
        "barmode": "relative",
        "height": 600,
        "legend": {
         "tracegroupgap": 0
        },
        "template": {
         "data": {
          "bar": [
           {
            "error_x": {
             "color": "#2a3f5f"
            },
            "error_y": {
             "color": "#2a3f5f"
            },
            "marker": {
             "line": {
              "color": "#E5ECF6",
              "width": 0.5
             }
            },
            "type": "bar"
           }
          ],
          "barpolar": [
           {
            "marker": {
             "line": {
              "color": "#E5ECF6",
              "width": 0.5
             }
            },
            "type": "barpolar"
           }
          ],
          "carpet": [
           {
            "aaxis": {
             "endlinecolor": "#2a3f5f",
             "gridcolor": "white",
             "linecolor": "white",
             "minorgridcolor": "white",
             "startlinecolor": "#2a3f5f"
            },
            "baxis": {
             "endlinecolor": "#2a3f5f",
             "gridcolor": "white",
             "linecolor": "white",
             "minorgridcolor": "white",
             "startlinecolor": "#2a3f5f"
            },
            "type": "carpet"
           }
          ],
          "choropleth": [
           {
            "colorbar": {
             "outlinewidth": 0,
             "ticks": ""
            },
            "type": "choropleth"
           }
          ],
          "contour": [
           {
            "colorbar": {
             "outlinewidth": 0,
             "ticks": ""
            },
            "colorscale": [
             [
              0,
              "#0d0887"
             ],
             [
              0.1111111111111111,
              "#46039f"
             ],
             [
              0.2222222222222222,
              "#7201a8"
             ],
             [
              0.3333333333333333,
              "#9c179e"
             ],
             [
              0.4444444444444444,
              "#bd3786"
             ],
             [
              0.5555555555555556,
              "#d8576b"
             ],
             [
              0.6666666666666666,
              "#ed7953"
             ],
             [
              0.7777777777777778,
              "#fb9f3a"
             ],
             [
              0.8888888888888888,
              "#fdca26"
             ],
             [
              1,
              "#f0f921"
             ]
            ],
            "type": "contour"
           }
          ],
          "contourcarpet": [
           {
            "colorbar": {
             "outlinewidth": 0,
             "ticks": ""
            },
            "type": "contourcarpet"
           }
          ],
          "heatmap": [
           {
            "colorbar": {
             "outlinewidth": 0,
             "ticks": ""
            },
            "colorscale": [
             [
              0,
              "#0d0887"
             ],
             [
              0.1111111111111111,
              "#46039f"
             ],
             [
              0.2222222222222222,
              "#7201a8"
             ],
             [
              0.3333333333333333,
              "#9c179e"
             ],
             [
              0.4444444444444444,
              "#bd3786"
             ],
             [
              0.5555555555555556,
              "#d8576b"
             ],
             [
              0.6666666666666666,
              "#ed7953"
             ],
             [
              0.7777777777777778,
              "#fb9f3a"
             ],
             [
              0.8888888888888888,
              "#fdca26"
             ],
             [
              1,
              "#f0f921"
             ]
            ],
            "type": "heatmap"
           }
          ],
          "heatmapgl": [
           {
            "colorbar": {
             "outlinewidth": 0,
             "ticks": ""
            },
            "colorscale": [
             [
              0,
              "#0d0887"
             ],
             [
              0.1111111111111111,
              "#46039f"
             ],
             [
              0.2222222222222222,
              "#7201a8"
             ],
             [
              0.3333333333333333,
              "#9c179e"
             ],
             [
              0.4444444444444444,
              "#bd3786"
             ],
             [
              0.5555555555555556,
              "#d8576b"
             ],
             [
              0.6666666666666666,
              "#ed7953"
             ],
             [
              0.7777777777777778,
              "#fb9f3a"
             ],
             [
              0.8888888888888888,
              "#fdca26"
             ],
             [
              1,
              "#f0f921"
             ]
            ],
            "type": "heatmapgl"
           }
          ],
          "histogram": [
           {
            "marker": {
             "colorbar": {
              "outlinewidth": 0,
              "ticks": ""
             }
            },
            "type": "histogram"
           }
          ],
          "histogram2d": [
           {
            "colorbar": {
             "outlinewidth": 0,
             "ticks": ""
            },
            "colorscale": [
             [
              0,
              "#0d0887"
             ],
             [
              0.1111111111111111,
              "#46039f"
             ],
             [
              0.2222222222222222,
              "#7201a8"
             ],
             [
              0.3333333333333333,
              "#9c179e"
             ],
             [
              0.4444444444444444,
              "#bd3786"
             ],
             [
              0.5555555555555556,
              "#d8576b"
             ],
             [
              0.6666666666666666,
              "#ed7953"
             ],
             [
              0.7777777777777778,
              "#fb9f3a"
             ],
             [
              0.8888888888888888,
              "#fdca26"
             ],
             [
              1,
              "#f0f921"
             ]
            ],
            "type": "histogram2d"
           }
          ],
          "histogram2dcontour": [
           {
            "colorbar": {
             "outlinewidth": 0,
             "ticks": ""
            },
            "colorscale": [
             [
              0,
              "#0d0887"
             ],
             [
              0.1111111111111111,
              "#46039f"
             ],
             [
              0.2222222222222222,
              "#7201a8"
             ],
             [
              0.3333333333333333,
              "#9c179e"
             ],
             [
              0.4444444444444444,
              "#bd3786"
             ],
             [
              0.5555555555555556,
              "#d8576b"
             ],
             [
              0.6666666666666666,
              "#ed7953"
             ],
             [
              0.7777777777777778,
              "#fb9f3a"
             ],
             [
              0.8888888888888888,
              "#fdca26"
             ],
             [
              1,
              "#f0f921"
             ]
            ],
            "type": "histogram2dcontour"
           }
          ],
          "mesh3d": [
           {
            "colorbar": {
             "outlinewidth": 0,
             "ticks": ""
            },
            "type": "mesh3d"
           }
          ],
          "parcoords": [
           {
            "line": {
             "colorbar": {
              "outlinewidth": 0,
              "ticks": ""
             }
            },
            "type": "parcoords"
           }
          ],
          "pie": [
           {
            "automargin": true,
            "type": "pie"
           }
          ],
          "scatter": [
           {
            "marker": {
             "colorbar": {
              "outlinewidth": 0,
              "ticks": ""
             }
            },
            "type": "scatter"
           }
          ],
          "scatter3d": [
           {
            "line": {
             "colorbar": {
              "outlinewidth": 0,
              "ticks": ""
             }
            },
            "marker": {
             "colorbar": {
              "outlinewidth": 0,
              "ticks": ""
             }
            },
            "type": "scatter3d"
           }
          ],
          "scattercarpet": [
           {
            "marker": {
             "colorbar": {
              "outlinewidth": 0,
              "ticks": ""
             }
            },
            "type": "scattercarpet"
           }
          ],
          "scattergeo": [
           {
            "marker": {
             "colorbar": {
              "outlinewidth": 0,
              "ticks": ""
             }
            },
            "type": "scattergeo"
           }
          ],
          "scattergl": [
           {
            "marker": {
             "colorbar": {
              "outlinewidth": 0,
              "ticks": ""
             }
            },
            "type": "scattergl"
           }
          ],
          "scattermapbox": [
           {
            "marker": {
             "colorbar": {
              "outlinewidth": 0,
              "ticks": ""
             }
            },
            "type": "scattermapbox"
           }
          ],
          "scatterpolar": [
           {
            "marker": {
             "colorbar": {
              "outlinewidth": 0,
              "ticks": ""
             }
            },
            "type": "scatterpolar"
           }
          ],
          "scatterpolargl": [
           {
            "marker": {
             "colorbar": {
              "outlinewidth": 0,
              "ticks": ""
             }
            },
            "type": "scatterpolargl"
           }
          ],
          "scatterternary": [
           {
            "marker": {
             "colorbar": {
              "outlinewidth": 0,
              "ticks": ""
             }
            },
            "type": "scatterternary"
           }
          ],
          "surface": [
           {
            "colorbar": {
             "outlinewidth": 0,
             "ticks": ""
            },
            "colorscale": [
             [
              0,
              "#0d0887"
             ],
             [
              0.1111111111111111,
              "#46039f"
             ],
             [
              0.2222222222222222,
              "#7201a8"
             ],
             [
              0.3333333333333333,
              "#9c179e"
             ],
             [
              0.4444444444444444,
              "#bd3786"
             ],
             [
              0.5555555555555556,
              "#d8576b"
             ],
             [
              0.6666666666666666,
              "#ed7953"
             ],
             [
              0.7777777777777778,
              "#fb9f3a"
             ],
             [
              0.8888888888888888,
              "#fdca26"
             ],
             [
              1,
              "#f0f921"
             ]
            ],
            "type": "surface"
           }
          ],
          "table": [
           {
            "cells": {
             "fill": {
              "color": "#EBF0F8"
             },
             "line": {
              "color": "white"
             }
            },
            "header": {
             "fill": {
              "color": "#C8D4E3"
             },
             "line": {
              "color": "white"
             }
            },
            "type": "table"
           }
          ]
         },
         "layout": {
          "annotationdefaults": {
           "arrowcolor": "#2a3f5f",
           "arrowhead": 0,
           "arrowwidth": 1
          },
          "coloraxis": {
           "colorbar": {
            "outlinewidth": 0,
            "ticks": ""
           }
          },
          "colorscale": {
           "diverging": [
            [
             0,
             "#8e0152"
            ],
            [
             0.1,
             "#c51b7d"
            ],
            [
             0.2,
             "#de77ae"
            ],
            [
             0.3,
             "#f1b6da"
            ],
            [
             0.4,
             "#fde0ef"
            ],
            [
             0.5,
             "#f7f7f7"
            ],
            [
             0.6,
             "#e6f5d0"
            ],
            [
             0.7,
             "#b8e186"
            ],
            [
             0.8,
             "#7fbc41"
            ],
            [
             0.9,
             "#4d9221"
            ],
            [
             1,
             "#276419"
            ]
           ],
           "sequential": [
            [
             0,
             "#0d0887"
            ],
            [
             0.1111111111111111,
             "#46039f"
            ],
            [
             0.2222222222222222,
             "#7201a8"
            ],
            [
             0.3333333333333333,
             "#9c179e"
            ],
            [
             0.4444444444444444,
             "#bd3786"
            ],
            [
             0.5555555555555556,
             "#d8576b"
            ],
            [
             0.6666666666666666,
             "#ed7953"
            ],
            [
             0.7777777777777778,
             "#fb9f3a"
            ],
            [
             0.8888888888888888,
             "#fdca26"
            ],
            [
             1,
             "#f0f921"
            ]
           ],
           "sequentialminus": [
            [
             0,
             "#0d0887"
            ],
            [
             0.1111111111111111,
             "#46039f"
            ],
            [
             0.2222222222222222,
             "#7201a8"
            ],
            [
             0.3333333333333333,
             "#9c179e"
            ],
            [
             0.4444444444444444,
             "#bd3786"
            ],
            [
             0.5555555555555556,
             "#d8576b"
            ],
            [
             0.6666666666666666,
             "#ed7953"
            ],
            [
             0.7777777777777778,
             "#fb9f3a"
            ],
            [
             0.8888888888888888,
             "#fdca26"
            ],
            [
             1,
             "#f0f921"
            ]
           ]
          },
          "colorway": [
           "#636efa",
           "#EF553B",
           "#00cc96",
           "#ab63fa",
           "#FFA15A",
           "#19d3f3",
           "#FF6692",
           "#B6E880",
           "#FF97FF",
           "#FECB52"
          ],
          "font": {
           "color": "#2a3f5f"
          },
          "geo": {
           "bgcolor": "white",
           "lakecolor": "white",
           "landcolor": "#E5ECF6",
           "showlakes": true,
           "showland": true,
           "subunitcolor": "white"
          },
          "hoverlabel": {
           "align": "left"
          },
          "hovermode": "closest",
          "mapbox": {
           "style": "light"
          },
          "paper_bgcolor": "white",
          "plot_bgcolor": "#E5ECF6",
          "polar": {
           "angularaxis": {
            "gridcolor": "white",
            "linecolor": "white",
            "ticks": ""
           },
           "bgcolor": "#E5ECF6",
           "radialaxis": {
            "gridcolor": "white",
            "linecolor": "white",
            "ticks": ""
           }
          },
          "scene": {
           "xaxis": {
            "backgroundcolor": "#E5ECF6",
            "gridcolor": "white",
            "gridwidth": 2,
            "linecolor": "white",
            "showbackground": true,
            "ticks": "",
            "zerolinecolor": "white"
           },
           "yaxis": {
            "backgroundcolor": "#E5ECF6",
            "gridcolor": "white",
            "gridwidth": 2,
            "linecolor": "white",
            "showbackground": true,
            "ticks": "",
            "zerolinecolor": "white"
           },
           "zaxis": {
            "backgroundcolor": "#E5ECF6",
            "gridcolor": "white",
            "gridwidth": 2,
            "linecolor": "white",
            "showbackground": true,
            "ticks": "",
            "zerolinecolor": "white"
           }
          },
          "shapedefaults": {
           "line": {
            "color": "#2a3f5f"
           }
          },
          "ternary": {
           "aaxis": {
            "gridcolor": "white",
            "linecolor": "white",
            "ticks": ""
           },
           "baxis": {
            "gridcolor": "white",
            "linecolor": "white",
            "ticks": ""
           },
           "bgcolor": "#E5ECF6",
           "caxis": {
            "gridcolor": "white",
            "linecolor": "white",
            "ticks": ""
           }
          },
          "title": {
           "x": 0.05
          },
          "xaxis": {
           "automargin": true,
           "gridcolor": "white",
           "linecolor": "white",
           "ticks": "",
           "title": {
            "standoff": 15
           },
           "zerolinecolor": "white",
           "zerolinewidth": 2
          },
          "yaxis": {
           "automargin": true,
           "gridcolor": "white",
           "linecolor": "white",
           "ticks": "",
           "title": {
            "standoff": 15
           },
           "zerolinecolor": "white",
           "zerolinewidth": 2
          }
         }
        },
        "title": {
         "text": "Features Importances"
        },
        "xaxis": {
         "anchor": "y",
         "domain": [
          0,
          1
         ],
         "title": {
          "text": "Features"
         }
        },
        "yaxis": {
         "anchor": "x",
         "domain": [
          0,
          1
         ],
         "title": {
          "text": "Importances Weightage"
         }
        }
       }
      },
      "text/html": [
       "<div>\n",
       "        \n",
       "        \n",
       "            <div id=\"eb49fa8b-c4ba-45f3-b561-0c744f62aad1\" class=\"plotly-graph-div\" style=\"height:600px; width:100%;\"></div>\n",
       "            <script type=\"text/javascript\">\n",
       "                require([\"plotly\"], function(Plotly) {\n",
       "                    window.PLOTLYENV=window.PLOTLYENV || {};\n",
       "                    \n",
       "                if (document.getElementById(\"eb49fa8b-c4ba-45f3-b561-0c744f62aad1\")) {\n",
       "                    Plotly.newPlot(\n",
       "                        'eb49fa8b-c4ba-45f3-b561-0c744f62aad1',\n",
       "                        [{\"alignmentgroup\": \"True\", \"hoverlabel\": {\"namelength\": 0}, \"hovertemplate\": \"Features=%{x}<br>Importances Weightage=%{y}\", \"legendgroup\": \"\", \"marker\": {\"color\": \"#636efa\"}, \"name\": \"\", \"offsetgroup\": \"\", \"orientation\": \"v\", \"showlegend\": false, \"textposition\": \"auto\", \"type\": \"bar\", \"x\": [\"Runtime (min)\", \"Action\", \"Adventure\", \"Animation\", \"Biography\", \"Comedy\", \"Crime\", \"Drama\", \"Family\", \"Fantasy\", \"History\", \"Horror\", \"Musical\", \"Mystery\", \"Romance\", \"Sci-Fi\", \"Sport\", \"Thriller\", \"War\", \"Western\", \"IMDb_rating\", \"IMDb_votes\", \"RT_rating\", \"RT_review\", \"Metascore\", \"Budget\", \"Domestic (US) gross\", \"International gross\", \"Worldwide gross\", \"GG_drama_winner\", \"GG_drama_nominee\", \"GG_comedy_winner\", \"GG_comedy_nominee\", \"BAFTA_winner\", \"BAFTA_nominee\", \"DGA_winner\", \"DGA_nominee\", \"PGA_winner\", \"PGA_nominee\", \"CCMA_winner\", \"CCMA_nominee\", \"Golden_Palm_winner\", \"Golden_Palm_nominee\", \"Golden_Bear_winner\", \"Golden_Bear_nominee\", \"Golden_Lion_winner\", \"Golden_Lion_nominee\", \"PCA_winner\", \"PCA_nominee\", \"NYFCC_winner\", \"NYFCC_nominee\", \"OFCS_winner\", \"OFCS_nominee\"], \"xaxis\": \"x\", \"y\": [276, 6, 4, 0, 33, 7, 5, 7, 0, 5, 0, 0, 2, 1, 3, 0, 32, 13, 0, 0, 207, 287, 145, 326, 258, 218, 241, 180, 98, 0, 8, 0, 20, 0, 15, 0, 24, 0, 49, 0, 56, 0, 11, 0, 16, 0, 2, 0, 0, 0, 10, 0, 15], \"yaxis\": \"y\"}],\n",
       "                        {\"barmode\": \"relative\", \"height\": 600, \"legend\": {\"tracegroupgap\": 0}, \"template\": {\"data\": {\"bar\": [{\"error_x\": {\"color\": \"#2a3f5f\"}, \"error_y\": {\"color\": \"#2a3f5f\"}, \"marker\": {\"line\": {\"color\": \"#E5ECF6\", \"width\": 0.5}}, \"type\": \"bar\"}], \"barpolar\": [{\"marker\": {\"line\": {\"color\": \"#E5ECF6\", \"width\": 0.5}}, \"type\": \"barpolar\"}], \"carpet\": [{\"aaxis\": {\"endlinecolor\": \"#2a3f5f\", \"gridcolor\": \"white\", \"linecolor\": \"white\", \"minorgridcolor\": \"white\", \"startlinecolor\": \"#2a3f5f\"}, \"baxis\": {\"endlinecolor\": \"#2a3f5f\", \"gridcolor\": \"white\", \"linecolor\": \"white\", \"minorgridcolor\": \"white\", \"startlinecolor\": \"#2a3f5f\"}, \"type\": \"carpet\"}], \"choropleth\": [{\"colorbar\": {\"outlinewidth\": 0, \"ticks\": \"\"}, \"type\": \"choropleth\"}], \"contour\": [{\"colorbar\": {\"outlinewidth\": 0, \"ticks\": \"\"}, \"colorscale\": [[0.0, \"#0d0887\"], [0.1111111111111111, \"#46039f\"], [0.2222222222222222, \"#7201a8\"], [0.3333333333333333, \"#9c179e\"], [0.4444444444444444, \"#bd3786\"], [0.5555555555555556, \"#d8576b\"], [0.6666666666666666, \"#ed7953\"], [0.7777777777777778, \"#fb9f3a\"], [0.8888888888888888, \"#fdca26\"], [1.0, \"#f0f921\"]], \"type\": \"contour\"}], \"contourcarpet\": [{\"colorbar\": {\"outlinewidth\": 0, \"ticks\": \"\"}, \"type\": \"contourcarpet\"}], \"heatmap\": [{\"colorbar\": {\"outlinewidth\": 0, \"ticks\": \"\"}, \"colorscale\": [[0.0, \"#0d0887\"], [0.1111111111111111, \"#46039f\"], [0.2222222222222222, \"#7201a8\"], [0.3333333333333333, \"#9c179e\"], [0.4444444444444444, \"#bd3786\"], [0.5555555555555556, \"#d8576b\"], [0.6666666666666666, \"#ed7953\"], [0.7777777777777778, \"#fb9f3a\"], [0.8888888888888888, \"#fdca26\"], [1.0, \"#f0f921\"]], \"type\": \"heatmap\"}], \"heatmapgl\": [{\"colorbar\": {\"outlinewidth\": 0, \"ticks\": \"\"}, \"colorscale\": [[0.0, \"#0d0887\"], [0.1111111111111111, \"#46039f\"], [0.2222222222222222, \"#7201a8\"], [0.3333333333333333, \"#9c179e\"], [0.4444444444444444, \"#bd3786\"], [0.5555555555555556, \"#d8576b\"], [0.6666666666666666, \"#ed7953\"], [0.7777777777777778, \"#fb9f3a\"], [0.8888888888888888, \"#fdca26\"], [1.0, \"#f0f921\"]], \"type\": \"heatmapgl\"}], \"histogram\": [{\"marker\": {\"colorbar\": {\"outlinewidth\": 0, \"ticks\": \"\"}}, \"type\": \"histogram\"}], \"histogram2d\": [{\"colorbar\": {\"outlinewidth\": 0, \"ticks\": \"\"}, \"colorscale\": [[0.0, \"#0d0887\"], [0.1111111111111111, \"#46039f\"], [0.2222222222222222, \"#7201a8\"], [0.3333333333333333, \"#9c179e\"], [0.4444444444444444, \"#bd3786\"], [0.5555555555555556, \"#d8576b\"], [0.6666666666666666, \"#ed7953\"], [0.7777777777777778, \"#fb9f3a\"], [0.8888888888888888, \"#fdca26\"], [1.0, \"#f0f921\"]], \"type\": \"histogram2d\"}], \"histogram2dcontour\": [{\"colorbar\": {\"outlinewidth\": 0, \"ticks\": \"\"}, \"colorscale\": [[0.0, \"#0d0887\"], [0.1111111111111111, \"#46039f\"], [0.2222222222222222, \"#7201a8\"], [0.3333333333333333, \"#9c179e\"], [0.4444444444444444, \"#bd3786\"], [0.5555555555555556, \"#d8576b\"], [0.6666666666666666, \"#ed7953\"], [0.7777777777777778, \"#fb9f3a\"], [0.8888888888888888, \"#fdca26\"], [1.0, \"#f0f921\"]], \"type\": \"histogram2dcontour\"}], \"mesh3d\": [{\"colorbar\": {\"outlinewidth\": 0, \"ticks\": \"\"}, \"type\": \"mesh3d\"}], \"parcoords\": [{\"line\": {\"colorbar\": {\"outlinewidth\": 0, \"ticks\": \"\"}}, \"type\": \"parcoords\"}], \"pie\": [{\"automargin\": true, \"type\": \"pie\"}], \"scatter\": [{\"marker\": {\"colorbar\": {\"outlinewidth\": 0, \"ticks\": \"\"}}, \"type\": \"scatter\"}], \"scatter3d\": [{\"line\": {\"colorbar\": {\"outlinewidth\": 0, \"ticks\": \"\"}}, \"marker\": {\"colorbar\": {\"outlinewidth\": 0, \"ticks\": \"\"}}, \"type\": \"scatter3d\"}], \"scattercarpet\": [{\"marker\": {\"colorbar\": {\"outlinewidth\": 0, \"ticks\": \"\"}}, \"type\": \"scattercarpet\"}], \"scattergeo\": [{\"marker\": {\"colorbar\": {\"outlinewidth\": 0, \"ticks\": \"\"}}, \"type\": \"scattergeo\"}], \"scattergl\": [{\"marker\": {\"colorbar\": {\"outlinewidth\": 0, \"ticks\": \"\"}}, \"type\": \"scattergl\"}], \"scattermapbox\": [{\"marker\": {\"colorbar\": {\"outlinewidth\": 0, \"ticks\": \"\"}}, \"type\": \"scattermapbox\"}], \"scatterpolar\": [{\"marker\": {\"colorbar\": {\"outlinewidth\": 0, \"ticks\": \"\"}}, \"type\": \"scatterpolar\"}], \"scatterpolargl\": [{\"marker\": {\"colorbar\": {\"outlinewidth\": 0, \"ticks\": \"\"}}, \"type\": \"scatterpolargl\"}], \"scatterternary\": [{\"marker\": {\"colorbar\": {\"outlinewidth\": 0, \"ticks\": \"\"}}, \"type\": \"scatterternary\"}], \"surface\": [{\"colorbar\": {\"outlinewidth\": 0, \"ticks\": \"\"}, \"colorscale\": [[0.0, \"#0d0887\"], [0.1111111111111111, \"#46039f\"], [0.2222222222222222, \"#7201a8\"], [0.3333333333333333, \"#9c179e\"], [0.4444444444444444, \"#bd3786\"], [0.5555555555555556, \"#d8576b\"], [0.6666666666666666, \"#ed7953\"], [0.7777777777777778, \"#fb9f3a\"], [0.8888888888888888, \"#fdca26\"], [1.0, \"#f0f921\"]], \"type\": \"surface\"}], \"table\": [{\"cells\": {\"fill\": {\"color\": \"#EBF0F8\"}, \"line\": {\"color\": \"white\"}}, \"header\": {\"fill\": {\"color\": \"#C8D4E3\"}, \"line\": {\"color\": \"white\"}}, \"type\": \"table\"}]}, \"layout\": {\"annotationdefaults\": {\"arrowcolor\": \"#2a3f5f\", \"arrowhead\": 0, \"arrowwidth\": 1}, \"coloraxis\": {\"colorbar\": {\"outlinewidth\": 0, \"ticks\": \"\"}}, \"colorscale\": {\"diverging\": [[0, \"#8e0152\"], [0.1, \"#c51b7d\"], [0.2, \"#de77ae\"], [0.3, \"#f1b6da\"], [0.4, \"#fde0ef\"], [0.5, \"#f7f7f7\"], [0.6, \"#e6f5d0\"], [0.7, \"#b8e186\"], [0.8, \"#7fbc41\"], [0.9, \"#4d9221\"], [1, \"#276419\"]], \"sequential\": [[0.0, \"#0d0887\"], [0.1111111111111111, \"#46039f\"], [0.2222222222222222, \"#7201a8\"], [0.3333333333333333, \"#9c179e\"], [0.4444444444444444, \"#bd3786\"], [0.5555555555555556, \"#d8576b\"], [0.6666666666666666, \"#ed7953\"], [0.7777777777777778, \"#fb9f3a\"], [0.8888888888888888, \"#fdca26\"], [1.0, \"#f0f921\"]], \"sequentialminus\": [[0.0, \"#0d0887\"], [0.1111111111111111, \"#46039f\"], [0.2222222222222222, \"#7201a8\"], [0.3333333333333333, \"#9c179e\"], [0.4444444444444444, \"#bd3786\"], [0.5555555555555556, \"#d8576b\"], [0.6666666666666666, \"#ed7953\"], [0.7777777777777778, \"#fb9f3a\"], [0.8888888888888888, \"#fdca26\"], [1.0, \"#f0f921\"]]}, \"colorway\": [\"#636efa\", \"#EF553B\", \"#00cc96\", \"#ab63fa\", \"#FFA15A\", \"#19d3f3\", \"#FF6692\", \"#B6E880\", \"#FF97FF\", \"#FECB52\"], \"font\": {\"color\": \"#2a3f5f\"}, \"geo\": {\"bgcolor\": \"white\", \"lakecolor\": \"white\", \"landcolor\": \"#E5ECF6\", \"showlakes\": true, \"showland\": true, \"subunitcolor\": \"white\"}, \"hoverlabel\": {\"align\": \"left\"}, \"hovermode\": \"closest\", \"mapbox\": {\"style\": \"light\"}, \"paper_bgcolor\": \"white\", \"plot_bgcolor\": \"#E5ECF6\", \"polar\": {\"angularaxis\": {\"gridcolor\": \"white\", \"linecolor\": \"white\", \"ticks\": \"\"}, \"bgcolor\": \"#E5ECF6\", \"radialaxis\": {\"gridcolor\": \"white\", \"linecolor\": \"white\", \"ticks\": \"\"}}, \"scene\": {\"xaxis\": {\"backgroundcolor\": \"#E5ECF6\", \"gridcolor\": \"white\", \"gridwidth\": 2, \"linecolor\": \"white\", \"showbackground\": true, \"ticks\": \"\", \"zerolinecolor\": \"white\"}, \"yaxis\": {\"backgroundcolor\": \"#E5ECF6\", \"gridcolor\": \"white\", \"gridwidth\": 2, \"linecolor\": \"white\", \"showbackground\": true, \"ticks\": \"\", \"zerolinecolor\": \"white\"}, \"zaxis\": {\"backgroundcolor\": \"#E5ECF6\", \"gridcolor\": \"white\", \"gridwidth\": 2, \"linecolor\": \"white\", \"showbackground\": true, \"ticks\": \"\", \"zerolinecolor\": \"white\"}}, \"shapedefaults\": {\"line\": {\"color\": \"#2a3f5f\"}}, \"ternary\": {\"aaxis\": {\"gridcolor\": \"white\", \"linecolor\": \"white\", \"ticks\": \"\"}, \"baxis\": {\"gridcolor\": \"white\", \"linecolor\": \"white\", \"ticks\": \"\"}, \"bgcolor\": \"#E5ECF6\", \"caxis\": {\"gridcolor\": \"white\", \"linecolor\": \"white\", \"ticks\": \"\"}}, \"title\": {\"x\": 0.05}, \"xaxis\": {\"automargin\": true, \"gridcolor\": \"white\", \"linecolor\": \"white\", \"ticks\": \"\", \"title\": {\"standoff\": 15}, \"zerolinecolor\": \"white\", \"zerolinewidth\": 2}, \"yaxis\": {\"automargin\": true, \"gridcolor\": \"white\", \"linecolor\": \"white\", \"ticks\": \"\", \"title\": {\"standoff\": 15}, \"zerolinecolor\": \"white\", \"zerolinewidth\": 2}}}, \"title\": {\"text\": \"Features Importances\"}, \"xaxis\": {\"anchor\": \"y\", \"domain\": [0.0, 1.0], \"title\": {\"text\": \"Features\"}}, \"yaxis\": {\"anchor\": \"x\", \"domain\": [0.0, 1.0], \"title\": {\"text\": \"Importances Weightage\"}}},\n",
       "                        {\"responsive\": true}\n",
       "                    ).then(function(){\n",
       "                            \n",
       "var gd = document.getElementById('eb49fa8b-c4ba-45f3-b561-0c744f62aad1');\n",
       "var x = new MutationObserver(function (mutations, observer) {{\n",
       "        var display = window.getComputedStyle(gd).display;\n",
       "        if (!display || display === 'none') {{\n",
       "            console.log([gd, 'removed!']);\n",
       "            Plotly.purge(gd);\n",
       "            observer.disconnect();\n",
       "        }}\n",
       "}});\n",
       "\n",
       "// Listen for the removal of the full notebook cells\n",
       "var notebookContainer = gd.closest('#notebook-container');\n",
       "if (notebookContainer) {{\n",
       "    x.observe(notebookContainer, {childList: true});\n",
       "}}\n",
       "\n",
       "// Listen for the clearing of the current output cell\n",
       "var outputEl = gd.closest('.output');\n",
       "if (outputEl) {{\n",
       "    x.observe(outputEl, {childList: true});\n",
       "}}\n",
       "\n",
       "                        })\n",
       "                };\n",
       "                });\n",
       "            </script>\n",
       "        </div>"
      ]
     },
     "metadata": {},
     "output_type": "display_data"
    }
   ],
   "source": [
    "LGBM_importances['Features'] = all_features\n",
    "fig = px.bar(LGBM_importances, x='Features', y='Importances Weightage', \n",
    "             title='Features Importances', height=600)\n",
    "fig.show()"
   ]
  },
  {
   "cell_type": "code",
   "execution_count": 80,
   "metadata": {},
   "outputs": [
    {
     "data": {
      "text/html": [
       "<div>\n",
       "<style scoped>\n",
       "    .dataframe tbody tr th:only-of-type {\n",
       "        vertical-align: middle;\n",
       "    }\n",
       "\n",
       "    .dataframe tbody tr th {\n",
       "        vertical-align: top;\n",
       "    }\n",
       "\n",
       "    .dataframe thead th {\n",
       "        text-align: right;\n",
       "    }\n",
       "</style>\n",
       "<table border=\"1\" class=\"dataframe\">\n",
       "  <thead>\n",
       "    <tr style=\"text-align: right;\">\n",
       "      <th></th>\n",
       "      <th>Year</th>\n",
       "      <th>Movie</th>\n",
       "      <th>Oscar_nominee</th>\n",
       "      <th>Oscar_winner</th>\n",
       "      <th>Predicted Win Rate</th>\n",
       "    </tr>\n",
       "  </thead>\n",
       "  <tbody>\n",
       "    <tr>\n",
       "      <th>0</th>\n",
       "      <td>2015</td>\n",
       "      <td>Star Wars: Episode VII - The Force Awakens</td>\n",
       "      <td>0</td>\n",
       "      <td>0</td>\n",
       "      <td>6.302638e-07</td>\n",
       "    </tr>\n",
       "    <tr>\n",
       "      <th>1</th>\n",
       "      <td>2015</td>\n",
       "      <td>Mad Max: Fury Road</td>\n",
       "      <td>1</td>\n",
       "      <td>0</td>\n",
       "      <td>2.867063e-02</td>\n",
       "    </tr>\n",
       "    <tr>\n",
       "      <th>2</th>\n",
       "      <td>2015</td>\n",
       "      <td>The Martian</td>\n",
       "      <td>1</td>\n",
       "      <td>0</td>\n",
       "      <td>2.920566e-04</td>\n",
       "    </tr>\n",
       "    <tr>\n",
       "      <th>3</th>\n",
       "      <td>2015</td>\n",
       "      <td>Avengers: Age of Ultron</td>\n",
       "      <td>0</td>\n",
       "      <td>0</td>\n",
       "      <td>1.185882e-06</td>\n",
       "    </tr>\n",
       "    <tr>\n",
       "      <th>4</th>\n",
       "      <td>2015</td>\n",
       "      <td>The Revenant</td>\n",
       "      <td>1</td>\n",
       "      <td>0</td>\n",
       "      <td>2.923325e-03</td>\n",
       "    </tr>\n",
       "  </tbody>\n",
       "</table>\n",
       "</div>"
      ],
      "text/plain": [
       "   Year                                       Movie  Oscar_nominee  \\\n",
       "0  2015  Star Wars: Episode VII - The Force Awakens              0   \n",
       "1  2015                          Mad Max: Fury Road              1   \n",
       "2  2015                                 The Martian              1   \n",
       "3  2015                     Avengers: Age of Ultron              0   \n",
       "4  2015                                The Revenant              1   \n",
       "\n",
       "   Oscar_winner  Predicted Win Rate  \n",
       "0             0        6.302638e-07  \n",
       "1             0        2.867063e-02  \n",
       "2             0        2.920566e-04  \n",
       "3             0        1.185882e-06  \n",
       "4             0        2.923325e-03  "
      ]
     },
     "execution_count": 80,
     "metadata": {},
     "output_type": "execute_result"
    }
   ],
   "source": [
    "pred_LGBM = my_LGBM.predict_proba(X_test)[:, 1]\n",
    "\n",
    "LGBM_prediction = pd.DataFrame(year, columns=[\"Year\"])\n",
    "LGBM_prediction[\"Movie\"] = movie_name\n",
    "LGBM_prediction[\"Oscar_nominee\"] = oscar_n\n",
    "LGBM_prediction[\"Oscar_winner\"] = oscar_w\n",
    "LGBM_prediction['Predicted Win Rate'] = pred_LGBM\n",
    "\n",
    "LGBM_prediction.head(5)"
   ]
  },
  {
   "cell_type": "code",
   "execution_count": 81,
   "metadata": {},
   "outputs": [],
   "source": [
    "normalized_prediction = LGBM_prediction.copy()\n",
    "\n",
    "for index, row in normalized_prediction.iterrows():\n",
    "    normalized_prediction.loc[index, \"Predicted Win Rate\"] = \\\n",
    "        (row[\"Predicted Win Rate\"] / LGBM_prediction[\"Predicted Win Rate\"][LGBM_prediction[\"Year\"] == row[\"Year\"]].sum()).round(3)"
   ]
  },
  {
   "cell_type": "code",
   "execution_count": 82,
   "metadata": {},
   "outputs": [
    {
     "data": {
      "text/html": [
       "<div>\n",
       "<style scoped>\n",
       "    .dataframe tbody tr th:only-of-type {\n",
       "        vertical-align: middle;\n",
       "    }\n",
       "\n",
       "    .dataframe tbody tr th {\n",
       "        vertical-align: top;\n",
       "    }\n",
       "\n",
       "    .dataframe thead th {\n",
       "        text-align: right;\n",
       "    }\n",
       "</style>\n",
       "<table border=\"1\" class=\"dataframe\">\n",
       "  <thead>\n",
       "    <tr style=\"text-align: right;\">\n",
       "      <th></th>\n",
       "      <th>Year</th>\n",
       "      <th>Movie</th>\n",
       "      <th>Oscar_nominee</th>\n",
       "      <th>Oscar_winner</th>\n",
       "      <th>Predicted Win Rate</th>\n",
       "    </tr>\n",
       "  </thead>\n",
       "  <tbody>\n",
       "    <tr>\n",
       "      <th>1</th>\n",
       "      <td>2015</td>\n",
       "      <td>Mad Max: Fury Road</td>\n",
       "      <td>1</td>\n",
       "      <td>0</td>\n",
       "      <td>0.844</td>\n",
       "    </tr>\n",
       "    <tr>\n",
       "      <th>4</th>\n",
       "      <td>2015</td>\n",
       "      <td>The Revenant</td>\n",
       "      <td>1</td>\n",
       "      <td>0</td>\n",
       "      <td>0.086</td>\n",
       "    </tr>\n",
       "    <tr>\n",
       "      <th>9</th>\n",
       "      <td>2015</td>\n",
       "      <td>Spotlight</td>\n",
       "      <td>1</td>\n",
       "      <td>1</td>\n",
       "      <td>0.049</td>\n",
       "    </tr>\n",
       "    <tr>\n",
       "      <th>2</th>\n",
       "      <td>2015</td>\n",
       "      <td>The Martian</td>\n",
       "      <td>1</td>\n",
       "      <td>0</td>\n",
       "      <td>0.009</td>\n",
       "    </tr>\n",
       "    <tr>\n",
       "      <th>14</th>\n",
       "      <td>2015</td>\n",
       "      <td>The Big Short</td>\n",
       "      <td>1</td>\n",
       "      <td>0</td>\n",
       "      <td>0.005</td>\n",
       "    </tr>\n",
       "    <tr>\n",
       "      <th>11</th>\n",
       "      <td>2015</td>\n",
       "      <td>Sicario</td>\n",
       "      <td>0</td>\n",
       "      <td>0</td>\n",
       "      <td>0.002</td>\n",
       "    </tr>\n",
       "    <tr>\n",
       "      <th>50</th>\n",
       "      <td>2015</td>\n",
       "      <td>Brooklyn</td>\n",
       "      <td>1</td>\n",
       "      <td>0</td>\n",
       "      <td>0.001</td>\n",
       "    </tr>\n",
       "    <tr>\n",
       "      <th>57</th>\n",
       "      <td>2015</td>\n",
       "      <td>The Visit</td>\n",
       "      <td>0</td>\n",
       "      <td>0</td>\n",
       "      <td>0.000</td>\n",
       "    </tr>\n",
       "    <tr>\n",
       "      <th>58</th>\n",
       "      <td>2015</td>\n",
       "      <td>Daddy's Home</td>\n",
       "      <td>0</td>\n",
       "      <td>0</td>\n",
       "      <td>0.000</td>\n",
       "    </tr>\n",
       "    <tr>\n",
       "      <th>74</th>\n",
       "      <td>2015</td>\n",
       "      <td>Concussion</td>\n",
       "      <td>0</td>\n",
       "      <td>0</td>\n",
       "      <td>0.000</td>\n",
       "    </tr>\n",
       "  </tbody>\n",
       "</table>\n",
       "</div>"
      ],
      "text/plain": [
       "    Year               Movie  Oscar_nominee  Oscar_winner  Predicted Win Rate\n",
       "1   2015  Mad Max: Fury Road              1             0               0.844\n",
       "4   2015        The Revenant              1             0               0.086\n",
       "9   2015           Spotlight              1             1               0.049\n",
       "2   2015         The Martian              1             0               0.009\n",
       "14  2015       The Big Short              1             0               0.005\n",
       "11  2015             Sicario              0             0               0.002\n",
       "50  2015            Brooklyn              1             0               0.001\n",
       "57  2015           The Visit              0             0               0.000\n",
       "58  2015        Daddy's Home              0             0               0.000\n",
       "74  2015          Concussion              0             0               0.000"
      ]
     },
     "execution_count": 82,
     "metadata": {},
     "output_type": "execute_result"
    }
   ],
   "source": [
    "normalized_prediction[normalized_prediction[\"Year\"] == 2015].sort_values(\"Predicted Win Rate\", ascending=False).head(10)"
   ]
  },
  {
   "cell_type": "code",
   "execution_count": 83,
   "metadata": {},
   "outputs": [
    {
     "data": {
      "text/html": [
       "<div>\n",
       "<style scoped>\n",
       "    .dataframe tbody tr th:only-of-type {\n",
       "        vertical-align: middle;\n",
       "    }\n",
       "\n",
       "    .dataframe tbody tr th {\n",
       "        vertical-align: top;\n",
       "    }\n",
       "\n",
       "    .dataframe thead th {\n",
       "        text-align: right;\n",
       "    }\n",
       "</style>\n",
       "<table border=\"1\" class=\"dataframe\">\n",
       "  <thead>\n",
       "    <tr style=\"text-align: right;\">\n",
       "      <th></th>\n",
       "      <th>Year</th>\n",
       "      <th>Movie</th>\n",
       "      <th>Oscar_nominee</th>\n",
       "      <th>Oscar_winner</th>\n",
       "      <th>Predicted Win Rate</th>\n",
       "    </tr>\n",
       "  </thead>\n",
       "  <tbody>\n",
       "    <tr>\n",
       "      <th>107</th>\n",
       "      <td>2016</td>\n",
       "      <td>La La Land</td>\n",
       "      <td>1</td>\n",
       "      <td>0</td>\n",
       "      <td>0.990</td>\n",
       "    </tr>\n",
       "    <tr>\n",
       "      <th>105</th>\n",
       "      <td>2016</td>\n",
       "      <td>Arrival</td>\n",
       "      <td>1</td>\n",
       "      <td>0</td>\n",
       "      <td>0.003</td>\n",
       "    </tr>\n",
       "    <tr>\n",
       "      <th>122</th>\n",
       "      <td>2016</td>\n",
       "      <td>Manchester by the Sea</td>\n",
       "      <td>1</td>\n",
       "      <td>0</td>\n",
       "      <td>0.003</td>\n",
       "    </tr>\n",
       "    <tr>\n",
       "      <th>130</th>\n",
       "      <td>2016</td>\n",
       "      <td>Lion</td>\n",
       "      <td>1</td>\n",
       "      <td>0</td>\n",
       "      <td>0.002</td>\n",
       "    </tr>\n",
       "    <tr>\n",
       "      <th>116</th>\n",
       "      <td>2016</td>\n",
       "      <td>Moonlight</td>\n",
       "      <td>1</td>\n",
       "      <td>1</td>\n",
       "      <td>0.002</td>\n",
       "    </tr>\n",
       "    <tr>\n",
       "      <th>100</th>\n",
       "      <td>2016</td>\n",
       "      <td>Deadpool</td>\n",
       "      <td>0</td>\n",
       "      <td>0</td>\n",
       "      <td>0.000</td>\n",
       "    </tr>\n",
       "    <tr>\n",
       "      <th>166</th>\n",
       "      <td>2016</td>\n",
       "      <td>Neighbors 2: Sorority Rising</td>\n",
       "      <td>0</td>\n",
       "      <td>0</td>\n",
       "      <td>0.000</td>\n",
       "    </tr>\n",
       "    <tr>\n",
       "      <th>174</th>\n",
       "      <td>2016</td>\n",
       "      <td>Hunt for the Wilderpeople</td>\n",
       "      <td>0</td>\n",
       "      <td>0</td>\n",
       "      <td>0.000</td>\n",
       "    </tr>\n",
       "    <tr>\n",
       "      <th>173</th>\n",
       "      <td>2016</td>\n",
       "      <td>Swiss Army Man</td>\n",
       "      <td>0</td>\n",
       "      <td>0</td>\n",
       "      <td>0.000</td>\n",
       "    </tr>\n",
       "    <tr>\n",
       "      <th>172</th>\n",
       "      <td>2016</td>\n",
       "      <td>Gods of Egypt</td>\n",
       "      <td>0</td>\n",
       "      <td>0</td>\n",
       "      <td>0.000</td>\n",
       "    </tr>\n",
       "  </tbody>\n",
       "</table>\n",
       "</div>"
      ],
      "text/plain": [
       "     Year                         Movie  Oscar_nominee  Oscar_winner  \\\n",
       "107  2016                    La La Land              1             0   \n",
       "105  2016                       Arrival              1             0   \n",
       "122  2016         Manchester by the Sea              1             0   \n",
       "130  2016                          Lion              1             0   \n",
       "116  2016                     Moonlight              1             1   \n",
       "100  2016                      Deadpool              0             0   \n",
       "166  2016  Neighbors 2: Sorority Rising              0             0   \n",
       "174  2016     Hunt for the Wilderpeople              0             0   \n",
       "173  2016                Swiss Army Man              0             0   \n",
       "172  2016                 Gods of Egypt              0             0   \n",
       "\n",
       "     Predicted Win Rate  \n",
       "107               0.990  \n",
       "105               0.003  \n",
       "122               0.003  \n",
       "130               0.002  \n",
       "116               0.002  \n",
       "100               0.000  \n",
       "166               0.000  \n",
       "174               0.000  \n",
       "173               0.000  \n",
       "172               0.000  "
      ]
     },
     "execution_count": 83,
     "metadata": {},
     "output_type": "execute_result"
    }
   ],
   "source": [
    "normalized_prediction[normalized_prediction[\"Year\"] == 2016].sort_values(\"Predicted Win Rate\", ascending=False).head(10)"
   ]
  },
  {
   "cell_type": "code",
   "execution_count": 84,
   "metadata": {},
   "outputs": [
    {
     "data": {
      "text/html": [
       "<div>\n",
       "<style scoped>\n",
       "    .dataframe tbody tr th:only-of-type {\n",
       "        vertical-align: middle;\n",
       "    }\n",
       "\n",
       "    .dataframe tbody tr th {\n",
       "        vertical-align: top;\n",
       "    }\n",
       "\n",
       "    .dataframe thead th {\n",
       "        text-align: right;\n",
       "    }\n",
       "</style>\n",
       "<table border=\"1\" class=\"dataframe\">\n",
       "  <thead>\n",
       "    <tr style=\"text-align: right;\">\n",
       "      <th></th>\n",
       "      <th>Year</th>\n",
       "      <th>Movie</th>\n",
       "      <th>Oscar_nominee</th>\n",
       "      <th>Oscar_winner</th>\n",
       "      <th>Predicted Win Rate</th>\n",
       "    </tr>\n",
       "  </thead>\n",
       "  <tbody>\n",
       "    <tr>\n",
       "      <th>207</th>\n",
       "      <td>2017</td>\n",
       "      <td>Get Out</td>\n",
       "      <td>1</td>\n",
       "      <td>0</td>\n",
       "      <td>0.857</td>\n",
       "    </tr>\n",
       "    <tr>\n",
       "      <th>213</th>\n",
       "      <td>2017</td>\n",
       "      <td>The Shape of Water</td>\n",
       "      <td>1</td>\n",
       "      <td>1</td>\n",
       "      <td>0.058</td>\n",
       "    </tr>\n",
       "    <tr>\n",
       "      <th>224</th>\n",
       "      <td>2017</td>\n",
       "      <td>Lady Bird</td>\n",
       "      <td>1</td>\n",
       "      <td>0</td>\n",
       "      <td>0.034</td>\n",
       "    </tr>\n",
       "    <tr>\n",
       "      <th>211</th>\n",
       "      <td>2017</td>\n",
       "      <td>Three Billboards Outside Ebbing, Missouri</td>\n",
       "      <td>1</td>\n",
       "      <td>0</td>\n",
       "      <td>0.027</td>\n",
       "    </tr>\n",
       "    <tr>\n",
       "      <th>205</th>\n",
       "      <td>2017</td>\n",
       "      <td>Dunkirk</td>\n",
       "      <td>1</td>\n",
       "      <td>0</td>\n",
       "      <td>0.017</td>\n",
       "    </tr>\n",
       "    <tr>\n",
       "      <th>230</th>\n",
       "      <td>2017</td>\n",
       "      <td>Call Me by Your Name</td>\n",
       "      <td>1</td>\n",
       "      <td>0</td>\n",
       "      <td>0.006</td>\n",
       "    </tr>\n",
       "    <tr>\n",
       "      <th>266</th>\n",
       "      <td>2017</td>\n",
       "      <td>Fifty Shades Darker</td>\n",
       "      <td>0</td>\n",
       "      <td>0</td>\n",
       "      <td>0.000</td>\n",
       "    </tr>\n",
       "    <tr>\n",
       "      <th>275</th>\n",
       "      <td>2017</td>\n",
       "      <td>Death Note</td>\n",
       "      <td>0</td>\n",
       "      <td>0</td>\n",
       "      <td>0.000</td>\n",
       "    </tr>\n",
       "    <tr>\n",
       "      <th>274</th>\n",
       "      <td>2017</td>\n",
       "      <td>Going in Style</td>\n",
       "      <td>0</td>\n",
       "      <td>0</td>\n",
       "      <td>0.000</td>\n",
       "    </tr>\n",
       "    <tr>\n",
       "      <th>273</th>\n",
       "      <td>2017</td>\n",
       "      <td>Reis</td>\n",
       "      <td>0</td>\n",
       "      <td>0</td>\n",
       "      <td>0.000</td>\n",
       "    </tr>\n",
       "  </tbody>\n",
       "</table>\n",
       "</div>"
      ],
      "text/plain": [
       "     Year                                      Movie  Oscar_nominee  \\\n",
       "207  2017                                    Get Out              1   \n",
       "213  2017                         The Shape of Water              1   \n",
       "224  2017                                  Lady Bird              1   \n",
       "211  2017  Three Billboards Outside Ebbing, Missouri              1   \n",
       "205  2017                                    Dunkirk              1   \n",
       "230  2017                       Call Me by Your Name              1   \n",
       "266  2017                        Fifty Shades Darker              0   \n",
       "275  2017                                 Death Note              0   \n",
       "274  2017                             Going in Style              0   \n",
       "273  2017                                       Reis              0   \n",
       "\n",
       "     Oscar_winner  Predicted Win Rate  \n",
       "207             0               0.857  \n",
       "213             1               0.058  \n",
       "224             0               0.034  \n",
       "211             0               0.027  \n",
       "205             0               0.017  \n",
       "230             0               0.006  \n",
       "266             0               0.000  \n",
       "275             0               0.000  \n",
       "274             0               0.000  \n",
       "273             0               0.000  "
      ]
     },
     "execution_count": 84,
     "metadata": {},
     "output_type": "execute_result"
    }
   ],
   "source": [
    "normalized_prediction[normalized_prediction[\"Year\"] == 2017].sort_values(\"Predicted Win Rate\", ascending=False).head(10)"
   ]
  },
  {
   "cell_type": "code",
   "execution_count": 85,
   "metadata": {},
   "outputs": [
    {
     "data": {
      "text/html": [
       "<div>\n",
       "<style scoped>\n",
       "    .dataframe tbody tr th:only-of-type {\n",
       "        vertical-align: middle;\n",
       "    }\n",
       "\n",
       "    .dataframe tbody tr th {\n",
       "        vertical-align: top;\n",
       "    }\n",
       "\n",
       "    .dataframe thead th {\n",
       "        text-align: right;\n",
       "    }\n",
       "</style>\n",
       "<table border=\"1\" class=\"dataframe\">\n",
       "  <thead>\n",
       "    <tr style=\"text-align: right;\">\n",
       "      <th></th>\n",
       "      <th>Year</th>\n",
       "      <th>Movie</th>\n",
       "      <th>Oscar_nominee</th>\n",
       "      <th>Oscar_winner</th>\n",
       "      <th>Predicted Win Rate</th>\n",
       "    </tr>\n",
       "  </thead>\n",
       "  <tbody>\n",
       "    <tr>\n",
       "      <th>309</th>\n",
       "      <td>2018</td>\n",
       "      <td>Green Book</td>\n",
       "      <td>1</td>\n",
       "      <td>1</td>\n",
       "      <td>0.355</td>\n",
       "    </tr>\n",
       "    <tr>\n",
       "      <th>310</th>\n",
       "      <td>2018</td>\n",
       "      <td>A Star Is Born</td>\n",
       "      <td>1</td>\n",
       "      <td>0</td>\n",
       "      <td>0.321</td>\n",
       "    </tr>\n",
       "    <tr>\n",
       "      <th>325</th>\n",
       "      <td>2018</td>\n",
       "      <td>The Favourite</td>\n",
       "      <td>1</td>\n",
       "      <td>0</td>\n",
       "      <td>0.130</td>\n",
       "    </tr>\n",
       "    <tr>\n",
       "      <th>330</th>\n",
       "      <td>2018</td>\n",
       "      <td>Roma</td>\n",
       "      <td>1</td>\n",
       "      <td>0</td>\n",
       "      <td>0.106</td>\n",
       "    </tr>\n",
       "    <tr>\n",
       "      <th>304</th>\n",
       "      <td>2018</td>\n",
       "      <td>A Quiet Place</td>\n",
       "      <td>0</td>\n",
       "      <td>0</td>\n",
       "      <td>0.034</td>\n",
       "    </tr>\n",
       "    <tr>\n",
       "      <th>303</th>\n",
       "      <td>2018</td>\n",
       "      <td>Bohemian Rhapsody</td>\n",
       "      <td>1</td>\n",
       "      <td>0</td>\n",
       "      <td>0.020</td>\n",
       "    </tr>\n",
       "    <tr>\n",
       "      <th>321</th>\n",
       "      <td>2018</td>\n",
       "      <td>BlacKkKlansman</td>\n",
       "      <td>1</td>\n",
       "      <td>0</td>\n",
       "      <td>0.009</td>\n",
       "    </tr>\n",
       "    <tr>\n",
       "      <th>308</th>\n",
       "      <td>2018</td>\n",
       "      <td>Spider-Man: Into the Spider-Verse</td>\n",
       "      <td>0</td>\n",
       "      <td>0</td>\n",
       "      <td>0.008</td>\n",
       "    </tr>\n",
       "    <tr>\n",
       "      <th>334</th>\n",
       "      <td>2018</td>\n",
       "      <td>Crazy Rich Asians</td>\n",
       "      <td>0</td>\n",
       "      <td>0</td>\n",
       "      <td>0.007</td>\n",
       "    </tr>\n",
       "    <tr>\n",
       "      <th>344</th>\n",
       "      <td>2018</td>\n",
       "      <td>Vice</td>\n",
       "      <td>1</td>\n",
       "      <td>0</td>\n",
       "      <td>0.005</td>\n",
       "    </tr>\n",
       "  </tbody>\n",
       "</table>\n",
       "</div>"
      ],
      "text/plain": [
       "     Year                              Movie  Oscar_nominee  Oscar_winner  \\\n",
       "309  2018                         Green Book              1             1   \n",
       "310  2018                     A Star Is Born              1             0   \n",
       "325  2018                      The Favourite              1             0   \n",
       "330  2018                               Roma              1             0   \n",
       "304  2018                      A Quiet Place              0             0   \n",
       "303  2018                  Bohemian Rhapsody              1             0   \n",
       "321  2018                     BlacKkKlansman              1             0   \n",
       "308  2018  Spider-Man: Into the Spider-Verse              0             0   \n",
       "334  2018                  Crazy Rich Asians              0             0   \n",
       "344  2018                               Vice              1             0   \n",
       "\n",
       "     Predicted Win Rate  \n",
       "309               0.355  \n",
       "310               0.321  \n",
       "325               0.130  \n",
       "330               0.106  \n",
       "304               0.034  \n",
       "303               0.020  \n",
       "321               0.009  \n",
       "308               0.008  \n",
       "334               0.007  \n",
       "344               0.005  "
      ]
     },
     "execution_count": 85,
     "metadata": {},
     "output_type": "execute_result"
    }
   ],
   "source": [
    "normalized_prediction[normalized_prediction[\"Year\"] == 2018].sort_values(\"Predicted Win Rate\", ascending=False).head(10)"
   ]
  },
  {
   "cell_type": "code",
   "execution_count": 86,
   "metadata": {},
   "outputs": [
    {
     "data": {
      "text/html": [
       "<div>\n",
       "<style scoped>\n",
       "    .dataframe tbody tr th:only-of-type {\n",
       "        vertical-align: middle;\n",
       "    }\n",
       "\n",
       "    .dataframe tbody tr th {\n",
       "        vertical-align: top;\n",
       "    }\n",
       "\n",
       "    .dataframe thead th {\n",
       "        text-align: right;\n",
       "    }\n",
       "</style>\n",
       "<table border=\"1\" class=\"dataframe\">\n",
       "  <thead>\n",
       "    <tr style=\"text-align: right;\">\n",
       "      <th></th>\n",
       "      <th>Year</th>\n",
       "      <th>Movie</th>\n",
       "      <th>Oscar_nominee</th>\n",
       "      <th>Oscar_winner</th>\n",
       "      <th>Predicted Win Rate</th>\n",
       "    </tr>\n",
       "  </thead>\n",
       "  <tbody>\n",
       "    <tr>\n",
       "      <th>404</th>\n",
       "      <td>2019</td>\n",
       "      <td>Parasite</td>\n",
       "      <td>1</td>\n",
       "      <td>1</td>\n",
       "      <td>0.535</td>\n",
       "    </tr>\n",
       "    <tr>\n",
       "      <th>402</th>\n",
       "      <td>2019</td>\n",
       "      <td>Once Upon a Time in Hollywood</td>\n",
       "      <td>1</td>\n",
       "      <td>0</td>\n",
       "      <td>0.381</td>\n",
       "    </tr>\n",
       "    <tr>\n",
       "      <th>408</th>\n",
       "      <td>2019</td>\n",
       "      <td>1917</td>\n",
       "      <td>1</td>\n",
       "      <td>0</td>\n",
       "      <td>0.069</td>\n",
       "    </tr>\n",
       "    <tr>\n",
       "      <th>400</th>\n",
       "      <td>2019</td>\n",
       "      <td>Joker</td>\n",
       "      <td>1</td>\n",
       "      <td>0</td>\n",
       "      <td>0.014</td>\n",
       "    </tr>\n",
       "    <tr>\n",
       "      <th>464</th>\n",
       "      <td>2019</td>\n",
       "      <td>Dumbo</td>\n",
       "      <td>0</td>\n",
       "      <td>0</td>\n",
       "      <td>0.000</td>\n",
       "    </tr>\n",
       "    <tr>\n",
       "      <th>474</th>\n",
       "      <td>2019</td>\n",
       "      <td>Annabelle Comes Home</td>\n",
       "      <td>0</td>\n",
       "      <td>0</td>\n",
       "      <td>0.000</td>\n",
       "    </tr>\n",
       "    <tr>\n",
       "      <th>473</th>\n",
       "      <td>2019</td>\n",
       "      <td>The Lego Movie 2: The Second Part</td>\n",
       "      <td>0</td>\n",
       "      <td>0</td>\n",
       "      <td>0.000</td>\n",
       "    </tr>\n",
       "    <tr>\n",
       "      <th>472</th>\n",
       "      <td>2019</td>\n",
       "      <td>Happy Death Day 2U</td>\n",
       "      <td>0</td>\n",
       "      <td>0</td>\n",
       "      <td>0.000</td>\n",
       "    </tr>\n",
       "    <tr>\n",
       "      <th>471</th>\n",
       "      <td>2019</td>\n",
       "      <td>Velvet Buzzsaw</td>\n",
       "      <td>0</td>\n",
       "      <td>0</td>\n",
       "      <td>0.000</td>\n",
       "    </tr>\n",
       "    <tr>\n",
       "      <th>470</th>\n",
       "      <td>2019</td>\n",
       "      <td>Cold Pursuit</td>\n",
       "      <td>0</td>\n",
       "      <td>0</td>\n",
       "      <td>0.000</td>\n",
       "    </tr>\n",
       "  </tbody>\n",
       "</table>\n",
       "</div>"
      ],
      "text/plain": [
       "     Year                              Movie  Oscar_nominee  Oscar_winner  \\\n",
       "404  2019                           Parasite              1             1   \n",
       "402  2019      Once Upon a Time in Hollywood              1             0   \n",
       "408  2019                               1917              1             0   \n",
       "400  2019                              Joker              1             0   \n",
       "464  2019                              Dumbo              0             0   \n",
       "474  2019               Annabelle Comes Home              0             0   \n",
       "473  2019  The Lego Movie 2: The Second Part              0             0   \n",
       "472  2019                 Happy Death Day 2U              0             0   \n",
       "471  2019                     Velvet Buzzsaw              0             0   \n",
       "470  2019                       Cold Pursuit              0             0   \n",
       "\n",
       "     Predicted Win Rate  \n",
       "404               0.535  \n",
       "402               0.381  \n",
       "408               0.069  \n",
       "400               0.014  \n",
       "464               0.000  \n",
       "474               0.000  \n",
       "473               0.000  \n",
       "472               0.000  \n",
       "471               0.000  \n",
       "470               0.000  "
      ]
     },
     "execution_count": 86,
     "metadata": {},
     "output_type": "execute_result"
    }
   ],
   "source": [
    "normalized_prediction[normalized_prediction[\"Year\"] == 2019].sort_values(\"Predicted Win Rate\", ascending=False).head(10)"
   ]
  },
  {
   "cell_type": "markdown",
   "metadata": {},
   "source": [
    "### Quick Comments on #2 - Boosting Classifiers:\n",
    "\n",
    "> 1. AdaBoost is bad\n",
    "> 2. XGBoost normal a bit but still bad\n",
    "> 3. Gradient Boosting is bias\n",
    "> 4. LGBM is great!\n"
   ]
  },
  {
   "cell_type": "markdown",
   "metadata": {},
   "source": [
    "---\n",
    "# #3 - Naive Bayes"
   ]
  },
  {
   "cell_type": "markdown",
   "metadata": {},
   "source": [
    "<img src=\"img\\naive bayes.png\" width=\"500\" align=\"center\"/>"
   ]
  },
  {
   "cell_type": "markdown",
   "metadata": {},
   "source": [
    "## #3.1 - Multinomial Naive Bayes"
   ]
  },
  {
   "cell_type": "code",
   "execution_count": 88,
   "metadata": {},
   "outputs": [],
   "source": [
    "MNB = MultinomialNB()\n",
    "\n",
    "my_MNB = MNB.fit(X_train, y_train)"
   ]
  },
  {
   "cell_type": "code",
   "execution_count": 89,
   "metadata": {},
   "outputs": [
    {
     "data": {
      "text/html": [
       "<div>\n",
       "<style scoped>\n",
       "    .dataframe tbody tr th:only-of-type {\n",
       "        vertical-align: middle;\n",
       "    }\n",
       "\n",
       "    .dataframe tbody tr th {\n",
       "        vertical-align: top;\n",
       "    }\n",
       "\n",
       "    .dataframe thead th {\n",
       "        text-align: right;\n",
       "    }\n",
       "</style>\n",
       "<table border=\"1\" class=\"dataframe\">\n",
       "  <thead>\n",
       "    <tr style=\"text-align: right;\">\n",
       "      <th></th>\n",
       "      <th>Year</th>\n",
       "      <th>Movie</th>\n",
       "      <th>Oscar_nominee</th>\n",
       "      <th>Oscar_winner</th>\n",
       "      <th>Predicted Win Rate</th>\n",
       "    </tr>\n",
       "  </thead>\n",
       "  <tbody>\n",
       "    <tr>\n",
       "      <th>0</th>\n",
       "      <td>2015</td>\n",
       "      <td>Star Wars: Episode VII - The Force Awakens</td>\n",
       "      <td>0</td>\n",
       "      <td>0</td>\n",
       "      <td>1.0</td>\n",
       "    </tr>\n",
       "    <tr>\n",
       "      <th>1</th>\n",
       "      <td>2015</td>\n",
       "      <td>Mad Max: Fury Road</td>\n",
       "      <td>1</td>\n",
       "      <td>0</td>\n",
       "      <td>0.0</td>\n",
       "    </tr>\n",
       "    <tr>\n",
       "      <th>2</th>\n",
       "      <td>2015</td>\n",
       "      <td>The Martian</td>\n",
       "      <td>1</td>\n",
       "      <td>0</td>\n",
       "      <td>1.0</td>\n",
       "    </tr>\n",
       "    <tr>\n",
       "      <th>3</th>\n",
       "      <td>2015</td>\n",
       "      <td>Avengers: Age of Ultron</td>\n",
       "      <td>0</td>\n",
       "      <td>0</td>\n",
       "      <td>0.0</td>\n",
       "    </tr>\n",
       "    <tr>\n",
       "      <th>4</th>\n",
       "      <td>2015</td>\n",
       "      <td>The Revenant</td>\n",
       "      <td>1</td>\n",
       "      <td>0</td>\n",
       "      <td>0.0</td>\n",
       "    </tr>\n",
       "  </tbody>\n",
       "</table>\n",
       "</div>"
      ],
      "text/plain": [
       "   Year                                       Movie  Oscar_nominee  \\\n",
       "0  2015  Star Wars: Episode VII - The Force Awakens              0   \n",
       "1  2015                          Mad Max: Fury Road              1   \n",
       "2  2015                                 The Martian              1   \n",
       "3  2015                     Avengers: Age of Ultron              0   \n",
       "4  2015                                The Revenant              1   \n",
       "\n",
       "   Oscar_winner  Predicted Win Rate  \n",
       "0             0                 1.0  \n",
       "1             0                 0.0  \n",
       "2             0                 1.0  \n",
       "3             0                 0.0  \n",
       "4             0                 0.0  "
      ]
     },
     "execution_count": 89,
     "metadata": {},
     "output_type": "execute_result"
    }
   ],
   "source": [
    "pred_MNB = my_MNB.predict_proba(X_test)[:, 1]\n",
    "\n",
    "MNB_prediction = pd.DataFrame(year, columns=[\"Year\"])\n",
    "MNB_prediction[\"Movie\"] = movie_name\n",
    "MNB_prediction[\"Oscar_nominee\"] = oscar_n\n",
    "MNB_prediction[\"Oscar_winner\"] = oscar_w\n",
    "MNB_prediction['Predicted Win Rate'] = pred_MNB\n",
    "\n",
    "MNB_prediction.head(5)"
   ]
  },
  {
   "cell_type": "code",
   "execution_count": 90,
   "metadata": {},
   "outputs": [],
   "source": [
    "normalized_prediction = MNB_prediction.copy()\n",
    "\n",
    "for index, row in normalized_prediction.iterrows():\n",
    "    normalized_prediction.loc[index, \"Predicted Win Rate\"] = \\\n",
    "        (row[\"Predicted Win Rate\"] / MNB_prediction[\"Predicted Win Rate\"][MNB_prediction[\"Year\"] == row[\"Year\"]].sum()).round(3)"
   ]
  },
  {
   "cell_type": "code",
   "execution_count": 91,
   "metadata": {},
   "outputs": [
    {
     "data": {
      "text/html": [
       "<div>\n",
       "<style scoped>\n",
       "    .dataframe tbody tr th:only-of-type {\n",
       "        vertical-align: middle;\n",
       "    }\n",
       "\n",
       "    .dataframe tbody tr th {\n",
       "        vertical-align: top;\n",
       "    }\n",
       "\n",
       "    .dataframe thead th {\n",
       "        text-align: right;\n",
       "    }\n",
       "</style>\n",
       "<table border=\"1\" class=\"dataframe\">\n",
       "  <thead>\n",
       "    <tr style=\"text-align: right;\">\n",
       "      <th></th>\n",
       "      <th>Year</th>\n",
       "      <th>Movie</th>\n",
       "      <th>Oscar_nominee</th>\n",
       "      <th>Oscar_winner</th>\n",
       "      <th>Predicted Win Rate</th>\n",
       "    </tr>\n",
       "  </thead>\n",
       "  <tbody>\n",
       "    <tr>\n",
       "      <th>0</th>\n",
       "      <td>2015</td>\n",
       "      <td>Star Wars: Episode VII - The Force Awakens</td>\n",
       "      <td>0</td>\n",
       "      <td>0</td>\n",
       "      <td>0.038</td>\n",
       "    </tr>\n",
       "    <tr>\n",
       "      <th>57</th>\n",
       "      <td>2015</td>\n",
       "      <td>The Visit</td>\n",
       "      <td>0</td>\n",
       "      <td>0</td>\n",
       "      <td>0.038</td>\n",
       "    </tr>\n",
       "    <tr>\n",
       "      <th>28</th>\n",
       "      <td>2015</td>\n",
       "      <td>Focus</td>\n",
       "      <td>0</td>\n",
       "      <td>0</td>\n",
       "      <td>0.038</td>\n",
       "    </tr>\n",
       "    <tr>\n",
       "      <th>33</th>\n",
       "      <td>2015</td>\n",
       "      <td>The Witch: A New-England Folktale</td>\n",
       "      <td>0</td>\n",
       "      <td>0</td>\n",
       "      <td>0.038</td>\n",
       "    </tr>\n",
       "    <tr>\n",
       "      <th>36</th>\n",
       "      <td>2015</td>\n",
       "      <td>Straight Outta Compton</td>\n",
       "      <td>0</td>\n",
       "      <td>0</td>\n",
       "      <td>0.038</td>\n",
       "    </tr>\n",
       "    <tr>\n",
       "      <th>39</th>\n",
       "      <td>2015</td>\n",
       "      <td>The Danish Girl</td>\n",
       "      <td>0</td>\n",
       "      <td>0</td>\n",
       "      <td>0.038</td>\n",
       "    </tr>\n",
       "    <tr>\n",
       "      <th>40</th>\n",
       "      <td>2015</td>\n",
       "      <td>Cinderella</td>\n",
       "      <td>0</td>\n",
       "      <td>0</td>\n",
       "      <td>0.038</td>\n",
       "    </tr>\n",
       "    <tr>\n",
       "      <th>45</th>\n",
       "      <td>2015</td>\n",
       "      <td>Pitch Perfect 2</td>\n",
       "      <td>0</td>\n",
       "      <td>0</td>\n",
       "      <td>0.038</td>\n",
       "    </tr>\n",
       "    <tr>\n",
       "      <th>46</th>\n",
       "      <td>2015</td>\n",
       "      <td>The Gift</td>\n",
       "      <td>0</td>\n",
       "      <td>0</td>\n",
       "      <td>0.038</td>\n",
       "    </tr>\n",
       "    <tr>\n",
       "      <th>60</th>\n",
       "      <td>2015</td>\n",
       "      <td>Hotel Transylvania 2</td>\n",
       "      <td>0</td>\n",
       "      <td>0</td>\n",
       "      <td>0.038</td>\n",
       "    </tr>\n",
       "  </tbody>\n",
       "</table>\n",
       "</div>"
      ],
      "text/plain": [
       "    Year                                       Movie  Oscar_nominee  \\\n",
       "0   2015  Star Wars: Episode VII - The Force Awakens              0   \n",
       "57  2015                                   The Visit              0   \n",
       "28  2015                                       Focus              0   \n",
       "33  2015           The Witch: A New-England Folktale              0   \n",
       "36  2015                      Straight Outta Compton              0   \n",
       "39  2015                             The Danish Girl              0   \n",
       "40  2015                                  Cinderella              0   \n",
       "45  2015                             Pitch Perfect 2              0   \n",
       "46  2015                                    The Gift              0   \n",
       "60  2015                        Hotel Transylvania 2              0   \n",
       "\n",
       "    Oscar_winner  Predicted Win Rate  \n",
       "0              0               0.038  \n",
       "57             0               0.038  \n",
       "28             0               0.038  \n",
       "33             0               0.038  \n",
       "36             0               0.038  \n",
       "39             0               0.038  \n",
       "40             0               0.038  \n",
       "45             0               0.038  \n",
       "46             0               0.038  \n",
       "60             0               0.038  "
      ]
     },
     "execution_count": 91,
     "metadata": {},
     "output_type": "execute_result"
    }
   ],
   "source": [
    "normalized_prediction[normalized_prediction[\"Year\"] == 2015].sort_values(\"Predicted Win Rate\", ascending=False).head(10)"
   ]
  },
  {
   "cell_type": "code",
   "execution_count": 92,
   "metadata": {},
   "outputs": [
    {
     "data": {
      "text/html": [
       "<div>\n",
       "<style scoped>\n",
       "    .dataframe tbody tr th:only-of-type {\n",
       "        vertical-align: middle;\n",
       "    }\n",
       "\n",
       "    .dataframe tbody tr th {\n",
       "        vertical-align: top;\n",
       "    }\n",
       "\n",
       "    .dataframe thead th {\n",
       "        text-align: right;\n",
       "    }\n",
       "</style>\n",
       "<table border=\"1\" class=\"dataframe\">\n",
       "  <thead>\n",
       "    <tr style=\"text-align: right;\">\n",
       "      <th></th>\n",
       "      <th>Year</th>\n",
       "      <th>Movie</th>\n",
       "      <th>Oscar_nominee</th>\n",
       "      <th>Oscar_winner</th>\n",
       "      <th>Predicted Win Rate</th>\n",
       "    </tr>\n",
       "  </thead>\n",
       "  <tbody>\n",
       "    <tr>\n",
       "      <th>100</th>\n",
       "      <td>2016</td>\n",
       "      <td>Deadpool</td>\n",
       "      <td>0</td>\n",
       "      <td>0</td>\n",
       "      <td>0.029</td>\n",
       "    </tr>\n",
       "    <tr>\n",
       "      <th>166</th>\n",
       "      <td>2016</td>\n",
       "      <td>Neighbors 2: Sorority Rising</td>\n",
       "      <td>0</td>\n",
       "      <td>0</td>\n",
       "      <td>0.029</td>\n",
       "    </tr>\n",
       "    <tr>\n",
       "      <th>130</th>\n",
       "      <td>2016</td>\n",
       "      <td>Lion</td>\n",
       "      <td>1</td>\n",
       "      <td>0</td>\n",
       "      <td>0.029</td>\n",
       "    </tr>\n",
       "    <tr>\n",
       "      <th>132</th>\n",
       "      <td>2016</td>\n",
       "      <td>Me Before You</td>\n",
       "      <td>0</td>\n",
       "      <td>0</td>\n",
       "      <td>0.029</td>\n",
       "    </tr>\n",
       "    <tr>\n",
       "      <th>134</th>\n",
       "      <td>2016</td>\n",
       "      <td>Hidden Figures</td>\n",
       "      <td>1</td>\n",
       "      <td>0</td>\n",
       "      <td>0.029</td>\n",
       "    </tr>\n",
       "    <tr>\n",
       "      <th>137</th>\n",
       "      <td>2016</td>\n",
       "      <td>The Secret Life of Pets</td>\n",
       "      <td>0</td>\n",
       "      <td>0</td>\n",
       "      <td>0.029</td>\n",
       "    </tr>\n",
       "    <tr>\n",
       "      <th>139</th>\n",
       "      <td>2016</td>\n",
       "      <td>Sausage Party</td>\n",
       "      <td>0</td>\n",
       "      <td>0</td>\n",
       "      <td>0.029</td>\n",
       "    </tr>\n",
       "    <tr>\n",
       "      <th>142</th>\n",
       "      <td>2016</td>\n",
       "      <td>Kimi no na wa.</td>\n",
       "      <td>0</td>\n",
       "      <td>0</td>\n",
       "      <td>0.029</td>\n",
       "    </tr>\n",
       "    <tr>\n",
       "      <th>153</th>\n",
       "      <td>2016</td>\n",
       "      <td>Busanhaeng</td>\n",
       "      <td>0</td>\n",
       "      <td>0</td>\n",
       "      <td>0.029</td>\n",
       "    </tr>\n",
       "    <tr>\n",
       "      <th>157</th>\n",
       "      <td>2016</td>\n",
       "      <td>Sing</td>\n",
       "      <td>0</td>\n",
       "      <td>0</td>\n",
       "      <td>0.029</td>\n",
       "    </tr>\n",
       "  </tbody>\n",
       "</table>\n",
       "</div>"
      ],
      "text/plain": [
       "     Year                         Movie  Oscar_nominee  Oscar_winner  \\\n",
       "100  2016                      Deadpool              0             0   \n",
       "166  2016  Neighbors 2: Sorority Rising              0             0   \n",
       "130  2016                          Lion              1             0   \n",
       "132  2016                 Me Before You              0             0   \n",
       "134  2016                Hidden Figures              1             0   \n",
       "137  2016       The Secret Life of Pets              0             0   \n",
       "139  2016                 Sausage Party              0             0   \n",
       "142  2016                Kimi no na wa.              0             0   \n",
       "153  2016                    Busanhaeng              0             0   \n",
       "157  2016                          Sing              0             0   \n",
       "\n",
       "     Predicted Win Rate  \n",
       "100               0.029  \n",
       "166               0.029  \n",
       "130               0.029  \n",
       "132               0.029  \n",
       "134               0.029  \n",
       "137               0.029  \n",
       "139               0.029  \n",
       "142               0.029  \n",
       "153               0.029  \n",
       "157               0.029  "
      ]
     },
     "execution_count": 92,
     "metadata": {},
     "output_type": "execute_result"
    }
   ],
   "source": [
    "normalized_prediction[normalized_prediction[\"Year\"] == 2016].sort_values(\"Predicted Win Rate\", ascending=False).head(10)"
   ]
  },
  {
   "cell_type": "code",
   "execution_count": 93,
   "metadata": {},
   "outputs": [
    {
     "data": {
      "text/html": [
       "<div>\n",
       "<style scoped>\n",
       "    .dataframe tbody tr th:only-of-type {\n",
       "        vertical-align: middle;\n",
       "    }\n",
       "\n",
       "    .dataframe tbody tr th {\n",
       "        vertical-align: top;\n",
       "    }\n",
       "\n",
       "    .dataframe thead th {\n",
       "        text-align: right;\n",
       "    }\n",
       "</style>\n",
       "<table border=\"1\" class=\"dataframe\">\n",
       "  <thead>\n",
       "    <tr style=\"text-align: right;\">\n",
       "      <th></th>\n",
       "      <th>Year</th>\n",
       "      <th>Movie</th>\n",
       "      <th>Oscar_nominee</th>\n",
       "      <th>Oscar_winner</th>\n",
       "      <th>Predicted Win Rate</th>\n",
       "    </tr>\n",
       "  </thead>\n",
       "  <tbody>\n",
       "    <tr>\n",
       "      <th>200</th>\n",
       "      <td>2017</td>\n",
       "      <td>Logan</td>\n",
       "      <td>0</td>\n",
       "      <td>0</td>\n",
       "      <td>0.026</td>\n",
       "    </tr>\n",
       "    <tr>\n",
       "      <th>263</th>\n",
       "      <td>2017</td>\n",
       "      <td>You Were Never Really Here</td>\n",
       "      <td>0</td>\n",
       "      <td>0</td>\n",
       "      <td>0.026</td>\n",
       "    </tr>\n",
       "    <tr>\n",
       "      <th>230</th>\n",
       "      <td>2017</td>\n",
       "      <td>Call Me by Your Name</td>\n",
       "      <td>1</td>\n",
       "      <td>0</td>\n",
       "      <td>0.026</td>\n",
       "    </tr>\n",
       "    <tr>\n",
       "      <th>233</th>\n",
       "      <td>2017</td>\n",
       "      <td>The Hitman's Bodyguard</td>\n",
       "      <td>0</td>\n",
       "      <td>0</td>\n",
       "      <td>0.026</td>\n",
       "    </tr>\n",
       "    <tr>\n",
       "      <th>238</th>\n",
       "      <td>2017</td>\n",
       "      <td>Darkest Hour</td>\n",
       "      <td>1</td>\n",
       "      <td>0</td>\n",
       "      <td>0.026</td>\n",
       "    </tr>\n",
       "    <tr>\n",
       "      <th>243</th>\n",
       "      <td>2017</td>\n",
       "      <td>Wonder</td>\n",
       "      <td>0</td>\n",
       "      <td>0</td>\n",
       "      <td>0.026</td>\n",
       "    </tr>\n",
       "    <tr>\n",
       "      <th>201</th>\n",
       "      <td>2017</td>\n",
       "      <td>Thor: Ragnarok</td>\n",
       "      <td>0</td>\n",
       "      <td>0</td>\n",
       "      <td>0.026</td>\n",
       "    </tr>\n",
       "    <tr>\n",
       "      <th>252</th>\n",
       "      <td>2017</td>\n",
       "      <td>The Killing of a Sacred Deer</td>\n",
       "      <td>0</td>\n",
       "      <td>0</td>\n",
       "      <td>0.026</td>\n",
       "    </tr>\n",
       "    <tr>\n",
       "      <th>253</th>\n",
       "      <td>2017</td>\n",
       "      <td>Happy Death Day</td>\n",
       "      <td>0</td>\n",
       "      <td>0</td>\n",
       "      <td>0.026</td>\n",
       "    </tr>\n",
       "    <tr>\n",
       "      <th>254</th>\n",
       "      <td>2017</td>\n",
       "      <td>Despicable Me 3</td>\n",
       "      <td>0</td>\n",
       "      <td>0</td>\n",
       "      <td>0.026</td>\n",
       "    </tr>\n",
       "  </tbody>\n",
       "</table>\n",
       "</div>"
      ],
      "text/plain": [
       "     Year                         Movie  Oscar_nominee  Oscar_winner  \\\n",
       "200  2017                         Logan              0             0   \n",
       "263  2017    You Were Never Really Here              0             0   \n",
       "230  2017          Call Me by Your Name              1             0   \n",
       "233  2017        The Hitman's Bodyguard              0             0   \n",
       "238  2017                  Darkest Hour              1             0   \n",
       "243  2017                        Wonder              0             0   \n",
       "201  2017                Thor: Ragnarok              0             0   \n",
       "252  2017  The Killing of a Sacred Deer              0             0   \n",
       "253  2017               Happy Death Day              0             0   \n",
       "254  2017               Despicable Me 3              0             0   \n",
       "\n",
       "     Predicted Win Rate  \n",
       "200               0.026  \n",
       "263               0.026  \n",
       "230               0.026  \n",
       "233               0.026  \n",
       "238               0.026  \n",
       "243               0.026  \n",
       "201               0.026  \n",
       "252               0.026  \n",
       "253               0.026  \n",
       "254               0.026  "
      ]
     },
     "execution_count": 93,
     "metadata": {},
     "output_type": "execute_result"
    }
   ],
   "source": [
    "normalized_prediction[normalized_prediction[\"Year\"] == 2017].sort_values(\"Predicted Win Rate\", ascending=False).head(10)"
   ]
  },
  {
   "cell_type": "code",
   "execution_count": 94,
   "metadata": {},
   "outputs": [
    {
     "data": {
      "text/html": [
       "<div>\n",
       "<style scoped>\n",
       "    .dataframe tbody tr th:only-of-type {\n",
       "        vertical-align: middle;\n",
       "    }\n",
       "\n",
       "    .dataframe tbody tr th {\n",
       "        vertical-align: top;\n",
       "    }\n",
       "\n",
       "    .dataframe thead th {\n",
       "        text-align: right;\n",
       "    }\n",
       "</style>\n",
       "<table border=\"1\" class=\"dataframe\">\n",
       "  <thead>\n",
       "    <tr style=\"text-align: right;\">\n",
       "      <th></th>\n",
       "      <th>Year</th>\n",
       "      <th>Movie</th>\n",
       "      <th>Oscar_nominee</th>\n",
       "      <th>Oscar_winner</th>\n",
       "      <th>Predicted Win Rate</th>\n",
       "    </tr>\n",
       "  </thead>\n",
       "  <tbody>\n",
       "    <tr>\n",
       "      <th>300</th>\n",
       "      <td>2018</td>\n",
       "      <td>Avengers: Infinity War</td>\n",
       "      <td>0</td>\n",
       "      <td>0</td>\n",
       "      <td>0.024</td>\n",
       "    </tr>\n",
       "    <tr>\n",
       "      <th>331</th>\n",
       "      <td>2018</td>\n",
       "      <td>Isle of Dogs</td>\n",
       "      <td>0</td>\n",
       "      <td>0</td>\n",
       "      <td>0.024</td>\n",
       "    </tr>\n",
       "    <tr>\n",
       "      <th>333</th>\n",
       "      <td>2018</td>\n",
       "      <td>Bumblebee</td>\n",
       "      <td>0</td>\n",
       "      <td>0</td>\n",
       "      <td>0.024</td>\n",
       "    </tr>\n",
       "    <tr>\n",
       "      <th>334</th>\n",
       "      <td>2018</td>\n",
       "      <td>Crazy Rich Asians</td>\n",
       "      <td>0</td>\n",
       "      <td>0</td>\n",
       "      <td>0.024</td>\n",
       "    </tr>\n",
       "    <tr>\n",
       "      <th>342</th>\n",
       "      <td>2018</td>\n",
       "      <td>The Ballad of Buster Scruggs</td>\n",
       "      <td>0</td>\n",
       "      <td>0</td>\n",
       "      <td>0.024</td>\n",
       "    </tr>\n",
       "    <tr>\n",
       "      <th>343</th>\n",
       "      <td>2018</td>\n",
       "      <td>The Nun</td>\n",
       "      <td>0</td>\n",
       "      <td>0</td>\n",
       "      <td>0.024</td>\n",
       "    </tr>\n",
       "    <tr>\n",
       "      <th>345</th>\n",
       "      <td>2018</td>\n",
       "      <td>Maze Runner: The Death Cure</td>\n",
       "      <td>0</td>\n",
       "      <td>0</td>\n",
       "      <td>0.024</td>\n",
       "    </tr>\n",
       "    <tr>\n",
       "      <th>301</th>\n",
       "      <td>2018</td>\n",
       "      <td>Black Panther</td>\n",
       "      <td>1</td>\n",
       "      <td>0</td>\n",
       "      <td>0.024</td>\n",
       "    </tr>\n",
       "    <tr>\n",
       "      <th>353</th>\n",
       "      <td>2018</td>\n",
       "      <td>Love, Simon</td>\n",
       "      <td>0</td>\n",
       "      <td>0</td>\n",
       "      <td>0.024</td>\n",
       "    </tr>\n",
       "    <tr>\n",
       "      <th>357</th>\n",
       "      <td>2018</td>\n",
       "      <td>To All the Boys I've Loved Before</td>\n",
       "      <td>0</td>\n",
       "      <td>0</td>\n",
       "      <td>0.024</td>\n",
       "    </tr>\n",
       "  </tbody>\n",
       "</table>\n",
       "</div>"
      ],
      "text/plain": [
       "     Year                              Movie  Oscar_nominee  Oscar_winner  \\\n",
       "300  2018             Avengers: Infinity War              0             0   \n",
       "331  2018                       Isle of Dogs              0             0   \n",
       "333  2018                          Bumblebee              0             0   \n",
       "334  2018                  Crazy Rich Asians              0             0   \n",
       "342  2018       The Ballad of Buster Scruggs              0             0   \n",
       "343  2018                            The Nun              0             0   \n",
       "345  2018        Maze Runner: The Death Cure              0             0   \n",
       "301  2018                      Black Panther              1             0   \n",
       "353  2018                        Love, Simon              0             0   \n",
       "357  2018  To All the Boys I've Loved Before              0             0   \n",
       "\n",
       "     Predicted Win Rate  \n",
       "300               0.024  \n",
       "331               0.024  \n",
       "333               0.024  \n",
       "334               0.024  \n",
       "342               0.024  \n",
       "343               0.024  \n",
       "345               0.024  \n",
       "301               0.024  \n",
       "353               0.024  \n",
       "357               0.024  "
      ]
     },
     "execution_count": 94,
     "metadata": {},
     "output_type": "execute_result"
    }
   ],
   "source": [
    "normalized_prediction[normalized_prediction[\"Year\"] == 2018].sort_values(\"Predicted Win Rate\", ascending=False).head(10)"
   ]
  },
  {
   "cell_type": "code",
   "execution_count": 95,
   "metadata": {},
   "outputs": [
    {
     "data": {
      "text/html": [
       "<div>\n",
       "<style scoped>\n",
       "    .dataframe tbody tr th:only-of-type {\n",
       "        vertical-align: middle;\n",
       "    }\n",
       "\n",
       "    .dataframe tbody tr th {\n",
       "        vertical-align: top;\n",
       "    }\n",
       "\n",
       "    .dataframe thead th {\n",
       "        text-align: right;\n",
       "    }\n",
       "</style>\n",
       "<table border=\"1\" class=\"dataframe\">\n",
       "  <thead>\n",
       "    <tr style=\"text-align: right;\">\n",
       "      <th></th>\n",
       "      <th>Year</th>\n",
       "      <th>Movie</th>\n",
       "      <th>Oscar_nominee</th>\n",
       "      <th>Oscar_winner</th>\n",
       "      <th>Predicted Win Rate</th>\n",
       "    </tr>\n",
       "  </thead>\n",
       "  <tbody>\n",
       "    <tr>\n",
       "      <th>400</th>\n",
       "      <td>2019</td>\n",
       "      <td>Joker</td>\n",
       "      <td>1</td>\n",
       "      <td>0</td>\n",
       "      <td>0.024</td>\n",
       "    </tr>\n",
       "    <tr>\n",
       "      <th>469</th>\n",
       "      <td>2019</td>\n",
       "      <td>Crawl</td>\n",
       "      <td>0</td>\n",
       "      <td>0</td>\n",
       "      <td>0.024</td>\n",
       "    </tr>\n",
       "    <tr>\n",
       "      <th>441</th>\n",
       "      <td>2019</td>\n",
       "      <td>The Gentlemen</td>\n",
       "      <td>0</td>\n",
       "      <td>0</td>\n",
       "      <td>0.024</td>\n",
       "    </tr>\n",
       "    <tr>\n",
       "      <th>443</th>\n",
       "      <td>2019</td>\n",
       "      <td>Yesterday</td>\n",
       "      <td>0</td>\n",
       "      <td>0</td>\n",
       "      <td>0.024</td>\n",
       "    </tr>\n",
       "    <tr>\n",
       "      <th>445</th>\n",
       "      <td>2019</td>\n",
       "      <td>The Two Popes</td>\n",
       "      <td>0</td>\n",
       "      <td>0</td>\n",
       "      <td>0.024</td>\n",
       "    </tr>\n",
       "    <tr>\n",
       "      <th>447</th>\n",
       "      <td>2019</td>\n",
       "      <td>Ready or Not</td>\n",
       "      <td>0</td>\n",
       "      <td>0</td>\n",
       "      <td>0.024</td>\n",
       "    </tr>\n",
       "    <tr>\n",
       "      <th>449</th>\n",
       "      <td>2019</td>\n",
       "      <td>Escape Room</td>\n",
       "      <td>0</td>\n",
       "      <td>0</td>\n",
       "      <td>0.024</td>\n",
       "    </tr>\n",
       "    <tr>\n",
       "      <th>401</th>\n",
       "      <td>2019</td>\n",
       "      <td>Avengers: Endgame</td>\n",
       "      <td>0</td>\n",
       "      <td>0</td>\n",
       "      <td>0.024</td>\n",
       "    </tr>\n",
       "    <tr>\n",
       "      <th>453</th>\n",
       "      <td>2019</td>\n",
       "      <td>The King</td>\n",
       "      <td>0</td>\n",
       "      <td>0</td>\n",
       "      <td>0.024</td>\n",
       "    </tr>\n",
       "    <tr>\n",
       "      <th>454</th>\n",
       "      <td>2019</td>\n",
       "      <td>Brightburn</td>\n",
       "      <td>0</td>\n",
       "      <td>0</td>\n",
       "      <td>0.024</td>\n",
       "    </tr>\n",
       "  </tbody>\n",
       "</table>\n",
       "</div>"
      ],
      "text/plain": [
       "     Year              Movie  Oscar_nominee  Oscar_winner  Predicted Win Rate\n",
       "400  2019              Joker              1             0               0.024\n",
       "469  2019              Crawl              0             0               0.024\n",
       "441  2019      The Gentlemen              0             0               0.024\n",
       "443  2019          Yesterday              0             0               0.024\n",
       "445  2019      The Two Popes              0             0               0.024\n",
       "447  2019       Ready or Not              0             0               0.024\n",
       "449  2019        Escape Room              0             0               0.024\n",
       "401  2019  Avengers: Endgame              0             0               0.024\n",
       "453  2019           The King              0             0               0.024\n",
       "454  2019         Brightburn              0             0               0.024"
      ]
     },
     "execution_count": 95,
     "metadata": {},
     "output_type": "execute_result"
    }
   ],
   "source": [
    "normalized_prediction[normalized_prediction[\"Year\"] == 2019].sort_values(\"Predicted Win Rate\", ascending=False).head(10)"
   ]
  },
  {
   "cell_type": "markdown",
   "metadata": {},
   "source": [
    "## #3.2 - Gaussian Naive Bayes"
   ]
  },
  {
   "cell_type": "code",
   "execution_count": 96,
   "metadata": {},
   "outputs": [],
   "source": [
    "GNB = GaussianNB()\n",
    "\n",
    "my_GNB = GNB.fit(X_train, y_train)"
   ]
  },
  {
   "cell_type": "code",
   "execution_count": 97,
   "metadata": {},
   "outputs": [
    {
     "data": {
      "text/html": [
       "<div>\n",
       "<style scoped>\n",
       "    .dataframe tbody tr th:only-of-type {\n",
       "        vertical-align: middle;\n",
       "    }\n",
       "\n",
       "    .dataframe tbody tr th {\n",
       "        vertical-align: top;\n",
       "    }\n",
       "\n",
       "    .dataframe thead th {\n",
       "        text-align: right;\n",
       "    }\n",
       "</style>\n",
       "<table border=\"1\" class=\"dataframe\">\n",
       "  <thead>\n",
       "    <tr style=\"text-align: right;\">\n",
       "      <th></th>\n",
       "      <th>Year</th>\n",
       "      <th>Movie</th>\n",
       "      <th>Oscar_nominee</th>\n",
       "      <th>Oscar_winner</th>\n",
       "      <th>Predicted Win Rate</th>\n",
       "    </tr>\n",
       "  </thead>\n",
       "  <tbody>\n",
       "    <tr>\n",
       "      <th>0</th>\n",
       "      <td>2015</td>\n",
       "      <td>Star Wars: Episode VII - The Force Awakens</td>\n",
       "      <td>0</td>\n",
       "      <td>0</td>\n",
       "      <td>9.999999e-01</td>\n",
       "    </tr>\n",
       "    <tr>\n",
       "      <th>1</th>\n",
       "      <td>2015</td>\n",
       "      <td>Mad Max: Fury Road</td>\n",
       "      <td>1</td>\n",
       "      <td>0</td>\n",
       "      <td>2.480482e-02</td>\n",
       "    </tr>\n",
       "    <tr>\n",
       "      <th>2</th>\n",
       "      <td>2015</td>\n",
       "      <td>The Martian</td>\n",
       "      <td>1</td>\n",
       "      <td>0</td>\n",
       "      <td>5.887907e-01</td>\n",
       "    </tr>\n",
       "    <tr>\n",
       "      <th>3</th>\n",
       "      <td>2015</td>\n",
       "      <td>Avengers: Age of Ultron</td>\n",
       "      <td>0</td>\n",
       "      <td>0</td>\n",
       "      <td>2.769628e-09</td>\n",
       "    </tr>\n",
       "    <tr>\n",
       "      <th>4</th>\n",
       "      <td>2015</td>\n",
       "      <td>The Revenant</td>\n",
       "      <td>1</td>\n",
       "      <td>0</td>\n",
       "      <td>3.902907e-02</td>\n",
       "    </tr>\n",
       "  </tbody>\n",
       "</table>\n",
       "</div>"
      ],
      "text/plain": [
       "   Year                                       Movie  Oscar_nominee  \\\n",
       "0  2015  Star Wars: Episode VII - The Force Awakens              0   \n",
       "1  2015                          Mad Max: Fury Road              1   \n",
       "2  2015                                 The Martian              1   \n",
       "3  2015                     Avengers: Age of Ultron              0   \n",
       "4  2015                                The Revenant              1   \n",
       "\n",
       "   Oscar_winner  Predicted Win Rate  \n",
       "0             0        9.999999e-01  \n",
       "1             0        2.480482e-02  \n",
       "2             0        5.887907e-01  \n",
       "3             0        2.769628e-09  \n",
       "4             0        3.902907e-02  "
      ]
     },
     "execution_count": 97,
     "metadata": {},
     "output_type": "execute_result"
    }
   ],
   "source": [
    "pred_GNB = my_GNB.predict_proba(X_test)[:, 1]\n",
    "\n",
    "GNB_prediction = pd.DataFrame(year, columns=[\"Year\"])\n",
    "GNB_prediction[\"Movie\"] = movie_name\n",
    "GNB_prediction[\"Oscar_nominee\"] = oscar_n\n",
    "GNB_prediction[\"Oscar_winner\"] = oscar_w\n",
    "GNB_prediction['Predicted Win Rate'] = pred_GNB\n",
    "\n",
    "GNB_prediction.head(5)"
   ]
  },
  {
   "cell_type": "code",
   "execution_count": 98,
   "metadata": {},
   "outputs": [],
   "source": [
    "normalized_prediction = GNB_prediction.copy()\n",
    "\n",
    "for index, row in normalized_prediction.iterrows():\n",
    "    normalized_prediction.loc[index, \"Predicted Win Rate\"] = \\\n",
    "        (row[\"Predicted Win Rate\"] / GNB_prediction[\"Predicted Win Rate\"][GNB_prediction[\"Year\"] == row[\"Year\"]].sum()).round(3)"
   ]
  },
  {
   "cell_type": "code",
   "execution_count": 99,
   "metadata": {},
   "outputs": [
    {
     "data": {
      "text/html": [
       "<div>\n",
       "<style scoped>\n",
       "    .dataframe tbody tr th:only-of-type {\n",
       "        vertical-align: middle;\n",
       "    }\n",
       "\n",
       "    .dataframe tbody tr th {\n",
       "        vertical-align: top;\n",
       "    }\n",
       "\n",
       "    .dataframe thead th {\n",
       "        text-align: right;\n",
       "    }\n",
       "</style>\n",
       "<table border=\"1\" class=\"dataframe\">\n",
       "  <thead>\n",
       "    <tr style=\"text-align: right;\">\n",
       "      <th></th>\n",
       "      <th>Year</th>\n",
       "      <th>Movie</th>\n",
       "      <th>Oscar_nominee</th>\n",
       "      <th>Oscar_winner</th>\n",
       "      <th>Predicted Win Rate</th>\n",
       "    </tr>\n",
       "  </thead>\n",
       "  <tbody>\n",
       "    <tr>\n",
       "      <th>0</th>\n",
       "      <td>2015</td>\n",
       "      <td>Star Wars: Episode VII - The Force Awakens</td>\n",
       "      <td>0</td>\n",
       "      <td>0</td>\n",
       "      <td>0.205</td>\n",
       "    </tr>\n",
       "    <tr>\n",
       "      <th>6</th>\n",
       "      <td>2015</td>\n",
       "      <td>Jurassic World</td>\n",
       "      <td>0</td>\n",
       "      <td>0</td>\n",
       "      <td>0.205</td>\n",
       "    </tr>\n",
       "    <tr>\n",
       "      <th>12</th>\n",
       "      <td>2015</td>\n",
       "      <td>Fast &amp; Furious 7</td>\n",
       "      <td>0</td>\n",
       "      <td>0</td>\n",
       "      <td>0.205</td>\n",
       "    </tr>\n",
       "    <tr>\n",
       "      <th>28</th>\n",
       "      <td>2015</td>\n",
       "      <td>Focus</td>\n",
       "      <td>0</td>\n",
       "      <td>0</td>\n",
       "      <td>0.204</td>\n",
       "    </tr>\n",
       "    <tr>\n",
       "      <th>2</th>\n",
       "      <td>2015</td>\n",
       "      <td>The Martian</td>\n",
       "      <td>1</td>\n",
       "      <td>0</td>\n",
       "      <td>0.121</td>\n",
       "    </tr>\n",
       "    <tr>\n",
       "      <th>16</th>\n",
       "      <td>2015</td>\n",
       "      <td>Fifty Shades of Grey</td>\n",
       "      <td>0</td>\n",
       "      <td>0</td>\n",
       "      <td>0.015</td>\n",
       "    </tr>\n",
       "    <tr>\n",
       "      <th>5</th>\n",
       "      <td>2015</td>\n",
       "      <td>Inside Out</td>\n",
       "      <td>0</td>\n",
       "      <td>0</td>\n",
       "      <td>0.009</td>\n",
       "    </tr>\n",
       "    <tr>\n",
       "      <th>4</th>\n",
       "      <td>2015</td>\n",
       "      <td>The Revenant</td>\n",
       "      <td>1</td>\n",
       "      <td>0</td>\n",
       "      <td>0.008</td>\n",
       "    </tr>\n",
       "    <tr>\n",
       "      <th>1</th>\n",
       "      <td>2015</td>\n",
       "      <td>Mad Max: Fury Road</td>\n",
       "      <td>1</td>\n",
       "      <td>0</td>\n",
       "      <td>0.005</td>\n",
       "    </tr>\n",
       "    <tr>\n",
       "      <th>7</th>\n",
       "      <td>2015</td>\n",
       "      <td>Ant-Man</td>\n",
       "      <td>0</td>\n",
       "      <td>0</td>\n",
       "      <td>0.003</td>\n",
       "    </tr>\n",
       "  </tbody>\n",
       "</table>\n",
       "</div>"
      ],
      "text/plain": [
       "    Year                                       Movie  Oscar_nominee  \\\n",
       "0   2015  Star Wars: Episode VII - The Force Awakens              0   \n",
       "6   2015                              Jurassic World              0   \n",
       "12  2015                            Fast & Furious 7              0   \n",
       "28  2015                                       Focus              0   \n",
       "2   2015                                 The Martian              1   \n",
       "16  2015                        Fifty Shades of Grey              0   \n",
       "5   2015                                  Inside Out              0   \n",
       "4   2015                                The Revenant              1   \n",
       "1   2015                          Mad Max: Fury Road              1   \n",
       "7   2015                                     Ant-Man              0   \n",
       "\n",
       "    Oscar_winner  Predicted Win Rate  \n",
       "0              0               0.205  \n",
       "6              0               0.205  \n",
       "12             0               0.205  \n",
       "28             0               0.204  \n",
       "2              0               0.121  \n",
       "16             0               0.015  \n",
       "5              0               0.009  \n",
       "4              0               0.008  \n",
       "1              0               0.005  \n",
       "7              0               0.003  "
      ]
     },
     "execution_count": 99,
     "metadata": {},
     "output_type": "execute_result"
    }
   ],
   "source": [
    "normalized_prediction[normalized_prediction[\"Year\"] == 2015].sort_values(\"Predicted Win Rate\", ascending=False).head(10)"
   ]
  },
  {
   "cell_type": "code",
   "execution_count": 100,
   "metadata": {},
   "outputs": [
    {
     "data": {
      "text/html": [
       "<div>\n",
       "<style scoped>\n",
       "    .dataframe tbody tr th:only-of-type {\n",
       "        vertical-align: middle;\n",
       "    }\n",
       "\n",
       "    .dataframe tbody tr th {\n",
       "        vertical-align: top;\n",
       "    }\n",
       "\n",
       "    .dataframe thead th {\n",
       "        text-align: right;\n",
       "    }\n",
       "</style>\n",
       "<table border=\"1\" class=\"dataframe\">\n",
       "  <thead>\n",
       "    <tr style=\"text-align: right;\">\n",
       "      <th></th>\n",
       "      <th>Year</th>\n",
       "      <th>Movie</th>\n",
       "      <th>Oscar_nominee</th>\n",
       "      <th>Oscar_winner</th>\n",
       "      <th>Predicted Win Rate</th>\n",
       "    </tr>\n",
       "  </thead>\n",
       "  <tbody>\n",
       "    <tr>\n",
       "      <th>100</th>\n",
       "      <td>2016</td>\n",
       "      <td>Deadpool</td>\n",
       "      <td>0</td>\n",
       "      <td>0</td>\n",
       "      <td>0.409</td>\n",
       "    </tr>\n",
       "    <tr>\n",
       "      <th>137</th>\n",
       "      <td>2016</td>\n",
       "      <td>The Secret Life of Pets</td>\n",
       "      <td>0</td>\n",
       "      <td>0</td>\n",
       "      <td>0.252</td>\n",
       "    </tr>\n",
       "    <tr>\n",
       "      <th>108</th>\n",
       "      <td>2016</td>\n",
       "      <td>Zootopia</td>\n",
       "      <td>0</td>\n",
       "      <td>0</td>\n",
       "      <td>0.203</td>\n",
       "    </tr>\n",
       "    <tr>\n",
       "      <th>107</th>\n",
       "      <td>2016</td>\n",
       "      <td>La La Land</td>\n",
       "      <td>1</td>\n",
       "      <td>0</td>\n",
       "      <td>0.028</td>\n",
       "    </tr>\n",
       "    <tr>\n",
       "      <th>106</th>\n",
       "      <td>2016</td>\n",
       "      <td>Rogue One</td>\n",
       "      <td>0</td>\n",
       "      <td>0</td>\n",
       "      <td>0.024</td>\n",
       "    </tr>\n",
       "    <tr>\n",
       "      <th>157</th>\n",
       "      <td>2016</td>\n",
       "      <td>Sing</td>\n",
       "      <td>0</td>\n",
       "      <td>0</td>\n",
       "      <td>0.020</td>\n",
       "    </tr>\n",
       "    <tr>\n",
       "      <th>105</th>\n",
       "      <td>2016</td>\n",
       "      <td>Arrival</td>\n",
       "      <td>1</td>\n",
       "      <td>0</td>\n",
       "      <td>0.009</td>\n",
       "    </tr>\n",
       "    <tr>\n",
       "      <th>117</th>\n",
       "      <td>2016</td>\n",
       "      <td>The Jungle Book</td>\n",
       "      <td>0</td>\n",
       "      <td>0</td>\n",
       "      <td>0.008</td>\n",
       "    </tr>\n",
       "    <tr>\n",
       "      <th>103</th>\n",
       "      <td>2016</td>\n",
       "      <td>Suicide Squad</td>\n",
       "      <td>0</td>\n",
       "      <td>0</td>\n",
       "      <td>0.004</td>\n",
       "    </tr>\n",
       "    <tr>\n",
       "      <th>110</th>\n",
       "      <td>2016</td>\n",
       "      <td>Split</td>\n",
       "      <td>0</td>\n",
       "      <td>0</td>\n",
       "      <td>0.004</td>\n",
       "    </tr>\n",
       "  </tbody>\n",
       "</table>\n",
       "</div>"
      ],
      "text/plain": [
       "     Year                    Movie  Oscar_nominee  Oscar_winner  \\\n",
       "100  2016                 Deadpool              0             0   \n",
       "137  2016  The Secret Life of Pets              0             0   \n",
       "108  2016                 Zootopia              0             0   \n",
       "107  2016               La La Land              1             0   \n",
       "106  2016                Rogue One              0             0   \n",
       "157  2016                     Sing              0             0   \n",
       "105  2016                  Arrival              1             0   \n",
       "117  2016          The Jungle Book              0             0   \n",
       "103  2016            Suicide Squad              0             0   \n",
       "110  2016                    Split              0             0   \n",
       "\n",
       "     Predicted Win Rate  \n",
       "100               0.409  \n",
       "137               0.252  \n",
       "108               0.203  \n",
       "107               0.028  \n",
       "106               0.024  \n",
       "157               0.020  \n",
       "105               0.009  \n",
       "117               0.008  \n",
       "103               0.004  \n",
       "110               0.004  "
      ]
     },
     "execution_count": 100,
     "metadata": {},
     "output_type": "execute_result"
    }
   ],
   "source": [
    "normalized_prediction[normalized_prediction[\"Year\"] == 2016].sort_values(\"Predicted Win Rate\", ascending=False).head(10)"
   ]
  },
  {
   "cell_type": "code",
   "execution_count": 101,
   "metadata": {},
   "outputs": [
    {
     "data": {
      "text/html": [
       "<div>\n",
       "<style scoped>\n",
       "    .dataframe tbody tr th:only-of-type {\n",
       "        vertical-align: middle;\n",
       "    }\n",
       "\n",
       "    .dataframe tbody tr th {\n",
       "        vertical-align: top;\n",
       "    }\n",
       "\n",
       "    .dataframe thead th {\n",
       "        text-align: right;\n",
       "    }\n",
       "</style>\n",
       "<table border=\"1\" class=\"dataframe\">\n",
       "  <thead>\n",
       "    <tr style=\"text-align: right;\">\n",
       "      <th></th>\n",
       "      <th>Year</th>\n",
       "      <th>Movie</th>\n",
       "      <th>Oscar_nominee</th>\n",
       "      <th>Oscar_winner</th>\n",
       "      <th>Predicted Win Rate</th>\n",
       "    </tr>\n",
       "  </thead>\n",
       "  <tbody>\n",
       "    <tr>\n",
       "      <th>254</th>\n",
       "      <td>2017</td>\n",
       "      <td>Despicable Me 3</td>\n",
       "      <td>0</td>\n",
       "      <td>0</td>\n",
       "      <td>0.261</td>\n",
       "    </tr>\n",
       "    <tr>\n",
       "      <th>217</th>\n",
       "      <td>2017</td>\n",
       "      <td>Beauty and the Beast</td>\n",
       "      <td>1</td>\n",
       "      <td>0</td>\n",
       "      <td>0.256</td>\n",
       "    </tr>\n",
       "    <tr>\n",
       "      <th>216</th>\n",
       "      <td>2017</td>\n",
       "      <td>Jumanji: Welcome to the Jungle</td>\n",
       "      <td>0</td>\n",
       "      <td>0</td>\n",
       "      <td>0.234</td>\n",
       "    </tr>\n",
       "    <tr>\n",
       "      <th>208</th>\n",
       "      <td>2017</td>\n",
       "      <td>It</td>\n",
       "      <td>0</td>\n",
       "      <td>0</td>\n",
       "      <td>0.146</td>\n",
       "    </tr>\n",
       "    <tr>\n",
       "      <th>204</th>\n",
       "      <td>2017</td>\n",
       "      <td>Wonder Woman</td>\n",
       "      <td>0</td>\n",
       "      <td>0</td>\n",
       "      <td>0.036</td>\n",
       "    </tr>\n",
       "    <tr>\n",
       "      <th>200</th>\n",
       "      <td>2017</td>\n",
       "      <td>Logan</td>\n",
       "      <td>0</td>\n",
       "      <td>0</td>\n",
       "      <td>0.023</td>\n",
       "    </tr>\n",
       "    <tr>\n",
       "      <th>206</th>\n",
       "      <td>2017</td>\n",
       "      <td>Spider-Man: Homecoming</td>\n",
       "      <td>0</td>\n",
       "      <td>0</td>\n",
       "      <td>0.007</td>\n",
       "    </tr>\n",
       "    <tr>\n",
       "      <th>201</th>\n",
       "      <td>2017</td>\n",
       "      <td>Thor: Ragnarok</td>\n",
       "      <td>0</td>\n",
       "      <td>0</td>\n",
       "      <td>0.005</td>\n",
       "    </tr>\n",
       "    <tr>\n",
       "      <th>207</th>\n",
       "      <td>2017</td>\n",
       "      <td>Get Out</td>\n",
       "      <td>1</td>\n",
       "      <td>0</td>\n",
       "      <td>0.004</td>\n",
       "    </tr>\n",
       "    <tr>\n",
       "      <th>210</th>\n",
       "      <td>2017</td>\n",
       "      <td>Baby Driver</td>\n",
       "      <td>0</td>\n",
       "      <td>0</td>\n",
       "      <td>0.002</td>\n",
       "    </tr>\n",
       "  </tbody>\n",
       "</table>\n",
       "</div>"
      ],
      "text/plain": [
       "     Year                           Movie  Oscar_nominee  Oscar_winner  \\\n",
       "254  2017                 Despicable Me 3              0             0   \n",
       "217  2017            Beauty and the Beast              1             0   \n",
       "216  2017  Jumanji: Welcome to the Jungle              0             0   \n",
       "208  2017                              It              0             0   \n",
       "204  2017                    Wonder Woman              0             0   \n",
       "200  2017                           Logan              0             0   \n",
       "206  2017          Spider-Man: Homecoming              0             0   \n",
       "201  2017                  Thor: Ragnarok              0             0   \n",
       "207  2017                         Get Out              1             0   \n",
       "210  2017                     Baby Driver              0             0   \n",
       "\n",
       "     Predicted Win Rate  \n",
       "254               0.261  \n",
       "217               0.256  \n",
       "216               0.234  \n",
       "208               0.146  \n",
       "204               0.036  \n",
       "200               0.023  \n",
       "206               0.007  \n",
       "201               0.005  \n",
       "207               0.004  \n",
       "210               0.002  "
      ]
     },
     "execution_count": 101,
     "metadata": {},
     "output_type": "execute_result"
    }
   ],
   "source": [
    "normalized_prediction[normalized_prediction[\"Year\"] == 2017].sort_values(\"Predicted Win Rate\", ascending=False).head(10)"
   ]
  },
  {
   "cell_type": "code",
   "execution_count": 102,
   "metadata": {},
   "outputs": [
    {
     "data": {
      "text/html": [
       "<div>\n",
       "<style scoped>\n",
       "    .dataframe tbody tr th:only-of-type {\n",
       "        vertical-align: middle;\n",
       "    }\n",
       "\n",
       "    .dataframe tbody tr th {\n",
       "        vertical-align: top;\n",
       "    }\n",
       "\n",
       "    .dataframe thead th {\n",
       "        text-align: right;\n",
       "    }\n",
       "</style>\n",
       "<table border=\"1\" class=\"dataframe\">\n",
       "  <thead>\n",
       "    <tr style=\"text-align: right;\">\n",
       "      <th></th>\n",
       "      <th>Year</th>\n",
       "      <th>Movie</th>\n",
       "      <th>Oscar_nominee</th>\n",
       "      <th>Oscar_winner</th>\n",
       "      <th>Predicted Win Rate</th>\n",
       "    </tr>\n",
       "  </thead>\n",
       "  <tbody>\n",
       "    <tr>\n",
       "      <th>300</th>\n",
       "      <td>2018</td>\n",
       "      <td>Avengers: Infinity War</td>\n",
       "      <td>0</td>\n",
       "      <td>0</td>\n",
       "      <td>0.185</td>\n",
       "    </tr>\n",
       "    <tr>\n",
       "      <th>301</th>\n",
       "      <td>2018</td>\n",
       "      <td>Black Panther</td>\n",
       "      <td>1</td>\n",
       "      <td>0</td>\n",
       "      <td>0.174</td>\n",
       "    </tr>\n",
       "    <tr>\n",
       "      <th>316</th>\n",
       "      <td>2018</td>\n",
       "      <td>Jurassic World: Fallen Kingdom</td>\n",
       "      <td>0</td>\n",
       "      <td>0</td>\n",
       "      <td>0.171</td>\n",
       "    </tr>\n",
       "    <tr>\n",
       "      <th>303</th>\n",
       "      <td>2018</td>\n",
       "      <td>Bohemian Rhapsody</td>\n",
       "      <td>1</td>\n",
       "      <td>0</td>\n",
       "      <td>0.171</td>\n",
       "    </tr>\n",
       "    <tr>\n",
       "      <th>306</th>\n",
       "      <td>2018</td>\n",
       "      <td>Aquaman</td>\n",
       "      <td>0</td>\n",
       "      <td>0</td>\n",
       "      <td>0.130</td>\n",
       "    </tr>\n",
       "    <tr>\n",
       "      <th>302</th>\n",
       "      <td>2018</td>\n",
       "      <td>Deadpool 2</td>\n",
       "      <td>0</td>\n",
       "      <td>0</td>\n",
       "      <td>0.058</td>\n",
       "    </tr>\n",
       "    <tr>\n",
       "      <th>307</th>\n",
       "      <td>2018</td>\n",
       "      <td>Venom</td>\n",
       "      <td>0</td>\n",
       "      <td>0</td>\n",
       "      <td>0.051</td>\n",
       "    </tr>\n",
       "    <tr>\n",
       "      <th>317</th>\n",
       "      <td>2018</td>\n",
       "      <td>Incredibles 2</td>\n",
       "      <td>0</td>\n",
       "      <td>0</td>\n",
       "      <td>0.030</td>\n",
       "    </tr>\n",
       "    <tr>\n",
       "      <th>310</th>\n",
       "      <td>2018</td>\n",
       "      <td>A Star Is Born</td>\n",
       "      <td>1</td>\n",
       "      <td>0</td>\n",
       "      <td>0.005</td>\n",
       "    </tr>\n",
       "    <tr>\n",
       "      <th>304</th>\n",
       "      <td>2018</td>\n",
       "      <td>A Quiet Place</td>\n",
       "      <td>0</td>\n",
       "      <td>0</td>\n",
       "      <td>0.003</td>\n",
       "    </tr>\n",
       "  </tbody>\n",
       "</table>\n",
       "</div>"
      ],
      "text/plain": [
       "     Year                           Movie  Oscar_nominee  Oscar_winner  \\\n",
       "300  2018          Avengers: Infinity War              0             0   \n",
       "301  2018                   Black Panther              1             0   \n",
       "316  2018  Jurassic World: Fallen Kingdom              0             0   \n",
       "303  2018               Bohemian Rhapsody              1             0   \n",
       "306  2018                         Aquaman              0             0   \n",
       "302  2018                      Deadpool 2              0             0   \n",
       "307  2018                           Venom              0             0   \n",
       "317  2018                   Incredibles 2              0             0   \n",
       "310  2018                  A Star Is Born              1             0   \n",
       "304  2018                   A Quiet Place              0             0   \n",
       "\n",
       "     Predicted Win Rate  \n",
       "300               0.185  \n",
       "301               0.174  \n",
       "316               0.171  \n",
       "303               0.171  \n",
       "306               0.130  \n",
       "302               0.058  \n",
       "307               0.051  \n",
       "317               0.030  \n",
       "310               0.005  \n",
       "304               0.003  "
      ]
     },
     "execution_count": 102,
     "metadata": {},
     "output_type": "execute_result"
    }
   ],
   "source": [
    "normalized_prediction[normalized_prediction[\"Year\"] == 2018].sort_values(\"Predicted Win Rate\", ascending=False).head(10)"
   ]
  },
  {
   "cell_type": "code",
   "execution_count": 103,
   "metadata": {},
   "outputs": [
    {
     "data": {
      "text/html": [
       "<div>\n",
       "<style scoped>\n",
       "    .dataframe tbody tr th:only-of-type {\n",
       "        vertical-align: middle;\n",
       "    }\n",
       "\n",
       "    .dataframe tbody tr th {\n",
       "        vertical-align: top;\n",
       "    }\n",
       "\n",
       "    .dataframe thead th {\n",
       "        text-align: right;\n",
       "    }\n",
       "</style>\n",
       "<table border=\"1\" class=\"dataframe\">\n",
       "  <thead>\n",
       "    <tr style=\"text-align: right;\">\n",
       "      <th></th>\n",
       "      <th>Year</th>\n",
       "      <th>Movie</th>\n",
       "      <th>Oscar_nominee</th>\n",
       "      <th>Oscar_winner</th>\n",
       "      <th>Predicted Win Rate</th>\n",
       "    </tr>\n",
       "  </thead>\n",
       "  <tbody>\n",
       "    <tr>\n",
       "      <th>400</th>\n",
       "      <td>2019</td>\n",
       "      <td>Joker</td>\n",
       "      <td>1</td>\n",
       "      <td>0</td>\n",
       "      <td>0.220</td>\n",
       "    </tr>\n",
       "    <tr>\n",
       "      <th>435</th>\n",
       "      <td>2019</td>\n",
       "      <td>Frozen II</td>\n",
       "      <td>0</td>\n",
       "      <td>0</td>\n",
       "      <td>0.220</td>\n",
       "    </tr>\n",
       "    <tr>\n",
       "      <th>401</th>\n",
       "      <td>2019</td>\n",
       "      <td>Avengers: Endgame</td>\n",
       "      <td>0</td>\n",
       "      <td>0</td>\n",
       "      <td>0.220</td>\n",
       "    </tr>\n",
       "    <tr>\n",
       "      <th>406</th>\n",
       "      <td>2019</td>\n",
       "      <td>Spider-Man: Far from Home</td>\n",
       "      <td>0</td>\n",
       "      <td>0</td>\n",
       "      <td>0.121</td>\n",
       "    </tr>\n",
       "    <tr>\n",
       "      <th>403</th>\n",
       "      <td>2019</td>\n",
       "      <td>Captain Marvel</td>\n",
       "      <td>0</td>\n",
       "      <td>0</td>\n",
       "      <td>0.091</td>\n",
       "    </tr>\n",
       "    <tr>\n",
       "      <th>419</th>\n",
       "      <td>2019</td>\n",
       "      <td>The Lion King</td>\n",
       "      <td>0</td>\n",
       "      <td>0</td>\n",
       "      <td>0.089</td>\n",
       "    </tr>\n",
       "    <tr>\n",
       "      <th>428</th>\n",
       "      <td>2019</td>\n",
       "      <td>Jumanji: The Next Level</td>\n",
       "      <td>0</td>\n",
       "      <td>0</td>\n",
       "      <td>0.009</td>\n",
       "    </tr>\n",
       "    <tr>\n",
       "      <th>414</th>\n",
       "      <td>2019</td>\n",
       "      <td>Aladdin</td>\n",
       "      <td>0</td>\n",
       "      <td>0</td>\n",
       "      <td>0.007</td>\n",
       "    </tr>\n",
       "    <tr>\n",
       "      <th>402</th>\n",
       "      <td>2019</td>\n",
       "      <td>Once Upon a Time in Hollywood</td>\n",
       "      <td>1</td>\n",
       "      <td>0</td>\n",
       "      <td>0.002</td>\n",
       "    </tr>\n",
       "    <tr>\n",
       "      <th>421</th>\n",
       "      <td>2019</td>\n",
       "      <td>It Chapter Two</td>\n",
       "      <td>0</td>\n",
       "      <td>0</td>\n",
       "      <td>0.002</td>\n",
       "    </tr>\n",
       "  </tbody>\n",
       "</table>\n",
       "</div>"
      ],
      "text/plain": [
       "     Year                          Movie  Oscar_nominee  Oscar_winner  \\\n",
       "400  2019                          Joker              1             0   \n",
       "435  2019                      Frozen II              0             0   \n",
       "401  2019              Avengers: Endgame              0             0   \n",
       "406  2019      Spider-Man: Far from Home              0             0   \n",
       "403  2019                 Captain Marvel              0             0   \n",
       "419  2019                  The Lion King              0             0   \n",
       "428  2019        Jumanji: The Next Level              0             0   \n",
       "414  2019                        Aladdin              0             0   \n",
       "402  2019  Once Upon a Time in Hollywood              1             0   \n",
       "421  2019                 It Chapter Two              0             0   \n",
       "\n",
       "     Predicted Win Rate  \n",
       "400               0.220  \n",
       "435               0.220  \n",
       "401               0.220  \n",
       "406               0.121  \n",
       "403               0.091  \n",
       "419               0.089  \n",
       "428               0.009  \n",
       "414               0.007  \n",
       "402               0.002  \n",
       "421               0.002  "
      ]
     },
     "execution_count": 103,
     "metadata": {},
     "output_type": "execute_result"
    }
   ],
   "source": [
    "normalized_prediction[normalized_prediction[\"Year\"] == 2019].sort_values(\"Predicted Win Rate\", ascending=False).head(10)"
   ]
  },
  {
   "cell_type": "markdown",
   "metadata": {},
   "source": [
    "## #3.3 - Bernoulli Naive Bayes"
   ]
  },
  {
   "cell_type": "code",
   "execution_count": 104,
   "metadata": {},
   "outputs": [],
   "source": [
    "BNB = BernoulliNB()\n",
    "\n",
    "my_BNB = BNB.fit(X_train, y_train)"
   ]
  },
  {
   "cell_type": "code",
   "execution_count": 105,
   "metadata": {},
   "outputs": [
    {
     "data": {
      "text/html": [
       "<div>\n",
       "<style scoped>\n",
       "    .dataframe tbody tr th:only-of-type {\n",
       "        vertical-align: middle;\n",
       "    }\n",
       "\n",
       "    .dataframe tbody tr th {\n",
       "        vertical-align: top;\n",
       "    }\n",
       "\n",
       "    .dataframe thead th {\n",
       "        text-align: right;\n",
       "    }\n",
       "</style>\n",
       "<table border=\"1\" class=\"dataframe\">\n",
       "  <thead>\n",
       "    <tr style=\"text-align: right;\">\n",
       "      <th></th>\n",
       "      <th>Year</th>\n",
       "      <th>Movie</th>\n",
       "      <th>Oscar_nominee</th>\n",
       "      <th>Oscar_winner</th>\n",
       "      <th>Predicted Win Rate</th>\n",
       "    </tr>\n",
       "  </thead>\n",
       "  <tbody>\n",
       "    <tr>\n",
       "      <th>0</th>\n",
       "      <td>2015</td>\n",
       "      <td>Star Wars: Episode VII - The Force Awakens</td>\n",
       "      <td>0</td>\n",
       "      <td>0</td>\n",
       "      <td>5.267954e-12</td>\n",
       "    </tr>\n",
       "    <tr>\n",
       "      <th>1</th>\n",
       "      <td>2015</td>\n",
       "      <td>Mad Max: Fury Road</td>\n",
       "      <td>1</td>\n",
       "      <td>0</td>\n",
       "      <td>8.395476e-02</td>\n",
       "    </tr>\n",
       "    <tr>\n",
       "      <th>2</th>\n",
       "      <td>2015</td>\n",
       "      <td>The Martian</td>\n",
       "      <td>1</td>\n",
       "      <td>0</td>\n",
       "      <td>8.547500e-02</td>\n",
       "    </tr>\n",
       "    <tr>\n",
       "      <th>3</th>\n",
       "      <td>2015</td>\n",
       "      <td>Avengers: Age of Ultron</td>\n",
       "      <td>0</td>\n",
       "      <td>0</td>\n",
       "      <td>2.953273e-14</td>\n",
       "    </tr>\n",
       "    <tr>\n",
       "      <th>4</th>\n",
       "      <td>2015</td>\n",
       "      <td>The Revenant</td>\n",
       "      <td>1</td>\n",
       "      <td>0</td>\n",
       "      <td>1.000000e+00</td>\n",
       "    </tr>\n",
       "  </tbody>\n",
       "</table>\n",
       "</div>"
      ],
      "text/plain": [
       "   Year                                       Movie  Oscar_nominee  \\\n",
       "0  2015  Star Wars: Episode VII - The Force Awakens              0   \n",
       "1  2015                          Mad Max: Fury Road              1   \n",
       "2  2015                                 The Martian              1   \n",
       "3  2015                     Avengers: Age of Ultron              0   \n",
       "4  2015                                The Revenant              1   \n",
       "\n",
       "   Oscar_winner  Predicted Win Rate  \n",
       "0             0        5.267954e-12  \n",
       "1             0        8.395476e-02  \n",
       "2             0        8.547500e-02  \n",
       "3             0        2.953273e-14  \n",
       "4             0        1.000000e+00  "
      ]
     },
     "execution_count": 105,
     "metadata": {},
     "output_type": "execute_result"
    }
   ],
   "source": [
    "pred_BNB = my_BNB.predict_proba(X_test)[:, 1]\n",
    "\n",
    "BNB_prediction = pd.DataFrame(year, columns=[\"Year\"])\n",
    "BNB_prediction[\"Movie\"] = movie_name\n",
    "BNB_prediction[\"Oscar_nominee\"] = oscar_n\n",
    "BNB_prediction[\"Oscar_winner\"] = oscar_w\n",
    "BNB_prediction['Predicted Win Rate'] = pred_BNB\n",
    "\n",
    "BNB_prediction.head(5)"
   ]
  },
  {
   "cell_type": "code",
   "execution_count": 112,
   "metadata": {},
   "outputs": [],
   "source": [
    "normalized_prediction = BNB_prediction.copy()\n",
    "\n",
    "for index, row in normalized_prediction.iterrows():\n",
    "    normalized_prediction.loc[index, \"Predicted Win Rate\"] = \\\n",
    "        (row[\"Predicted Win Rate\"] / BNB_prediction[\"Predicted Win Rate\"][BNB_prediction[\"Year\"] == row[\"Year\"]].sum()).round(3)"
   ]
  },
  {
   "cell_type": "code",
   "execution_count": 113,
   "metadata": {},
   "outputs": [
    {
     "data": {
      "text/html": [
       "<div>\n",
       "<style scoped>\n",
       "    .dataframe tbody tr th:only-of-type {\n",
       "        vertical-align: middle;\n",
       "    }\n",
       "\n",
       "    .dataframe tbody tr th {\n",
       "        vertical-align: top;\n",
       "    }\n",
       "\n",
       "    .dataframe thead th {\n",
       "        text-align: right;\n",
       "    }\n",
       "</style>\n",
       "<table border=\"1\" class=\"dataframe\">\n",
       "  <thead>\n",
       "    <tr style=\"text-align: right;\">\n",
       "      <th></th>\n",
       "      <th>Year</th>\n",
       "      <th>Movie</th>\n",
       "      <th>Oscar_nominee</th>\n",
       "      <th>Oscar_winner</th>\n",
       "      <th>Predicted Win Rate</th>\n",
       "    </tr>\n",
       "  </thead>\n",
       "  <tbody>\n",
       "    <tr>\n",
       "      <th>4</th>\n",
       "      <td>2015</td>\n",
       "      <td>The Revenant</td>\n",
       "      <td>1</td>\n",
       "      <td>0</td>\n",
       "      <td>0.248</td>\n",
       "    </tr>\n",
       "    <tr>\n",
       "      <th>9</th>\n",
       "      <td>2015</td>\n",
       "      <td>Spotlight</td>\n",
       "      <td>1</td>\n",
       "      <td>1</td>\n",
       "      <td>0.248</td>\n",
       "    </tr>\n",
       "    <tr>\n",
       "      <th>14</th>\n",
       "      <td>2015</td>\n",
       "      <td>The Big Short</td>\n",
       "      <td>1</td>\n",
       "      <td>0</td>\n",
       "      <td>0.246</td>\n",
       "    </tr>\n",
       "    <tr>\n",
       "      <th>56</th>\n",
       "      <td>2015</td>\n",
       "      <td>Carol</td>\n",
       "      <td>0</td>\n",
       "      <td>0</td>\n",
       "      <td>0.213</td>\n",
       "    </tr>\n",
       "    <tr>\n",
       "      <th>2</th>\n",
       "      <td>2015</td>\n",
       "      <td>The Martian</td>\n",
       "      <td>1</td>\n",
       "      <td>0</td>\n",
       "      <td>0.021</td>\n",
       "    </tr>\n",
       "    <tr>\n",
       "      <th>1</th>\n",
       "      <td>2015</td>\n",
       "      <td>Mad Max: Fury Road</td>\n",
       "      <td>1</td>\n",
       "      <td>0</td>\n",
       "      <td>0.021</td>\n",
       "    </tr>\n",
       "    <tr>\n",
       "      <th>13</th>\n",
       "      <td>2015</td>\n",
       "      <td>Room</td>\n",
       "      <td>1</td>\n",
       "      <td>0</td>\n",
       "      <td>0.003</td>\n",
       "    </tr>\n",
       "    <tr>\n",
       "      <th>70</th>\n",
       "      <td>2015</td>\n",
       "      <td>Self/less</td>\n",
       "      <td>0</td>\n",
       "      <td>0</td>\n",
       "      <td>0.000</td>\n",
       "    </tr>\n",
       "    <tr>\n",
       "      <th>67</th>\n",
       "      <td>2015</td>\n",
       "      <td>The Last Witch Hunter</td>\n",
       "      <td>0</td>\n",
       "      <td>0</td>\n",
       "      <td>0.000</td>\n",
       "    </tr>\n",
       "    <tr>\n",
       "      <th>68</th>\n",
       "      <td>2015</td>\n",
       "      <td>Home</td>\n",
       "      <td>0</td>\n",
       "      <td>0</td>\n",
       "      <td>0.000</td>\n",
       "    </tr>\n",
       "  </tbody>\n",
       "</table>\n",
       "</div>"
      ],
      "text/plain": [
       "    Year                  Movie  Oscar_nominee  Oscar_winner  \\\n",
       "4   2015           The Revenant              1             0   \n",
       "9   2015              Spotlight              1             1   \n",
       "14  2015          The Big Short              1             0   \n",
       "56  2015                  Carol              0             0   \n",
       "2   2015            The Martian              1             0   \n",
       "1   2015     Mad Max: Fury Road              1             0   \n",
       "13  2015                   Room              1             0   \n",
       "70  2015              Self/less              0             0   \n",
       "67  2015  The Last Witch Hunter              0             0   \n",
       "68  2015                   Home              0             0   \n",
       "\n",
       "    Predicted Win Rate  \n",
       "4                0.248  \n",
       "9                0.248  \n",
       "14               0.246  \n",
       "56               0.213  \n",
       "2                0.021  \n",
       "1                0.021  \n",
       "13               0.003  \n",
       "70               0.000  \n",
       "67               0.000  \n",
       "68               0.000  "
      ]
     },
     "execution_count": 113,
     "metadata": {},
     "output_type": "execute_result"
    }
   ],
   "source": [
    "normalized_prediction[normalized_prediction[\"Year\"] == 2015].sort_values(\"Predicted Win Rate\", ascending=False).head(10)"
   ]
  },
  {
   "cell_type": "code",
   "execution_count": 114,
   "metadata": {},
   "outputs": [
    {
     "data": {
      "text/html": [
       "<div>\n",
       "<style scoped>\n",
       "    .dataframe tbody tr th:only-of-type {\n",
       "        vertical-align: middle;\n",
       "    }\n",
       "\n",
       "    .dataframe tbody tr th {\n",
       "        vertical-align: top;\n",
       "    }\n",
       "\n",
       "    .dataframe thead th {\n",
       "        text-align: right;\n",
       "    }\n",
       "</style>\n",
       "<table border=\"1\" class=\"dataframe\">\n",
       "  <thead>\n",
       "    <tr style=\"text-align: right;\">\n",
       "      <th></th>\n",
       "      <th>Year</th>\n",
       "      <th>Movie</th>\n",
       "      <th>Oscar_nominee</th>\n",
       "      <th>Oscar_winner</th>\n",
       "      <th>Predicted Win Rate</th>\n",
       "    </tr>\n",
       "  </thead>\n",
       "  <tbody>\n",
       "    <tr>\n",
       "      <th>107</th>\n",
       "      <td>2016</td>\n",
       "      <td>La La Land</td>\n",
       "      <td>1</td>\n",
       "      <td>0</td>\n",
       "      <td>0.247</td>\n",
       "    </tr>\n",
       "    <tr>\n",
       "      <th>116</th>\n",
       "      <td>2016</td>\n",
       "      <td>Moonlight</td>\n",
       "      <td>1</td>\n",
       "      <td>1</td>\n",
       "      <td>0.247</td>\n",
       "    </tr>\n",
       "    <tr>\n",
       "      <th>122</th>\n",
       "      <td>2016</td>\n",
       "      <td>Manchester by the Sea</td>\n",
       "      <td>1</td>\n",
       "      <td>0</td>\n",
       "      <td>0.238</td>\n",
       "    </tr>\n",
       "    <tr>\n",
       "      <th>130</th>\n",
       "      <td>2016</td>\n",
       "      <td>Lion</td>\n",
       "      <td>1</td>\n",
       "      <td>0</td>\n",
       "      <td>0.150</td>\n",
       "    </tr>\n",
       "    <tr>\n",
       "      <th>105</th>\n",
       "      <td>2016</td>\n",
       "      <td>Arrival</td>\n",
       "      <td>1</td>\n",
       "      <td>0</td>\n",
       "      <td>0.119</td>\n",
       "    </tr>\n",
       "    <tr>\n",
       "      <th>100</th>\n",
       "      <td>2016</td>\n",
       "      <td>Deadpool</td>\n",
       "      <td>0</td>\n",
       "      <td>0</td>\n",
       "      <td>0.000</td>\n",
       "    </tr>\n",
       "    <tr>\n",
       "      <th>166</th>\n",
       "      <td>2016</td>\n",
       "      <td>Neighbors 2: Sorority Rising</td>\n",
       "      <td>0</td>\n",
       "      <td>0</td>\n",
       "      <td>0.000</td>\n",
       "    </tr>\n",
       "    <tr>\n",
       "      <th>174</th>\n",
       "      <td>2016</td>\n",
       "      <td>Hunt for the Wilderpeople</td>\n",
       "      <td>0</td>\n",
       "      <td>0</td>\n",
       "      <td>0.000</td>\n",
       "    </tr>\n",
       "    <tr>\n",
       "      <th>173</th>\n",
       "      <td>2016</td>\n",
       "      <td>Swiss Army Man</td>\n",
       "      <td>0</td>\n",
       "      <td>0</td>\n",
       "      <td>0.000</td>\n",
       "    </tr>\n",
       "    <tr>\n",
       "      <th>172</th>\n",
       "      <td>2016</td>\n",
       "      <td>Gods of Egypt</td>\n",
       "      <td>0</td>\n",
       "      <td>0</td>\n",
       "      <td>0.000</td>\n",
       "    </tr>\n",
       "  </tbody>\n",
       "</table>\n",
       "</div>"
      ],
      "text/plain": [
       "     Year                         Movie  Oscar_nominee  Oscar_winner  \\\n",
       "107  2016                    La La Land              1             0   \n",
       "116  2016                     Moonlight              1             1   \n",
       "122  2016         Manchester by the Sea              1             0   \n",
       "130  2016                          Lion              1             0   \n",
       "105  2016                       Arrival              1             0   \n",
       "100  2016                      Deadpool              0             0   \n",
       "166  2016  Neighbors 2: Sorority Rising              0             0   \n",
       "174  2016     Hunt for the Wilderpeople              0             0   \n",
       "173  2016                Swiss Army Man              0             0   \n",
       "172  2016                 Gods of Egypt              0             0   \n",
       "\n",
       "     Predicted Win Rate  \n",
       "107               0.247  \n",
       "116               0.247  \n",
       "122               0.238  \n",
       "130               0.150  \n",
       "105               0.119  \n",
       "100               0.000  \n",
       "166               0.000  \n",
       "174               0.000  \n",
       "173               0.000  \n",
       "172               0.000  "
      ]
     },
     "execution_count": 114,
     "metadata": {},
     "output_type": "execute_result"
    }
   ],
   "source": [
    "normalized_prediction[normalized_prediction[\"Year\"] == 2016].sort_values(\"Predicted Win Rate\", ascending=False).head(10)"
   ]
  },
  {
   "cell_type": "code",
   "execution_count": 115,
   "metadata": {},
   "outputs": [
    {
     "data": {
      "text/html": [
       "<div>\n",
       "<style scoped>\n",
       "    .dataframe tbody tr th:only-of-type {\n",
       "        vertical-align: middle;\n",
       "    }\n",
       "\n",
       "    .dataframe tbody tr th {\n",
       "        vertical-align: top;\n",
       "    }\n",
       "\n",
       "    .dataframe thead th {\n",
       "        text-align: right;\n",
       "    }\n",
       "</style>\n",
       "<table border=\"1\" class=\"dataframe\">\n",
       "  <thead>\n",
       "    <tr style=\"text-align: right;\">\n",
       "      <th></th>\n",
       "      <th>Year</th>\n",
       "      <th>Movie</th>\n",
       "      <th>Oscar_nominee</th>\n",
       "      <th>Oscar_winner</th>\n",
       "      <th>Predicted Win Rate</th>\n",
       "    </tr>\n",
       "  </thead>\n",
       "  <tbody>\n",
       "    <tr>\n",
       "      <th>224</th>\n",
       "      <td>2017</td>\n",
       "      <td>Lady Bird</td>\n",
       "      <td>1</td>\n",
       "      <td>0</td>\n",
       "      <td>0.206</td>\n",
       "    </tr>\n",
       "    <tr>\n",
       "      <th>211</th>\n",
       "      <td>2017</td>\n",
       "      <td>Three Billboards Outside Ebbing, Missouri</td>\n",
       "      <td>1</td>\n",
       "      <td>0</td>\n",
       "      <td>0.206</td>\n",
       "    </tr>\n",
       "    <tr>\n",
       "      <th>213</th>\n",
       "      <td>2017</td>\n",
       "      <td>The Shape of Water</td>\n",
       "      <td>1</td>\n",
       "      <td>1</td>\n",
       "      <td>0.206</td>\n",
       "    </tr>\n",
       "    <tr>\n",
       "      <th>205</th>\n",
       "      <td>2017</td>\n",
       "      <td>Dunkirk</td>\n",
       "      <td>1</td>\n",
       "      <td>0</td>\n",
       "      <td>0.202</td>\n",
       "    </tr>\n",
       "    <tr>\n",
       "      <th>230</th>\n",
       "      <td>2017</td>\n",
       "      <td>Call Me by Your Name</td>\n",
       "      <td>1</td>\n",
       "      <td>0</td>\n",
       "      <td>0.167</td>\n",
       "    </tr>\n",
       "    <tr>\n",
       "      <th>207</th>\n",
       "      <td>2017</td>\n",
       "      <td>Get Out</td>\n",
       "      <td>1</td>\n",
       "      <td>0</td>\n",
       "      <td>0.013</td>\n",
       "    </tr>\n",
       "    <tr>\n",
       "      <th>266</th>\n",
       "      <td>2017</td>\n",
       "      <td>Fifty Shades Darker</td>\n",
       "      <td>0</td>\n",
       "      <td>0</td>\n",
       "      <td>0.000</td>\n",
       "    </tr>\n",
       "    <tr>\n",
       "      <th>275</th>\n",
       "      <td>2017</td>\n",
       "      <td>Death Note</td>\n",
       "      <td>0</td>\n",
       "      <td>0</td>\n",
       "      <td>0.000</td>\n",
       "    </tr>\n",
       "    <tr>\n",
       "      <th>274</th>\n",
       "      <td>2017</td>\n",
       "      <td>Going in Style</td>\n",
       "      <td>0</td>\n",
       "      <td>0</td>\n",
       "      <td>0.000</td>\n",
       "    </tr>\n",
       "    <tr>\n",
       "      <th>273</th>\n",
       "      <td>2017</td>\n",
       "      <td>Reis</td>\n",
       "      <td>0</td>\n",
       "      <td>0</td>\n",
       "      <td>0.000</td>\n",
       "    </tr>\n",
       "  </tbody>\n",
       "</table>\n",
       "</div>"
      ],
      "text/plain": [
       "     Year                                      Movie  Oscar_nominee  \\\n",
       "224  2017                                  Lady Bird              1   \n",
       "211  2017  Three Billboards Outside Ebbing, Missouri              1   \n",
       "213  2017                         The Shape of Water              1   \n",
       "205  2017                                    Dunkirk              1   \n",
       "230  2017                       Call Me by Your Name              1   \n",
       "207  2017                                    Get Out              1   \n",
       "266  2017                        Fifty Shades Darker              0   \n",
       "275  2017                                 Death Note              0   \n",
       "274  2017                             Going in Style              0   \n",
       "273  2017                                       Reis              0   \n",
       "\n",
       "     Oscar_winner  Predicted Win Rate  \n",
       "224             0               0.206  \n",
       "211             0               0.206  \n",
       "213             1               0.206  \n",
       "205             0               0.202  \n",
       "230             0               0.167  \n",
       "207             0               0.013  \n",
       "266             0               0.000  \n",
       "275             0               0.000  \n",
       "274             0               0.000  \n",
       "273             0               0.000  "
      ]
     },
     "execution_count": 115,
     "metadata": {},
     "output_type": "execute_result"
    }
   ],
   "source": [
    "normalized_prediction[normalized_prediction[\"Year\"] == 2017].sort_values(\"Predicted Win Rate\", ascending=False).head(10)"
   ]
  },
  {
   "cell_type": "code",
   "execution_count": 116,
   "metadata": {},
   "outputs": [
    {
     "data": {
      "text/html": [
       "<div>\n",
       "<style scoped>\n",
       "    .dataframe tbody tr th:only-of-type {\n",
       "        vertical-align: middle;\n",
       "    }\n",
       "\n",
       "    .dataframe tbody tr th {\n",
       "        vertical-align: top;\n",
       "    }\n",
       "\n",
       "    .dataframe thead th {\n",
       "        text-align: right;\n",
       "    }\n",
       "</style>\n",
       "<table border=\"1\" class=\"dataframe\">\n",
       "  <thead>\n",
       "    <tr style=\"text-align: right;\">\n",
       "      <th></th>\n",
       "      <th>Year</th>\n",
       "      <th>Movie</th>\n",
       "      <th>Oscar_nominee</th>\n",
       "      <th>Oscar_winner</th>\n",
       "      <th>Predicted Win Rate</th>\n",
       "    </tr>\n",
       "  </thead>\n",
       "  <tbody>\n",
       "    <tr>\n",
       "      <th>330</th>\n",
       "      <td>2018</td>\n",
       "      <td>Roma</td>\n",
       "      <td>1</td>\n",
       "      <td>0</td>\n",
       "      <td>0.239</td>\n",
       "    </tr>\n",
       "    <tr>\n",
       "      <th>321</th>\n",
       "      <td>2018</td>\n",
       "      <td>BlacKkKlansman</td>\n",
       "      <td>1</td>\n",
       "      <td>0</td>\n",
       "      <td>0.239</td>\n",
       "    </tr>\n",
       "    <tr>\n",
       "      <th>309</th>\n",
       "      <td>2018</td>\n",
       "      <td>Green Book</td>\n",
       "      <td>1</td>\n",
       "      <td>1</td>\n",
       "      <td>0.239</td>\n",
       "    </tr>\n",
       "    <tr>\n",
       "      <th>310</th>\n",
       "      <td>2018</td>\n",
       "      <td>A Star Is Born</td>\n",
       "      <td>1</td>\n",
       "      <td>0</td>\n",
       "      <td>0.238</td>\n",
       "    </tr>\n",
       "    <tr>\n",
       "      <th>325</th>\n",
       "      <td>2018</td>\n",
       "      <td>The Favourite</td>\n",
       "      <td>1</td>\n",
       "      <td>0</td>\n",
       "      <td>0.044</td>\n",
       "    </tr>\n",
       "    <tr>\n",
       "      <th>300</th>\n",
       "      <td>2018</td>\n",
       "      <td>Avengers: Infinity War</td>\n",
       "      <td>0</td>\n",
       "      <td>0</td>\n",
       "      <td>0.000</td>\n",
       "    </tr>\n",
       "    <tr>\n",
       "      <th>366</th>\n",
       "      <td>2018</td>\n",
       "      <td>Mile 22</td>\n",
       "      <td>0</td>\n",
       "      <td>0</td>\n",
       "      <td>0.000</td>\n",
       "    </tr>\n",
       "    <tr>\n",
       "      <th>374</th>\n",
       "      <td>2018</td>\n",
       "      <td>Outlaw King</td>\n",
       "      <td>0</td>\n",
       "      <td>0</td>\n",
       "      <td>0.000</td>\n",
       "    </tr>\n",
       "    <tr>\n",
       "      <th>373</th>\n",
       "      <td>2018</td>\n",
       "      <td>Enes Batur Hayal mi Gerçek mi?</td>\n",
       "      <td>0</td>\n",
       "      <td>0</td>\n",
       "      <td>0.000</td>\n",
       "    </tr>\n",
       "    <tr>\n",
       "      <th>372</th>\n",
       "      <td>2018</td>\n",
       "      <td>Eighth Grade</td>\n",
       "      <td>0</td>\n",
       "      <td>0</td>\n",
       "      <td>0.000</td>\n",
       "    </tr>\n",
       "  </tbody>\n",
       "</table>\n",
       "</div>"
      ],
      "text/plain": [
       "     Year                           Movie  Oscar_nominee  Oscar_winner  \\\n",
       "330  2018                            Roma              1             0   \n",
       "321  2018                  BlacKkKlansman              1             0   \n",
       "309  2018                      Green Book              1             1   \n",
       "310  2018                  A Star Is Born              1             0   \n",
       "325  2018                   The Favourite              1             0   \n",
       "300  2018          Avengers: Infinity War              0             0   \n",
       "366  2018                         Mile 22              0             0   \n",
       "374  2018                     Outlaw King              0             0   \n",
       "373  2018  Enes Batur Hayal mi Gerçek mi?              0             0   \n",
       "372  2018                    Eighth Grade              0             0   \n",
       "\n",
       "     Predicted Win Rate  \n",
       "330               0.239  \n",
       "321               0.239  \n",
       "309               0.239  \n",
       "310               0.238  \n",
       "325               0.044  \n",
       "300               0.000  \n",
       "366               0.000  \n",
       "374               0.000  \n",
       "373               0.000  \n",
       "372               0.000  "
      ]
     },
     "execution_count": 116,
     "metadata": {},
     "output_type": "execute_result"
    }
   ],
   "source": [
    "normalized_prediction[normalized_prediction[\"Year\"] == 2018].sort_values(\"Predicted Win Rate\", ascending=False).head(10)"
   ]
  },
  {
   "cell_type": "code",
   "execution_count": 117,
   "metadata": {},
   "outputs": [
    {
     "data": {
      "text/html": [
       "<div>\n",
       "<style scoped>\n",
       "    .dataframe tbody tr th:only-of-type {\n",
       "        vertical-align: middle;\n",
       "    }\n",
       "\n",
       "    .dataframe tbody tr th {\n",
       "        vertical-align: top;\n",
       "    }\n",
       "\n",
       "    .dataframe thead th {\n",
       "        text-align: right;\n",
       "    }\n",
       "</style>\n",
       "<table border=\"1\" class=\"dataframe\">\n",
       "  <thead>\n",
       "    <tr style=\"text-align: right;\">\n",
       "      <th></th>\n",
       "      <th>Year</th>\n",
       "      <th>Movie</th>\n",
       "      <th>Oscar_nominee</th>\n",
       "      <th>Oscar_winner</th>\n",
       "      <th>Predicted Win Rate</th>\n",
       "    </tr>\n",
       "  </thead>\n",
       "  <tbody>\n",
       "    <tr>\n",
       "      <th>408</th>\n",
       "      <td>2019</td>\n",
       "      <td>1917</td>\n",
       "      <td>1</td>\n",
       "      <td>0</td>\n",
       "      <td>0.167</td>\n",
       "    </tr>\n",
       "    <tr>\n",
       "      <th>404</th>\n",
       "      <td>2019</td>\n",
       "      <td>Parasite</td>\n",
       "      <td>1</td>\n",
       "      <td>1</td>\n",
       "      <td>0.167</td>\n",
       "    </tr>\n",
       "    <tr>\n",
       "      <th>407</th>\n",
       "      <td>2019</td>\n",
       "      <td>The Irishman</td>\n",
       "      <td>1</td>\n",
       "      <td>0</td>\n",
       "      <td>0.167</td>\n",
       "    </tr>\n",
       "    <tr>\n",
       "      <th>418</th>\n",
       "      <td>2019</td>\n",
       "      <td>Jojo Rabbit</td>\n",
       "      <td>1</td>\n",
       "      <td>0</td>\n",
       "      <td>0.167</td>\n",
       "    </tr>\n",
       "    <tr>\n",
       "      <th>402</th>\n",
       "      <td>2019</td>\n",
       "      <td>Once Upon a Time in Hollywood</td>\n",
       "      <td>1</td>\n",
       "      <td>0</td>\n",
       "      <td>0.167</td>\n",
       "    </tr>\n",
       "    <tr>\n",
       "      <th>400</th>\n",
       "      <td>2019</td>\n",
       "      <td>Joker</td>\n",
       "      <td>1</td>\n",
       "      <td>0</td>\n",
       "      <td>0.114</td>\n",
       "    </tr>\n",
       "    <tr>\n",
       "      <th>413</th>\n",
       "      <td>2019</td>\n",
       "      <td>Marriage Story</td>\n",
       "      <td>1</td>\n",
       "      <td>0</td>\n",
       "      <td>0.049</td>\n",
       "    </tr>\n",
       "    <tr>\n",
       "      <th>474</th>\n",
       "      <td>2019</td>\n",
       "      <td>Annabelle Comes Home</td>\n",
       "      <td>0</td>\n",
       "      <td>0</td>\n",
       "      <td>0.000</td>\n",
       "    </tr>\n",
       "    <tr>\n",
       "      <th>473</th>\n",
       "      <td>2019</td>\n",
       "      <td>The Lego Movie 2: The Second Part</td>\n",
       "      <td>0</td>\n",
       "      <td>0</td>\n",
       "      <td>0.000</td>\n",
       "    </tr>\n",
       "    <tr>\n",
       "      <th>472</th>\n",
       "      <td>2019</td>\n",
       "      <td>Happy Death Day 2U</td>\n",
       "      <td>0</td>\n",
       "      <td>0</td>\n",
       "      <td>0.000</td>\n",
       "    </tr>\n",
       "  </tbody>\n",
       "</table>\n",
       "</div>"
      ],
      "text/plain": [
       "     Year                              Movie  Oscar_nominee  Oscar_winner  \\\n",
       "408  2019                               1917              1             0   \n",
       "404  2019                           Parasite              1             1   \n",
       "407  2019                       The Irishman              1             0   \n",
       "418  2019                        Jojo Rabbit              1             0   \n",
       "402  2019      Once Upon a Time in Hollywood              1             0   \n",
       "400  2019                              Joker              1             0   \n",
       "413  2019                     Marriage Story              1             0   \n",
       "474  2019               Annabelle Comes Home              0             0   \n",
       "473  2019  The Lego Movie 2: The Second Part              0             0   \n",
       "472  2019                 Happy Death Day 2U              0             0   \n",
       "\n",
       "     Predicted Win Rate  \n",
       "408               0.167  \n",
       "404               0.167  \n",
       "407               0.167  \n",
       "418               0.167  \n",
       "402               0.167  \n",
       "400               0.114  \n",
       "413               0.049  \n",
       "474               0.000  \n",
       "473               0.000  \n",
       "472               0.000  "
      ]
     },
     "execution_count": 117,
     "metadata": {},
     "output_type": "execute_result"
    }
   ],
   "source": [
    "normalized_prediction[normalized_prediction[\"Year\"] == 2019].sort_values(\"Predicted Win Rate\", ascending=False).head(10)"
   ]
  },
  {
   "cell_type": "markdown",
   "metadata": {},
   "source": [
    "### Quick Comments on #3 - Naive Bayes: \n",
    "\n",
    "> 1. MultinomialNB is bad\n",
    "> 2. GaussianNB is bad\n",
    "> 3. BernoulliNB is also bad in terms of equally spread probabilities but not as worse as the two aboves.\n",
    "\n",
    "Naive Bayes generally perform poorly for our prediction."
   ]
  },
  {
   "cell_type": "markdown",
   "metadata": {},
   "source": [
    "---\n",
    "# #4 - Others <img src=\"img\\anime.gif\" width=\"200\" align=\"center\"/>"
   ]
  },
  {
   "cell_type": "markdown",
   "metadata": {},
   "source": [
    "## #4.1 - Linear Support Vector Classifier (Linear SVC)"
   ]
  },
  {
   "cell_type": "code",
   "execution_count": 118,
   "metadata": {},
   "outputs": [],
   "source": [
    "from sklearn.calibration import CalibratedClassifierCV\n",
    "linearSVC = LinearSVC(dual=False)\n",
    "clf = CalibratedClassifierCV(linearSVC) \n",
    "\n",
    "my_LSVC = clf.fit(X_train, y_train) "
   ]
  },
  {
   "cell_type": "code",
   "execution_count": 119,
   "metadata": {},
   "outputs": [
    {
     "data": {
      "text/html": [
       "<div>\n",
       "<style scoped>\n",
       "    .dataframe tbody tr th:only-of-type {\n",
       "        vertical-align: middle;\n",
       "    }\n",
       "\n",
       "    .dataframe tbody tr th {\n",
       "        vertical-align: top;\n",
       "    }\n",
       "\n",
       "    .dataframe thead th {\n",
       "        text-align: right;\n",
       "    }\n",
       "</style>\n",
       "<table border=\"1\" class=\"dataframe\">\n",
       "  <thead>\n",
       "    <tr style=\"text-align: right;\">\n",
       "      <th></th>\n",
       "      <th>Year</th>\n",
       "      <th>Movie</th>\n",
       "      <th>Oscar_nominee</th>\n",
       "      <th>Oscar_winner</th>\n",
       "      <th>Predicted Win Rate</th>\n",
       "    </tr>\n",
       "  </thead>\n",
       "  <tbody>\n",
       "    <tr>\n",
       "      <th>0</th>\n",
       "      <td>2015</td>\n",
       "      <td>Star Wars: Episode VII - The Force Awakens</td>\n",
       "      <td>0</td>\n",
       "      <td>0</td>\n",
       "      <td>0.028125</td>\n",
       "    </tr>\n",
       "    <tr>\n",
       "      <th>1</th>\n",
       "      <td>2015</td>\n",
       "      <td>Mad Max: Fury Road</td>\n",
       "      <td>1</td>\n",
       "      <td>0</td>\n",
       "      <td>0.023330</td>\n",
       "    </tr>\n",
       "    <tr>\n",
       "      <th>2</th>\n",
       "      <td>2015</td>\n",
       "      <td>The Martian</td>\n",
       "      <td>1</td>\n",
       "      <td>0</td>\n",
       "      <td>0.011832</td>\n",
       "    </tr>\n",
       "    <tr>\n",
       "      <th>3</th>\n",
       "      <td>2015</td>\n",
       "      <td>Avengers: Age of Ultron</td>\n",
       "      <td>0</td>\n",
       "      <td>0</td>\n",
       "      <td>0.127343</td>\n",
       "    </tr>\n",
       "    <tr>\n",
       "      <th>4</th>\n",
       "      <td>2015</td>\n",
       "      <td>The Revenant</td>\n",
       "      <td>1</td>\n",
       "      <td>0</td>\n",
       "      <td>0.015393</td>\n",
       "    </tr>\n",
       "  </tbody>\n",
       "</table>\n",
       "</div>"
      ],
      "text/plain": [
       "   Year                                       Movie  Oscar_nominee  \\\n",
       "0  2015  Star Wars: Episode VII - The Force Awakens              0   \n",
       "1  2015                          Mad Max: Fury Road              1   \n",
       "2  2015                                 The Martian              1   \n",
       "3  2015                     Avengers: Age of Ultron              0   \n",
       "4  2015                                The Revenant              1   \n",
       "\n",
       "   Oscar_winner  Predicted Win Rate  \n",
       "0             0            0.028125  \n",
       "1             0            0.023330  \n",
       "2             0            0.011832  \n",
       "3             0            0.127343  \n",
       "4             0            0.015393  "
      ]
     },
     "execution_count": 119,
     "metadata": {},
     "output_type": "execute_result"
    }
   ],
   "source": [
    "pred_LSVC = my_LSVC.predict_proba(X_test)[:, 1]\n",
    "\n",
    "LSVC_prediction = pd.DataFrame(year, columns=[\"Year\"])\n",
    "LSVC_prediction[\"Movie\"] = movie_name\n",
    "LSVC_prediction[\"Oscar_nominee\"] = oscar_n\n",
    "LSVC_prediction[\"Oscar_winner\"] = oscar_w\n",
    "LSVC_prediction['Predicted Win Rate'] = pred_LSVC\n",
    "\n",
    "LSVC_prediction.head(5)"
   ]
  },
  {
   "cell_type": "code",
   "execution_count": 120,
   "metadata": {},
   "outputs": [],
   "source": [
    "normalized_prediction = LSVC_prediction.copy()\n",
    "\n",
    "for index, row in normalized_prediction.iterrows():\n",
    "    normalized_prediction.loc[index, \"Predicted Win Rate\"] = \\\n",
    "        (row[\"Predicted Win Rate\"] / LSVC_prediction[\"Predicted Win Rate\"][LSVC_prediction[\"Year\"] == row[\"Year\"]].sum()).round(3)"
   ]
  },
  {
   "cell_type": "code",
   "execution_count": 121,
   "metadata": {},
   "outputs": [
    {
     "data": {
      "text/html": [
       "<div>\n",
       "<style scoped>\n",
       "    .dataframe tbody tr th:only-of-type {\n",
       "        vertical-align: middle;\n",
       "    }\n",
       "\n",
       "    .dataframe tbody tr th {\n",
       "        vertical-align: top;\n",
       "    }\n",
       "\n",
       "    .dataframe thead th {\n",
       "        text-align: right;\n",
       "    }\n",
       "</style>\n",
       "<table border=\"1\" class=\"dataframe\">\n",
       "  <thead>\n",
       "    <tr style=\"text-align: right;\">\n",
       "      <th></th>\n",
       "      <th>Year</th>\n",
       "      <th>Movie</th>\n",
       "      <th>Oscar_nominee</th>\n",
       "      <th>Oscar_winner</th>\n",
       "      <th>Predicted Win Rate</th>\n",
       "    </tr>\n",
       "  </thead>\n",
       "  <tbody>\n",
       "    <tr>\n",
       "      <th>3</th>\n",
       "      <td>2015</td>\n",
       "      <td>Avengers: Age of Ultron</td>\n",
       "      <td>0</td>\n",
       "      <td>0</td>\n",
       "      <td>0.090</td>\n",
       "    </tr>\n",
       "    <tr>\n",
       "      <th>10</th>\n",
       "      <td>2015</td>\n",
       "      <td>Spectre</td>\n",
       "      <td>0</td>\n",
       "      <td>0</td>\n",
       "      <td>0.050</td>\n",
       "    </tr>\n",
       "    <tr>\n",
       "      <th>0</th>\n",
       "      <td>2015</td>\n",
       "      <td>Star Wars: Episode VII - The Force Awakens</td>\n",
       "      <td>0</td>\n",
       "      <td>0</td>\n",
       "      <td>0.020</td>\n",
       "    </tr>\n",
       "    <tr>\n",
       "      <th>64</th>\n",
       "      <td>2015</td>\n",
       "      <td>The Good Dinosaur</td>\n",
       "      <td>0</td>\n",
       "      <td>0</td>\n",
       "      <td>0.018</td>\n",
       "    </tr>\n",
       "    <tr>\n",
       "      <th>35</th>\n",
       "      <td>2015</td>\n",
       "      <td>Jupiter Ascending</td>\n",
       "      <td>0</td>\n",
       "      <td>0</td>\n",
       "      <td>0.018</td>\n",
       "    </tr>\n",
       "    <tr>\n",
       "      <th>1</th>\n",
       "      <td>2015</td>\n",
       "      <td>Mad Max: Fury Road</td>\n",
       "      <td>1</td>\n",
       "      <td>0</td>\n",
       "      <td>0.017</td>\n",
       "    </tr>\n",
       "    <tr>\n",
       "      <th>37</th>\n",
       "      <td>2015</td>\n",
       "      <td>Tomorrowland</td>\n",
       "      <td>0</td>\n",
       "      <td>0</td>\n",
       "      <td>0.017</td>\n",
       "    </tr>\n",
       "    <tr>\n",
       "      <th>5</th>\n",
       "      <td>2015</td>\n",
       "      <td>Inside Out</td>\n",
       "      <td>0</td>\n",
       "      <td>0</td>\n",
       "      <td>0.014</td>\n",
       "    </tr>\n",
       "    <tr>\n",
       "      <th>6</th>\n",
       "      <td>2015</td>\n",
       "      <td>Jurassic World</td>\n",
       "      <td>0</td>\n",
       "      <td>0</td>\n",
       "      <td>0.013</td>\n",
       "    </tr>\n",
       "    <tr>\n",
       "      <th>18</th>\n",
       "      <td>2015</td>\n",
       "      <td>The Hunger Games: Mockingjay - Part 2</td>\n",
       "      <td>0</td>\n",
       "      <td>0</td>\n",
       "      <td>0.012</td>\n",
       "    </tr>\n",
       "  </tbody>\n",
       "</table>\n",
       "</div>"
      ],
      "text/plain": [
       "    Year                                       Movie  Oscar_nominee  \\\n",
       "3   2015                     Avengers: Age of Ultron              0   \n",
       "10  2015                                     Spectre              0   \n",
       "0   2015  Star Wars: Episode VII - The Force Awakens              0   \n",
       "64  2015                           The Good Dinosaur              0   \n",
       "35  2015                           Jupiter Ascending              0   \n",
       "1   2015                          Mad Max: Fury Road              1   \n",
       "37  2015                                Tomorrowland              0   \n",
       "5   2015                                  Inside Out              0   \n",
       "6   2015                              Jurassic World              0   \n",
       "18  2015       The Hunger Games: Mockingjay - Part 2              0   \n",
       "\n",
       "    Oscar_winner  Predicted Win Rate  \n",
       "3              0               0.090  \n",
       "10             0               0.050  \n",
       "0              0               0.020  \n",
       "64             0               0.018  \n",
       "35             0               0.018  \n",
       "1              0               0.017  \n",
       "37             0               0.017  \n",
       "5              0               0.014  \n",
       "6              0               0.013  \n",
       "18             0               0.012  "
      ]
     },
     "execution_count": 121,
     "metadata": {},
     "output_type": "execute_result"
    }
   ],
   "source": [
    "normalized_prediction[normalized_prediction[\"Year\"] == 2015].sort_values(\"Predicted Win Rate\", ascending=False).head(10)"
   ]
  },
  {
   "cell_type": "code",
   "execution_count": 122,
   "metadata": {},
   "outputs": [
    {
     "data": {
      "text/html": [
       "<div>\n",
       "<style scoped>\n",
       "    .dataframe tbody tr th:only-of-type {\n",
       "        vertical-align: middle;\n",
       "    }\n",
       "\n",
       "    .dataframe tbody tr th {\n",
       "        vertical-align: top;\n",
       "    }\n",
       "\n",
       "    .dataframe thead th {\n",
       "        text-align: right;\n",
       "    }\n",
       "</style>\n",
       "<table border=\"1\" class=\"dataframe\">\n",
       "  <thead>\n",
       "    <tr style=\"text-align: right;\">\n",
       "      <th></th>\n",
       "      <th>Year</th>\n",
       "      <th>Movie</th>\n",
       "      <th>Oscar_nominee</th>\n",
       "      <th>Oscar_winner</th>\n",
       "      <th>Predicted Win Rate</th>\n",
       "    </tr>\n",
       "  </thead>\n",
       "  <tbody>\n",
       "    <tr>\n",
       "      <th>102</th>\n",
       "      <td>2016</td>\n",
       "      <td>Batman v Superman: Dawn of Justice</td>\n",
       "      <td>0</td>\n",
       "      <td>0</td>\n",
       "      <td>0.046</td>\n",
       "    </tr>\n",
       "    <tr>\n",
       "      <th>101</th>\n",
       "      <td>2016</td>\n",
       "      <td>Captain America: Civil War</td>\n",
       "      <td>0</td>\n",
       "      <td>0</td>\n",
       "      <td>0.030</td>\n",
       "    </tr>\n",
       "    <tr>\n",
       "      <th>106</th>\n",
       "      <td>2016</td>\n",
       "      <td>Rogue One</td>\n",
       "      <td>0</td>\n",
       "      <td>0</td>\n",
       "      <td>0.020</td>\n",
       "    </tr>\n",
       "    <tr>\n",
       "      <th>126</th>\n",
       "      <td>2016</td>\n",
       "      <td>Star Trek Beyond</td>\n",
       "      <td>0</td>\n",
       "      <td>0</td>\n",
       "      <td>0.020</td>\n",
       "    </tr>\n",
       "    <tr>\n",
       "      <th>145</th>\n",
       "      <td>2016</td>\n",
       "      <td>The Legend of Tarzan</td>\n",
       "      <td>0</td>\n",
       "      <td>0</td>\n",
       "      <td>0.017</td>\n",
       "    </tr>\n",
       "    <tr>\n",
       "      <th>103</th>\n",
       "      <td>2016</td>\n",
       "      <td>Suicide Squad</td>\n",
       "      <td>0</td>\n",
       "      <td>0</td>\n",
       "      <td>0.016</td>\n",
       "    </tr>\n",
       "    <tr>\n",
       "      <th>123</th>\n",
       "      <td>2016</td>\n",
       "      <td>Finding Dory</td>\n",
       "      <td>0</td>\n",
       "      <td>0</td>\n",
       "      <td>0.016</td>\n",
       "    </tr>\n",
       "    <tr>\n",
       "      <th>112</th>\n",
       "      <td>2016</td>\n",
       "      <td>X-Men: Apocalypse</td>\n",
       "      <td>0</td>\n",
       "      <td>0</td>\n",
       "      <td>0.015</td>\n",
       "    </tr>\n",
       "    <tr>\n",
       "      <th>149</th>\n",
       "      <td>2016</td>\n",
       "      <td>Deepwater Horizon</td>\n",
       "      <td>0</td>\n",
       "      <td>0</td>\n",
       "      <td>0.015</td>\n",
       "    </tr>\n",
       "    <tr>\n",
       "      <th>186</th>\n",
       "      <td>2016</td>\n",
       "      <td>Alice Through the Looking Glass</td>\n",
       "      <td>0</td>\n",
       "      <td>0</td>\n",
       "      <td>0.015</td>\n",
       "    </tr>\n",
       "  </tbody>\n",
       "</table>\n",
       "</div>"
      ],
      "text/plain": [
       "     Year                               Movie  Oscar_nominee  Oscar_winner  \\\n",
       "102  2016  Batman v Superman: Dawn of Justice              0             0   \n",
       "101  2016          Captain America: Civil War              0             0   \n",
       "106  2016                           Rogue One              0             0   \n",
       "126  2016                    Star Trek Beyond              0             0   \n",
       "145  2016                The Legend of Tarzan              0             0   \n",
       "103  2016                       Suicide Squad              0             0   \n",
       "123  2016                        Finding Dory              0             0   \n",
       "112  2016                   X-Men: Apocalypse              0             0   \n",
       "149  2016                   Deepwater Horizon              0             0   \n",
       "186  2016     Alice Through the Looking Glass              0             0   \n",
       "\n",
       "     Predicted Win Rate  \n",
       "102               0.046  \n",
       "101               0.030  \n",
       "106               0.020  \n",
       "126               0.020  \n",
       "145               0.017  \n",
       "103               0.016  \n",
       "123               0.016  \n",
       "112               0.015  \n",
       "149               0.015  \n",
       "186               0.015  "
      ]
     },
     "execution_count": 122,
     "metadata": {},
     "output_type": "execute_result"
    }
   ],
   "source": [
    "normalized_prediction[normalized_prediction[\"Year\"] == 2016].sort_values(\"Predicted Win Rate\", ascending=False).head(10)"
   ]
  },
  {
   "cell_type": "code",
   "execution_count": 123,
   "metadata": {},
   "outputs": [
    {
     "data": {
      "text/html": [
       "<div>\n",
       "<style scoped>\n",
       "    .dataframe tbody tr th:only-of-type {\n",
       "        vertical-align: middle;\n",
       "    }\n",
       "\n",
       "    .dataframe tbody tr th {\n",
       "        vertical-align: top;\n",
       "    }\n",
       "\n",
       "    .dataframe thead th {\n",
       "        text-align: right;\n",
       "    }\n",
       "</style>\n",
       "<table border=\"1\" class=\"dataframe\">\n",
       "  <thead>\n",
       "    <tr style=\"text-align: right;\">\n",
       "      <th></th>\n",
       "      <th>Year</th>\n",
       "      <th>Movie</th>\n",
       "      <th>Oscar_nominee</th>\n",
       "      <th>Oscar_winner</th>\n",
       "      <th>Predicted Win Rate</th>\n",
       "    </tr>\n",
       "  </thead>\n",
       "  <tbody>\n",
       "    <tr>\n",
       "      <th>212</th>\n",
       "      <td>2017</td>\n",
       "      <td>Justice League</td>\n",
       "      <td>0</td>\n",
       "      <td>0</td>\n",
       "      <td>0.065</td>\n",
       "    </tr>\n",
       "    <tr>\n",
       "      <th>202</th>\n",
       "      <td>2017</td>\n",
       "      <td>Guardians of the Galaxy Vol. 2</td>\n",
       "      <td>0</td>\n",
       "      <td>0</td>\n",
       "      <td>0.064</td>\n",
       "    </tr>\n",
       "    <tr>\n",
       "      <th>209</th>\n",
       "      <td>2017</td>\n",
       "      <td>Blade Runner 2049</td>\n",
       "      <td>0</td>\n",
       "      <td>0</td>\n",
       "      <td>0.021</td>\n",
       "    </tr>\n",
       "    <tr>\n",
       "      <th>203</th>\n",
       "      <td>2017</td>\n",
       "      <td>Star Wars: Episode VIII - The Last Jedi</td>\n",
       "      <td>0</td>\n",
       "      <td>0</td>\n",
       "      <td>0.019</td>\n",
       "    </tr>\n",
       "    <tr>\n",
       "      <th>220</th>\n",
       "      <td>2017</td>\n",
       "      <td>Pirates of the Caribbean: Dead Men Tell No Tales</td>\n",
       "      <td>0</td>\n",
       "      <td>0</td>\n",
       "      <td>0.019</td>\n",
       "    </tr>\n",
       "    <tr>\n",
       "      <th>242</th>\n",
       "      <td>2017</td>\n",
       "      <td>Transformers: The Last Knight</td>\n",
       "      <td>0</td>\n",
       "      <td>0</td>\n",
       "      <td>0.018</td>\n",
       "    </tr>\n",
       "    <tr>\n",
       "      <th>231</th>\n",
       "      <td>2017</td>\n",
       "      <td>King Arthur: Legend of the Sword</td>\n",
       "      <td>0</td>\n",
       "      <td>0</td>\n",
       "      <td>0.017</td>\n",
       "    </tr>\n",
       "    <tr>\n",
       "      <th>239</th>\n",
       "      <td>2017</td>\n",
       "      <td>Valerian and the City of a Thousand Planets</td>\n",
       "      <td>0</td>\n",
       "      <td>0</td>\n",
       "      <td>0.016</td>\n",
       "    </tr>\n",
       "    <tr>\n",
       "      <th>234</th>\n",
       "      <td>2017</td>\n",
       "      <td>The Mummy</td>\n",
       "      <td>0</td>\n",
       "      <td>0</td>\n",
       "      <td>0.016</td>\n",
       "    </tr>\n",
       "    <tr>\n",
       "      <th>227</th>\n",
       "      <td>2017</td>\n",
       "      <td>The Fate of the Furious</td>\n",
       "      <td>0</td>\n",
       "      <td>0</td>\n",
       "      <td>0.014</td>\n",
       "    </tr>\n",
       "  </tbody>\n",
       "</table>\n",
       "</div>"
      ],
      "text/plain": [
       "     Year                                             Movie  Oscar_nominee  \\\n",
       "212  2017                                    Justice League              0   \n",
       "202  2017                    Guardians of the Galaxy Vol. 2              0   \n",
       "209  2017                                 Blade Runner 2049              0   \n",
       "203  2017           Star Wars: Episode VIII - The Last Jedi              0   \n",
       "220  2017  Pirates of the Caribbean: Dead Men Tell No Tales              0   \n",
       "242  2017                     Transformers: The Last Knight              0   \n",
       "231  2017                  King Arthur: Legend of the Sword              0   \n",
       "239  2017       Valerian and the City of a Thousand Planets              0   \n",
       "234  2017                                         The Mummy              0   \n",
       "227  2017                           The Fate of the Furious              0   \n",
       "\n",
       "     Oscar_winner  Predicted Win Rate  \n",
       "212             0               0.065  \n",
       "202             0               0.064  \n",
       "209             0               0.021  \n",
       "203             0               0.019  \n",
       "220             0               0.019  \n",
       "242             0               0.018  \n",
       "231             0               0.017  \n",
       "239             0               0.016  \n",
       "234             0               0.016  \n",
       "227             0               0.014  "
      ]
     },
     "execution_count": 123,
     "metadata": {},
     "output_type": "execute_result"
    }
   ],
   "source": [
    "normalized_prediction[normalized_prediction[\"Year\"] == 2017].sort_values(\"Predicted Win Rate\", ascending=False).head(10)"
   ]
  },
  {
   "cell_type": "code",
   "execution_count": 124,
   "metadata": {},
   "outputs": [
    {
     "data": {
      "text/html": [
       "<div>\n",
       "<style scoped>\n",
       "    .dataframe tbody tr th:only-of-type {\n",
       "        vertical-align: middle;\n",
       "    }\n",
       "\n",
       "    .dataframe tbody tr th {\n",
       "        vertical-align: top;\n",
       "    }\n",
       "\n",
       "    .dataframe thead th {\n",
       "        text-align: right;\n",
       "    }\n",
       "</style>\n",
       "<table border=\"1\" class=\"dataframe\">\n",
       "  <thead>\n",
       "    <tr style=\"text-align: right;\">\n",
       "      <th></th>\n",
       "      <th>Year</th>\n",
       "      <th>Movie</th>\n",
       "      <th>Oscar_nominee</th>\n",
       "      <th>Oscar_winner</th>\n",
       "      <th>Predicted Win Rate</th>\n",
       "    </tr>\n",
       "  </thead>\n",
       "  <tbody>\n",
       "    <tr>\n",
       "      <th>313</th>\n",
       "      <td>2018</td>\n",
       "      <td>Solo: A Star Wars Story</td>\n",
       "      <td>0</td>\n",
       "      <td>0</td>\n",
       "      <td>0.070</td>\n",
       "    </tr>\n",
       "    <tr>\n",
       "      <th>300</th>\n",
       "      <td>2018</td>\n",
       "      <td>Avengers: Infinity War</td>\n",
       "      <td>0</td>\n",
       "      <td>0</td>\n",
       "      <td>0.028</td>\n",
       "    </tr>\n",
       "    <tr>\n",
       "      <th>369</th>\n",
       "      <td>2018</td>\n",
       "      <td>Robin Hood</td>\n",
       "      <td>0</td>\n",
       "      <td>0</td>\n",
       "      <td>0.025</td>\n",
       "    </tr>\n",
       "    <tr>\n",
       "      <th>301</th>\n",
       "      <td>2018</td>\n",
       "      <td>Black Panther</td>\n",
       "      <td>1</td>\n",
       "      <td>0</td>\n",
       "      <td>0.018</td>\n",
       "    </tr>\n",
       "    <tr>\n",
       "      <th>319</th>\n",
       "      <td>2018</td>\n",
       "      <td>Fantastic Beasts: The Crimes of Grindelwald</td>\n",
       "      <td>0</td>\n",
       "      <td>0</td>\n",
       "      <td>0.016</td>\n",
       "    </tr>\n",
       "    <tr>\n",
       "      <th>317</th>\n",
       "      <td>2018</td>\n",
       "      <td>Incredibles 2</td>\n",
       "      <td>0</td>\n",
       "      <td>0</td>\n",
       "      <td>0.015</td>\n",
       "    </tr>\n",
       "    <tr>\n",
       "      <th>336</th>\n",
       "      <td>2018</td>\n",
       "      <td>The Equalizer 2</td>\n",
       "      <td>0</td>\n",
       "      <td>0</td>\n",
       "      <td>0.014</td>\n",
       "    </tr>\n",
       "    <tr>\n",
       "      <th>327</th>\n",
       "      <td>2018</td>\n",
       "      <td>The Meg</td>\n",
       "      <td>0</td>\n",
       "      <td>0</td>\n",
       "      <td>0.014</td>\n",
       "    </tr>\n",
       "    <tr>\n",
       "      <th>347</th>\n",
       "      <td>2018</td>\n",
       "      <td>Pacific Rim: Uprising</td>\n",
       "      <td>0</td>\n",
       "      <td>0</td>\n",
       "      <td>0.012</td>\n",
       "    </tr>\n",
       "    <tr>\n",
       "      <th>312</th>\n",
       "      <td>2018</td>\n",
       "      <td>Mission: Impossible - Fallout</td>\n",
       "      <td>0</td>\n",
       "      <td>0</td>\n",
       "      <td>0.012</td>\n",
       "    </tr>\n",
       "  </tbody>\n",
       "</table>\n",
       "</div>"
      ],
      "text/plain": [
       "     Year                                        Movie  Oscar_nominee  \\\n",
       "313  2018                      Solo: A Star Wars Story              0   \n",
       "300  2018                       Avengers: Infinity War              0   \n",
       "369  2018                                   Robin Hood              0   \n",
       "301  2018                                Black Panther              1   \n",
       "319  2018  Fantastic Beasts: The Crimes of Grindelwald              0   \n",
       "317  2018                                Incredibles 2              0   \n",
       "336  2018                              The Equalizer 2              0   \n",
       "327  2018                                      The Meg              0   \n",
       "347  2018                        Pacific Rim: Uprising              0   \n",
       "312  2018                Mission: Impossible - Fallout              0   \n",
       "\n",
       "     Oscar_winner  Predicted Win Rate  \n",
       "313             0               0.070  \n",
       "300             0               0.028  \n",
       "369             0               0.025  \n",
       "301             0               0.018  \n",
       "319             0               0.016  \n",
       "317             0               0.015  \n",
       "336             0               0.014  \n",
       "327             0               0.014  \n",
       "347             0               0.012  \n",
       "312             0               0.012  "
      ]
     },
     "execution_count": 124,
     "metadata": {},
     "output_type": "execute_result"
    }
   ],
   "source": [
    "normalized_prediction[normalized_prediction[\"Year\"] == 2018].sort_values(\"Predicted Win Rate\", ascending=False).head(10)"
   ]
  },
  {
   "cell_type": "code",
   "execution_count": 125,
   "metadata": {},
   "outputs": [
    {
     "data": {
      "text/html": [
       "<div>\n",
       "<style scoped>\n",
       "    .dataframe tbody tr th:only-of-type {\n",
       "        vertical-align: middle;\n",
       "    }\n",
       "\n",
       "    .dataframe tbody tr th {\n",
       "        vertical-align: top;\n",
       "    }\n",
       "\n",
       "    .dataframe thead th {\n",
       "        text-align: right;\n",
       "    }\n",
       "</style>\n",
       "<table border=\"1\" class=\"dataframe\">\n",
       "  <thead>\n",
       "    <tr style=\"text-align: right;\">\n",
       "      <th></th>\n",
       "      <th>Year</th>\n",
       "      <th>Movie</th>\n",
       "      <th>Oscar_nominee</th>\n",
       "      <th>Oscar_winner</th>\n",
       "      <th>Predicted Win Rate</th>\n",
       "    </tr>\n",
       "  </thead>\n",
       "  <tbody>\n",
       "    <tr>\n",
       "      <th>405</th>\n",
       "      <td>2019</td>\n",
       "      <td>Star Wars: Episode IX - The Rise of Skywalker</td>\n",
       "      <td>0</td>\n",
       "      <td>0</td>\n",
       "      <td>0.046</td>\n",
       "    </tr>\n",
       "    <tr>\n",
       "      <th>401</th>\n",
       "      <td>2019</td>\n",
       "      <td>Avengers: Endgame</td>\n",
       "      <td>0</td>\n",
       "      <td>0</td>\n",
       "      <td>0.027</td>\n",
       "    </tr>\n",
       "    <tr>\n",
       "      <th>427</th>\n",
       "      <td>2019</td>\n",
       "      <td>Dark Phoenix</td>\n",
       "      <td>0</td>\n",
       "      <td>0</td>\n",
       "      <td>0.023</td>\n",
       "    </tr>\n",
       "    <tr>\n",
       "      <th>431</th>\n",
       "      <td>2019</td>\n",
       "      <td>Terminator: Dark Fate</td>\n",
       "      <td>0</td>\n",
       "      <td>0</td>\n",
       "      <td>0.019</td>\n",
       "    </tr>\n",
       "    <tr>\n",
       "      <th>407</th>\n",
       "      <td>2019</td>\n",
       "      <td>The Irishman</td>\n",
       "      <td>1</td>\n",
       "      <td>0</td>\n",
       "      <td>0.018</td>\n",
       "    </tr>\n",
       "    <tr>\n",
       "      <th>419</th>\n",
       "      <td>2019</td>\n",
       "      <td>The Lion King</td>\n",
       "      <td>0</td>\n",
       "      <td>0</td>\n",
       "      <td>0.016</td>\n",
       "    </tr>\n",
       "    <tr>\n",
       "      <th>432</th>\n",
       "      <td>2019</td>\n",
       "      <td>6 Underground</td>\n",
       "      <td>0</td>\n",
       "      <td>0</td>\n",
       "      <td>0.015</td>\n",
       "    </tr>\n",
       "    <tr>\n",
       "      <th>412</th>\n",
       "      <td>2019</td>\n",
       "      <td>Alita: Battle Angel</td>\n",
       "      <td>0</td>\n",
       "      <td>0</td>\n",
       "      <td>0.014</td>\n",
       "    </tr>\n",
       "    <tr>\n",
       "      <th>430</th>\n",
       "      <td>2019</td>\n",
       "      <td>Godzilla: King of the Monsters</td>\n",
       "      <td>0</td>\n",
       "      <td>0</td>\n",
       "      <td>0.014</td>\n",
       "    </tr>\n",
       "    <tr>\n",
       "      <th>463</th>\n",
       "      <td>2019</td>\n",
       "      <td>Gemini Man</td>\n",
       "      <td>0</td>\n",
       "      <td>0</td>\n",
       "      <td>0.014</td>\n",
       "    </tr>\n",
       "  </tbody>\n",
       "</table>\n",
       "</div>"
      ],
      "text/plain": [
       "     Year                                          Movie  Oscar_nominee  \\\n",
       "405  2019  Star Wars: Episode IX - The Rise of Skywalker              0   \n",
       "401  2019                              Avengers: Endgame              0   \n",
       "427  2019                                   Dark Phoenix              0   \n",
       "431  2019                          Terminator: Dark Fate              0   \n",
       "407  2019                                   The Irishman              1   \n",
       "419  2019                                  The Lion King              0   \n",
       "432  2019                                  6 Underground              0   \n",
       "412  2019                            Alita: Battle Angel              0   \n",
       "430  2019                 Godzilla: King of the Monsters              0   \n",
       "463  2019                                     Gemini Man              0   \n",
       "\n",
       "     Oscar_winner  Predicted Win Rate  \n",
       "405             0               0.046  \n",
       "401             0               0.027  \n",
       "427             0               0.023  \n",
       "431             0               0.019  \n",
       "407             0               0.018  \n",
       "419             0               0.016  \n",
       "432             0               0.015  \n",
       "412             0               0.014  \n",
       "430             0               0.014  \n",
       "463             0               0.014  "
      ]
     },
     "execution_count": 125,
     "metadata": {},
     "output_type": "execute_result"
    }
   ],
   "source": [
    "normalized_prediction[normalized_prediction[\"Year\"] == 2019].sort_values(\"Predicted Win Rate\", ascending=False).head(10)"
   ]
  },
  {
   "cell_type": "markdown",
   "metadata": {},
   "source": [
    "## #4.2 - Support Vector Classifier (SVC)"
   ]
  },
  {
   "cell_type": "code",
   "execution_count": 126,
   "metadata": {},
   "outputs": [],
   "source": [
    "from sklearn import svm\n",
    "\n",
    "SVM = svm.SVC(probability=True)\n",
    "\n",
    "my_SVM = SVM.fit(X_train, y_train)"
   ]
  },
  {
   "cell_type": "code",
   "execution_count": 127,
   "metadata": {},
   "outputs": [
    {
     "data": {
      "text/html": [
       "<div>\n",
       "<style scoped>\n",
       "    .dataframe tbody tr th:only-of-type {\n",
       "        vertical-align: middle;\n",
       "    }\n",
       "\n",
       "    .dataframe tbody tr th {\n",
       "        vertical-align: top;\n",
       "    }\n",
       "\n",
       "    .dataframe thead th {\n",
       "        text-align: right;\n",
       "    }\n",
       "</style>\n",
       "<table border=\"1\" class=\"dataframe\">\n",
       "  <thead>\n",
       "    <tr style=\"text-align: right;\">\n",
       "      <th></th>\n",
       "      <th>Year</th>\n",
       "      <th>Movie</th>\n",
       "      <th>Oscar_nominee</th>\n",
       "      <th>Oscar_winner</th>\n",
       "      <th>Predicted Win Rate</th>\n",
       "    </tr>\n",
       "  </thead>\n",
       "  <tbody>\n",
       "    <tr>\n",
       "      <th>0</th>\n",
       "      <td>2015</td>\n",
       "      <td>Star Wars: Episode VII - The Force Awakens</td>\n",
       "      <td>0</td>\n",
       "      <td>0</td>\n",
       "      <td>0.005649</td>\n",
       "    </tr>\n",
       "    <tr>\n",
       "      <th>1</th>\n",
       "      <td>2015</td>\n",
       "      <td>Mad Max: Fury Road</td>\n",
       "      <td>1</td>\n",
       "      <td>0</td>\n",
       "      <td>0.010440</td>\n",
       "    </tr>\n",
       "    <tr>\n",
       "      <th>2</th>\n",
       "      <td>2015</td>\n",
       "      <td>The Martian</td>\n",
       "      <td>1</td>\n",
       "      <td>0</td>\n",
       "      <td>0.003242</td>\n",
       "    </tr>\n",
       "    <tr>\n",
       "      <th>3</th>\n",
       "      <td>2015</td>\n",
       "      <td>Avengers: Age of Ultron</td>\n",
       "      <td>0</td>\n",
       "      <td>0</td>\n",
       "      <td>0.000505</td>\n",
       "    </tr>\n",
       "    <tr>\n",
       "      <th>4</th>\n",
       "      <td>2015</td>\n",
       "      <td>The Revenant</td>\n",
       "      <td>1</td>\n",
       "      <td>0</td>\n",
       "      <td>0.008740</td>\n",
       "    </tr>\n",
       "  </tbody>\n",
       "</table>\n",
       "</div>"
      ],
      "text/plain": [
       "   Year                                       Movie  Oscar_nominee  \\\n",
       "0  2015  Star Wars: Episode VII - The Force Awakens              0   \n",
       "1  2015                          Mad Max: Fury Road              1   \n",
       "2  2015                                 The Martian              1   \n",
       "3  2015                     Avengers: Age of Ultron              0   \n",
       "4  2015                                The Revenant              1   \n",
       "\n",
       "   Oscar_winner  Predicted Win Rate  \n",
       "0             0            0.005649  \n",
       "1             0            0.010440  \n",
       "2             0            0.003242  \n",
       "3             0            0.000505  \n",
       "4             0            0.008740  "
      ]
     },
     "execution_count": 127,
     "metadata": {},
     "output_type": "execute_result"
    }
   ],
   "source": [
    "pred_SVM = my_SVM.predict_proba(X_test)[:, 1]\n",
    "\n",
    "SVM_prediction = pd.DataFrame(year, columns=[\"Year\"])\n",
    "SVM_prediction[\"Movie\"] = movie_name\n",
    "SVM_prediction[\"Oscar_nominee\"] = oscar_n\n",
    "SVM_prediction[\"Oscar_winner\"] = oscar_w\n",
    "SVM_prediction['Predicted Win Rate'] = pred_SVM\n",
    "\n",
    "SVM_prediction.head(5)"
   ]
  },
  {
   "cell_type": "code",
   "execution_count": 128,
   "metadata": {},
   "outputs": [],
   "source": [
    "normalized_prediction = SVM_prediction.copy()\n",
    "\n",
    "for index, row in normalized_prediction.iterrows():\n",
    "    normalized_prediction.loc[index, \"Predicted Win Rate\"] = \\\n",
    "        (row[\"Predicted Win Rate\"] / SVM_prediction[\"Predicted Win Rate\"][SVM_prediction[\"Year\"] == row[\"Year\"]].sum()).round(3)"
   ]
  },
  {
   "cell_type": "code",
   "execution_count": 129,
   "metadata": {},
   "outputs": [
    {
     "data": {
      "text/html": [
       "<div>\n",
       "<style scoped>\n",
       "    .dataframe tbody tr th:only-of-type {\n",
       "        vertical-align: middle;\n",
       "    }\n",
       "\n",
       "    .dataframe tbody tr th {\n",
       "        vertical-align: top;\n",
       "    }\n",
       "\n",
       "    .dataframe thead th {\n",
       "        text-align: right;\n",
       "    }\n",
       "</style>\n",
       "<table border=\"1\" class=\"dataframe\">\n",
       "  <thead>\n",
       "    <tr style=\"text-align: right;\">\n",
       "      <th></th>\n",
       "      <th>Year</th>\n",
       "      <th>Movie</th>\n",
       "      <th>Oscar_nominee</th>\n",
       "      <th>Oscar_winner</th>\n",
       "      <th>Predicted Win Rate</th>\n",
       "    </tr>\n",
       "  </thead>\n",
       "  <tbody>\n",
       "    <tr>\n",
       "      <th>28</th>\n",
       "      <td>2015</td>\n",
       "      <td>Focus</td>\n",
       "      <td>0</td>\n",
       "      <td>0</td>\n",
       "      <td>0.146</td>\n",
       "    </tr>\n",
       "    <tr>\n",
       "      <th>66</th>\n",
       "      <td>2015</td>\n",
       "      <td>Paper Towns</td>\n",
       "      <td>0</td>\n",
       "      <td>0</td>\n",
       "      <td>0.010</td>\n",
       "    </tr>\n",
       "    <tr>\n",
       "      <th>17</th>\n",
       "      <td>2015</td>\n",
       "      <td>Bridge of Spies</td>\n",
       "      <td>1</td>\n",
       "      <td>0</td>\n",
       "      <td>0.010</td>\n",
       "    </tr>\n",
       "    <tr>\n",
       "      <th>27</th>\n",
       "      <td>2015</td>\n",
       "      <td>The Intern</td>\n",
       "      <td>0</td>\n",
       "      <td>0</td>\n",
       "      <td>0.010</td>\n",
       "    </tr>\n",
       "    <tr>\n",
       "      <th>58</th>\n",
       "      <td>2015</td>\n",
       "      <td>Daddy's Home</td>\n",
       "      <td>0</td>\n",
       "      <td>0</td>\n",
       "      <td>0.010</td>\n",
       "    </tr>\n",
       "    <tr>\n",
       "      <th>81</th>\n",
       "      <td>2015</td>\n",
       "      <td>Goosebumps</td>\n",
       "      <td>0</td>\n",
       "      <td>0</td>\n",
       "      <td>0.010</td>\n",
       "    </tr>\n",
       "    <tr>\n",
       "      <th>9</th>\n",
       "      <td>2015</td>\n",
       "      <td>Spotlight</td>\n",
       "      <td>1</td>\n",
       "      <td>1</td>\n",
       "      <td>0.010</td>\n",
       "    </tr>\n",
       "    <tr>\n",
       "      <th>22</th>\n",
       "      <td>2015</td>\n",
       "      <td>Spy</td>\n",
       "      <td>0</td>\n",
       "      <td>0</td>\n",
       "      <td>0.010</td>\n",
       "    </tr>\n",
       "    <tr>\n",
       "      <th>69</th>\n",
       "      <td>2015</td>\n",
       "      <td>Insidious: Chapter 3</td>\n",
       "      <td>0</td>\n",
       "      <td>0</td>\n",
       "      <td>0.010</td>\n",
       "    </tr>\n",
       "    <tr>\n",
       "      <th>14</th>\n",
       "      <td>2015</td>\n",
       "      <td>The Big Short</td>\n",
       "      <td>1</td>\n",
       "      <td>0</td>\n",
       "      <td>0.010</td>\n",
       "    </tr>\n",
       "  </tbody>\n",
       "</table>\n",
       "</div>"
      ],
      "text/plain": [
       "    Year                 Movie  Oscar_nominee  Oscar_winner  \\\n",
       "28  2015                 Focus              0             0   \n",
       "66  2015           Paper Towns              0             0   \n",
       "17  2015       Bridge of Spies              1             0   \n",
       "27  2015            The Intern              0             0   \n",
       "58  2015          Daddy's Home              0             0   \n",
       "81  2015            Goosebumps              0             0   \n",
       "9   2015             Spotlight              1             1   \n",
       "22  2015                   Spy              0             0   \n",
       "69  2015  Insidious: Chapter 3              0             0   \n",
       "14  2015         The Big Short              1             0   \n",
       "\n",
       "    Predicted Win Rate  \n",
       "28               0.146  \n",
       "66               0.010  \n",
       "17               0.010  \n",
       "27               0.010  \n",
       "58               0.010  \n",
       "81               0.010  \n",
       "9                0.010  \n",
       "22               0.010  \n",
       "69               0.010  \n",
       "14               0.010  "
      ]
     },
     "execution_count": 129,
     "metadata": {},
     "output_type": "execute_result"
    }
   ],
   "source": [
    "normalized_prediction[normalized_prediction[\"Year\"] == 2015].sort_values(\"Predicted Win Rate\", ascending=False).head(10)"
   ]
  },
  {
   "cell_type": "code",
   "execution_count": 130,
   "metadata": {},
   "outputs": [
    {
     "data": {
      "text/html": [
       "<div>\n",
       "<style scoped>\n",
       "    .dataframe tbody tr th:only-of-type {\n",
       "        vertical-align: middle;\n",
       "    }\n",
       "\n",
       "    .dataframe tbody tr th {\n",
       "        vertical-align: top;\n",
       "    }\n",
       "\n",
       "    .dataframe thead th {\n",
       "        text-align: right;\n",
       "    }\n",
       "</style>\n",
       "<table border=\"1\" class=\"dataframe\">\n",
       "  <thead>\n",
       "    <tr style=\"text-align: right;\">\n",
       "      <th></th>\n",
       "      <th>Year</th>\n",
       "      <th>Movie</th>\n",
       "      <th>Oscar_nominee</th>\n",
       "      <th>Oscar_winner</th>\n",
       "      <th>Predicted Win Rate</th>\n",
       "    </tr>\n",
       "  </thead>\n",
       "  <tbody>\n",
       "    <tr>\n",
       "      <th>108</th>\n",
       "      <td>2016</td>\n",
       "      <td>Zootopia</td>\n",
       "      <td>0</td>\n",
       "      <td>0</td>\n",
       "      <td>0.013</td>\n",
       "    </tr>\n",
       "    <tr>\n",
       "      <th>125</th>\n",
       "      <td>2016</td>\n",
       "      <td>Sully</td>\n",
       "      <td>0</td>\n",
       "      <td>0</td>\n",
       "      <td>0.012</td>\n",
       "    </tr>\n",
       "    <tr>\n",
       "      <th>105</th>\n",
       "      <td>2016</td>\n",
       "      <td>Arrival</td>\n",
       "      <td>1</td>\n",
       "      <td>0</td>\n",
       "      <td>0.012</td>\n",
       "    </tr>\n",
       "    <tr>\n",
       "      <th>107</th>\n",
       "      <td>2016</td>\n",
       "      <td>La La Land</td>\n",
       "      <td>1</td>\n",
       "      <td>0</td>\n",
       "      <td>0.012</td>\n",
       "    </tr>\n",
       "    <tr>\n",
       "      <th>199</th>\n",
       "      <td>2016</td>\n",
       "      <td>The Boy</td>\n",
       "      <td>0</td>\n",
       "      <td>0</td>\n",
       "      <td>0.011</td>\n",
       "    </tr>\n",
       "    <tr>\n",
       "      <th>181</th>\n",
       "      <td>2016</td>\n",
       "      <td>Fences</td>\n",
       "      <td>1</td>\n",
       "      <td>0</td>\n",
       "      <td>0.011</td>\n",
       "    </tr>\n",
       "    <tr>\n",
       "      <th>154</th>\n",
       "      <td>2016</td>\n",
       "      <td>Jack Reacher: Never Go Back</td>\n",
       "      <td>0</td>\n",
       "      <td>0</td>\n",
       "      <td>0.011</td>\n",
       "    </tr>\n",
       "    <tr>\n",
       "      <th>153</th>\n",
       "      <td>2016</td>\n",
       "      <td>Busanhaeng</td>\n",
       "      <td>0</td>\n",
       "      <td>0</td>\n",
       "      <td>0.011</td>\n",
       "    </tr>\n",
       "    <tr>\n",
       "      <th>152</th>\n",
       "      <td>2016</td>\n",
       "      <td>Allied</td>\n",
       "      <td>0</td>\n",
       "      <td>0</td>\n",
       "      <td>0.011</td>\n",
       "    </tr>\n",
       "    <tr>\n",
       "      <th>151</th>\n",
       "      <td>2016</td>\n",
       "      <td>London Has Fallen</td>\n",
       "      <td>0</td>\n",
       "      <td>0</td>\n",
       "      <td>0.011</td>\n",
       "    </tr>\n",
       "  </tbody>\n",
       "</table>\n",
       "</div>"
      ],
      "text/plain": [
       "     Year                        Movie  Oscar_nominee  Oscar_winner  \\\n",
       "108  2016                     Zootopia              0             0   \n",
       "125  2016                        Sully              0             0   \n",
       "105  2016                      Arrival              1             0   \n",
       "107  2016                   La La Land              1             0   \n",
       "199  2016                      The Boy              0             0   \n",
       "181  2016                       Fences              1             0   \n",
       "154  2016  Jack Reacher: Never Go Back              0             0   \n",
       "153  2016                   Busanhaeng              0             0   \n",
       "152  2016                       Allied              0             0   \n",
       "151  2016            London Has Fallen              0             0   \n",
       "\n",
       "     Predicted Win Rate  \n",
       "108               0.013  \n",
       "125               0.012  \n",
       "105               0.012  \n",
       "107               0.012  \n",
       "199               0.011  \n",
       "181               0.011  \n",
       "154               0.011  \n",
       "153               0.011  \n",
       "152               0.011  \n",
       "151               0.011  "
      ]
     },
     "execution_count": 130,
     "metadata": {},
     "output_type": "execute_result"
    }
   ],
   "source": [
    "normalized_prediction[normalized_prediction[\"Year\"] == 2016].sort_values(\"Predicted Win Rate\", ascending=False).head(10)"
   ]
  },
  {
   "cell_type": "code",
   "execution_count": 131,
   "metadata": {},
   "outputs": [
    {
     "data": {
      "text/html": [
       "<div>\n",
       "<style scoped>\n",
       "    .dataframe tbody tr th:only-of-type {\n",
       "        vertical-align: middle;\n",
       "    }\n",
       "\n",
       "    .dataframe tbody tr th {\n",
       "        vertical-align: top;\n",
       "    }\n",
       "\n",
       "    .dataframe thead th {\n",
       "        text-align: right;\n",
       "    }\n",
       "</style>\n",
       "<table border=\"1\" class=\"dataframe\">\n",
       "  <thead>\n",
       "    <tr style=\"text-align: right;\">\n",
       "      <th></th>\n",
       "      <th>Year</th>\n",
       "      <th>Movie</th>\n",
       "      <th>Oscar_nominee</th>\n",
       "      <th>Oscar_winner</th>\n",
       "      <th>Predicted Win Rate</th>\n",
       "    </tr>\n",
       "  </thead>\n",
       "  <tbody>\n",
       "    <tr>\n",
       "      <th>254</th>\n",
       "      <td>2017</td>\n",
       "      <td>Despicable Me 3</td>\n",
       "      <td>0</td>\n",
       "      <td>0</td>\n",
       "      <td>0.059</td>\n",
       "    </tr>\n",
       "    <tr>\n",
       "      <th>217</th>\n",
       "      <td>2017</td>\n",
       "      <td>Beauty and the Beast</td>\n",
       "      <td>1</td>\n",
       "      <td>0</td>\n",
       "      <td>0.033</td>\n",
       "    </tr>\n",
       "    <tr>\n",
       "      <th>250</th>\n",
       "      <td>2017</td>\n",
       "      <td>The Big Sick</td>\n",
       "      <td>0</td>\n",
       "      <td>0</td>\n",
       "      <td>0.011</td>\n",
       "    </tr>\n",
       "    <tr>\n",
       "      <th>261</th>\n",
       "      <td>2017</td>\n",
       "      <td>Downsizing</td>\n",
       "      <td>0</td>\n",
       "      <td>0</td>\n",
       "      <td>0.011</td>\n",
       "    </tr>\n",
       "    <tr>\n",
       "      <th>273</th>\n",
       "      <td>2017</td>\n",
       "      <td>Reis</td>\n",
       "      <td>0</td>\n",
       "      <td>0</td>\n",
       "      <td>0.011</td>\n",
       "    </tr>\n",
       "    <tr>\n",
       "      <th>272</th>\n",
       "      <td>2017</td>\n",
       "      <td>The Death of Stalin</td>\n",
       "      <td>0</td>\n",
       "      <td>0</td>\n",
       "      <td>0.011</td>\n",
       "    </tr>\n",
       "    <tr>\n",
       "      <th>271</th>\n",
       "      <td>2017</td>\n",
       "      <td>It Comes at Night</td>\n",
       "      <td>0</td>\n",
       "      <td>0</td>\n",
       "      <td>0.011</td>\n",
       "    </tr>\n",
       "    <tr>\n",
       "      <th>270</th>\n",
       "      <td>2017</td>\n",
       "      <td>Gerald's Game</td>\n",
       "      <td>0</td>\n",
       "      <td>0</td>\n",
       "      <td>0.011</td>\n",
       "    </tr>\n",
       "    <tr>\n",
       "      <th>269</th>\n",
       "      <td>2017</td>\n",
       "      <td>The Circle</td>\n",
       "      <td>0</td>\n",
       "      <td>0</td>\n",
       "      <td>0.011</td>\n",
       "    </tr>\n",
       "    <tr>\n",
       "      <th>267</th>\n",
       "      <td>2017</td>\n",
       "      <td>The Florida Project</td>\n",
       "      <td>0</td>\n",
       "      <td>0</td>\n",
       "      <td>0.011</td>\n",
       "    </tr>\n",
       "  </tbody>\n",
       "</table>\n",
       "</div>"
      ],
      "text/plain": [
       "     Year                 Movie  Oscar_nominee  Oscar_winner  \\\n",
       "254  2017       Despicable Me 3              0             0   \n",
       "217  2017  Beauty and the Beast              1             0   \n",
       "250  2017          The Big Sick              0             0   \n",
       "261  2017            Downsizing              0             0   \n",
       "273  2017                  Reis              0             0   \n",
       "272  2017   The Death of Stalin              0             0   \n",
       "271  2017     It Comes at Night              0             0   \n",
       "270  2017         Gerald's Game              0             0   \n",
       "269  2017            The Circle              0             0   \n",
       "267  2017   The Florida Project              0             0   \n",
       "\n",
       "     Predicted Win Rate  \n",
       "254               0.059  \n",
       "217               0.033  \n",
       "250               0.011  \n",
       "261               0.011  \n",
       "273               0.011  \n",
       "272               0.011  \n",
       "271               0.011  \n",
       "270               0.011  \n",
       "269               0.011  \n",
       "267               0.011  "
      ]
     },
     "execution_count": 131,
     "metadata": {},
     "output_type": "execute_result"
    }
   ],
   "source": [
    "normalized_prediction[normalized_prediction[\"Year\"] == 2017].sort_values(\"Predicted Win Rate\", ascending=False).head(10)"
   ]
  },
  {
   "cell_type": "code",
   "execution_count": 132,
   "metadata": {},
   "outputs": [
    {
     "data": {
      "text/html": [
       "<div>\n",
       "<style scoped>\n",
       "    .dataframe tbody tr th:only-of-type {\n",
       "        vertical-align: middle;\n",
       "    }\n",
       "\n",
       "    .dataframe tbody tr th {\n",
       "        vertical-align: top;\n",
       "    }\n",
       "\n",
       "    .dataframe thead th {\n",
       "        text-align: right;\n",
       "    }\n",
       "</style>\n",
       "<table border=\"1\" class=\"dataframe\">\n",
       "  <thead>\n",
       "    <tr style=\"text-align: right;\">\n",
       "      <th></th>\n",
       "      <th>Year</th>\n",
       "      <th>Movie</th>\n",
       "      <th>Oscar_nominee</th>\n",
       "      <th>Oscar_winner</th>\n",
       "      <th>Predicted Win Rate</th>\n",
       "    </tr>\n",
       "  </thead>\n",
       "  <tbody>\n",
       "    <tr>\n",
       "      <th>306</th>\n",
       "      <td>2018</td>\n",
       "      <td>Aquaman</td>\n",
       "      <td>0</td>\n",
       "      <td>0</td>\n",
       "      <td>0.021</td>\n",
       "    </tr>\n",
       "    <tr>\n",
       "      <th>317</th>\n",
       "      <td>2018</td>\n",
       "      <td>Incredibles 2</td>\n",
       "      <td>0</td>\n",
       "      <td>0</td>\n",
       "      <td>0.021</td>\n",
       "    </tr>\n",
       "    <tr>\n",
       "      <th>350</th>\n",
       "      <td>2018</td>\n",
       "      <td>Creed II</td>\n",
       "      <td>0</td>\n",
       "      <td>0</td>\n",
       "      <td>0.011</td>\n",
       "    </tr>\n",
       "    <tr>\n",
       "      <th>362</th>\n",
       "      <td>2018</td>\n",
       "      <td>Blockers</td>\n",
       "      <td>0</td>\n",
       "      <td>0</td>\n",
       "      <td>0.011</td>\n",
       "    </tr>\n",
       "    <tr>\n",
       "      <th>372</th>\n",
       "      <td>2018</td>\n",
       "      <td>Eighth Grade</td>\n",
       "      <td>0</td>\n",
       "      <td>0</td>\n",
       "      <td>0.011</td>\n",
       "    </tr>\n",
       "    <tr>\n",
       "      <th>371</th>\n",
       "      <td>2018</td>\n",
       "      <td>Mandy</td>\n",
       "      <td>0</td>\n",
       "      <td>0</td>\n",
       "      <td>0.011</td>\n",
       "    </tr>\n",
       "    <tr>\n",
       "      <th>368</th>\n",
       "      <td>2018</td>\n",
       "      <td>Death Wish</td>\n",
       "      <td>0</td>\n",
       "      <td>0</td>\n",
       "      <td>0.011</td>\n",
       "    </tr>\n",
       "    <tr>\n",
       "      <th>367</th>\n",
       "      <td>2018</td>\n",
       "      <td>Andhadhun</td>\n",
       "      <td>0</td>\n",
       "      <td>0</td>\n",
       "      <td>0.011</td>\n",
       "    </tr>\n",
       "    <tr>\n",
       "      <th>366</th>\n",
       "      <td>2018</td>\n",
       "      <td>Mile 22</td>\n",
       "      <td>0</td>\n",
       "      <td>0</td>\n",
       "      <td>0.011</td>\n",
       "    </tr>\n",
       "    <tr>\n",
       "      <th>365</th>\n",
       "      <td>2018</td>\n",
       "      <td>12 Strong</td>\n",
       "      <td>0</td>\n",
       "      <td>0</td>\n",
       "      <td>0.011</td>\n",
       "    </tr>\n",
       "  </tbody>\n",
       "</table>\n",
       "</div>"
      ],
      "text/plain": [
       "     Year          Movie  Oscar_nominee  Oscar_winner  Predicted Win Rate\n",
       "306  2018        Aquaman              0             0               0.021\n",
       "317  2018  Incredibles 2              0             0               0.021\n",
       "350  2018       Creed II              0             0               0.011\n",
       "362  2018       Blockers              0             0               0.011\n",
       "372  2018   Eighth Grade              0             0               0.011\n",
       "371  2018          Mandy              0             0               0.011\n",
       "368  2018     Death Wish              0             0               0.011\n",
       "367  2018      Andhadhun              0             0               0.011\n",
       "366  2018        Mile 22              0             0               0.011\n",
       "365  2018      12 Strong              0             0               0.011"
      ]
     },
     "execution_count": 132,
     "metadata": {},
     "output_type": "execute_result"
    }
   ],
   "source": [
    "normalized_prediction[normalized_prediction[\"Year\"] == 2018].sort_values(\"Predicted Win Rate\", ascending=False).head(10)"
   ]
  },
  {
   "cell_type": "code",
   "execution_count": 133,
   "metadata": {},
   "outputs": [
    {
     "data": {
      "text/html": [
       "<div>\n",
       "<style scoped>\n",
       "    .dataframe tbody tr th:only-of-type {\n",
       "        vertical-align: middle;\n",
       "    }\n",
       "\n",
       "    .dataframe tbody tr th {\n",
       "        vertical-align: top;\n",
       "    }\n",
       "\n",
       "    .dataframe thead th {\n",
       "        text-align: right;\n",
       "    }\n",
       "</style>\n",
       "<table border=\"1\" class=\"dataframe\">\n",
       "  <thead>\n",
       "    <tr style=\"text-align: right;\">\n",
       "      <th></th>\n",
       "      <th>Year</th>\n",
       "      <th>Movie</th>\n",
       "      <th>Oscar_nominee</th>\n",
       "      <th>Oscar_winner</th>\n",
       "      <th>Predicted Win Rate</th>\n",
       "    </tr>\n",
       "  </thead>\n",
       "  <tbody>\n",
       "    <tr>\n",
       "      <th>400</th>\n",
       "      <td>2019</td>\n",
       "      <td>Joker</td>\n",
       "      <td>1</td>\n",
       "      <td>0</td>\n",
       "      <td>0.169</td>\n",
       "    </tr>\n",
       "    <tr>\n",
       "      <th>406</th>\n",
       "      <td>2019</td>\n",
       "      <td>Spider-Man: Far from Home</td>\n",
       "      <td>0</td>\n",
       "      <td>0</td>\n",
       "      <td>0.033</td>\n",
       "    </tr>\n",
       "    <tr>\n",
       "      <th>403</th>\n",
       "      <td>2019</td>\n",
       "      <td>Captain Marvel</td>\n",
       "      <td>0</td>\n",
       "      <td>0</td>\n",
       "      <td>0.026</td>\n",
       "    </tr>\n",
       "    <tr>\n",
       "      <th>461</th>\n",
       "      <td>2019</td>\n",
       "      <td>Maleficent: Mistress of Evil</td>\n",
       "      <td>0</td>\n",
       "      <td>0</td>\n",
       "      <td>0.009</td>\n",
       "    </tr>\n",
       "    <tr>\n",
       "      <th>472</th>\n",
       "      <td>2019</td>\n",
       "      <td>Happy Death Day 2U</td>\n",
       "      <td>0</td>\n",
       "      <td>0</td>\n",
       "      <td>0.009</td>\n",
       "    </tr>\n",
       "    <tr>\n",
       "      <th>471</th>\n",
       "      <td>2019</td>\n",
       "      <td>Velvet Buzzsaw</td>\n",
       "      <td>0</td>\n",
       "      <td>0</td>\n",
       "      <td>0.009</td>\n",
       "    </tr>\n",
       "    <tr>\n",
       "      <th>470</th>\n",
       "      <td>2019</td>\n",
       "      <td>Cold Pursuit</td>\n",
       "      <td>0</td>\n",
       "      <td>0</td>\n",
       "      <td>0.009</td>\n",
       "    </tr>\n",
       "    <tr>\n",
       "      <th>469</th>\n",
       "      <td>2019</td>\n",
       "      <td>Crawl</td>\n",
       "      <td>0</td>\n",
       "      <td>0</td>\n",
       "      <td>0.009</td>\n",
       "    </tr>\n",
       "    <tr>\n",
       "      <th>467</th>\n",
       "      <td>2019</td>\n",
       "      <td>Fighting with My Family</td>\n",
       "      <td>0</td>\n",
       "      <td>0</td>\n",
       "      <td>0.009</td>\n",
       "    </tr>\n",
       "    <tr>\n",
       "      <th>466</th>\n",
       "      <td>2019</td>\n",
       "      <td>Isn't It Romantic</td>\n",
       "      <td>0</td>\n",
       "      <td>0</td>\n",
       "      <td>0.009</td>\n",
       "    </tr>\n",
       "  </tbody>\n",
       "</table>\n",
       "</div>"
      ],
      "text/plain": [
       "     Year                         Movie  Oscar_nominee  Oscar_winner  \\\n",
       "400  2019                         Joker              1             0   \n",
       "406  2019     Spider-Man: Far from Home              0             0   \n",
       "403  2019                Captain Marvel              0             0   \n",
       "461  2019  Maleficent: Mistress of Evil              0             0   \n",
       "472  2019            Happy Death Day 2U              0             0   \n",
       "471  2019                Velvet Buzzsaw              0             0   \n",
       "470  2019                  Cold Pursuit              0             0   \n",
       "469  2019                         Crawl              0             0   \n",
       "467  2019       Fighting with My Family              0             0   \n",
       "466  2019             Isn't It Romantic              0             0   \n",
       "\n",
       "     Predicted Win Rate  \n",
       "400               0.169  \n",
       "406               0.033  \n",
       "403               0.026  \n",
       "461               0.009  \n",
       "472               0.009  \n",
       "471               0.009  \n",
       "470               0.009  \n",
       "469               0.009  \n",
       "467               0.009  \n",
       "466               0.009  "
      ]
     },
     "execution_count": 133,
     "metadata": {},
     "output_type": "execute_result"
    }
   ],
   "source": [
    "normalized_prediction[normalized_prediction[\"Year\"] == 2019].sort_values(\"Predicted Win Rate\", ascending=False).head(10)"
   ]
  },
  {
   "cell_type": "markdown",
   "metadata": {},
   "source": [
    "## #4.3 - K-Nearest Neighbors Classifier"
   ]
  },
  {
   "cell_type": "code",
   "execution_count": 134,
   "metadata": {},
   "outputs": [],
   "source": [
    "KNN = KNeighborsClassifier()\n",
    "\n",
    "my_KNN = KNN.fit(X_train, y_train)"
   ]
  },
  {
   "cell_type": "code",
   "execution_count": 135,
   "metadata": {},
   "outputs": [
    {
     "data": {
      "text/html": [
       "<div>\n",
       "<style scoped>\n",
       "    .dataframe tbody tr th:only-of-type {\n",
       "        vertical-align: middle;\n",
       "    }\n",
       "\n",
       "    .dataframe tbody tr th {\n",
       "        vertical-align: top;\n",
       "    }\n",
       "\n",
       "    .dataframe thead th {\n",
       "        text-align: right;\n",
       "    }\n",
       "</style>\n",
       "<table border=\"1\" class=\"dataframe\">\n",
       "  <thead>\n",
       "    <tr style=\"text-align: right;\">\n",
       "      <th></th>\n",
       "      <th>Year</th>\n",
       "      <th>Movie</th>\n",
       "      <th>Oscar_nominee</th>\n",
       "      <th>Oscar_winner</th>\n",
       "      <th>Predicted Win Rate</th>\n",
       "    </tr>\n",
       "  </thead>\n",
       "  <tbody>\n",
       "    <tr>\n",
       "      <th>0</th>\n",
       "      <td>2015</td>\n",
       "      <td>Star Wars: Episode VII - The Force Awakens</td>\n",
       "      <td>0</td>\n",
       "      <td>0</td>\n",
       "      <td>0.0</td>\n",
       "    </tr>\n",
       "    <tr>\n",
       "      <th>1</th>\n",
       "      <td>2015</td>\n",
       "      <td>Mad Max: Fury Road</td>\n",
       "      <td>1</td>\n",
       "      <td>0</td>\n",
       "      <td>0.0</td>\n",
       "    </tr>\n",
       "    <tr>\n",
       "      <th>2</th>\n",
       "      <td>2015</td>\n",
       "      <td>The Martian</td>\n",
       "      <td>1</td>\n",
       "      <td>0</td>\n",
       "      <td>0.0</td>\n",
       "    </tr>\n",
       "    <tr>\n",
       "      <th>3</th>\n",
       "      <td>2015</td>\n",
       "      <td>Avengers: Age of Ultron</td>\n",
       "      <td>0</td>\n",
       "      <td>0</td>\n",
       "      <td>0.0</td>\n",
       "    </tr>\n",
       "    <tr>\n",
       "      <th>4</th>\n",
       "      <td>2015</td>\n",
       "      <td>The Revenant</td>\n",
       "      <td>1</td>\n",
       "      <td>0</td>\n",
       "      <td>0.0</td>\n",
       "    </tr>\n",
       "  </tbody>\n",
       "</table>\n",
       "</div>"
      ],
      "text/plain": [
       "   Year                                       Movie  Oscar_nominee  \\\n",
       "0  2015  Star Wars: Episode VII - The Force Awakens              0   \n",
       "1  2015                          Mad Max: Fury Road              1   \n",
       "2  2015                                 The Martian              1   \n",
       "3  2015                     Avengers: Age of Ultron              0   \n",
       "4  2015                                The Revenant              1   \n",
       "\n",
       "   Oscar_winner  Predicted Win Rate  \n",
       "0             0                 0.0  \n",
       "1             0                 0.0  \n",
       "2             0                 0.0  \n",
       "3             0                 0.0  \n",
       "4             0                 0.0  "
      ]
     },
     "execution_count": 135,
     "metadata": {},
     "output_type": "execute_result"
    }
   ],
   "source": [
    "pred_KNN = my_KNN.predict_proba(X_test)[:, 1]\n",
    "\n",
    "KNN_prediction = pd.DataFrame(year, columns=[\"Year\"])\n",
    "KNN_prediction[\"Movie\"] = movie_name\n",
    "KNN_prediction[\"Oscar_nominee\"] = oscar_n\n",
    "KNN_prediction[\"Oscar_winner\"] = oscar_w\n",
    "KNN_prediction['Predicted Win Rate'] = pred_KNN\n",
    "\n",
    "KNN_prediction.head(5)"
   ]
  },
  {
   "cell_type": "code",
   "execution_count": 136,
   "metadata": {},
   "outputs": [],
   "source": [
    "normalized_prediction = KNN_prediction.copy()\n",
    "\n",
    "for index, row in normalized_prediction.iterrows():\n",
    "    normalized_prediction.loc[index, \"Predicted Win Rate\"] = \\\n",
    "        (row[\"Predicted Win Rate\"] / KNN_prediction[\"Predicted Win Rate\"][KNN_prediction[\"Year\"] == row[\"Year\"]].sum()).round(3)"
   ]
  },
  {
   "cell_type": "code",
   "execution_count": 137,
   "metadata": {},
   "outputs": [
    {
     "data": {
      "text/html": [
       "<div>\n",
       "<style scoped>\n",
       "    .dataframe tbody tr th:only-of-type {\n",
       "        vertical-align: middle;\n",
       "    }\n",
       "\n",
       "    .dataframe tbody tr th {\n",
       "        vertical-align: top;\n",
       "    }\n",
       "\n",
       "    .dataframe thead th {\n",
       "        text-align: right;\n",
       "    }\n",
       "</style>\n",
       "<table border=\"1\" class=\"dataframe\">\n",
       "  <thead>\n",
       "    <tr style=\"text-align: right;\">\n",
       "      <th></th>\n",
       "      <th>Year</th>\n",
       "      <th>Movie</th>\n",
       "      <th>Oscar_nominee</th>\n",
       "      <th>Oscar_winner</th>\n",
       "      <th>Predicted Win Rate</th>\n",
       "    </tr>\n",
       "  </thead>\n",
       "  <tbody>\n",
       "    <tr>\n",
       "      <th>26</th>\n",
       "      <td>2015</td>\n",
       "      <td>Insurgent</td>\n",
       "      <td>0</td>\n",
       "      <td>0</td>\n",
       "      <td>0.143</td>\n",
       "    </tr>\n",
       "    <tr>\n",
       "      <th>45</th>\n",
       "      <td>2015</td>\n",
       "      <td>Pitch Perfect 2</td>\n",
       "      <td>0</td>\n",
       "      <td>0</td>\n",
       "      <td>0.143</td>\n",
       "    </tr>\n",
       "    <tr>\n",
       "      <th>77</th>\n",
       "      <td>2015</td>\n",
       "      <td>Eddie the Eagle</td>\n",
       "      <td>0</td>\n",
       "      <td>0</td>\n",
       "      <td>0.143</td>\n",
       "    </tr>\n",
       "    <tr>\n",
       "      <th>30</th>\n",
       "      <td>2015</td>\n",
       "      <td>San Andreas</td>\n",
       "      <td>0</td>\n",
       "      <td>0</td>\n",
       "      <td>0.143</td>\n",
       "    </tr>\n",
       "    <tr>\n",
       "      <th>17</th>\n",
       "      <td>2015</td>\n",
       "      <td>Bridge of Spies</td>\n",
       "      <td>1</td>\n",
       "      <td>0</td>\n",
       "      <td>0.143</td>\n",
       "    </tr>\n",
       "    <tr>\n",
       "      <th>28</th>\n",
       "      <td>2015</td>\n",
       "      <td>Focus</td>\n",
       "      <td>0</td>\n",
       "      <td>0</td>\n",
       "      <td>0.143</td>\n",
       "    </tr>\n",
       "    <tr>\n",
       "      <th>58</th>\n",
       "      <td>2015</td>\n",
       "      <td>Daddy's Home</td>\n",
       "      <td>0</td>\n",
       "      <td>0</td>\n",
       "      <td>0.143</td>\n",
       "    </tr>\n",
       "    <tr>\n",
       "      <th>59</th>\n",
       "      <td>2015</td>\n",
       "      <td>Burnt</td>\n",
       "      <td>0</td>\n",
       "      <td>0</td>\n",
       "      <td>0.000</td>\n",
       "    </tr>\n",
       "    <tr>\n",
       "      <th>57</th>\n",
       "      <td>2015</td>\n",
       "      <td>The Visit</td>\n",
       "      <td>0</td>\n",
       "      <td>0</td>\n",
       "      <td>0.000</td>\n",
       "    </tr>\n",
       "    <tr>\n",
       "      <th>74</th>\n",
       "      <td>2015</td>\n",
       "      <td>Concussion</td>\n",
       "      <td>0</td>\n",
       "      <td>0</td>\n",
       "      <td>0.000</td>\n",
       "    </tr>\n",
       "  </tbody>\n",
       "</table>\n",
       "</div>"
      ],
      "text/plain": [
       "    Year            Movie  Oscar_nominee  Oscar_winner  Predicted Win Rate\n",
       "26  2015        Insurgent              0             0               0.143\n",
       "45  2015  Pitch Perfect 2              0             0               0.143\n",
       "77  2015  Eddie the Eagle              0             0               0.143\n",
       "30  2015      San Andreas              0             0               0.143\n",
       "17  2015  Bridge of Spies              1             0               0.143\n",
       "28  2015            Focus              0             0               0.143\n",
       "58  2015     Daddy's Home              0             0               0.143\n",
       "59  2015            Burnt              0             0               0.000\n",
       "57  2015        The Visit              0             0               0.000\n",
       "74  2015       Concussion              0             0               0.000"
      ]
     },
     "execution_count": 137,
     "metadata": {},
     "output_type": "execute_result"
    }
   ],
   "source": [
    "normalized_prediction[normalized_prediction[\"Year\"] == 2015].sort_values(\"Predicted Win Rate\", ascending=False).head(10)"
   ]
  },
  {
   "cell_type": "code",
   "execution_count": 138,
   "metadata": {},
   "outputs": [
    {
     "data": {
      "text/html": [
       "<div>\n",
       "<style scoped>\n",
       "    .dataframe tbody tr th:only-of-type {\n",
       "        vertical-align: middle;\n",
       "    }\n",
       "\n",
       "    .dataframe tbody tr th {\n",
       "        vertical-align: top;\n",
       "    }\n",
       "\n",
       "    .dataframe thead th {\n",
       "        text-align: right;\n",
       "    }\n",
       "</style>\n",
       "<table border=\"1\" class=\"dataframe\">\n",
       "  <thead>\n",
       "    <tr style=\"text-align: right;\">\n",
       "      <th></th>\n",
       "      <th>Year</th>\n",
       "      <th>Movie</th>\n",
       "      <th>Oscar_nominee</th>\n",
       "      <th>Oscar_winner</th>\n",
       "      <th>Predicted Win Rate</th>\n",
       "    </tr>\n",
       "  </thead>\n",
       "  <tbody>\n",
       "    <tr>\n",
       "      <th>146</th>\n",
       "      <td>2016</td>\n",
       "      <td>Central Intelligence</td>\n",
       "      <td>0</td>\n",
       "      <td>0</td>\n",
       "      <td>0.25</td>\n",
       "    </tr>\n",
       "    <tr>\n",
       "      <th>107</th>\n",
       "      <td>2016</td>\n",
       "      <td>La La Land</td>\n",
       "      <td>1</td>\n",
       "      <td>0</td>\n",
       "      <td>0.25</td>\n",
       "    </tr>\n",
       "    <tr>\n",
       "      <th>132</th>\n",
       "      <td>2016</td>\n",
       "      <td>Me Before You</td>\n",
       "      <td>0</td>\n",
       "      <td>0</td>\n",
       "      <td>0.25</td>\n",
       "    </tr>\n",
       "    <tr>\n",
       "      <th>169</th>\n",
       "      <td>2016</td>\n",
       "      <td>Dirty Grandpa</td>\n",
       "      <td>0</td>\n",
       "      <td>0</td>\n",
       "      <td>0.25</td>\n",
       "    </tr>\n",
       "    <tr>\n",
       "      <th>100</th>\n",
       "      <td>2016</td>\n",
       "      <td>Deadpool</td>\n",
       "      <td>0</td>\n",
       "      <td>0</td>\n",
       "      <td>0.00</td>\n",
       "    </tr>\n",
       "    <tr>\n",
       "      <th>164</th>\n",
       "      <td>2016</td>\n",
       "      <td>Nerve</td>\n",
       "      <td>0</td>\n",
       "      <td>0</td>\n",
       "      <td>0.00</td>\n",
       "    </tr>\n",
       "    <tr>\n",
       "      <th>173</th>\n",
       "      <td>2016</td>\n",
       "      <td>Swiss Army Man</td>\n",
       "      <td>0</td>\n",
       "      <td>0</td>\n",
       "      <td>0.00</td>\n",
       "    </tr>\n",
       "    <tr>\n",
       "      <th>172</th>\n",
       "      <td>2016</td>\n",
       "      <td>Gods of Egypt</td>\n",
       "      <td>0</td>\n",
       "      <td>0</td>\n",
       "      <td>0.00</td>\n",
       "    </tr>\n",
       "    <tr>\n",
       "      <th>171</th>\n",
       "      <td>2016</td>\n",
       "      <td>Allegiant</td>\n",
       "      <td>0</td>\n",
       "      <td>0</td>\n",
       "      <td>0.00</td>\n",
       "    </tr>\n",
       "    <tr>\n",
       "      <th>170</th>\n",
       "      <td>2016</td>\n",
       "      <td>Dag II</td>\n",
       "      <td>0</td>\n",
       "      <td>0</td>\n",
       "      <td>0.00</td>\n",
       "    </tr>\n",
       "  </tbody>\n",
       "</table>\n",
       "</div>"
      ],
      "text/plain": [
       "     Year                 Movie  Oscar_nominee  Oscar_winner  \\\n",
       "146  2016  Central Intelligence              0             0   \n",
       "107  2016            La La Land              1             0   \n",
       "132  2016         Me Before You              0             0   \n",
       "169  2016         Dirty Grandpa              0             0   \n",
       "100  2016              Deadpool              0             0   \n",
       "164  2016                 Nerve              0             0   \n",
       "173  2016        Swiss Army Man              0             0   \n",
       "172  2016         Gods of Egypt              0             0   \n",
       "171  2016             Allegiant              0             0   \n",
       "170  2016                Dag II              0             0   \n",
       "\n",
       "     Predicted Win Rate  \n",
       "146                0.25  \n",
       "107                0.25  \n",
       "132                0.25  \n",
       "169                0.25  \n",
       "100                0.00  \n",
       "164                0.00  \n",
       "173                0.00  \n",
       "172                0.00  \n",
       "171                0.00  \n",
       "170                0.00  "
      ]
     },
     "execution_count": 138,
     "metadata": {},
     "output_type": "execute_result"
    }
   ],
   "source": [
    "normalized_prediction[normalized_prediction[\"Year\"] == 2016].sort_values(\"Predicted Win Rate\", ascending=False).head(10)"
   ]
  },
  {
   "cell_type": "code",
   "execution_count": 139,
   "metadata": {},
   "outputs": [
    {
     "data": {
      "text/html": [
       "<div>\n",
       "<style scoped>\n",
       "    .dataframe tbody tr th:only-of-type {\n",
       "        vertical-align: middle;\n",
       "    }\n",
       "\n",
       "    .dataframe tbody tr th {\n",
       "        vertical-align: top;\n",
       "    }\n",
       "\n",
       "    .dataframe thead th {\n",
       "        text-align: right;\n",
       "    }\n",
       "</style>\n",
       "<table border=\"1\" class=\"dataframe\">\n",
       "  <thead>\n",
       "    <tr style=\"text-align: right;\">\n",
       "      <th></th>\n",
       "      <th>Year</th>\n",
       "      <th>Movie</th>\n",
       "      <th>Oscar_nominee</th>\n",
       "      <th>Oscar_winner</th>\n",
       "      <th>Predicted Win Rate</th>\n",
       "    </tr>\n",
       "  </thead>\n",
       "  <tbody>\n",
       "    <tr>\n",
       "      <th>254</th>\n",
       "      <td>2017</td>\n",
       "      <td>Despicable Me 3</td>\n",
       "      <td>0</td>\n",
       "      <td>0</td>\n",
       "      <td>0.111</td>\n",
       "    </tr>\n",
       "    <tr>\n",
       "      <th>286</th>\n",
       "      <td>2017</td>\n",
       "      <td>A Dog's Purpose</td>\n",
       "      <td>0</td>\n",
       "      <td>0</td>\n",
       "      <td>0.111</td>\n",
       "    </tr>\n",
       "    <tr>\n",
       "      <th>233</th>\n",
       "      <td>2017</td>\n",
       "      <td>The Hitman's Bodyguard</td>\n",
       "      <td>0</td>\n",
       "      <td>0</td>\n",
       "      <td>0.111</td>\n",
       "    </tr>\n",
       "    <tr>\n",
       "      <th>222</th>\n",
       "      <td>2017</td>\n",
       "      <td>The Greatest Showman</td>\n",
       "      <td>0</td>\n",
       "      <td>0</td>\n",
       "      <td>0.111</td>\n",
       "    </tr>\n",
       "    <tr>\n",
       "      <th>245</th>\n",
       "      <td>2017</td>\n",
       "      <td>The Lego Batman Movie</td>\n",
       "      <td>0</td>\n",
       "      <td>0</td>\n",
       "      <td>0.111</td>\n",
       "    </tr>\n",
       "    <tr>\n",
       "      <th>210</th>\n",
       "      <td>2017</td>\n",
       "      <td>Baby Driver</td>\n",
       "      <td>0</td>\n",
       "      <td>0</td>\n",
       "      <td>0.111</td>\n",
       "    </tr>\n",
       "    <tr>\n",
       "      <th>283</th>\n",
       "      <td>2017</td>\n",
       "      <td>Jigsaw</td>\n",
       "      <td>0</td>\n",
       "      <td>0</td>\n",
       "      <td>0.111</td>\n",
       "    </tr>\n",
       "    <tr>\n",
       "      <th>213</th>\n",
       "      <td>2017</td>\n",
       "      <td>The Shape of Water</td>\n",
       "      <td>1</td>\n",
       "      <td>1</td>\n",
       "      <td>0.111</td>\n",
       "    </tr>\n",
       "    <tr>\n",
       "      <th>217</th>\n",
       "      <td>2017</td>\n",
       "      <td>Beauty and the Beast</td>\n",
       "      <td>1</td>\n",
       "      <td>0</td>\n",
       "      <td>0.111</td>\n",
       "    </tr>\n",
       "    <tr>\n",
       "      <th>272</th>\n",
       "      <td>2017</td>\n",
       "      <td>The Death of Stalin</td>\n",
       "      <td>0</td>\n",
       "      <td>0</td>\n",
       "      <td>0.000</td>\n",
       "    </tr>\n",
       "  </tbody>\n",
       "</table>\n",
       "</div>"
      ],
      "text/plain": [
       "     Year                   Movie  Oscar_nominee  Oscar_winner  \\\n",
       "254  2017         Despicable Me 3              0             0   \n",
       "286  2017         A Dog's Purpose              0             0   \n",
       "233  2017  The Hitman's Bodyguard              0             0   \n",
       "222  2017    The Greatest Showman              0             0   \n",
       "245  2017   The Lego Batman Movie              0             0   \n",
       "210  2017             Baby Driver              0             0   \n",
       "283  2017                  Jigsaw              0             0   \n",
       "213  2017      The Shape of Water              1             1   \n",
       "217  2017    Beauty and the Beast              1             0   \n",
       "272  2017     The Death of Stalin              0             0   \n",
       "\n",
       "     Predicted Win Rate  \n",
       "254               0.111  \n",
       "286               0.111  \n",
       "233               0.111  \n",
       "222               0.111  \n",
       "245               0.111  \n",
       "210               0.111  \n",
       "283               0.111  \n",
       "213               0.111  \n",
       "217               0.111  \n",
       "272               0.000  "
      ]
     },
     "execution_count": 139,
     "metadata": {},
     "output_type": "execute_result"
    }
   ],
   "source": [
    "normalized_prediction[normalized_prediction[\"Year\"] == 2017].sort_values(\"Predicted Win Rate\", ascending=False).head(10)"
   ]
  },
  {
   "cell_type": "code",
   "execution_count": 140,
   "metadata": {},
   "outputs": [
    {
     "data": {
      "text/html": [
       "<div>\n",
       "<style scoped>\n",
       "    .dataframe tbody tr th:only-of-type {\n",
       "        vertical-align: middle;\n",
       "    }\n",
       "\n",
       "    .dataframe tbody tr th {\n",
       "        vertical-align: top;\n",
       "    }\n",
       "\n",
       "    .dataframe thead th {\n",
       "        text-align: right;\n",
       "    }\n",
       "</style>\n",
       "<table border=\"1\" class=\"dataframe\">\n",
       "  <thead>\n",
       "    <tr style=\"text-align: right;\">\n",
       "      <th></th>\n",
       "      <th>Year</th>\n",
       "      <th>Movie</th>\n",
       "      <th>Oscar_nominee</th>\n",
       "      <th>Oscar_winner</th>\n",
       "      <th>Predicted Win Rate</th>\n",
       "    </tr>\n",
       "  </thead>\n",
       "  <tbody>\n",
       "    <tr>\n",
       "      <th>343</th>\n",
       "      <td>2018</td>\n",
       "      <td>The Nun</td>\n",
       "      <td>0</td>\n",
       "      <td>0</td>\n",
       "      <td>0.250</td>\n",
       "    </tr>\n",
       "    <tr>\n",
       "      <th>342</th>\n",
       "      <td>2018</td>\n",
       "      <td>The Ballad of Buster Scruggs</td>\n",
       "      <td>0</td>\n",
       "      <td>0</td>\n",
       "      <td>0.250</td>\n",
       "    </tr>\n",
       "    <tr>\n",
       "      <th>325</th>\n",
       "      <td>2018</td>\n",
       "      <td>The Favourite</td>\n",
       "      <td>1</td>\n",
       "      <td>0</td>\n",
       "      <td>0.125</td>\n",
       "    </tr>\n",
       "    <tr>\n",
       "      <th>304</th>\n",
       "      <td>2018</td>\n",
       "      <td>A Quiet Place</td>\n",
       "      <td>0</td>\n",
       "      <td>0</td>\n",
       "      <td>0.125</td>\n",
       "    </tr>\n",
       "    <tr>\n",
       "      <th>306</th>\n",
       "      <td>2018</td>\n",
       "      <td>Aquaman</td>\n",
       "      <td>0</td>\n",
       "      <td>0</td>\n",
       "      <td>0.125</td>\n",
       "    </tr>\n",
       "    <tr>\n",
       "      <th>323</th>\n",
       "      <td>2018</td>\n",
       "      <td>Ocean's Eight</td>\n",
       "      <td>0</td>\n",
       "      <td>0</td>\n",
       "      <td>0.125</td>\n",
       "    </tr>\n",
       "    <tr>\n",
       "      <th>300</th>\n",
       "      <td>2018</td>\n",
       "      <td>Avengers: Infinity War</td>\n",
       "      <td>0</td>\n",
       "      <td>0</td>\n",
       "      <td>0.000</td>\n",
       "    </tr>\n",
       "    <tr>\n",
       "      <th>365</th>\n",
       "      <td>2018</td>\n",
       "      <td>12 Strong</td>\n",
       "      <td>0</td>\n",
       "      <td>0</td>\n",
       "      <td>0.000</td>\n",
       "    </tr>\n",
       "    <tr>\n",
       "      <th>373</th>\n",
       "      <td>2018</td>\n",
       "      <td>Enes Batur Hayal mi Gerçek mi?</td>\n",
       "      <td>0</td>\n",
       "      <td>0</td>\n",
       "      <td>0.000</td>\n",
       "    </tr>\n",
       "    <tr>\n",
       "      <th>372</th>\n",
       "      <td>2018</td>\n",
       "      <td>Eighth Grade</td>\n",
       "      <td>0</td>\n",
       "      <td>0</td>\n",
       "      <td>0.000</td>\n",
       "    </tr>\n",
       "  </tbody>\n",
       "</table>\n",
       "</div>"
      ],
      "text/plain": [
       "     Year                           Movie  Oscar_nominee  Oscar_winner  \\\n",
       "343  2018                         The Nun              0             0   \n",
       "342  2018    The Ballad of Buster Scruggs              0             0   \n",
       "325  2018                   The Favourite              1             0   \n",
       "304  2018                   A Quiet Place              0             0   \n",
       "306  2018                         Aquaman              0             0   \n",
       "323  2018                   Ocean's Eight              0             0   \n",
       "300  2018          Avengers: Infinity War              0             0   \n",
       "365  2018                       12 Strong              0             0   \n",
       "373  2018  Enes Batur Hayal mi Gerçek mi?              0             0   \n",
       "372  2018                    Eighth Grade              0             0   \n",
       "\n",
       "     Predicted Win Rate  \n",
       "343               0.250  \n",
       "342               0.250  \n",
       "325               0.125  \n",
       "304               0.125  \n",
       "306               0.125  \n",
       "323               0.125  \n",
       "300               0.000  \n",
       "365               0.000  \n",
       "373               0.000  \n",
       "372               0.000  "
      ]
     },
     "execution_count": 140,
     "metadata": {},
     "output_type": "execute_result"
    }
   ],
   "source": [
    "normalized_prediction[normalized_prediction[\"Year\"] == 2018].sort_values(\"Predicted Win Rate\", ascending=False).head(10)"
   ]
  },
  {
   "cell_type": "code",
   "execution_count": 141,
   "metadata": {},
   "outputs": [
    {
     "data": {
      "text/html": [
       "<div>\n",
       "<style scoped>\n",
       "    .dataframe tbody tr th:only-of-type {\n",
       "        vertical-align: middle;\n",
       "    }\n",
       "\n",
       "    .dataframe tbody tr th {\n",
       "        vertical-align: top;\n",
       "    }\n",
       "\n",
       "    .dataframe thead th {\n",
       "        text-align: right;\n",
       "    }\n",
       "</style>\n",
       "<table border=\"1\" class=\"dataframe\">\n",
       "  <thead>\n",
       "    <tr style=\"text-align: right;\">\n",
       "      <th></th>\n",
       "      <th>Year</th>\n",
       "      <th>Movie</th>\n",
       "      <th>Oscar_nominee</th>\n",
       "      <th>Oscar_winner</th>\n",
       "      <th>Predicted Win Rate</th>\n",
       "    </tr>\n",
       "  </thead>\n",
       "  <tbody>\n",
       "    <tr>\n",
       "      <th>400</th>\n",
       "      <td>2019</td>\n",
       "      <td>Joker</td>\n",
       "      <td>1</td>\n",
       "      <td>0</td>\n",
       "      <td>0.111</td>\n",
       "    </tr>\n",
       "    <tr>\n",
       "      <th>406</th>\n",
       "      <td>2019</td>\n",
       "      <td>Spider-Man: Far from Home</td>\n",
       "      <td>0</td>\n",
       "      <td>0</td>\n",
       "      <td>0.111</td>\n",
       "    </tr>\n",
       "    <tr>\n",
       "      <th>416</th>\n",
       "      <td>2019</td>\n",
       "      <td>Ford v Ferrari</td>\n",
       "      <td>1</td>\n",
       "      <td>0</td>\n",
       "      <td>0.111</td>\n",
       "    </tr>\n",
       "    <tr>\n",
       "      <th>421</th>\n",
       "      <td>2019</td>\n",
       "      <td>It Chapter Two</td>\n",
       "      <td>0</td>\n",
       "      <td>0</td>\n",
       "      <td>0.111</td>\n",
       "    </tr>\n",
       "    <tr>\n",
       "      <th>491</th>\n",
       "      <td>2019</td>\n",
       "      <td>Charlie's Angels</td>\n",
       "      <td>0</td>\n",
       "      <td>0</td>\n",
       "      <td>0.111</td>\n",
       "    </tr>\n",
       "    <tr>\n",
       "      <th>410</th>\n",
       "      <td>2019</td>\n",
       "      <td>John Wick: Chapter 3 - Parabellum</td>\n",
       "      <td>0</td>\n",
       "      <td>0</td>\n",
       "      <td>0.111</td>\n",
       "    </tr>\n",
       "    <tr>\n",
       "      <th>409</th>\n",
       "      <td>2019</td>\n",
       "      <td>Knives Out</td>\n",
       "      <td>0</td>\n",
       "      <td>0</td>\n",
       "      <td>0.111</td>\n",
       "    </tr>\n",
       "    <tr>\n",
       "      <th>403</th>\n",
       "      <td>2019</td>\n",
       "      <td>Captain Marvel</td>\n",
       "      <td>0</td>\n",
       "      <td>0</td>\n",
       "      <td>0.111</td>\n",
       "    </tr>\n",
       "    <tr>\n",
       "      <th>474</th>\n",
       "      <td>2019</td>\n",
       "      <td>Annabelle Comes Home</td>\n",
       "      <td>0</td>\n",
       "      <td>0</td>\n",
       "      <td>0.111</td>\n",
       "    </tr>\n",
       "    <tr>\n",
       "      <th>471</th>\n",
       "      <td>2019</td>\n",
       "      <td>Velvet Buzzsaw</td>\n",
       "      <td>0</td>\n",
       "      <td>0</td>\n",
       "      <td>0.000</td>\n",
       "    </tr>\n",
       "  </tbody>\n",
       "</table>\n",
       "</div>"
      ],
      "text/plain": [
       "     Year                              Movie  Oscar_nominee  Oscar_winner  \\\n",
       "400  2019                              Joker              1             0   \n",
       "406  2019          Spider-Man: Far from Home              0             0   \n",
       "416  2019                     Ford v Ferrari              1             0   \n",
       "421  2019                     It Chapter Two              0             0   \n",
       "491  2019                   Charlie's Angels              0             0   \n",
       "410  2019  John Wick: Chapter 3 - Parabellum              0             0   \n",
       "409  2019                         Knives Out              0             0   \n",
       "403  2019                     Captain Marvel              0             0   \n",
       "474  2019               Annabelle Comes Home              0             0   \n",
       "471  2019                     Velvet Buzzsaw              0             0   \n",
       "\n",
       "     Predicted Win Rate  \n",
       "400               0.111  \n",
       "406               0.111  \n",
       "416               0.111  \n",
       "421               0.111  \n",
       "491               0.111  \n",
       "410               0.111  \n",
       "409               0.111  \n",
       "403               0.111  \n",
       "474               0.111  \n",
       "471               0.000  "
      ]
     },
     "execution_count": 141,
     "metadata": {},
     "output_type": "execute_result"
    }
   ],
   "source": [
    "normalized_prediction[normalized_prediction[\"Year\"] == 2019].sort_values(\"Predicted Win Rate\", ascending=False).head(10)"
   ]
  },
  {
   "cell_type": "markdown",
   "metadata": {},
   "source": [
    "## #4.4 - Logistic Regression "
   ]
  },
  {
   "cell_type": "code",
   "execution_count": 142,
   "metadata": {},
   "outputs": [],
   "source": [
    "LR = LogisticRegression()\n",
    "\n",
    "my_LR = LR.fit(X_train, y_train)"
   ]
  },
  {
   "cell_type": "code",
   "execution_count": 143,
   "metadata": {},
   "outputs": [
    {
     "data": {
      "text/html": [
       "<div>\n",
       "<style scoped>\n",
       "    .dataframe tbody tr th:only-of-type {\n",
       "        vertical-align: middle;\n",
       "    }\n",
       "\n",
       "    .dataframe tbody tr th {\n",
       "        vertical-align: top;\n",
       "    }\n",
       "\n",
       "    .dataframe thead th {\n",
       "        text-align: right;\n",
       "    }\n",
       "</style>\n",
       "<table border=\"1\" class=\"dataframe\">\n",
       "  <thead>\n",
       "    <tr style=\"text-align: right;\">\n",
       "      <th></th>\n",
       "      <th>Year</th>\n",
       "      <th>Movie</th>\n",
       "      <th>Oscar_nominee</th>\n",
       "      <th>Oscar_winner</th>\n",
       "      <th>Predicted Win Rate</th>\n",
       "    </tr>\n",
       "  </thead>\n",
       "  <tbody>\n",
       "    <tr>\n",
       "      <th>0</th>\n",
       "      <td>2015</td>\n",
       "      <td>Star Wars: Episode VII - The Force Awakens</td>\n",
       "      <td>0</td>\n",
       "      <td>0</td>\n",
       "      <td>7.091252e-13</td>\n",
       "    </tr>\n",
       "    <tr>\n",
       "      <th>1</th>\n",
       "      <td>2015</td>\n",
       "      <td>Mad Max: Fury Road</td>\n",
       "      <td>1</td>\n",
       "      <td>0</td>\n",
       "      <td>1.420343e-10</td>\n",
       "    </tr>\n",
       "    <tr>\n",
       "      <th>2</th>\n",
       "      <td>2015</td>\n",
       "      <td>The Martian</td>\n",
       "      <td>1</td>\n",
       "      <td>0</td>\n",
       "      <td>6.974571e-07</td>\n",
       "    </tr>\n",
       "    <tr>\n",
       "      <th>3</th>\n",
       "      <td>2015</td>\n",
       "      <td>Avengers: Age of Ultron</td>\n",
       "      <td>0</td>\n",
       "      <td>0</td>\n",
       "      <td>4.947518e-20</td>\n",
       "    </tr>\n",
       "    <tr>\n",
       "      <th>4</th>\n",
       "      <td>2015</td>\n",
       "      <td>The Revenant</td>\n",
       "      <td>1</td>\n",
       "      <td>0</td>\n",
       "      <td>1.031686e-08</td>\n",
       "    </tr>\n",
       "  </tbody>\n",
       "</table>\n",
       "</div>"
      ],
      "text/plain": [
       "   Year                                       Movie  Oscar_nominee  \\\n",
       "0  2015  Star Wars: Episode VII - The Force Awakens              0   \n",
       "1  2015                          Mad Max: Fury Road              1   \n",
       "2  2015                                 The Martian              1   \n",
       "3  2015                     Avengers: Age of Ultron              0   \n",
       "4  2015                                The Revenant              1   \n",
       "\n",
       "   Oscar_winner  Predicted Win Rate  \n",
       "0             0        7.091252e-13  \n",
       "1             0        1.420343e-10  \n",
       "2             0        6.974571e-07  \n",
       "3             0        4.947518e-20  \n",
       "4             0        1.031686e-08  "
      ]
     },
     "execution_count": 143,
     "metadata": {},
     "output_type": "execute_result"
    }
   ],
   "source": [
    "pred_LR = my_LR.predict_proba(X_test)[:, 1]\n",
    "\n",
    "LR_prediction = pd.DataFrame(year, columns=[\"Year\"])\n",
    "LR_prediction[\"Movie\"] = movie_name\n",
    "LR_prediction[\"Oscar_nominee\"] = oscar_n\n",
    "LR_prediction[\"Oscar_winner\"] = oscar_w\n",
    "LR_prediction['Predicted Win Rate'] = pred_LR\n",
    "\n",
    "LR_prediction.head(5)"
   ]
  },
  {
   "cell_type": "code",
   "execution_count": 144,
   "metadata": {},
   "outputs": [],
   "source": [
    "normalized_prediction = LR_prediction.copy()\n",
    "\n",
    "for index, row in normalized_prediction.iterrows():\n",
    "    normalized_prediction.loc[index, \"Predicted Win Rate\"] = \\\n",
    "        (row[\"Predicted Win Rate\"] / LR_prediction[\"Predicted Win Rate\"][LR_prediction[\"Year\"] == row[\"Year\"]].sum()).round(3)"
   ]
  },
  {
   "cell_type": "code",
   "execution_count": 145,
   "metadata": {},
   "outputs": [
    {
     "data": {
      "text/html": [
       "<div>\n",
       "<style scoped>\n",
       "    .dataframe tbody tr th:only-of-type {\n",
       "        vertical-align: middle;\n",
       "    }\n",
       "\n",
       "    .dataframe tbody tr th {\n",
       "        vertical-align: top;\n",
       "    }\n",
       "\n",
       "    .dataframe thead th {\n",
       "        text-align: right;\n",
       "    }\n",
       "</style>\n",
       "<table border=\"1\" class=\"dataframe\">\n",
       "  <thead>\n",
       "    <tr style=\"text-align: right;\">\n",
       "      <th></th>\n",
       "      <th>Year</th>\n",
       "      <th>Movie</th>\n",
       "      <th>Oscar_nominee</th>\n",
       "      <th>Oscar_winner</th>\n",
       "      <th>Predicted Win Rate</th>\n",
       "    </tr>\n",
       "  </thead>\n",
       "  <tbody>\n",
       "    <tr>\n",
       "      <th>71</th>\n",
       "      <td>2015</td>\n",
       "      <td>Demolition</td>\n",
       "      <td>0</td>\n",
       "      <td>0</td>\n",
       "      <td>0.061</td>\n",
       "    </tr>\n",
       "    <tr>\n",
       "      <th>63</th>\n",
       "      <td>2015</td>\n",
       "      <td>Bãhubali: The Beginning</td>\n",
       "      <td>0</td>\n",
       "      <td>0</td>\n",
       "      <td>0.057</td>\n",
       "    </tr>\n",
       "    <tr>\n",
       "      <th>75</th>\n",
       "      <td>2015</td>\n",
       "      <td>The Invitation</td>\n",
       "      <td>0</td>\n",
       "      <td>0</td>\n",
       "      <td>0.056</td>\n",
       "    </tr>\n",
       "    <tr>\n",
       "      <th>84</th>\n",
       "      <td>2015</td>\n",
       "      <td>Knock Knock</td>\n",
       "      <td>0</td>\n",
       "      <td>0</td>\n",
       "      <td>0.054</td>\n",
       "    </tr>\n",
       "    <tr>\n",
       "      <th>73</th>\n",
       "      <td>2015</td>\n",
       "      <td>Hardcore Henry</td>\n",
       "      <td>0</td>\n",
       "      <td>0</td>\n",
       "      <td>0.053</td>\n",
       "    </tr>\n",
       "    <tr>\n",
       "      <th>80</th>\n",
       "      <td>2015</td>\n",
       "      <td>Bone Tomahawk</td>\n",
       "      <td>0</td>\n",
       "      <td>0</td>\n",
       "      <td>0.051</td>\n",
       "    </tr>\n",
       "    <tr>\n",
       "      <th>92</th>\n",
       "      <td>2015</td>\n",
       "      <td>Bajrangi Bhaijaan</td>\n",
       "      <td>0</td>\n",
       "      <td>0</td>\n",
       "      <td>0.045</td>\n",
       "    </tr>\n",
       "    <tr>\n",
       "      <th>83</th>\n",
       "      <td>2015</td>\n",
       "      <td>No Escape</td>\n",
       "      <td>0</td>\n",
       "      <td>0</td>\n",
       "      <td>0.041</td>\n",
       "    </tr>\n",
       "    <tr>\n",
       "      <th>57</th>\n",
       "      <td>2015</td>\n",
       "      <td>The Visit</td>\n",
       "      <td>0</td>\n",
       "      <td>0</td>\n",
       "      <td>0.039</td>\n",
       "    </tr>\n",
       "    <tr>\n",
       "      <th>90</th>\n",
       "      <td>2015</td>\n",
       "      <td>Beasts of No Nation</td>\n",
       "      <td>0</td>\n",
       "      <td>0</td>\n",
       "      <td>0.036</td>\n",
       "    </tr>\n",
       "  </tbody>\n",
       "</table>\n",
       "</div>"
      ],
      "text/plain": [
       "    Year                    Movie  Oscar_nominee  Oscar_winner  \\\n",
       "71  2015               Demolition              0             0   \n",
       "63  2015  Bãhubali: The Beginning              0             0   \n",
       "75  2015           The Invitation              0             0   \n",
       "84  2015              Knock Knock              0             0   \n",
       "73  2015           Hardcore Henry              0             0   \n",
       "80  2015            Bone Tomahawk              0             0   \n",
       "92  2015        Bajrangi Bhaijaan              0             0   \n",
       "83  2015                No Escape              0             0   \n",
       "57  2015                The Visit              0             0   \n",
       "90  2015      Beasts of No Nation              0             0   \n",
       "\n",
       "    Predicted Win Rate  \n",
       "71               0.061  \n",
       "63               0.057  \n",
       "75               0.056  \n",
       "84               0.054  \n",
       "73               0.053  \n",
       "80               0.051  \n",
       "92               0.045  \n",
       "83               0.041  \n",
       "57               0.039  \n",
       "90               0.036  "
      ]
     },
     "execution_count": 145,
     "metadata": {},
     "output_type": "execute_result"
    }
   ],
   "source": [
    "normalized_prediction[normalized_prediction[\"Year\"] == 2015].sort_values(\"Predicted Win Rate\", ascending=False).head(10)"
   ]
  },
  {
   "cell_type": "code",
   "execution_count": 146,
   "metadata": {},
   "outputs": [
    {
     "data": {
      "text/html": [
       "<div>\n",
       "<style scoped>\n",
       "    .dataframe tbody tr th:only-of-type {\n",
       "        vertical-align: middle;\n",
       "    }\n",
       "\n",
       "    .dataframe tbody tr th {\n",
       "        vertical-align: top;\n",
       "    }\n",
       "\n",
       "    .dataframe thead th {\n",
       "        text-align: right;\n",
       "    }\n",
       "</style>\n",
       "<table border=\"1\" class=\"dataframe\">\n",
       "  <thead>\n",
       "    <tr style=\"text-align: right;\">\n",
       "      <th></th>\n",
       "      <th>Year</th>\n",
       "      <th>Movie</th>\n",
       "      <th>Oscar_nominee</th>\n",
       "      <th>Oscar_winner</th>\n",
       "      <th>Predicted Win Rate</th>\n",
       "    </tr>\n",
       "  </thead>\n",
       "  <tbody>\n",
       "    <tr>\n",
       "      <th>142</th>\n",
       "      <td>2016</td>\n",
       "      <td>Kimi no na wa.</td>\n",
       "      <td>0</td>\n",
       "      <td>0</td>\n",
       "      <td>0.119</td>\n",
       "    </tr>\n",
       "    <tr>\n",
       "      <th>150</th>\n",
       "      <td>2016</td>\n",
       "      <td>Dangal</td>\n",
       "      <td>0</td>\n",
       "      <td>0</td>\n",
       "      <td>0.101</td>\n",
       "    </tr>\n",
       "    <tr>\n",
       "      <th>191</th>\n",
       "      <td>2016</td>\n",
       "      <td>Sing Street</td>\n",
       "      <td>0</td>\n",
       "      <td>0</td>\n",
       "      <td>0.054</td>\n",
       "    </tr>\n",
       "    <tr>\n",
       "      <th>184</th>\n",
       "      <td>2016</td>\n",
       "      <td>The Autopsy of Jane Doe</td>\n",
       "      <td>0</td>\n",
       "      <td>0</td>\n",
       "      <td>0.052</td>\n",
       "    </tr>\n",
       "    <tr>\n",
       "      <th>170</th>\n",
       "      <td>2016</td>\n",
       "      <td>Dag II</td>\n",
       "      <td>0</td>\n",
       "      <td>0</td>\n",
       "      <td>0.052</td>\n",
       "    </tr>\n",
       "    <tr>\n",
       "      <th>167</th>\n",
       "      <td>2016</td>\n",
       "      <td>Bad Moms</td>\n",
       "      <td>0</td>\n",
       "      <td>0</td>\n",
       "      <td>0.048</td>\n",
       "    </tr>\n",
       "    <tr>\n",
       "      <th>183</th>\n",
       "      <td>2016</td>\n",
       "      <td>Money Monster</td>\n",
       "      <td>0</td>\n",
       "      <td>0</td>\n",
       "      <td>0.046</td>\n",
       "    </tr>\n",
       "    <tr>\n",
       "      <th>174</th>\n",
       "      <td>2016</td>\n",
       "      <td>Hunt for the Wilderpeople</td>\n",
       "      <td>0</td>\n",
       "      <td>0</td>\n",
       "      <td>0.044</td>\n",
       "    </tr>\n",
       "    <tr>\n",
       "      <th>153</th>\n",
       "      <td>2016</td>\n",
       "      <td>Busanhaeng</td>\n",
       "      <td>0</td>\n",
       "      <td>0</td>\n",
       "      <td>0.041</td>\n",
       "    </tr>\n",
       "    <tr>\n",
       "      <th>168</th>\n",
       "      <td>2016</td>\n",
       "      <td>Lights Out</td>\n",
       "      <td>0</td>\n",
       "      <td>0</td>\n",
       "      <td>0.038</td>\n",
       "    </tr>\n",
       "  </tbody>\n",
       "</table>\n",
       "</div>"
      ],
      "text/plain": [
       "     Year                      Movie  Oscar_nominee  Oscar_winner  \\\n",
       "142  2016             Kimi no na wa.              0             0   \n",
       "150  2016                     Dangal              0             0   \n",
       "191  2016                Sing Street              0             0   \n",
       "184  2016    The Autopsy of Jane Doe              0             0   \n",
       "170  2016                     Dag II              0             0   \n",
       "167  2016                   Bad Moms              0             0   \n",
       "183  2016              Money Monster              0             0   \n",
       "174  2016  Hunt for the Wilderpeople              0             0   \n",
       "153  2016                 Busanhaeng              0             0   \n",
       "168  2016                 Lights Out              0             0   \n",
       "\n",
       "     Predicted Win Rate  \n",
       "142               0.119  \n",
       "150               0.101  \n",
       "191               0.054  \n",
       "184               0.052  \n",
       "170               0.052  \n",
       "167               0.048  \n",
       "183               0.046  \n",
       "174               0.044  \n",
       "153               0.041  \n",
       "168               0.038  "
      ]
     },
     "execution_count": 146,
     "metadata": {},
     "output_type": "execute_result"
    }
   ],
   "source": [
    "normalized_prediction[normalized_prediction[\"Year\"] == 2016].sort_values(\"Predicted Win Rate\", ascending=False).head(10)"
   ]
  },
  {
   "cell_type": "code",
   "execution_count": 147,
   "metadata": {},
   "outputs": [
    {
     "data": {
      "text/html": [
       "<div>\n",
       "<style scoped>\n",
       "    .dataframe tbody tr th:only-of-type {\n",
       "        vertical-align: middle;\n",
       "    }\n",
       "\n",
       "    .dataframe tbody tr th {\n",
       "        vertical-align: top;\n",
       "    }\n",
       "\n",
       "    .dataframe thead th {\n",
       "        text-align: right;\n",
       "    }\n",
       "</style>\n",
       "<table border=\"1\" class=\"dataframe\">\n",
       "  <thead>\n",
       "    <tr style=\"text-align: right;\">\n",
       "      <th></th>\n",
       "      <th>Year</th>\n",
       "      <th>Movie</th>\n",
       "      <th>Oscar_nominee</th>\n",
       "      <th>Oscar_winner</th>\n",
       "      <th>Predicted Win Rate</th>\n",
       "    </tr>\n",
       "  </thead>\n",
       "  <tbody>\n",
       "    <tr>\n",
       "      <th>259</th>\n",
       "      <td>2017</td>\n",
       "      <td>What Happened to Monday</td>\n",
       "      <td>0</td>\n",
       "      <td>0</td>\n",
       "      <td>0.052</td>\n",
       "    </tr>\n",
       "    <tr>\n",
       "      <th>292</th>\n",
       "      <td>2017</td>\n",
       "      <td>Brawl in Cell Block 99</td>\n",
       "      <td>0</td>\n",
       "      <td>0</td>\n",
       "      <td>0.048</td>\n",
       "    </tr>\n",
       "    <tr>\n",
       "      <th>291</th>\n",
       "      <td>2017</td>\n",
       "      <td>A Ghost Story</td>\n",
       "      <td>0</td>\n",
       "      <td>0</td>\n",
       "      <td>0.048</td>\n",
       "    </tr>\n",
       "    <tr>\n",
       "      <th>288</th>\n",
       "      <td>2017</td>\n",
       "      <td>The Babysitter</td>\n",
       "      <td>0</td>\n",
       "      <td>0</td>\n",
       "      <td>0.048</td>\n",
       "    </tr>\n",
       "    <tr>\n",
       "      <th>281</th>\n",
       "      <td>2017</td>\n",
       "      <td>Shot Caller</td>\n",
       "      <td>0</td>\n",
       "      <td>0</td>\n",
       "      <td>0.048</td>\n",
       "    </tr>\n",
       "    <tr>\n",
       "      <th>280</th>\n",
       "      <td>2017</td>\n",
       "      <td>The Ritual</td>\n",
       "      <td>0</td>\n",
       "      <td>0</td>\n",
       "      <td>0.047</td>\n",
       "    </tr>\n",
       "    <tr>\n",
       "      <th>263</th>\n",
       "      <td>2017</td>\n",
       "      <td>You Were Never Really Here</td>\n",
       "      <td>0</td>\n",
       "      <td>0</td>\n",
       "      <td>0.045</td>\n",
       "    </tr>\n",
       "    <tr>\n",
       "      <th>270</th>\n",
       "      <td>2017</td>\n",
       "      <td>Gerald's Game</td>\n",
       "      <td>0</td>\n",
       "      <td>0</td>\n",
       "      <td>0.045</td>\n",
       "    </tr>\n",
       "    <tr>\n",
       "      <th>252</th>\n",
       "      <td>2017</td>\n",
       "      <td>The Killing of a Sacred Deer</td>\n",
       "      <td>0</td>\n",
       "      <td>0</td>\n",
       "      <td>0.043</td>\n",
       "    </tr>\n",
       "    <tr>\n",
       "      <th>296</th>\n",
       "      <td>2017</td>\n",
       "      <td>The Square</td>\n",
       "      <td>0</td>\n",
       "      <td>0</td>\n",
       "      <td>0.042</td>\n",
       "    </tr>\n",
       "  </tbody>\n",
       "</table>\n",
       "</div>"
      ],
      "text/plain": [
       "     Year                         Movie  Oscar_nominee  Oscar_winner  \\\n",
       "259  2017       What Happened to Monday              0             0   \n",
       "292  2017        Brawl in Cell Block 99              0             0   \n",
       "291  2017                 A Ghost Story              0             0   \n",
       "288  2017                The Babysitter              0             0   \n",
       "281  2017                   Shot Caller              0             0   \n",
       "280  2017                    The Ritual              0             0   \n",
       "263  2017    You Were Never Really Here              0             0   \n",
       "270  2017                 Gerald's Game              0             0   \n",
       "252  2017  The Killing of a Sacred Deer              0             0   \n",
       "296  2017                    The Square              0             0   \n",
       "\n",
       "     Predicted Win Rate  \n",
       "259               0.052  \n",
       "292               0.048  \n",
       "291               0.048  \n",
       "288               0.048  \n",
       "281               0.048  \n",
       "280               0.047  \n",
       "263               0.045  \n",
       "270               0.045  \n",
       "252               0.043  \n",
       "296               0.042  "
      ]
     },
     "execution_count": 147,
     "metadata": {},
     "output_type": "execute_result"
    }
   ],
   "source": [
    "normalized_prediction[normalized_prediction[\"Year\"] == 2017].sort_values(\"Predicted Win Rate\", ascending=False).head(10)"
   ]
  },
  {
   "cell_type": "code",
   "execution_count": 148,
   "metadata": {},
   "outputs": [
    {
     "data": {
      "text/html": [
       "<div>\n",
       "<style scoped>\n",
       "    .dataframe tbody tr th:only-of-type {\n",
       "        vertical-align: middle;\n",
       "    }\n",
       "\n",
       "    .dataframe tbody tr th {\n",
       "        vertical-align: top;\n",
       "    }\n",
       "\n",
       "    .dataframe thead th {\n",
       "        text-align: right;\n",
       "    }\n",
       "</style>\n",
       "<table border=\"1\" class=\"dataframe\">\n",
       "  <thead>\n",
       "    <tr style=\"text-align: right;\">\n",
       "      <th></th>\n",
       "      <th>Year</th>\n",
       "      <th>Movie</th>\n",
       "      <th>Oscar_nominee</th>\n",
       "      <th>Oscar_winner</th>\n",
       "      <th>Predicted Win Rate</th>\n",
       "    </tr>\n",
       "  </thead>\n",
       "  <tbody>\n",
       "    <tr>\n",
       "      <th>391</th>\n",
       "      <td>2018</td>\n",
       "      <td>Sanju</td>\n",
       "      <td>0</td>\n",
       "      <td>0</td>\n",
       "      <td>0.064</td>\n",
       "    </tr>\n",
       "    <tr>\n",
       "      <th>398</th>\n",
       "      <td>2018</td>\n",
       "      <td>The Christmas Chronicles</td>\n",
       "      <td>0</td>\n",
       "      <td>0</td>\n",
       "      <td>0.063</td>\n",
       "    </tr>\n",
       "    <tr>\n",
       "      <th>387</th>\n",
       "      <td>2018</td>\n",
       "      <td>Les frères Sisters</td>\n",
       "      <td>0</td>\n",
       "      <td>0</td>\n",
       "      <td>0.048</td>\n",
       "    </tr>\n",
       "    <tr>\n",
       "      <th>399</th>\n",
       "      <td>2018</td>\n",
       "      <td>Extinction</td>\n",
       "      <td>0</td>\n",
       "      <td>0</td>\n",
       "      <td>0.046</td>\n",
       "    </tr>\n",
       "    <tr>\n",
       "      <th>373</th>\n",
       "      <td>2018</td>\n",
       "      <td>Enes Batur Hayal mi Gerçek mi?</td>\n",
       "      <td>0</td>\n",
       "      <td>0</td>\n",
       "      <td>0.045</td>\n",
       "    </tr>\n",
       "    <tr>\n",
       "      <th>397</th>\n",
       "      <td>2018</td>\n",
       "      <td>Capharnaum</td>\n",
       "      <td>0</td>\n",
       "      <td>0</td>\n",
       "      <td>0.045</td>\n",
       "    </tr>\n",
       "    <tr>\n",
       "      <th>396</th>\n",
       "      <td>2018</td>\n",
       "      <td>Leave No Trace</td>\n",
       "      <td>0</td>\n",
       "      <td>0</td>\n",
       "      <td>0.045</td>\n",
       "    </tr>\n",
       "    <tr>\n",
       "      <th>332</th>\n",
       "      <td>2018</td>\n",
       "      <td>Searching</td>\n",
       "      <td>0</td>\n",
       "      <td>0</td>\n",
       "      <td>0.045</td>\n",
       "    </tr>\n",
       "    <tr>\n",
       "      <th>376</th>\n",
       "      <td>2018</td>\n",
       "      <td>Mowgli</td>\n",
       "      <td>0</td>\n",
       "      <td>0</td>\n",
       "      <td>0.044</td>\n",
       "    </tr>\n",
       "    <tr>\n",
       "      <th>367</th>\n",
       "      <td>2018</td>\n",
       "      <td>Andhadhun</td>\n",
       "      <td>0</td>\n",
       "      <td>0</td>\n",
       "      <td>0.042</td>\n",
       "    </tr>\n",
       "  </tbody>\n",
       "</table>\n",
       "</div>"
      ],
      "text/plain": [
       "     Year                           Movie  Oscar_nominee  Oscar_winner  \\\n",
       "391  2018                           Sanju              0             0   \n",
       "398  2018        The Christmas Chronicles              0             0   \n",
       "387  2018              Les frères Sisters              0             0   \n",
       "399  2018                      Extinction              0             0   \n",
       "373  2018  Enes Batur Hayal mi Gerçek mi?              0             0   \n",
       "397  2018                      Capharnaum              0             0   \n",
       "396  2018                  Leave No Trace              0             0   \n",
       "332  2018                       Searching              0             0   \n",
       "376  2018                          Mowgli              0             0   \n",
       "367  2018                       Andhadhun              0             0   \n",
       "\n",
       "     Predicted Win Rate  \n",
       "391               0.064  \n",
       "398               0.063  \n",
       "387               0.048  \n",
       "399               0.046  \n",
       "373               0.045  \n",
       "397               0.045  \n",
       "396               0.045  \n",
       "332               0.045  \n",
       "376               0.044  \n",
       "367               0.042  "
      ]
     },
     "execution_count": 148,
     "metadata": {},
     "output_type": "execute_result"
    }
   ],
   "source": [
    "normalized_prediction[normalized_prediction[\"Year\"] == 2018].sort_values(\"Predicted Win Rate\", ascending=False).head(10)"
   ]
  },
  {
   "cell_type": "code",
   "execution_count": 149,
   "metadata": {},
   "outputs": [
    {
     "data": {
      "text/html": [
       "<div>\n",
       "<style scoped>\n",
       "    .dataframe tbody tr th:only-of-type {\n",
       "        vertical-align: middle;\n",
       "    }\n",
       "\n",
       "    .dataframe tbody tr th {\n",
       "        vertical-align: top;\n",
       "    }\n",
       "\n",
       "    .dataframe thead th {\n",
       "        text-align: right;\n",
       "    }\n",
       "</style>\n",
       "<table border=\"1\" class=\"dataframe\">\n",
       "  <thead>\n",
       "    <tr style=\"text-align: right;\">\n",
       "      <th></th>\n",
       "      <th>Year</th>\n",
       "      <th>Movie</th>\n",
       "      <th>Oscar_nominee</th>\n",
       "      <th>Oscar_winner</th>\n",
       "      <th>Predicted Win Rate</th>\n",
       "    </tr>\n",
       "  </thead>\n",
       "  <tbody>\n",
       "    <tr>\n",
       "      <th>499</th>\n",
       "      <td>2019</td>\n",
       "      <td>In the Shadow of the Moon</td>\n",
       "      <td>0</td>\n",
       "      <td>0</td>\n",
       "      <td>0.045</td>\n",
       "    </tr>\n",
       "    <tr>\n",
       "      <th>484</th>\n",
       "      <td>2019</td>\n",
       "      <td>The Dead Don't Die</td>\n",
       "      <td>0</td>\n",
       "      <td>0</td>\n",
       "      <td>0.045</td>\n",
       "    </tr>\n",
       "    <tr>\n",
       "      <th>494</th>\n",
       "      <td>2019</td>\n",
       "      <td>The Laundromat</td>\n",
       "      <td>0</td>\n",
       "      <td>0</td>\n",
       "      <td>0.044</td>\n",
       "    </tr>\n",
       "    <tr>\n",
       "      <th>490</th>\n",
       "      <td>2019</td>\n",
       "      <td>In the Tall Grass</td>\n",
       "      <td>0</td>\n",
       "      <td>0</td>\n",
       "      <td>0.044</td>\n",
       "    </tr>\n",
       "    <tr>\n",
       "      <th>481</th>\n",
       "      <td>2019</td>\n",
       "      <td>Fractured</td>\n",
       "      <td>0</td>\n",
       "      <td>0</td>\n",
       "      <td>0.044</td>\n",
       "    </tr>\n",
       "    <tr>\n",
       "      <th>455</th>\n",
       "      <td>2019</td>\n",
       "      <td>Polar</td>\n",
       "      <td>0</td>\n",
       "      <td>0</td>\n",
       "      <td>0.044</td>\n",
       "    </tr>\n",
       "    <tr>\n",
       "      <th>497</th>\n",
       "      <td>2019</td>\n",
       "      <td>The Dirt</td>\n",
       "      <td>0</td>\n",
       "      <td>0</td>\n",
       "      <td>0.044</td>\n",
       "    </tr>\n",
       "    <tr>\n",
       "      <th>480</th>\n",
       "      <td>2019</td>\n",
       "      <td>Dolemite Is My Name</td>\n",
       "      <td>0</td>\n",
       "      <td>0</td>\n",
       "      <td>0.043</td>\n",
       "    </tr>\n",
       "    <tr>\n",
       "      <th>457</th>\n",
       "      <td>2019</td>\n",
       "      <td>Klaus</td>\n",
       "      <td>0</td>\n",
       "      <td>0</td>\n",
       "      <td>0.041</td>\n",
       "    </tr>\n",
       "    <tr>\n",
       "      <th>453</th>\n",
       "      <td>2019</td>\n",
       "      <td>The King</td>\n",
       "      <td>0</td>\n",
       "      <td>0</td>\n",
       "      <td>0.041</td>\n",
       "    </tr>\n",
       "  </tbody>\n",
       "</table>\n",
       "</div>"
      ],
      "text/plain": [
       "     Year                      Movie  Oscar_nominee  Oscar_winner  \\\n",
       "499  2019  In the Shadow of the Moon              0             0   \n",
       "484  2019         The Dead Don't Die              0             0   \n",
       "494  2019             The Laundromat              0             0   \n",
       "490  2019          In the Tall Grass              0             0   \n",
       "481  2019                  Fractured              0             0   \n",
       "455  2019                      Polar              0             0   \n",
       "497  2019                   The Dirt              0             0   \n",
       "480  2019        Dolemite Is My Name              0             0   \n",
       "457  2019                      Klaus              0             0   \n",
       "453  2019                   The King              0             0   \n",
       "\n",
       "     Predicted Win Rate  \n",
       "499               0.045  \n",
       "484               0.045  \n",
       "494               0.044  \n",
       "490               0.044  \n",
       "481               0.044  \n",
       "455               0.044  \n",
       "497               0.044  \n",
       "480               0.043  \n",
       "457               0.041  \n",
       "453               0.041  "
      ]
     },
     "execution_count": 149,
     "metadata": {},
     "output_type": "execute_result"
    }
   ],
   "source": [
    "normalized_prediction[normalized_prediction[\"Year\"] == 2019].sort_values(\"Predicted Win Rate\", ascending=False).head(10)"
   ]
  },
  {
   "cell_type": "markdown",
   "metadata": {},
   "source": [
    "## #4.5 - Bagging Classifier"
   ]
  },
  {
   "cell_type": "code",
   "execution_count": 150,
   "metadata": {},
   "outputs": [],
   "source": [
    "BC = BaggingClassifier()\n",
    "\n",
    "my_BC = BC.fit(X_train, y_train)"
   ]
  },
  {
   "cell_type": "code",
   "execution_count": 151,
   "metadata": {},
   "outputs": [
    {
     "data": {
      "text/html": [
       "<div>\n",
       "<style scoped>\n",
       "    .dataframe tbody tr th:only-of-type {\n",
       "        vertical-align: middle;\n",
       "    }\n",
       "\n",
       "    .dataframe tbody tr th {\n",
       "        vertical-align: top;\n",
       "    }\n",
       "\n",
       "    .dataframe thead th {\n",
       "        text-align: right;\n",
       "    }\n",
       "</style>\n",
       "<table border=\"1\" class=\"dataframe\">\n",
       "  <thead>\n",
       "    <tr style=\"text-align: right;\">\n",
       "      <th></th>\n",
       "      <th>Year</th>\n",
       "      <th>Movie</th>\n",
       "      <th>Oscar_nominee</th>\n",
       "      <th>Oscar_winner</th>\n",
       "      <th>Predicted Win Rate</th>\n",
       "    </tr>\n",
       "  </thead>\n",
       "  <tbody>\n",
       "    <tr>\n",
       "      <th>0</th>\n",
       "      <td>2015</td>\n",
       "      <td>Star Wars: Episode VII - The Force Awakens</td>\n",
       "      <td>0</td>\n",
       "      <td>0</td>\n",
       "      <td>0.0</td>\n",
       "    </tr>\n",
       "    <tr>\n",
       "      <th>1</th>\n",
       "      <td>2015</td>\n",
       "      <td>Mad Max: Fury Road</td>\n",
       "      <td>1</td>\n",
       "      <td>0</td>\n",
       "      <td>0.0</td>\n",
       "    </tr>\n",
       "    <tr>\n",
       "      <th>2</th>\n",
       "      <td>2015</td>\n",
       "      <td>The Martian</td>\n",
       "      <td>1</td>\n",
       "      <td>0</td>\n",
       "      <td>0.0</td>\n",
       "    </tr>\n",
       "    <tr>\n",
       "      <th>3</th>\n",
       "      <td>2015</td>\n",
       "      <td>Avengers: Age of Ultron</td>\n",
       "      <td>0</td>\n",
       "      <td>0</td>\n",
       "      <td>0.0</td>\n",
       "    </tr>\n",
       "    <tr>\n",
       "      <th>4</th>\n",
       "      <td>2015</td>\n",
       "      <td>The Revenant</td>\n",
       "      <td>1</td>\n",
       "      <td>0</td>\n",
       "      <td>0.6</td>\n",
       "    </tr>\n",
       "  </tbody>\n",
       "</table>\n",
       "</div>"
      ],
      "text/plain": [
       "   Year                                       Movie  Oscar_nominee  \\\n",
       "0  2015  Star Wars: Episode VII - The Force Awakens              0   \n",
       "1  2015                          Mad Max: Fury Road              1   \n",
       "2  2015                                 The Martian              1   \n",
       "3  2015                     Avengers: Age of Ultron              0   \n",
       "4  2015                                The Revenant              1   \n",
       "\n",
       "   Oscar_winner  Predicted Win Rate  \n",
       "0             0                 0.0  \n",
       "1             0                 0.0  \n",
       "2             0                 0.0  \n",
       "3             0                 0.0  \n",
       "4             0                 0.6  "
      ]
     },
     "execution_count": 151,
     "metadata": {},
     "output_type": "execute_result"
    }
   ],
   "source": [
    "pred_BC = my_BC.predict_proba(X_test)[:, 1]\n",
    "\n",
    "BC_prediction = pd.DataFrame(year, columns=[\"Year\"])\n",
    "BC_prediction[\"Movie\"] = movie_name\n",
    "BC_prediction[\"Oscar_nominee\"] = oscar_n\n",
    "BC_prediction[\"Oscar_winner\"] = oscar_w\n",
    "BC_prediction['Predicted Win Rate'] = pred_BC\n",
    "\n",
    "BC_prediction.head(5)"
   ]
  },
  {
   "cell_type": "code",
   "execution_count": 152,
   "metadata": {},
   "outputs": [],
   "source": [
    "normalized_prediction = BC_prediction.copy()\n",
    "\n",
    "for index, row in normalized_prediction.iterrows():\n",
    "    normalized_prediction.loc[index, \"Predicted Win Rate\"] = \\\n",
    "        (row[\"Predicted Win Rate\"] / BC_prediction[\"Predicted Win Rate\"][BC_prediction[\"Year\"] == row[\"Year\"]].sum()).round(3)"
   ]
  },
  {
   "cell_type": "code",
   "execution_count": 153,
   "metadata": {},
   "outputs": [
    {
     "data": {
      "text/html": [
       "<div>\n",
       "<style scoped>\n",
       "    .dataframe tbody tr th:only-of-type {\n",
       "        vertical-align: middle;\n",
       "    }\n",
       "\n",
       "    .dataframe tbody tr th {\n",
       "        vertical-align: top;\n",
       "    }\n",
       "\n",
       "    .dataframe thead th {\n",
       "        text-align: right;\n",
       "    }\n",
       "</style>\n",
       "<table border=\"1\" class=\"dataframe\">\n",
       "  <thead>\n",
       "    <tr style=\"text-align: right;\">\n",
       "      <th></th>\n",
       "      <th>Year</th>\n",
       "      <th>Movie</th>\n",
       "      <th>Oscar_nominee</th>\n",
       "      <th>Oscar_winner</th>\n",
       "      <th>Predicted Win Rate</th>\n",
       "    </tr>\n",
       "  </thead>\n",
       "  <tbody>\n",
       "    <tr>\n",
       "      <th>4</th>\n",
       "      <td>2015</td>\n",
       "      <td>The Revenant</td>\n",
       "      <td>1</td>\n",
       "      <td>0</td>\n",
       "      <td>0.545</td>\n",
       "    </tr>\n",
       "    <tr>\n",
       "      <th>9</th>\n",
       "      <td>2015</td>\n",
       "      <td>Spotlight</td>\n",
       "      <td>1</td>\n",
       "      <td>1</td>\n",
       "      <td>0.273</td>\n",
       "    </tr>\n",
       "    <tr>\n",
       "      <th>14</th>\n",
       "      <td>2015</td>\n",
       "      <td>The Big Short</td>\n",
       "      <td>1</td>\n",
       "      <td>0</td>\n",
       "      <td>0.182</td>\n",
       "    </tr>\n",
       "    <tr>\n",
       "      <th>0</th>\n",
       "      <td>2015</td>\n",
       "      <td>Star Wars: Episode VII - The Force Awakens</td>\n",
       "      <td>0</td>\n",
       "      <td>0</td>\n",
       "      <td>0.000</td>\n",
       "    </tr>\n",
       "    <tr>\n",
       "      <th>64</th>\n",
       "      <td>2015</td>\n",
       "      <td>The Good Dinosaur</td>\n",
       "      <td>0</td>\n",
       "      <td>0</td>\n",
       "      <td>0.000</td>\n",
       "    </tr>\n",
       "    <tr>\n",
       "      <th>74</th>\n",
       "      <td>2015</td>\n",
       "      <td>Concussion</td>\n",
       "      <td>0</td>\n",
       "      <td>0</td>\n",
       "      <td>0.000</td>\n",
       "    </tr>\n",
       "    <tr>\n",
       "      <th>73</th>\n",
       "      <td>2015</td>\n",
       "      <td>Hardcore Henry</td>\n",
       "      <td>0</td>\n",
       "      <td>0</td>\n",
       "      <td>0.000</td>\n",
       "    </tr>\n",
       "    <tr>\n",
       "      <th>72</th>\n",
       "      <td>2015</td>\n",
       "      <td>Hitman: Agent 47</td>\n",
       "      <td>0</td>\n",
       "      <td>0</td>\n",
       "      <td>0.000</td>\n",
       "    </tr>\n",
       "    <tr>\n",
       "      <th>71</th>\n",
       "      <td>2015</td>\n",
       "      <td>Demolition</td>\n",
       "      <td>0</td>\n",
       "      <td>0</td>\n",
       "      <td>0.000</td>\n",
       "    </tr>\n",
       "    <tr>\n",
       "      <th>70</th>\n",
       "      <td>2015</td>\n",
       "      <td>Self/less</td>\n",
       "      <td>0</td>\n",
       "      <td>0</td>\n",
       "      <td>0.000</td>\n",
       "    </tr>\n",
       "  </tbody>\n",
       "</table>\n",
       "</div>"
      ],
      "text/plain": [
       "    Year                                       Movie  Oscar_nominee  \\\n",
       "4   2015                                The Revenant              1   \n",
       "9   2015                                   Spotlight              1   \n",
       "14  2015                               The Big Short              1   \n",
       "0   2015  Star Wars: Episode VII - The Force Awakens              0   \n",
       "64  2015                           The Good Dinosaur              0   \n",
       "74  2015                                  Concussion              0   \n",
       "73  2015                              Hardcore Henry              0   \n",
       "72  2015                            Hitman: Agent 47              0   \n",
       "71  2015                                  Demolition              0   \n",
       "70  2015                                   Self/less              0   \n",
       "\n",
       "    Oscar_winner  Predicted Win Rate  \n",
       "4              0               0.545  \n",
       "9              1               0.273  \n",
       "14             0               0.182  \n",
       "0              0               0.000  \n",
       "64             0               0.000  \n",
       "74             0               0.000  \n",
       "73             0               0.000  \n",
       "72             0               0.000  \n",
       "71             0               0.000  \n",
       "70             0               0.000  "
      ]
     },
     "execution_count": 153,
     "metadata": {},
     "output_type": "execute_result"
    }
   ],
   "source": [
    "normalized_prediction[normalized_prediction[\"Year\"] == 2015].sort_values(\"Predicted Win Rate\", ascending=False).head(10)"
   ]
  },
  {
   "cell_type": "code",
   "execution_count": 154,
   "metadata": {},
   "outputs": [
    {
     "data": {
      "text/html": [
       "<div>\n",
       "<style scoped>\n",
       "    .dataframe tbody tr th:only-of-type {\n",
       "        vertical-align: middle;\n",
       "    }\n",
       "\n",
       "    .dataframe tbody tr th {\n",
       "        vertical-align: top;\n",
       "    }\n",
       "\n",
       "    .dataframe thead th {\n",
       "        text-align: right;\n",
       "    }\n",
       "</style>\n",
       "<table border=\"1\" class=\"dataframe\">\n",
       "  <thead>\n",
       "    <tr style=\"text-align: right;\">\n",
       "      <th></th>\n",
       "      <th>Year</th>\n",
       "      <th>Movie</th>\n",
       "      <th>Oscar_nominee</th>\n",
       "      <th>Oscar_winner</th>\n",
       "      <th>Predicted Win Rate</th>\n",
       "    </tr>\n",
       "  </thead>\n",
       "  <tbody>\n",
       "    <tr>\n",
       "      <th>107</th>\n",
       "      <td>2016</td>\n",
       "      <td>La La Land</td>\n",
       "      <td>1</td>\n",
       "      <td>0</td>\n",
       "      <td>0.833</td>\n",
       "    </tr>\n",
       "    <tr>\n",
       "      <th>116</th>\n",
       "      <td>2016</td>\n",
       "      <td>Moonlight</td>\n",
       "      <td>1</td>\n",
       "      <td>1</td>\n",
       "      <td>0.167</td>\n",
       "    </tr>\n",
       "    <tr>\n",
       "      <th>100</th>\n",
       "      <td>2016</td>\n",
       "      <td>Deadpool</td>\n",
       "      <td>0</td>\n",
       "      <td>0</td>\n",
       "      <td>0.000</td>\n",
       "    </tr>\n",
       "    <tr>\n",
       "      <th>164</th>\n",
       "      <td>2016</td>\n",
       "      <td>Nerve</td>\n",
       "      <td>0</td>\n",
       "      <td>0</td>\n",
       "      <td>0.000</td>\n",
       "    </tr>\n",
       "    <tr>\n",
       "      <th>173</th>\n",
       "      <td>2016</td>\n",
       "      <td>Swiss Army Man</td>\n",
       "      <td>0</td>\n",
       "      <td>0</td>\n",
       "      <td>0.000</td>\n",
       "    </tr>\n",
       "    <tr>\n",
       "      <th>172</th>\n",
       "      <td>2016</td>\n",
       "      <td>Gods of Egypt</td>\n",
       "      <td>0</td>\n",
       "      <td>0</td>\n",
       "      <td>0.000</td>\n",
       "    </tr>\n",
       "    <tr>\n",
       "      <th>171</th>\n",
       "      <td>2016</td>\n",
       "      <td>Allegiant</td>\n",
       "      <td>0</td>\n",
       "      <td>0</td>\n",
       "      <td>0.000</td>\n",
       "    </tr>\n",
       "    <tr>\n",
       "      <th>170</th>\n",
       "      <td>2016</td>\n",
       "      <td>Dag II</td>\n",
       "      <td>0</td>\n",
       "      <td>0</td>\n",
       "      <td>0.000</td>\n",
       "    </tr>\n",
       "    <tr>\n",
       "      <th>169</th>\n",
       "      <td>2016</td>\n",
       "      <td>Dirty Grandpa</td>\n",
       "      <td>0</td>\n",
       "      <td>0</td>\n",
       "      <td>0.000</td>\n",
       "    </tr>\n",
       "    <tr>\n",
       "      <th>168</th>\n",
       "      <td>2016</td>\n",
       "      <td>Lights Out</td>\n",
       "      <td>0</td>\n",
       "      <td>0</td>\n",
       "      <td>0.000</td>\n",
       "    </tr>\n",
       "  </tbody>\n",
       "</table>\n",
       "</div>"
      ],
      "text/plain": [
       "     Year           Movie  Oscar_nominee  Oscar_winner  Predicted Win Rate\n",
       "107  2016      La La Land              1             0               0.833\n",
       "116  2016       Moonlight              1             1               0.167\n",
       "100  2016        Deadpool              0             0               0.000\n",
       "164  2016           Nerve              0             0               0.000\n",
       "173  2016  Swiss Army Man              0             0               0.000\n",
       "172  2016   Gods of Egypt              0             0               0.000\n",
       "171  2016       Allegiant              0             0               0.000\n",
       "170  2016          Dag II              0             0               0.000\n",
       "169  2016   Dirty Grandpa              0             0               0.000\n",
       "168  2016      Lights Out              0             0               0.000"
      ]
     },
     "execution_count": 154,
     "metadata": {},
     "output_type": "execute_result"
    }
   ],
   "source": [
    "normalized_prediction[normalized_prediction[\"Year\"] == 2016].sort_values(\"Predicted Win Rate\", ascending=False).head(10)"
   ]
  },
  {
   "cell_type": "code",
   "execution_count": 155,
   "metadata": {},
   "outputs": [
    {
     "data": {
      "text/html": [
       "<div>\n",
       "<style scoped>\n",
       "    .dataframe tbody tr th:only-of-type {\n",
       "        vertical-align: middle;\n",
       "    }\n",
       "\n",
       "    .dataframe tbody tr th {\n",
       "        vertical-align: top;\n",
       "    }\n",
       "\n",
       "    .dataframe thead th {\n",
       "        text-align: right;\n",
       "    }\n",
       "</style>\n",
       "<table border=\"1\" class=\"dataframe\">\n",
       "  <thead>\n",
       "    <tr style=\"text-align: right;\">\n",
       "      <th></th>\n",
       "      <th>Year</th>\n",
       "      <th>Movie</th>\n",
       "      <th>Oscar_nominee</th>\n",
       "      <th>Oscar_winner</th>\n",
       "      <th>Predicted Win Rate</th>\n",
       "    </tr>\n",
       "  </thead>\n",
       "  <tbody>\n",
       "    <tr>\n",
       "      <th>213</th>\n",
       "      <td>2017</td>\n",
       "      <td>The Shape of Water</td>\n",
       "      <td>1</td>\n",
       "      <td>1</td>\n",
       "      <td>0.9</td>\n",
       "    </tr>\n",
       "    <tr>\n",
       "      <th>230</th>\n",
       "      <td>2017</td>\n",
       "      <td>Call Me by Your Name</td>\n",
       "      <td>1</td>\n",
       "      <td>0</td>\n",
       "      <td>0.1</td>\n",
       "    </tr>\n",
       "    <tr>\n",
       "      <th>275</th>\n",
       "      <td>2017</td>\n",
       "      <td>Death Note</td>\n",
       "      <td>0</td>\n",
       "      <td>0</td>\n",
       "      <td>0.0</td>\n",
       "    </tr>\n",
       "    <tr>\n",
       "      <th>273</th>\n",
       "      <td>2017</td>\n",
       "      <td>Reis</td>\n",
       "      <td>0</td>\n",
       "      <td>0</td>\n",
       "      <td>0.0</td>\n",
       "    </tr>\n",
       "    <tr>\n",
       "      <th>272</th>\n",
       "      <td>2017</td>\n",
       "      <td>The Death of Stalin</td>\n",
       "      <td>0</td>\n",
       "      <td>0</td>\n",
       "      <td>0.0</td>\n",
       "    </tr>\n",
       "    <tr>\n",
       "      <th>271</th>\n",
       "      <td>2017</td>\n",
       "      <td>It Comes at Night</td>\n",
       "      <td>0</td>\n",
       "      <td>0</td>\n",
       "      <td>0.0</td>\n",
       "    </tr>\n",
       "    <tr>\n",
       "      <th>270</th>\n",
       "      <td>2017</td>\n",
       "      <td>Gerald's Game</td>\n",
       "      <td>0</td>\n",
       "      <td>0</td>\n",
       "      <td>0.0</td>\n",
       "    </tr>\n",
       "    <tr>\n",
       "      <th>269</th>\n",
       "      <td>2017</td>\n",
       "      <td>The Circle</td>\n",
       "      <td>0</td>\n",
       "      <td>0</td>\n",
       "      <td>0.0</td>\n",
       "    </tr>\n",
       "    <tr>\n",
       "      <th>268</th>\n",
       "      <td>2017</td>\n",
       "      <td>xXx: Return of Xander Cage</td>\n",
       "      <td>0</td>\n",
       "      <td>0</td>\n",
       "      <td>0.0</td>\n",
       "    </tr>\n",
       "    <tr>\n",
       "      <th>267</th>\n",
       "      <td>2017</td>\n",
       "      <td>The Florida Project</td>\n",
       "      <td>0</td>\n",
       "      <td>0</td>\n",
       "      <td>0.0</td>\n",
       "    </tr>\n",
       "  </tbody>\n",
       "</table>\n",
       "</div>"
      ],
      "text/plain": [
       "     Year                       Movie  Oscar_nominee  Oscar_winner  \\\n",
       "213  2017          The Shape of Water              1             1   \n",
       "230  2017        Call Me by Your Name              1             0   \n",
       "275  2017                  Death Note              0             0   \n",
       "273  2017                        Reis              0             0   \n",
       "272  2017         The Death of Stalin              0             0   \n",
       "271  2017           It Comes at Night              0             0   \n",
       "270  2017               Gerald's Game              0             0   \n",
       "269  2017                  The Circle              0             0   \n",
       "268  2017  xXx: Return of Xander Cage              0             0   \n",
       "267  2017         The Florida Project              0             0   \n",
       "\n",
       "     Predicted Win Rate  \n",
       "213                 0.9  \n",
       "230                 0.1  \n",
       "275                 0.0  \n",
       "273                 0.0  \n",
       "272                 0.0  \n",
       "271                 0.0  \n",
       "270                 0.0  \n",
       "269                 0.0  \n",
       "268                 0.0  \n",
       "267                 0.0  "
      ]
     },
     "execution_count": 155,
     "metadata": {},
     "output_type": "execute_result"
    }
   ],
   "source": [
    "normalized_prediction[normalized_prediction[\"Year\"] == 2017].sort_values(\"Predicted Win Rate\", ascending=False).head(10)"
   ]
  },
  {
   "cell_type": "code",
   "execution_count": 156,
   "metadata": {},
   "outputs": [
    {
     "data": {
      "text/html": [
       "<div>\n",
       "<style scoped>\n",
       "    .dataframe tbody tr th:only-of-type {\n",
       "        vertical-align: middle;\n",
       "    }\n",
       "\n",
       "    .dataframe tbody tr th {\n",
       "        vertical-align: top;\n",
       "    }\n",
       "\n",
       "    .dataframe thead th {\n",
       "        text-align: right;\n",
       "    }\n",
       "</style>\n",
       "<table border=\"1\" class=\"dataframe\">\n",
       "  <thead>\n",
       "    <tr style=\"text-align: right;\">\n",
       "      <th></th>\n",
       "      <th>Year</th>\n",
       "      <th>Movie</th>\n",
       "      <th>Oscar_nominee</th>\n",
       "      <th>Oscar_winner</th>\n",
       "      <th>Predicted Win Rate</th>\n",
       "    </tr>\n",
       "  </thead>\n",
       "  <tbody>\n",
       "    <tr>\n",
       "      <th>330</th>\n",
       "      <td>2018</td>\n",
       "      <td>Roma</td>\n",
       "      <td>1</td>\n",
       "      <td>0</td>\n",
       "      <td>0.571</td>\n",
       "    </tr>\n",
       "    <tr>\n",
       "      <th>309</th>\n",
       "      <td>2018</td>\n",
       "      <td>Green Book</td>\n",
       "      <td>1</td>\n",
       "      <td>1</td>\n",
       "      <td>0.286</td>\n",
       "    </tr>\n",
       "    <tr>\n",
       "      <th>377</th>\n",
       "      <td>2018</td>\n",
       "      <td>Suspiria</td>\n",
       "      <td>0</td>\n",
       "      <td>0</td>\n",
       "      <td>0.143</td>\n",
       "    </tr>\n",
       "    <tr>\n",
       "      <th>300</th>\n",
       "      <td>2018</td>\n",
       "      <td>Avengers: Infinity War</td>\n",
       "      <td>0</td>\n",
       "      <td>0</td>\n",
       "      <td>0.000</td>\n",
       "    </tr>\n",
       "    <tr>\n",
       "      <th>364</th>\n",
       "      <td>2018</td>\n",
       "      <td>The Spy Who Dumped Me</td>\n",
       "      <td>0</td>\n",
       "      <td>0</td>\n",
       "      <td>0.000</td>\n",
       "    </tr>\n",
       "    <tr>\n",
       "      <th>372</th>\n",
       "      <td>2018</td>\n",
       "      <td>Eighth Grade</td>\n",
       "      <td>0</td>\n",
       "      <td>0</td>\n",
       "      <td>0.000</td>\n",
       "    </tr>\n",
       "    <tr>\n",
       "      <th>371</th>\n",
       "      <td>2018</td>\n",
       "      <td>Mandy</td>\n",
       "      <td>0</td>\n",
       "      <td>0</td>\n",
       "      <td>0.000</td>\n",
       "    </tr>\n",
       "    <tr>\n",
       "      <th>370</th>\n",
       "      <td>2018</td>\n",
       "      <td>Johnny English Strikes Again</td>\n",
       "      <td>0</td>\n",
       "      <td>0</td>\n",
       "      <td>0.000</td>\n",
       "    </tr>\n",
       "    <tr>\n",
       "      <th>369</th>\n",
       "      <td>2018</td>\n",
       "      <td>Robin Hood</td>\n",
       "      <td>0</td>\n",
       "      <td>0</td>\n",
       "      <td>0.000</td>\n",
       "    </tr>\n",
       "    <tr>\n",
       "      <th>368</th>\n",
       "      <td>2018</td>\n",
       "      <td>Death Wish</td>\n",
       "      <td>0</td>\n",
       "      <td>0</td>\n",
       "      <td>0.000</td>\n",
       "    </tr>\n",
       "  </tbody>\n",
       "</table>\n",
       "</div>"
      ],
      "text/plain": [
       "     Year                         Movie  Oscar_nominee  Oscar_winner  \\\n",
       "330  2018                          Roma              1             0   \n",
       "309  2018                    Green Book              1             1   \n",
       "377  2018                      Suspiria              0             0   \n",
       "300  2018        Avengers: Infinity War              0             0   \n",
       "364  2018         The Spy Who Dumped Me              0             0   \n",
       "372  2018                  Eighth Grade              0             0   \n",
       "371  2018                         Mandy              0             0   \n",
       "370  2018  Johnny English Strikes Again              0             0   \n",
       "369  2018                    Robin Hood              0             0   \n",
       "368  2018                    Death Wish              0             0   \n",
       "\n",
       "     Predicted Win Rate  \n",
       "330               0.571  \n",
       "309               0.286  \n",
       "377               0.143  \n",
       "300               0.000  \n",
       "364               0.000  \n",
       "372               0.000  \n",
       "371               0.000  \n",
       "370               0.000  \n",
       "369               0.000  \n",
       "368               0.000  "
      ]
     },
     "execution_count": 156,
     "metadata": {},
     "output_type": "execute_result"
    }
   ],
   "source": [
    "normalized_prediction[normalized_prediction[\"Year\"] == 2018].sort_values(\"Predicted Win Rate\", ascending=False).head(10)"
   ]
  },
  {
   "cell_type": "code",
   "execution_count": 157,
   "metadata": {},
   "outputs": [
    {
     "data": {
      "text/html": [
       "<div>\n",
       "<style scoped>\n",
       "    .dataframe tbody tr th:only-of-type {\n",
       "        vertical-align: middle;\n",
       "    }\n",
       "\n",
       "    .dataframe tbody tr th {\n",
       "        vertical-align: top;\n",
       "    }\n",
       "\n",
       "    .dataframe thead th {\n",
       "        text-align: right;\n",
       "    }\n",
       "</style>\n",
       "<table border=\"1\" class=\"dataframe\">\n",
       "  <thead>\n",
       "    <tr style=\"text-align: right;\">\n",
       "      <th></th>\n",
       "      <th>Year</th>\n",
       "      <th>Movie</th>\n",
       "      <th>Oscar_nominee</th>\n",
       "      <th>Oscar_winner</th>\n",
       "      <th>Predicted Win Rate</th>\n",
       "    </tr>\n",
       "  </thead>\n",
       "  <tbody>\n",
       "    <tr>\n",
       "      <th>408</th>\n",
       "      <td>2019</td>\n",
       "      <td>1917</td>\n",
       "      <td>1</td>\n",
       "      <td>0</td>\n",
       "      <td>0.500</td>\n",
       "    </tr>\n",
       "    <tr>\n",
       "      <th>400</th>\n",
       "      <td>2019</td>\n",
       "      <td>Joker</td>\n",
       "      <td>1</td>\n",
       "      <td>0</td>\n",
       "      <td>0.250</td>\n",
       "    </tr>\n",
       "    <tr>\n",
       "      <th>402</th>\n",
       "      <td>2019</td>\n",
       "      <td>Once Upon a Time in Hollywood</td>\n",
       "      <td>1</td>\n",
       "      <td>0</td>\n",
       "      <td>0.187</td>\n",
       "    </tr>\n",
       "    <tr>\n",
       "      <th>418</th>\n",
       "      <td>2019</td>\n",
       "      <td>Jojo Rabbit</td>\n",
       "      <td>1</td>\n",
       "      <td>0</td>\n",
       "      <td>0.062</td>\n",
       "    </tr>\n",
       "    <tr>\n",
       "      <th>465</th>\n",
       "      <td>2019</td>\n",
       "      <td>Angel Has Fallen</td>\n",
       "      <td>0</td>\n",
       "      <td>0</td>\n",
       "      <td>0.000</td>\n",
       "    </tr>\n",
       "    <tr>\n",
       "      <th>474</th>\n",
       "      <td>2019</td>\n",
       "      <td>Annabelle Comes Home</td>\n",
       "      <td>0</td>\n",
       "      <td>0</td>\n",
       "      <td>0.000</td>\n",
       "    </tr>\n",
       "    <tr>\n",
       "      <th>473</th>\n",
       "      <td>2019</td>\n",
       "      <td>The Lego Movie 2: The Second Part</td>\n",
       "      <td>0</td>\n",
       "      <td>0</td>\n",
       "      <td>0.000</td>\n",
       "    </tr>\n",
       "    <tr>\n",
       "      <th>472</th>\n",
       "      <td>2019</td>\n",
       "      <td>Happy Death Day 2U</td>\n",
       "      <td>0</td>\n",
       "      <td>0</td>\n",
       "      <td>0.000</td>\n",
       "    </tr>\n",
       "    <tr>\n",
       "      <th>471</th>\n",
       "      <td>2019</td>\n",
       "      <td>Velvet Buzzsaw</td>\n",
       "      <td>0</td>\n",
       "      <td>0</td>\n",
       "      <td>0.000</td>\n",
       "    </tr>\n",
       "    <tr>\n",
       "      <th>470</th>\n",
       "      <td>2019</td>\n",
       "      <td>Cold Pursuit</td>\n",
       "      <td>0</td>\n",
       "      <td>0</td>\n",
       "      <td>0.000</td>\n",
       "    </tr>\n",
       "  </tbody>\n",
       "</table>\n",
       "</div>"
      ],
      "text/plain": [
       "     Year                              Movie  Oscar_nominee  Oscar_winner  \\\n",
       "408  2019                               1917              1             0   \n",
       "400  2019                              Joker              1             0   \n",
       "402  2019      Once Upon a Time in Hollywood              1             0   \n",
       "418  2019                        Jojo Rabbit              1             0   \n",
       "465  2019                   Angel Has Fallen              0             0   \n",
       "474  2019               Annabelle Comes Home              0             0   \n",
       "473  2019  The Lego Movie 2: The Second Part              0             0   \n",
       "472  2019                 Happy Death Day 2U              0             0   \n",
       "471  2019                     Velvet Buzzsaw              0             0   \n",
       "470  2019                       Cold Pursuit              0             0   \n",
       "\n",
       "     Predicted Win Rate  \n",
       "408               0.500  \n",
       "400               0.250  \n",
       "402               0.187  \n",
       "418               0.062  \n",
       "465               0.000  \n",
       "474               0.000  \n",
       "473               0.000  \n",
       "472               0.000  \n",
       "471               0.000  \n",
       "470               0.000  "
      ]
     },
     "execution_count": 157,
     "metadata": {},
     "output_type": "execute_result"
    }
   ],
   "source": [
    "normalized_prediction[normalized_prediction[\"Year\"] == 2019].sort_values(\"Predicted Win Rate\", ascending=False).head(10)"
   ]
  },
  {
   "cell_type": "markdown",
   "metadata": {},
   "source": [
    "## #4.6 - Multi Layer Perceptron Classifier (Neural Network)"
   ]
  },
  {
   "cell_type": "code",
   "execution_count": 158,
   "metadata": {},
   "outputs": [],
   "source": [
    "MLP = MLPClassifier(max_iter=10000)\n",
    "\n",
    "my_MLP = MLP.fit(X_train, y_train)"
   ]
  },
  {
   "cell_type": "code",
   "execution_count": 159,
   "metadata": {},
   "outputs": [
    {
     "data": {
      "text/html": [
       "<div>\n",
       "<style scoped>\n",
       "    .dataframe tbody tr th:only-of-type {\n",
       "        vertical-align: middle;\n",
       "    }\n",
       "\n",
       "    .dataframe tbody tr th {\n",
       "        vertical-align: top;\n",
       "    }\n",
       "\n",
       "    .dataframe thead th {\n",
       "        text-align: right;\n",
       "    }\n",
       "</style>\n",
       "<table border=\"1\" class=\"dataframe\">\n",
       "  <thead>\n",
       "    <tr style=\"text-align: right;\">\n",
       "      <th></th>\n",
       "      <th>Year</th>\n",
       "      <th>Movie</th>\n",
       "      <th>Oscar_nominee</th>\n",
       "      <th>Oscar_winner</th>\n",
       "      <th>Predicted Win Rate</th>\n",
       "    </tr>\n",
       "  </thead>\n",
       "  <tbody>\n",
       "    <tr>\n",
       "      <th>0</th>\n",
       "      <td>2015</td>\n",
       "      <td>Star Wars: Episode VII - The Force Awakens</td>\n",
       "      <td>0</td>\n",
       "      <td>0</td>\n",
       "      <td>0.000063</td>\n",
       "    </tr>\n",
       "    <tr>\n",
       "      <th>1</th>\n",
       "      <td>2015</td>\n",
       "      <td>Mad Max: Fury Road</td>\n",
       "      <td>1</td>\n",
       "      <td>0</td>\n",
       "      <td>0.000000</td>\n",
       "    </tr>\n",
       "    <tr>\n",
       "      <th>2</th>\n",
       "      <td>2015</td>\n",
       "      <td>The Martian</td>\n",
       "      <td>1</td>\n",
       "      <td>0</td>\n",
       "      <td>0.000000</td>\n",
       "    </tr>\n",
       "    <tr>\n",
       "      <th>3</th>\n",
       "      <td>2015</td>\n",
       "      <td>Avengers: Age of Ultron</td>\n",
       "      <td>0</td>\n",
       "      <td>0</td>\n",
       "      <td>0.000000</td>\n",
       "    </tr>\n",
       "    <tr>\n",
       "      <th>4</th>\n",
       "      <td>2015</td>\n",
       "      <td>The Revenant</td>\n",
       "      <td>1</td>\n",
       "      <td>0</td>\n",
       "      <td>0.000000</td>\n",
       "    </tr>\n",
       "  </tbody>\n",
       "</table>\n",
       "</div>"
      ],
      "text/plain": [
       "   Year                                       Movie  Oscar_nominee  \\\n",
       "0  2015  Star Wars: Episode VII - The Force Awakens              0   \n",
       "1  2015                          Mad Max: Fury Road              1   \n",
       "2  2015                                 The Martian              1   \n",
       "3  2015                     Avengers: Age of Ultron              0   \n",
       "4  2015                                The Revenant              1   \n",
       "\n",
       "   Oscar_winner  Predicted Win Rate  \n",
       "0             0            0.000063  \n",
       "1             0            0.000000  \n",
       "2             0            0.000000  \n",
       "3             0            0.000000  \n",
       "4             0            0.000000  "
      ]
     },
     "execution_count": 159,
     "metadata": {},
     "output_type": "execute_result"
    }
   ],
   "source": [
    "pred_MLP = my_MLP.predict_proba(X_test)[:, 1]\n",
    "\n",
    "MLP_prediction = pd.DataFrame(year, columns=[\"Year\"])\n",
    "MLP_prediction[\"Movie\"] = movie_name\n",
    "MLP_prediction[\"Oscar_nominee\"] = oscar_n\n",
    "MLP_prediction[\"Oscar_winner\"] = oscar_w\n",
    "MLP_prediction['Predicted Win Rate'] = pred_MLP\n",
    "\n",
    "MLP_prediction.head(5)"
   ]
  },
  {
   "cell_type": "code",
   "execution_count": 160,
   "metadata": {},
   "outputs": [],
   "source": [
    "normalized_prediction = MLP_prediction.copy()\n",
    "\n",
    "for index, row in normalized_prediction.iterrows():\n",
    "    normalized_prediction.loc[index, \"Predicted Win Rate\"] = \\\n",
    "        (row[\"Predicted Win Rate\"] / MLP_prediction[\"Predicted Win Rate\"][MLP_prediction[\"Year\"] == row[\"Year\"]].sum()).round(3)"
   ]
  },
  {
   "cell_type": "code",
   "execution_count": 161,
   "metadata": {},
   "outputs": [
    {
     "data": {
      "text/html": [
       "<div>\n",
       "<style scoped>\n",
       "    .dataframe tbody tr th:only-of-type {\n",
       "        vertical-align: middle;\n",
       "    }\n",
       "\n",
       "    .dataframe tbody tr th {\n",
       "        vertical-align: top;\n",
       "    }\n",
       "\n",
       "    .dataframe thead th {\n",
       "        text-align: right;\n",
       "    }\n",
       "</style>\n",
       "<table border=\"1\" class=\"dataframe\">\n",
       "  <thead>\n",
       "    <tr style=\"text-align: right;\">\n",
       "      <th></th>\n",
       "      <th>Year</th>\n",
       "      <th>Movie</th>\n",
       "      <th>Oscar_nominee</th>\n",
       "      <th>Oscar_winner</th>\n",
       "      <th>Predicted Win Rate</th>\n",
       "    </tr>\n",
       "  </thead>\n",
       "  <tbody>\n",
       "    <tr>\n",
       "      <th>0</th>\n",
       "      <td>2015</td>\n",
       "      <td>Star Wars: Episode VII - The Force Awakens</td>\n",
       "      <td>0</td>\n",
       "      <td>0</td>\n",
       "      <td>0.059</td>\n",
       "    </tr>\n",
       "    <tr>\n",
       "      <th>14</th>\n",
       "      <td>2015</td>\n",
       "      <td>The Big Short</td>\n",
       "      <td>1</td>\n",
       "      <td>0</td>\n",
       "      <td>0.059</td>\n",
       "    </tr>\n",
       "    <tr>\n",
       "      <th>60</th>\n",
       "      <td>2015</td>\n",
       "      <td>Hotel Transylvania 2</td>\n",
       "      <td>0</td>\n",
       "      <td>0</td>\n",
       "      <td>0.059</td>\n",
       "    </tr>\n",
       "    <tr>\n",
       "      <th>65</th>\n",
       "      <td>2015</td>\n",
       "      <td>Vacation</td>\n",
       "      <td>0</td>\n",
       "      <td>0</td>\n",
       "      <td>0.059</td>\n",
       "    </tr>\n",
       "    <tr>\n",
       "      <th>66</th>\n",
       "      <td>2015</td>\n",
       "      <td>Paper Towns</td>\n",
       "      <td>0</td>\n",
       "      <td>0</td>\n",
       "      <td>0.059</td>\n",
       "    </tr>\n",
       "    <tr>\n",
       "      <th>44</th>\n",
       "      <td>2015</td>\n",
       "      <td>Fantastic Four</td>\n",
       "      <td>0</td>\n",
       "      <td>0</td>\n",
       "      <td>0.059</td>\n",
       "    </tr>\n",
       "    <tr>\n",
       "      <th>69</th>\n",
       "      <td>2015</td>\n",
       "      <td>Insidious: Chapter 3</td>\n",
       "      <td>0</td>\n",
       "      <td>0</td>\n",
       "      <td>0.059</td>\n",
       "    </tr>\n",
       "    <tr>\n",
       "      <th>40</th>\n",
       "      <td>2015</td>\n",
       "      <td>Cinderella</td>\n",
       "      <td>0</td>\n",
       "      <td>0</td>\n",
       "      <td>0.059</td>\n",
       "    </tr>\n",
       "    <tr>\n",
       "      <th>73</th>\n",
       "      <td>2015</td>\n",
       "      <td>Hardcore Henry</td>\n",
       "      <td>0</td>\n",
       "      <td>0</td>\n",
       "      <td>0.059</td>\n",
       "    </tr>\n",
       "    <tr>\n",
       "      <th>31</th>\n",
       "      <td>2015</td>\n",
       "      <td>The Lobster</td>\n",
       "      <td>0</td>\n",
       "      <td>0</td>\n",
       "      <td>0.059</td>\n",
       "    </tr>\n",
       "  </tbody>\n",
       "</table>\n",
       "</div>"
      ],
      "text/plain": [
       "    Year                                       Movie  Oscar_nominee  \\\n",
       "0   2015  Star Wars: Episode VII - The Force Awakens              0   \n",
       "14  2015                               The Big Short              1   \n",
       "60  2015                        Hotel Transylvania 2              0   \n",
       "65  2015                                    Vacation              0   \n",
       "66  2015                                 Paper Towns              0   \n",
       "44  2015                              Fantastic Four              0   \n",
       "69  2015                        Insidious: Chapter 3              0   \n",
       "40  2015                                  Cinderella              0   \n",
       "73  2015                              Hardcore Henry              0   \n",
       "31  2015                                 The Lobster              0   \n",
       "\n",
       "    Oscar_winner  Predicted Win Rate  \n",
       "0              0               0.059  \n",
       "14             0               0.059  \n",
       "60             0               0.059  \n",
       "65             0               0.059  \n",
       "66             0               0.059  \n",
       "44             0               0.059  \n",
       "69             0               0.059  \n",
       "40             0               0.059  \n",
       "73             0               0.059  \n",
       "31             0               0.059  "
      ]
     },
     "execution_count": 161,
     "metadata": {},
     "output_type": "execute_result"
    }
   ],
   "source": [
    "normalized_prediction[normalized_prediction[\"Year\"] == 2015].sort_values(\"Predicted Win Rate\", ascending=False).head(10)"
   ]
  },
  {
   "cell_type": "code",
   "execution_count": 162,
   "metadata": {},
   "outputs": [
    {
     "data": {
      "text/html": [
       "<div>\n",
       "<style scoped>\n",
       "    .dataframe tbody tr th:only-of-type {\n",
       "        vertical-align: middle;\n",
       "    }\n",
       "\n",
       "    .dataframe tbody tr th {\n",
       "        vertical-align: top;\n",
       "    }\n",
       "\n",
       "    .dataframe thead th {\n",
       "        text-align: right;\n",
       "    }\n",
       "</style>\n",
       "<table border=\"1\" class=\"dataframe\">\n",
       "  <thead>\n",
       "    <tr style=\"text-align: right;\">\n",
       "      <th></th>\n",
       "      <th>Year</th>\n",
       "      <th>Movie</th>\n",
       "      <th>Oscar_nominee</th>\n",
       "      <th>Oscar_winner</th>\n",
       "      <th>Predicted Win Rate</th>\n",
       "    </tr>\n",
       "  </thead>\n",
       "  <tbody>\n",
       "    <tr>\n",
       "      <th>107</th>\n",
       "      <td>2016</td>\n",
       "      <td>La La Land</td>\n",
       "      <td>1</td>\n",
       "      <td>0</td>\n",
       "      <td>0.999</td>\n",
       "    </tr>\n",
       "    <tr>\n",
       "      <th>100</th>\n",
       "      <td>2016</td>\n",
       "      <td>Deadpool</td>\n",
       "      <td>0</td>\n",
       "      <td>0</td>\n",
       "      <td>0.000</td>\n",
       "    </tr>\n",
       "    <tr>\n",
       "      <th>163</th>\n",
       "      <td>2016</td>\n",
       "      <td>The Founder</td>\n",
       "      <td>0</td>\n",
       "      <td>0</td>\n",
       "      <td>0.000</td>\n",
       "    </tr>\n",
       "    <tr>\n",
       "      <th>173</th>\n",
       "      <td>2016</td>\n",
       "      <td>Swiss Army Man</td>\n",
       "      <td>0</td>\n",
       "      <td>0</td>\n",
       "      <td>0.000</td>\n",
       "    </tr>\n",
       "    <tr>\n",
       "      <th>172</th>\n",
       "      <td>2016</td>\n",
       "      <td>Gods of Egypt</td>\n",
       "      <td>0</td>\n",
       "      <td>0</td>\n",
       "      <td>0.000</td>\n",
       "    </tr>\n",
       "    <tr>\n",
       "      <th>171</th>\n",
       "      <td>2016</td>\n",
       "      <td>Allegiant</td>\n",
       "      <td>0</td>\n",
       "      <td>0</td>\n",
       "      <td>0.000</td>\n",
       "    </tr>\n",
       "    <tr>\n",
       "      <th>170</th>\n",
       "      <td>2016</td>\n",
       "      <td>Dag II</td>\n",
       "      <td>0</td>\n",
       "      <td>0</td>\n",
       "      <td>0.000</td>\n",
       "    </tr>\n",
       "    <tr>\n",
       "      <th>169</th>\n",
       "      <td>2016</td>\n",
       "      <td>Dirty Grandpa</td>\n",
       "      <td>0</td>\n",
       "      <td>0</td>\n",
       "      <td>0.000</td>\n",
       "    </tr>\n",
       "    <tr>\n",
       "      <th>168</th>\n",
       "      <td>2016</td>\n",
       "      <td>Lights Out</td>\n",
       "      <td>0</td>\n",
       "      <td>0</td>\n",
       "      <td>0.000</td>\n",
       "    </tr>\n",
       "    <tr>\n",
       "      <th>167</th>\n",
       "      <td>2016</td>\n",
       "      <td>Bad Moms</td>\n",
       "      <td>0</td>\n",
       "      <td>0</td>\n",
       "      <td>0.000</td>\n",
       "    </tr>\n",
       "  </tbody>\n",
       "</table>\n",
       "</div>"
      ],
      "text/plain": [
       "     Year           Movie  Oscar_nominee  Oscar_winner  Predicted Win Rate\n",
       "107  2016      La La Land              1             0               0.999\n",
       "100  2016        Deadpool              0             0               0.000\n",
       "163  2016     The Founder              0             0               0.000\n",
       "173  2016  Swiss Army Man              0             0               0.000\n",
       "172  2016   Gods of Egypt              0             0               0.000\n",
       "171  2016       Allegiant              0             0               0.000\n",
       "170  2016          Dag II              0             0               0.000\n",
       "169  2016   Dirty Grandpa              0             0               0.000\n",
       "168  2016      Lights Out              0             0               0.000\n",
       "167  2016        Bad Moms              0             0               0.000"
      ]
     },
     "execution_count": 162,
     "metadata": {},
     "output_type": "execute_result"
    }
   ],
   "source": [
    "normalized_prediction[normalized_prediction[\"Year\"] == 2016].sort_values(\"Predicted Win Rate\", ascending=False).head(10)"
   ]
  },
  {
   "cell_type": "code",
   "execution_count": 163,
   "metadata": {},
   "outputs": [
    {
     "data": {
      "text/html": [
       "<div>\n",
       "<style scoped>\n",
       "    .dataframe tbody tr th:only-of-type {\n",
       "        vertical-align: middle;\n",
       "    }\n",
       "\n",
       "    .dataframe tbody tr th {\n",
       "        vertical-align: top;\n",
       "    }\n",
       "\n",
       "    .dataframe thead th {\n",
       "        text-align: right;\n",
       "    }\n",
       "</style>\n",
       "<table border=\"1\" class=\"dataframe\">\n",
       "  <thead>\n",
       "    <tr style=\"text-align: right;\">\n",
       "      <th></th>\n",
       "      <th>Year</th>\n",
       "      <th>Movie</th>\n",
       "      <th>Oscar_nominee</th>\n",
       "      <th>Oscar_winner</th>\n",
       "      <th>Predicted Win Rate</th>\n",
       "    </tr>\n",
       "  </thead>\n",
       "  <tbody>\n",
       "    <tr>\n",
       "      <th>255</th>\n",
       "      <td>2017</td>\n",
       "      <td>Annabelle: Creation</td>\n",
       "      <td>0</td>\n",
       "      <td>0</td>\n",
       "      <td>0.5</td>\n",
       "    </tr>\n",
       "    <tr>\n",
       "      <th>211</th>\n",
       "      <td>2017</td>\n",
       "      <td>Three Billboards Outside Ebbing, Missouri</td>\n",
       "      <td>1</td>\n",
       "      <td>0</td>\n",
       "      <td>0.5</td>\n",
       "    </tr>\n",
       "    <tr>\n",
       "      <th>200</th>\n",
       "      <td>2017</td>\n",
       "      <td>Logan</td>\n",
       "      <td>0</td>\n",
       "      <td>0</td>\n",
       "      <td>0.0</td>\n",
       "    </tr>\n",
       "    <tr>\n",
       "      <th>264</th>\n",
       "      <td>2017</td>\n",
       "      <td>Okja</td>\n",
       "      <td>0</td>\n",
       "      <td>0</td>\n",
       "      <td>0.0</td>\n",
       "    </tr>\n",
       "    <tr>\n",
       "      <th>273</th>\n",
       "      <td>2017</td>\n",
       "      <td>Reis</td>\n",
       "      <td>0</td>\n",
       "      <td>0</td>\n",
       "      <td>0.0</td>\n",
       "    </tr>\n",
       "    <tr>\n",
       "      <th>272</th>\n",
       "      <td>2017</td>\n",
       "      <td>The Death of Stalin</td>\n",
       "      <td>0</td>\n",
       "      <td>0</td>\n",
       "      <td>0.0</td>\n",
       "    </tr>\n",
       "    <tr>\n",
       "      <th>271</th>\n",
       "      <td>2017</td>\n",
       "      <td>It Comes at Night</td>\n",
       "      <td>0</td>\n",
       "      <td>0</td>\n",
       "      <td>0.0</td>\n",
       "    </tr>\n",
       "    <tr>\n",
       "      <th>270</th>\n",
       "      <td>2017</td>\n",
       "      <td>Gerald's Game</td>\n",
       "      <td>0</td>\n",
       "      <td>0</td>\n",
       "      <td>0.0</td>\n",
       "    </tr>\n",
       "    <tr>\n",
       "      <th>269</th>\n",
       "      <td>2017</td>\n",
       "      <td>The Circle</td>\n",
       "      <td>0</td>\n",
       "      <td>0</td>\n",
       "      <td>0.0</td>\n",
       "    </tr>\n",
       "    <tr>\n",
       "      <th>268</th>\n",
       "      <td>2017</td>\n",
       "      <td>xXx: Return of Xander Cage</td>\n",
       "      <td>0</td>\n",
       "      <td>0</td>\n",
       "      <td>0.0</td>\n",
       "    </tr>\n",
       "  </tbody>\n",
       "</table>\n",
       "</div>"
      ],
      "text/plain": [
       "     Year                                      Movie  Oscar_nominee  \\\n",
       "255  2017                        Annabelle: Creation              0   \n",
       "211  2017  Three Billboards Outside Ebbing, Missouri              1   \n",
       "200  2017                                      Logan              0   \n",
       "264  2017                                       Okja              0   \n",
       "273  2017                                       Reis              0   \n",
       "272  2017                        The Death of Stalin              0   \n",
       "271  2017                          It Comes at Night              0   \n",
       "270  2017                              Gerald's Game              0   \n",
       "269  2017                                 The Circle              0   \n",
       "268  2017                 xXx: Return of Xander Cage              0   \n",
       "\n",
       "     Oscar_winner  Predicted Win Rate  \n",
       "255             0                 0.5  \n",
       "211             0                 0.5  \n",
       "200             0                 0.0  \n",
       "264             0                 0.0  \n",
       "273             0                 0.0  \n",
       "272             0                 0.0  \n",
       "271             0                 0.0  \n",
       "270             0                 0.0  \n",
       "269             0                 0.0  \n",
       "268             0                 0.0  "
      ]
     },
     "execution_count": 163,
     "metadata": {},
     "output_type": "execute_result"
    }
   ],
   "source": [
    "normalized_prediction[normalized_prediction[\"Year\"] == 2017].sort_values(\"Predicted Win Rate\", ascending=False).head(10)"
   ]
  },
  {
   "cell_type": "code",
   "execution_count": 164,
   "metadata": {},
   "outputs": [
    {
     "data": {
      "text/html": [
       "<div>\n",
       "<style scoped>\n",
       "    .dataframe tbody tr th:only-of-type {\n",
       "        vertical-align: middle;\n",
       "    }\n",
       "\n",
       "    .dataframe tbody tr th {\n",
       "        vertical-align: top;\n",
       "    }\n",
       "\n",
       "    .dataframe thead th {\n",
       "        text-align: right;\n",
       "    }\n",
       "</style>\n",
       "<table border=\"1\" class=\"dataframe\">\n",
       "  <thead>\n",
       "    <tr style=\"text-align: right;\">\n",
       "      <th></th>\n",
       "      <th>Year</th>\n",
       "      <th>Movie</th>\n",
       "      <th>Oscar_nominee</th>\n",
       "      <th>Oscar_winner</th>\n",
       "      <th>Predicted Win Rate</th>\n",
       "    </tr>\n",
       "  </thead>\n",
       "  <tbody>\n",
       "    <tr>\n",
       "      <th>350</th>\n",
       "      <td>2018</td>\n",
       "      <td>Creed II</td>\n",
       "      <td>0</td>\n",
       "      <td>0</td>\n",
       "      <td>0.071</td>\n",
       "    </tr>\n",
       "    <tr>\n",
       "      <th>393</th>\n",
       "      <td>2018</td>\n",
       "      <td>The Grinch</td>\n",
       "      <td>0</td>\n",
       "      <td>0</td>\n",
       "      <td>0.071</td>\n",
       "    </tr>\n",
       "    <tr>\n",
       "      <th>318</th>\n",
       "      <td>2018</td>\n",
       "      <td>Hereditary</td>\n",
       "      <td>0</td>\n",
       "      <td>0</td>\n",
       "      <td>0.071</td>\n",
       "    </tr>\n",
       "    <tr>\n",
       "      <th>317</th>\n",
       "      <td>2018</td>\n",
       "      <td>Incredibles 2</td>\n",
       "      <td>0</td>\n",
       "      <td>0</td>\n",
       "      <td>0.071</td>\n",
       "    </tr>\n",
       "    <tr>\n",
       "      <th>384</th>\n",
       "      <td>2018</td>\n",
       "      <td>The First Purge</td>\n",
       "      <td>0</td>\n",
       "      <td>0</td>\n",
       "      <td>0.071</td>\n",
       "    </tr>\n",
       "    <tr>\n",
       "      <th>323</th>\n",
       "      <td>2018</td>\n",
       "      <td>Ocean's Eight</td>\n",
       "      <td>0</td>\n",
       "      <td>0</td>\n",
       "      <td>0.071</td>\n",
       "    </tr>\n",
       "    <tr>\n",
       "      <th>325</th>\n",
       "      <td>2018</td>\n",
       "      <td>The Favourite</td>\n",
       "      <td>1</td>\n",
       "      <td>0</td>\n",
       "      <td>0.071</td>\n",
       "    </tr>\n",
       "    <tr>\n",
       "      <th>339</th>\n",
       "      <td>2018</td>\n",
       "      <td>A Simple Favor</td>\n",
       "      <td>0</td>\n",
       "      <td>0</td>\n",
       "      <td>0.071</td>\n",
       "    </tr>\n",
       "    <tr>\n",
       "      <th>310</th>\n",
       "      <td>2018</td>\n",
       "      <td>A Star Is Born</td>\n",
       "      <td>1</td>\n",
       "      <td>0</td>\n",
       "      <td>0.071</td>\n",
       "    </tr>\n",
       "    <tr>\n",
       "      <th>308</th>\n",
       "      <td>2018</td>\n",
       "      <td>Spider-Man: Into the Spider-Verse</td>\n",
       "      <td>0</td>\n",
       "      <td>0</td>\n",
       "      <td>0.071</td>\n",
       "    </tr>\n",
       "  </tbody>\n",
       "</table>\n",
       "</div>"
      ],
      "text/plain": [
       "     Year                              Movie  Oscar_nominee  Oscar_winner  \\\n",
       "350  2018                           Creed II              0             0   \n",
       "393  2018                         The Grinch              0             0   \n",
       "318  2018                         Hereditary              0             0   \n",
       "317  2018                      Incredibles 2              0             0   \n",
       "384  2018                    The First Purge              0             0   \n",
       "323  2018                      Ocean's Eight              0             0   \n",
       "325  2018                      The Favourite              1             0   \n",
       "339  2018                     A Simple Favor              0             0   \n",
       "310  2018                     A Star Is Born              1             0   \n",
       "308  2018  Spider-Man: Into the Spider-Verse              0             0   \n",
       "\n",
       "     Predicted Win Rate  \n",
       "350               0.071  \n",
       "393               0.071  \n",
       "318               0.071  \n",
       "317               0.071  \n",
       "384               0.071  \n",
       "323               0.071  \n",
       "325               0.071  \n",
       "339               0.071  \n",
       "310               0.071  \n",
       "308               0.071  "
      ]
     },
     "execution_count": 164,
     "metadata": {},
     "output_type": "execute_result"
    }
   ],
   "source": [
    "normalized_prediction[normalized_prediction[\"Year\"] == 2018].sort_values(\"Predicted Win Rate\", ascending=False).head(10)"
   ]
  },
  {
   "cell_type": "code",
   "execution_count": 165,
   "metadata": {},
   "outputs": [
    {
     "data": {
      "text/html": [
       "<div>\n",
       "<style scoped>\n",
       "    .dataframe tbody tr th:only-of-type {\n",
       "        vertical-align: middle;\n",
       "    }\n",
       "\n",
       "    .dataframe tbody tr th {\n",
       "        vertical-align: top;\n",
       "    }\n",
       "\n",
       "    .dataframe thead th {\n",
       "        text-align: right;\n",
       "    }\n",
       "</style>\n",
       "<table border=\"1\" class=\"dataframe\">\n",
       "  <thead>\n",
       "    <tr style=\"text-align: right;\">\n",
       "      <th></th>\n",
       "      <th>Year</th>\n",
       "      <th>Movie</th>\n",
       "      <th>Oscar_nominee</th>\n",
       "      <th>Oscar_winner</th>\n",
       "      <th>Predicted Win Rate</th>\n",
       "    </tr>\n",
       "  </thead>\n",
       "  <tbody>\n",
       "    <tr>\n",
       "      <th>449</th>\n",
       "      <td>2019</td>\n",
       "      <td>Escape Room</td>\n",
       "      <td>0</td>\n",
       "      <td>0</td>\n",
       "      <td>0.998</td>\n",
       "    </tr>\n",
       "    <tr>\n",
       "      <th>463</th>\n",
       "      <td>2019</td>\n",
       "      <td>Gemini Man</td>\n",
       "      <td>0</td>\n",
       "      <td>0</td>\n",
       "      <td>0.000</td>\n",
       "    </tr>\n",
       "    <tr>\n",
       "      <th>473</th>\n",
       "      <td>2019</td>\n",
       "      <td>The Lego Movie 2: The Second Part</td>\n",
       "      <td>0</td>\n",
       "      <td>0</td>\n",
       "      <td>0.000</td>\n",
       "    </tr>\n",
       "    <tr>\n",
       "      <th>472</th>\n",
       "      <td>2019</td>\n",
       "      <td>Happy Death Day 2U</td>\n",
       "      <td>0</td>\n",
       "      <td>0</td>\n",
       "      <td>0.000</td>\n",
       "    </tr>\n",
       "    <tr>\n",
       "      <th>471</th>\n",
       "      <td>2019</td>\n",
       "      <td>Velvet Buzzsaw</td>\n",
       "      <td>0</td>\n",
       "      <td>0</td>\n",
       "      <td>0.000</td>\n",
       "    </tr>\n",
       "    <tr>\n",
       "      <th>470</th>\n",
       "      <td>2019</td>\n",
       "      <td>Cold Pursuit</td>\n",
       "      <td>0</td>\n",
       "      <td>0</td>\n",
       "      <td>0.000</td>\n",
       "    </tr>\n",
       "    <tr>\n",
       "      <th>469</th>\n",
       "      <td>2019</td>\n",
       "      <td>Crawl</td>\n",
       "      <td>0</td>\n",
       "      <td>0</td>\n",
       "      <td>0.000</td>\n",
       "    </tr>\n",
       "    <tr>\n",
       "      <th>468</th>\n",
       "      <td>2019</td>\n",
       "      <td>Bombshell</td>\n",
       "      <td>0</td>\n",
       "      <td>0</td>\n",
       "      <td>0.000</td>\n",
       "    </tr>\n",
       "    <tr>\n",
       "      <th>467</th>\n",
       "      <td>2019</td>\n",
       "      <td>Fighting with My Family</td>\n",
       "      <td>0</td>\n",
       "      <td>0</td>\n",
       "      <td>0.000</td>\n",
       "    </tr>\n",
       "    <tr>\n",
       "      <th>466</th>\n",
       "      <td>2019</td>\n",
       "      <td>Isn't It Romantic</td>\n",
       "      <td>0</td>\n",
       "      <td>0</td>\n",
       "      <td>0.000</td>\n",
       "    </tr>\n",
       "  </tbody>\n",
       "</table>\n",
       "</div>"
      ],
      "text/plain": [
       "     Year                              Movie  Oscar_nominee  Oscar_winner  \\\n",
       "449  2019                        Escape Room              0             0   \n",
       "463  2019                         Gemini Man              0             0   \n",
       "473  2019  The Lego Movie 2: The Second Part              0             0   \n",
       "472  2019                 Happy Death Day 2U              0             0   \n",
       "471  2019                     Velvet Buzzsaw              0             0   \n",
       "470  2019                       Cold Pursuit              0             0   \n",
       "469  2019                              Crawl              0             0   \n",
       "468  2019                          Bombshell              0             0   \n",
       "467  2019            Fighting with My Family              0             0   \n",
       "466  2019                  Isn't It Romantic              0             0   \n",
       "\n",
       "     Predicted Win Rate  \n",
       "449               0.998  \n",
       "463               0.000  \n",
       "473               0.000  \n",
       "472               0.000  \n",
       "471               0.000  \n",
       "470               0.000  \n",
       "469               0.000  \n",
       "468               0.000  \n",
       "467               0.000  \n",
       "466               0.000  "
      ]
     },
     "execution_count": 165,
     "metadata": {},
     "output_type": "execute_result"
    }
   ],
   "source": [
    "normalized_prediction[normalized_prediction[\"Year\"] == 2019].sort_values(\"Predicted Win Rate\", ascending=False).head(10)"
   ]
  },
  {
   "cell_type": "markdown",
   "metadata": {},
   "source": [
    "### Quick Comments on #4 - Others:\n",
    "\n",
    "> 1. Linear SVC is bad\n",
    "> 2. SVC is bad\n",
    "> 3. KNN is bad\n",
    "> 4. Logistic Regression is bad\n",
    "> 5. Bagging is okay...\n",
    "> 6. MLP is bad\n",
    "\n",
    "Although the performance of Bagging Classifier can't be said as excellent, but it is still far better than the rest in this category."
   ]
  },
  {
   "cell_type": "markdown",
   "metadata": {},
   "source": [
    "---\n",
    "# Conclusion:\n",
    "\n",
    "We have 16 classifiers initially. We eliminated the poor-performancing one (usually because of equally distributed winning probabilities) and left with the top 4 finalists:\n",
    "\n",
    "### #1 - The Trees\n",
    "- Random forest  \n",
    "- Extremely Randomized Trees (the best)\n",
    "\n",
    "### #2 - Boosting\n",
    "- Light Gradient Boosting Machine (LGBM) Classifier\n",
    "\n",
    "### #4 - Others\n",
    "- Bagging Classifier\n",
    "\n",
    "We shall proceed to <<Predict the Winner! Part 2>> notebook with our top 4 candidates now.  d(`･∀･)b"
   ]
  },
  {
   "cell_type": "code",
   "execution_count": null,
   "metadata": {},
   "outputs": [],
   "source": []
  }
 ],
 "metadata": {
  "kernelspec": {
   "display_name": "Python 3",
   "language": "python",
   "name": "python3"
  },
  "language_info": {
   "codemirror_mode": {
    "name": "ipython",
    "version": 3
   },
   "file_extension": ".py",
   "mimetype": "text/x-python",
   "name": "python",
   "nbconvert_exporter": "python",
   "pygments_lexer": "ipython3",
   "version": "3.7.1"
  }
 },
 "nbformat": 4,
 "nbformat_minor": 4
}
