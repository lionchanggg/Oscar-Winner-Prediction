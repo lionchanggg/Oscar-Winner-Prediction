{
 "cells": [
  {
   "cell_type": "markdown",
   "metadata": {},
   "source": [
    "# Academy Award Prediction : Closing Ceremony\n",
    "---\n",
    "<img src=\"img\\oscars.jpg\" width=\"900\" align=\"center\"/>"
   ]
  },
  {
   "cell_type": "markdown",
   "metadata": {},
   "source": [
    "It took us countless sleepness night modifying codes here and there, and finally we've reached the closing ceremony of the Academy Award! Let us end this wonderful night by answering the initial **problem statements**:\n",
    "\n",
    "### 1. What are the key features that make a movie Oscar-worthy?\n",
    "\n",
    "A good director, seriously. After we have done so many research, we find that Oscar-winning movies do not always have positive ratings on the Internet, nor they have outstanding worldwide gross. But movies that won the Academy Awards ***usually***, too, won many other prestigious international film awards. And our findings show that movies that have won the Director Guild Awards, Producer Guild Award or the Critics' Choice Movie Awards have a much higher probability than others to win the Academy Award (it is true in reality too). Hence, it is fair to conclude that, by looking at the names of the awards, a good director does play an important role in making a movie Oscar-worthy. \n",
    "\n",
    "Other than that, critical ratings (IMDb_ratings, Tomatometer, Metascore) could also be considered as key features that make a movie Oscar-worthy. But their influences are definitely not as strong as a good director.\n",
    "\n",
    "### 2. Do Oscars winner have anything in common?\n",
    "\n",
    "A good director, same as above.\n",
    "\n",
    "### 3. Which **predicition model** are better suited and would perform better with our dataset? \n",
    "\n",
    "Before hyperparameter tuning, we would claim that the Random Forest Classifier, Extra Trees Classifier, Bagging Classifier and the Light Gradient Boosting Machine (LGBM) Classifier are equally good. However after hyperparameter tuning, it can be said without fear of contradiction that LGBM is the best model for our dataset. \n",
    "\n",
    "### 4. Are we able to correctly predict the winners of Oscars given features of a film? \n",
    "\n",
    "Yes and no. Since we are only testing for the recent five years, no models could predict 5/5 correctly. The best we can do is 3/5, which is an accuracy of 60%. For beginners of Machine Learning like us, we think that it was a pretty good result. "
   ]
  },
  {
   "cell_type": "markdown",
   "metadata": {},
   "source": [
    "---\n",
    "\n",
    "## Extra Content: Balloting "
   ]
  },
  {
   "cell_type": "markdown",
   "metadata": {},
   "source": [
    "Inspired by the work of Nick Parker who shared his project on GitHub, we successfully simulated balloting process using a Random Forest setup by running many decorrlated, individual Decision Tree Classifiers on our movie dataset. We will be stimulating the Oscar academy with a voting body of 10,000 members, and hence the name Preferential Balloting Random Forest. Down below is a GIF demonstrating how the process looks. For the details on the codes, do look up our 6_EXTRA_Balloting Jupyter notebook!"
   ]
  },
  {
   "cell_type": "markdown",
   "metadata": {},
   "source": [
    "<img src=\"img/balloting.gif\" width=\"400\" align=\"center\"/>"
   ]
  },
  {
   "cell_type": "markdown",
   "metadata": {},
   "source": [
    "---\n",
    "\n",
    "## Future Improvements "
   ]
  },
  {
   "cell_type": "markdown",
   "metadata": {},
   "source": [
    "With our project coming to a close, we thought of a few ways to bring this project forward in the future should there be available resources and time. \n",
    "\n",
    "Firstly, we suggest to expand our predictionn to other Academy Awards such as Best International Film Award and Best Director Award. These awards are strongly correlated to the our main prediction in this project; Best Picture Award. In fact, some of the predicted winners as shown in 5_Predict the Winners are winners of Best International Film Award and our findings in 3_Exploratory Data Analysis shows that International Film Awards such as Director's Guild of America Award and Producer's Guild of America Award are extremely correlated with the Academy Awards. This futher proves that directors are very influential in a movie's chances of winning an Oscars. \n",
    "\n",
    "Secondly, we would also like to suggest the inclusion of previous wins of directors and actors as features in the dataset. As mentioned, directors are able to bring a movie to Oscars and so can the Actors. While not many have won multiple Oscars in their lifetime, it is without a doubt that those who has won it before can have an advantage when it comes to winning the Oscars. Thus, inclusion of this as features in dataset may provide more interesting insights to our problem.\n",
    "\n",
    "Thirdly, we only focus on predicting the actual Oscar winner in this project. We unintentionally neglected the Oscar nominees. When we came to realise it, it's a bit too late. Perhaps we could actually try to predict the Oscar nominees first, only then to predict the actual Oscar winners. So it is like a two-stage process. The first stage is to predict all the Oscar nominees, perhaps 8 out of the 100, then the second stage is to predict the actual Oscar winner from the predicted eight candidates. Sounds interesting, doesn't it?  ｷﾀ━━━━(ﾟ∀ﾟ)━━━━!!"
   ]
  },
  {
   "cell_type": "markdown",
   "metadata": {},
   "source": [
    "---\n",
    "\n",
    "##  Reference"
   ]
  },
  {
   "cell_type": "markdown",
   "metadata": {},
   "source": [
    "- https://github.com/njparker1993/oscars_predictions\n",
    "- https://github.com/MrThomasPin/Oscar-Machine-Learning/\n",
    "- https://github.com/ak4248/Oscar_Best_Picture_Nomination\n"
   ]
  },
  {
   "cell_type": "code",
   "execution_count": null,
   "metadata": {},
   "outputs": [],
   "source": []
  }
 ],
 "metadata": {
  "kernelspec": {
   "display_name": "Python 3",
   "language": "python",
   "name": "python3"
  },
  "language_info": {
   "codemirror_mode": {
    "name": "ipython",
    "version": 3
   },
   "file_extension": ".py",
   "mimetype": "text/x-python",
   "name": "python",
   "nbconvert_exporter": "python",
   "pygments_lexer": "ipython3",
   "version": "3.7.1"
  }
 },
 "nbformat": 4,
 "nbformat_minor": 2
}
