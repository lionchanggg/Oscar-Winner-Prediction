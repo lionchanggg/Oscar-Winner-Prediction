{
 "cells": [
  {
   "cell_type": "markdown",
   "metadata": {},
   "source": [
    "# Academy Award Prediction : Opening Ceremony\n",
    "---\n",
    "by CHANG HEEN SUNN, OOI WEI CHERN, SAW WILLIAM JOSEPH\n",
    "\n",
    "<img src=\"img/oscars.jpg\" width=\"900\" align=\"center\"/>"
   ]
  },
  {
   "cell_type": "markdown",
   "metadata": {},
   "source": [
    "## Introduction to Academy Awards\n",
    "\n",
    "**The Academy Awards**, more popularly known as the **Oscars**, are awards for artistic and technical merit in the film industry. Given annually by the Academy of Motion Picture Arts and Sciences (AMPAS), the awards are an **international recognition of excellence in cinematic achievements** as assessed by the Academy's voting membership \n",
    "\n",
    "Among the awards given out in the annual awards ceremony, the most prestigious of them all has to be the **Academy Award for Best Picture**.\n",
    "\n",
    "The **Academy Award for Best Picture** is one of the Academy Awards presented annually by the Academy of Motion Picture Arts and Sciences (AMPAS) since the awards debuted in 1929. Best Picture is the final award of the night and is considered the most prestigious honor of the ceremony. Since the award's inception, there have been 563 films nominated for Best Picture and 92 winners.\n",
    "\n",
    "\n",
    "## Why Oscars? \n",
    "Oscars is the oldest worldwide entertainment awards ceremony and without a doubt the most prestigious award in the cinematic industry. It would serve as an interesting insight to look into what features Oscars winners have in common, and from that, directors and producers alike can take inspirations to improve their chances at snatching the great honor! For us who are not directly involved in the indutry itself, still take joy and excitment to see our favorite movie and the crew behind it taking the big prize home!\n",
    "\n",
    "---\n",
    "\n",
    "## Motivation \n",
    "To discover the underlying features that determine an Oscar winning movie and predict winners for the Best Picture Award.\n",
    "\n",
    "## Problem Statement\n",
    "1. What are the **key features** that makes a movie Oscar-worthy?\n",
    "2. Do Oscars winner have anything in common?\n",
    "3. Which **predicition model** are better suited and would perform better with our dataset? \n",
    "4. Are we able to correctly predict the winners of Oscars given features of a film? \n",
    "\n",
    "\n",
    "To answer these questions, we will be predicting the winners of **Academy Award for Best Picture** and in the process of that, we will be **assessing the features of a film** that makes it stand out than the rest.\n",
    "\n",
    "\n",
    "## Justifying Nature of the Problem\n",
    "Our end goal is to determine if a movie is a winner or not, and along the way we hope to seive out the significant few features that increase the probability of a movie winning the best picture award. These features include winning the BAFTA awards, high Rotten Tomatoes ratings and large worldwide gross. As different features contribute to the chances of winning the award, whether a movie possesses these features or not reflects that our problem is of a classification type. \n",
    "\n",
    "---"
   ]
  },
  {
   "cell_type": "markdown",
   "metadata": {},
   "source": [
    "## All about Data"
   ]
  },
  {
   "cell_type": "markdown",
   "metadata": {},
   "source": [
    "While there are many datasets available online on the topic of Academy Awards, none completely fits our needs and expectations. As such, we decide to extract data from online sources via web scrapping using **BeautifulSoup library** and several built-in functions of the pandas library to construct our very own data set for this project. \n",
    "\n",
    "To collect our movie dataset from scratch, five websites came to our mind. For these websites, they each has complete data based on the features we need and are arranged neatly in a well constructed webpage which made our web scrapping task easier. \n",
    "\n",
    " 1. IMDb                - IMDb ratings\n",
    " 2. Rotten Tomatoes     - Tomatometer\n",
    " 3. The Numbers         - Budget\n",
    " 4. BoxMojo             - Box office\n",
    " 5. Wikipedia           - Award information\n",
    "\n",
    "While all sources listed above are scarpped for relevant data to our problem, we mostly focused on IMDb as it contains a great share of the information we need: the release year, runtime, certificate, directors, actors, and most importantly the IMDb user ratings and the its number of votes. Other websites are scrapped accordingly for the certain feature they have as listed above.\n",
    "\n",
    "However, each website has its own, unique structure and require a different function to scrap data from. For some of the features we used, we have to manually input the data as some were missing or mislabeled in the webpage. More details are presented in our Data Collection file.\n",
    "\n",
    "To sum up our data collection process, we obtained data for almost 5700 movies from 1999 to 2019. After rejecting small budget films and films with corrupted data, we considered a finaly set of 2100 films and quantified them along several different dimensions. Then, we matched the titles of the movies to winners and nominees of major film awards before filling up any missing data manually.\n",
    "\n",
    "---"
   ]
  },
  {
   "cell_type": "markdown",
   "metadata": {},
   "source": [
    "## Featuring...\n",
    "We will be taking the following as features in our dataset as we scrap webpages for data. \n",
    "\n",
    "### Movie Critics Ratings \n",
    "\n",
    "> 1. IMDb User Rating\n",
    "> 2. IMDB User Votes\n",
    "> 3. Rotten Tomatoes Critics Rating \n",
    "> 4. Rotten Tomatoes Critics Review\n",
    "> 5. Metascore \n",
    "\n",
    "### Film Elements\n",
    "\n",
    "> 1. Runtime\n",
    "> 2. (Genre)\n",
    "\n",
    "     Action, Adventure, Animation, Biography, \n",
    "     Comedy, Crime, Drama, Family, Fantasy, History,\n",
    "     Horror, Musical, Mystery, Romance, Sci-Fi,\n",
    "     Sport, Thriller, War, Western\n",
    "\n",
    "### Commercial\n",
    "\n",
    "> 1. Budget\n",
    "> 2. Domestic (US) gross\n",
    "> 3. International gross\n",
    "> 4. Worldwide gross\n",
    "\n",
    "### Film Awards\n",
    "\n",
    "> 1. The British Academy of Film and Television Arts Film Awards (BAFTA) [winner, nominees]\n",
    "> 2. Director Guild Awards (DGA) [winner, nominees]\n",
    "> 3. Producer Guild Awards (PGA) [winner, nominees]\n",
    "> 4. Golden Globes - Comedy [winner, nominees]\n",
    "> 5. Golden Globes – Drama[winner, nominees]\n",
    "> 6. Cannes International Film Festival (Golden Palm) [winner, nominees]\n",
    "> 7. Berlin International Film Festival (Golden Bear) [winner, nominees]\n",
    "> 8. Venice Film Festival (Golden Lion) [winner, nominees]\n",
    "> 9. Toronto Film Festival – People Choice’s Award [winner, nominees]\n",
    "> 10. New York Film Critics Circle (NYFCC) Award for Best Picture [winner, nominees]\n",
    "> 11. Critics’ Choice Movie Award (CCMA) for Best Picture [winner, nominees]\n",
    "> 12. Online Film Critics Society Award (OFCSA) for Best Picture [winner, nominees]"
   ]
  },
  {
   "cell_type": "markdown",
   "metadata": {},
   "source": [
    "---\n",
    "\n",
    "## Work Flow Arrangement\n",
    "\n",
    "In this project, we will be breaking down our task into 7 major parts, including this introduction. Each part focuses on different steps that leads to us eventually predicting the winners of Academy Award for Best Picture. A quick list of our work flow is as below:\n",
    "\n",
    "0. Introduction\n",
    "1. Data Collection & Cleaning\n",
    "2. Data Merging\n",
    "3. Data Exploration and Analysis\n",
    "4. Machine Learning Prediciton Models\n",
    "5. Predicting the Winners\n",
    "6. Extra Content\n",
    "\n",
    "Let us begin!\n"
   ]
  },
  {
   "cell_type": "code",
   "execution_count": null,
   "metadata": {},
   "outputs": [],
   "source": []
  }
 ],
 "metadata": {
  "kernelspec": {
   "display_name": "Python 3",
   "language": "python",
   "name": "python3"
  },
  "language_info": {
   "codemirror_mode": {
    "name": "ipython",
    "version": 3
   },
   "file_extension": ".py",
   "mimetype": "text/x-python",
   "name": "python",
   "nbconvert_exporter": "python",
   "pygments_lexer": "ipython3",
   "version": "3.7.1"
  }
 },
 "nbformat": 4,
 "nbformat_minor": 4
}
